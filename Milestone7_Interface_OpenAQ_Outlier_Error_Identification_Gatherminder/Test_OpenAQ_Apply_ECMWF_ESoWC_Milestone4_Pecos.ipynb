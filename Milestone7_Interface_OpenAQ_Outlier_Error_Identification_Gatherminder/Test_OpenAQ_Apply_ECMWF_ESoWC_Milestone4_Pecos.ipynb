{
 "cells": [
  {
   "cell_type": "code",
   "execution_count": 6,
   "metadata": {
    "scrolled": true
   },
   "outputs": [
    {
     "name": "stderr",
     "output_type": "stream",
     "text": [
      "Matplotlib is building the font cache; this may take a moment.\n"
     ]
    }
   ],
   "source": [
    "\n",
    "import jsonlines\n",
    "import ndjson\n",
    "import pandas as pd\n",
    "import numpy as np\n",
    "import matplotlib.pyplot as plt\n",
    "import pecos\n",
    "\n",
    "!{sys.executable} -m pip install numpy\n"
   ]
  },
  {
   "cell_type": "markdown",
   "metadata": {},
   "source": [
    "# 1 Import the libriaries"
   ]
  },
  {
   "cell_type": "markdown",
   "metadata": {},
   "source": [
    "Using Anaconda or other python manager to install the above libraries. On anaconda use cmd: conda install ....python package .."
   ]
  },
  {
   "cell_type": "markdown",
   "metadata": {},
   "source": [
    "It is most efficient using pip install for the jsonlines and ndjson packages"
   ]
  },
  {
   "cell_type": "markdown",
   "metadata": {},
   "source": [
    "# 2 Set the array variables for OpenAQ dataset "
   ]
  },
  {
   "cell_type": "code",
   "execution_count": 7,
   "metadata": {
    "collapsed": true
   },
   "outputs": [],
   "source": [
    "data = []"
   ]
  },
  {
   "cell_type": "markdown",
   "metadata": {},
   "source": [
    "# 3 Import the OpenAQ Dataset"
   ]
  },
  {
   "cell_type": "markdown",
   "metadata": {},
   "source": [
    "### 3 It uses the OpenAQ Dataset of a day in 2018 "
   ]
  },
  {
   "cell_type": "markdown",
   "metadata": {},
   "source": [
    "### 3 The default use OpenAQ_1.ndjson (a newline delimited format)"
   ]
  },
  {
   "cell_type": "markdown",
   "metadata": {},
   "source": [
    "### 3 Choose another one of the OpenAQ datasets in ndjson by changing the address of open('......')"
   ]
  },
  {
   "cell_type": "code",
   "execution_count": 10,
   "metadata": {},
   "outputs": [],
   "source": [
    "with jsonlines.open('OpenAQ_1.ndjson') as reader:\n",
    "    for obj in reader:\n",
    "        #print(obj)\n",
    "        obj1 = pd.Series(obj)\n",
    "        #pd.read_csv(obj)\n",
    "        data.append(obj1)\n"
   ]
  },
  {
   "cell_type": "markdown",
   "metadata": {},
   "source": [
    "# 4 Import OpenAQ dataset to Pandas DataFrame"
   ]
  },
  {
   "cell_type": "code",
   "execution_count": 11,
   "metadata": {
    "collapsed": true
   },
   "outputs": [],
   "source": [
    "Dataset = pd.DataFrame(data)"
   ]
  },
  {
   "cell_type": "markdown",
   "metadata": {},
   "source": [
    "# 5 Define the ploting method"
   ]
  },
  {
   "cell_type": "code",
   "execution_count": 12,
   "metadata": {
    "collapsed": true
   },
   "outputs": [],
   "source": [
    "def plot_df(df, x, y, title=\"\", xlabel='Date', ylabel='Value', dpi=100):\n",
    "    plt.figure(figsize=(16,5), dpi=dpi)\n",
    "    plt.plot(x, y, color='tab:red')\n",
    "    plt.gca().set(title=title, xlabel=xlabel, ylabel=ylabel)\n",
    "    plt.show()"
   ]
  },
  {
   "cell_type": "markdown",
   "metadata": {},
   "source": [
    "# 6 Choose and print some variables from Pandas Dataframe"
   ]
  },
  {
   "cell_type": "code",
   "execution_count": 13,
   "metadata": {},
   "outputs": [
    {
     "name": "stdout",
     "output_type": "stream",
     "text": [
      "                                                    date   value parameter  \\\n",
      "0      {'utc': '2018-01-01T00:00:00.000Z', 'local': '...   135.7       so2   \n",
      "1      {'utc': '2018-01-01T00:00:00.000Z', 'local': '...    37.3       no2   \n",
      "2      {'utc': '2018-01-01T00:00:00.000Z', 'local': '...     3.4        o3   \n",
      "3      {'utc': '2018-01-01T00:00:00.000Z', 'local': '...   163.5      pm25   \n",
      "4      {'utc': '2018-01-01T00:00:00.000Z', 'local': '...   200.3       so2   \n",
      "...                                                  ...     ...       ...   \n",
      "16229  {'utc': '2018-01-01T00:00:00.000Z', 'local': '...    15.0       so2   \n",
      "16230  {'utc': '2018-01-01T00:00:00.000Z', 'local': '...    55.0       no2   \n",
      "16231  {'utc': '2018-01-01T00:00:00.000Z', 'local': '...   691.0        co   \n",
      "16232  {'utc': '2017-05-29T20:00:00.000Z', 'local': '...  1000.0      pm10   \n",
      "16233  {'utc': '2017-05-29T20:00:00.000Z', 'local': '...     4.0       so2   \n",
      "\n",
      "         location  \n",
      "0           Skver  \n",
      "1           Skver  \n",
      "2           Skver  \n",
      "3           Skver  \n",
      "4             BKC  \n",
      "...           ...  \n",
      "16229  Kardemir 2  \n",
      "16230  Kardemir 2  \n",
      "16231  Kardemir 2  \n",
      "16232     Yatağan  \n",
      "16233     Yatağan  \n",
      "\n",
      "[16234 rows x 4 columns]\n",
      "date                object\n",
      "parameter           object\n",
      "location            object\n",
      "value              float64\n",
      "unit                object\n",
      "city                object\n",
      "attribution         object\n",
      "averagingPeriod     object\n",
      "coordinates         object\n",
      "country             object\n",
      "sourceName          object\n",
      "sourceType          object\n",
      "mobile                bool\n",
      "dtype: object\n"
     ]
    }
   ],
   "source": [
    "print(Dataset[['date','value','parameter','location']])\n",
    "\n",
    "print(Dataset.dtypes)"
   ]
  },
  {
   "cell_type": "markdown",
   "metadata": {},
   "source": [
    "# 7 Split the 'date' variable to two variables because it has utc and local dates in one variable"
   ]
  },
  {
   "cell_type": "code",
   "execution_count": 14,
   "metadata": {
    "collapsed": true
   },
   "outputs": [],
   "source": [
    "#How to split column into two columns\n",
    "#https://www.geeksforgeeks.org/split-a-text-column-into-two-columns-in-pandas-dataframe/\n",
    "\n",
    "Dataset[['Dateutc','Datelocal']] = Dataset.date.apply(lambda x: pd.Series(str(x).split(\",\")))\n",
    "\n",
    "Dataset_split = Dataset.Dateutc.apply(lambda x: pd.Series(str(x).split(\":\")))\n",
    "\n",
    "#print(Dataset_split)\n"
   ]
  },
  {
   "cell_type": "markdown",
   "metadata": {},
   "source": [
    "# 8 Convert new 'utc' (Date in utc) variable to date format for Pandas"
   ]
  },
  {
   "cell_type": "code",
   "execution_count": 15,
   "metadata": {},
   "outputs": [
    {
     "data": {
      "text/plain": [
       "0       2018-01-01 00:00:00\n",
       "1       2018-01-01 00:00:00\n",
       "2       2018-01-01 00:00:00\n",
       "3       2018-01-01 00:00:00\n",
       "4       2018-01-01 00:00:00\n",
       "                ...        \n",
       "16229   2018-01-01 00:00:00\n",
       "16230   2018-01-01 00:00:00\n",
       "16231   2018-01-01 00:00:00\n",
       "16232   2017-05-29 20:00:00\n",
       "16233   2017-05-29 20:00:00\n",
       "Name: utc, Length: 16234, dtype: datetime64[ns]"
      ]
     },
     "execution_count": 15,
     "metadata": {},
     "output_type": "execute_result"
    }
   ],
   "source": [
    "\n",
    "\n",
    "\n",
    "\n",
    "\n",
    "Dataset['utc'] = pd.to_datetime(Dataset_split[1])\n",
    "\n",
    "#print(Dataset.dtypes)\n",
    "\n",
    "#print(Dataset)\n",
    "\n",
    "pd.to_datetime(Dataset['utc'])"
   ]
  },
  {
   "cell_type": "markdown",
   "metadata": {},
   "source": [
    "# 9 Copy OpenAQ dataset "
   ]
  },
  {
   "cell_type": "code",
   "execution_count": 21,
   "metadata": {},
   "outputs": [
    {
     "data": {
      "text/plain": [
       "0       2018-01-01 00:00:00\n",
       "1       2018-01-01 00:00:00\n",
       "2       2018-01-01 00:00:00\n",
       "3       2018-01-01 00:00:00\n",
       "4       2018-01-01 00:00:00\n",
       "                ...        \n",
       "16229   2018-01-01 00:00:00\n",
       "16230   2018-01-01 00:00:00\n",
       "16231   2018-01-01 00:00:00\n",
       "16232   2017-05-29 20:00:00\n",
       "16233   2017-05-29 20:00:00\n",
       "Name: utc, Length: 16234, dtype: datetime64[ns]"
      ]
     },
     "execution_count": 21,
     "metadata": {},
     "output_type": "execute_result"
    }
   ],
   "source": [
    "Dataset2 = Dataset[['utc','value','parameter','location']].copy()\n",
    "\n",
    "pd.to_datetime(Dataset2['utc'])\n",
    "#Dataset2.set_index('utc')"
   ]
  },
  {
   "cell_type": "markdown",
   "metadata": {},
   "source": [
    "# 10 Copy OpenAQ Dataset variable 'location' "
   ]
  },
  {
   "cell_type": "code",
   "execution_count": 22,
   "metadata": {
    "collapsed": true
   },
   "outputs": [],
   "source": [
    "Location_Subset = Dataset[['location']].copy()"
   ]
  },
  {
   "cell_type": "markdown",
   "metadata": {},
   "source": [
    "# 11 Sort descending and remove duplicate to get all unique station's 'location'"
   ]
  },
  {
   "cell_type": "code",
   "execution_count": 23,
   "metadata": {},
   "outputs": [],
   "source": [
    "Location_Subset.sort_values('location', ascending=False)\n",
    "\n",
    "Location_Subset = Location_Subset.drop_duplicates(subset='location', keep='first')"
   ]
  },
  {
   "cell_type": "markdown",
   "metadata": {},
   "source": [
    "# 12 Set the OpenAQ dataset variable 'utc' (The date in utc) to the index"
   ]
  },
  {
   "cell_type": "code",
   "execution_count": 24,
   "metadata": {
    "collapsed": true
   },
   "outputs": [],
   "source": [
    "Dataset2.index = Dataset2['utc']"
   ]
  },
  {
   "cell_type": "markdown",
   "metadata": {},
   "source": [
    "# 13 The setting the array variables results "
   ]
  },
  {
   "cell_type": "code",
   "execution_count": 25,
   "metadata": {
    "collapsed": true
   },
   "outputs": [],
   "source": [
    "Test_results_location_subset = []\n",
    "\n",
    "i = 0\n",
    "\n",
    "pm2 = []\n"
   ]
  },
  {
   "cell_type": "markdown",
   "metadata": {},
   "source": [
    "# 14 The iteration over every station 'location' in the Location_Subset array "
   ]
  },
  {
   "cell_type": "markdown",
   "metadata": {},
   "source": [
    "# 15 Iterate over every AQ variable i.e. No2, So2, PM10, PM25 that the location has "
   ]
  },
  {
   "cell_type": "markdown",
   "metadata": {},
   "source": [
    "## 15 It only iterates over the AQ variables that are measured at the choosen location"
   ]
  },
  {
   "cell_type": "code",
   "execution_count": 26,
   "metadata": {},
   "outputs": [
    {
     "name": "stdout",
     "output_type": "stream",
     "text": [
      "Skver\n",
      "so2\n"
     ]
    },
    {
     "name": "stderr",
     "output_type": "stream",
     "text": [
      "C:\\Users\\Gordon\\Miniconda3\\lib\\site-packages\\ipykernel_launcher.py:50: SettingWithCopyWarning: \n",
      "A value is trying to be set on a copy of a slice from a DataFrame.\n",
      "Try using .loc[row_indexer,col_indexer] = value instead\n",
      "\n",
      "See the caveats in the documentation: http://pandas.pydata.org/pandas-docs/stable/user_guide/indexing.html#returning-a-view-versus-a-copy\n",
      "C:\\Users\\Gordon\\Miniconda3\\lib\\site-packages\\ipykernel_launcher.py:52: SettingWithCopyWarning: \n",
      "A value is trying to be set on a copy of a slice from a DataFrame.\n",
      "Try using .loc[row_indexer,col_indexer] = value instead\n",
      "\n",
      "See the caveats in the documentation: http://pandas.pydata.org/pandas-docs/stable/user_guide/indexing.html#returning-a-view-versus-a-copy\n",
      "C:\\Users\\Gordon\\Miniconda3\\lib\\site-packages\\ipykernel_launcher.py:54: SettingWithCopyWarning: \n",
      "A value is trying to be set on a copy of a slice from a DataFrame.\n",
      "Try using .loc[row_indexer,col_indexer] = value instead\n",
      "\n",
      "See the caveats in the documentation: http://pandas.pydata.org/pandas-docs/stable/user_guide/indexing.html#returning-a-view-versus-a-copy\n",
      "Check for missing data\n",
      "Check for corrupt data\n",
      "Check for data outside expected range\n",
      "Check for data outside expected range\n",
      "Check for corrupt data\n",
      "Check for corrupt data\n",
      "Check for missing data\n",
      "Check for corrupt data\n",
      "Check for data outside expected range\n",
      "Check for data outside expected range\n",
      "Check for corrupt data\n"
     ]
    },
    {
     "name": "stdout",
     "output_type": "stream",
     "text": [
      "Empty DataFrame\n",
      "Columns: [Variable Name, Start Time, End Time, Timesteps, Error Flag]\n",
      "Index: []\n",
      "no2\n"
     ]
    },
    {
     "name": "stderr",
     "output_type": "stream",
     "text": [
      "Check for corrupt data\n",
      "Check for missing data\n",
      "Check for corrupt data\n",
      "Check for data outside expected range\n",
      "Check for data outside expected range\n",
      "Check for corrupt data\n"
     ]
    },
    {
     "name": "stdout",
     "output_type": "stream",
     "text": [
      "Empty DataFrame\n",
      "Columns: [Variable Name, Start Time, End Time, Timesteps, Error Flag]\n",
      "Index: []\n",
      "o3\n"
     ]
    },
    {
     "name": "stderr",
     "output_type": "stream",
     "text": [
      "Check for corrupt data\n",
      "Check for missing data\n",
      "Check for corrupt data\n",
      "Check for data outside expected range\n",
      "Check for data outside expected range\n",
      "Check for corrupt data\n",
      "Check for corrupt data\n"
     ]
    },
    {
     "name": "stdout",
     "output_type": "stream",
     "text": [
      "Empty DataFrame\n",
      "Columns: [Variable Name, Start Time, End Time, Timesteps, Error Flag]\n",
      "Index: []\n",
      "pm25\n"
     ]
    },
    {
     "name": "stderr",
     "output_type": "stream",
     "text": [
      "Check for missing data\n",
      "Check for corrupt data\n",
      "Check for data outside expected range\n",
      "Check for data outside expected range\n",
      "Check for corrupt data\n",
      "Check for corrupt data\n",
      "Check for missing data\n",
      "Check for corrupt data\n",
      "Check for data outside expected range\n",
      "Check for data outside expected range\n",
      "Check for corrupt data\n",
      "Check for corrupt data\n"
     ]
    },
    {
     "name": "stdout",
     "output_type": "stream",
     "text": [
      "Empty DataFrame\n",
      "Columns: [Variable Name, Start Time, End Time, Timesteps, Error Flag]\n",
      "Index: []\n",
      "BKC\n",
      "so2\n",
      "Empty DataFrame\n",
      "Columns: [Variable Name, Start Time, End Time, Timesteps, Error Flag]\n",
      "Index: []\n",
      "no2\n"
     ]
    },
    {
     "name": "stderr",
     "output_type": "stream",
     "text": [
      "Check for missing data\n",
      "Check for corrupt data\n",
      "Check for data outside expected range\n",
      "Check for data outside expected range\n",
      "Check for corrupt data\n",
      "Check for corrupt data\n",
      "Check for missing data\n",
      "Check for corrupt data\n",
      "Check for data outside expected range\n",
      "Check for data outside expected range\n",
      "Check for corrupt data\n"
     ]
    },
    {
     "name": "stdout",
     "output_type": "stream",
     "text": [
      "Empty DataFrame\n",
      "Columns: [Variable Name, Start Time, End Time, Timesteps, Error Flag]\n",
      "Index: []\n",
      "co\n",
      "Empty DataFrame\n",
      "Columns: [Variable Name, Start Time, End Time, Timesteps, Error Flag]\n",
      "Index: []\n",
      "Bukinje\n",
      "so2\n"
     ]
    },
    {
     "name": "stderr",
     "output_type": "stream",
     "text": [
      "Check for corrupt data\n",
      "Check for missing data\n",
      "Check for corrupt data\n",
      "Check for data outside expected range\n",
      "Check for data outside expected range\n",
      "Check for corrupt data\n",
      "Check for corrupt data\n"
     ]
    },
    {
     "name": "stdout",
     "output_type": "stream",
     "text": [
      "Empty DataFrame\n",
      "Columns: [Variable Name, Start Time, End Time, Timesteps, Error Flag]\n",
      "Index: []\n",
      "no2\n"
     ]
    },
    {
     "name": "stderr",
     "output_type": "stream",
     "text": [
      "Check for missing data\n",
      "Check for corrupt data\n",
      "Check for data outside expected range\n",
      "Check for data outside expected range\n",
      "Check for corrupt data\n",
      "Check for corrupt data\n"
     ]
    },
    {
     "name": "stdout",
     "output_type": "stream",
     "text": [
      "Empty DataFrame\n",
      "Columns: [Variable Name, Start Time, End Time, Timesteps, Error Flag]\n",
      "Index: []\n",
      "co\n"
     ]
    },
    {
     "name": "stderr",
     "output_type": "stream",
     "text": [
      "Check for missing data\n",
      "Check for corrupt data\n",
      "Check for data outside expected range\n",
      "Check for data outside expected range\n",
      "Check for corrupt data\n"
     ]
    },
    {
     "name": "stdout",
     "output_type": "stream",
     "text": [
      "Empty DataFrame\n",
      "Columns: [Variable Name, Start Time, End Time, Timesteps, Error Flag]\n",
      "Index: []\n",
      "o3\n"
     ]
    },
    {
     "name": "stderr",
     "output_type": "stream",
     "text": [
      "Check for corrupt data\n",
      "Check for missing data\n",
      "Check for corrupt data\n",
      "Check for data outside expected range\n",
      "Check for data outside expected range\n",
      "Check for corrupt data\n"
     ]
    },
    {
     "name": "stdout",
     "output_type": "stream",
     "text": [
      "Empty DataFrame\n",
      "Columns: [Variable Name, Start Time, End Time, Timesteps, Error Flag]\n",
      "Index: []\n",
      "pm25\n"
     ]
    },
    {
     "name": "stderr",
     "output_type": "stream",
     "text": [
      "Check for corrupt data\n",
      "Check for missing data\n",
      "Check for corrupt data\n",
      "Check for data outside expected range\n",
      "Check for data outside expected range\n",
      "Check for corrupt data\n"
     ]
    },
    {
     "name": "stdout",
     "output_type": "stream",
     "text": [
      "Empty DataFrame\n",
      "Columns: [Variable Name, Start Time, End Time, Timesteps, Error Flag]\n",
      "Index: []\n",
      "Lukavac\n",
      "so2\n"
     ]
    },
    {
     "name": "stderr",
     "output_type": "stream",
     "text": [
      "Check for corrupt data\n",
      "Check for missing data\n",
      "Check for corrupt data\n",
      "Check for data outside expected range\n",
      "Check for data outside expected range\n",
      "Check for corrupt data\n"
     ]
    },
    {
     "name": "stdout",
     "output_type": "stream",
     "text": [
      "Empty DataFrame\n",
      "Columns: [Variable Name, Start Time, End Time, Timesteps, Error Flag]\n",
      "Index: []\n",
      "no2\n"
     ]
    },
    {
     "name": "stderr",
     "output_type": "stream",
     "text": [
      "Check for corrupt data\n",
      "Check for missing data\n",
      "Check for corrupt data\n",
      "Check for data outside expected range\n",
      "Check for data outside expected range\n",
      "Check for corrupt data\n"
     ]
    },
    {
     "name": "stdout",
     "output_type": "stream",
     "text": [
      "Empty DataFrame\n",
      "Columns: [Variable Name, Start Time, End Time, Timesteps, Error Flag]\n",
      "Index: []\n",
      "co\n"
     ]
    },
    {
     "name": "stderr",
     "output_type": "stream",
     "text": [
      "Check for corrupt data\n",
      "Check for missing data\n",
      "Check for corrupt data\n",
      "Check for data outside expected range\n",
      "Check for data outside expected range\n",
      "Check for corrupt data\n"
     ]
    },
    {
     "name": "stdout",
     "output_type": "stream",
     "text": [
      "Empty DataFrame\n",
      "Columns: [Variable Name, Start Time, End Time, Timesteps, Error Flag]\n",
      "Index: []\n",
      "o3\n"
     ]
    },
    {
     "name": "stderr",
     "output_type": "stream",
     "text": [
      "Check for corrupt data\n",
      "Check for missing data\n",
      "Check for corrupt data\n",
      "Check for data outside expected range\n",
      "Check for data outside expected range\n",
      "Check for corrupt data\n"
     ]
    },
    {
     "name": "stdout",
     "output_type": "stream",
     "text": [
      "Empty DataFrame\n",
      "Columns: [Variable Name, Start Time, End Time, Timesteps, Error Flag]\n",
      "Index: []\n",
      "pm25\n"
     ]
    },
    {
     "name": "stderr",
     "output_type": "stream",
     "text": [
      "Check for corrupt data\n",
      "Check for missing data\n",
      "Check for corrupt data\n",
      "Check for data outside expected range\n",
      "Check for data outside expected range\n",
      "Check for corrupt data\n"
     ]
    },
    {
     "name": "stdout",
     "output_type": "stream",
     "text": [
      "Empty DataFrame\n",
      "Columns: [Variable Name, Start Time, End Time, Timesteps, Error Flag]\n",
      "Index: []\n",
      "Živinice\n",
      "so2\n"
     ]
    },
    {
     "name": "stderr",
     "output_type": "stream",
     "text": [
      "Check for corrupt data\n",
      "Check for missing data\n",
      "Check for corrupt data\n",
      "Check for data outside expected range\n",
      "Check for data outside expected range\n",
      "Check for corrupt data\n",
      "Check for corrupt data\n"
     ]
    },
    {
     "name": "stdout",
     "output_type": "stream",
     "text": [
      "Empty DataFrame\n",
      "Columns: [Variable Name, Start Time, End Time, Timesteps, Error Flag]\n",
      "Index: []\n",
      "co\n"
     ]
    },
    {
     "name": "stderr",
     "output_type": "stream",
     "text": [
      "Check for missing data\n",
      "Check for corrupt data\n",
      "Check for data outside expected range\n",
      "Check for data outside expected range\n",
      "Check for corrupt data\n"
     ]
    },
    {
     "name": "stdout",
     "output_type": "stream",
     "text": [
      "Empty DataFrame\n",
      "Columns: [Variable Name, Start Time, End Time, Timesteps, Error Flag]\n",
      "Index: []\n",
      "o3\n"
     ]
    },
    {
     "name": "stderr",
     "output_type": "stream",
     "text": [
      "Check for corrupt data\n",
      "Check for missing data\n",
      "Check for corrupt data\n",
      "Check for data outside expected range\n",
      "Check for data outside expected range\n",
      "Check for corrupt data\n",
      "Check for corrupt data\n"
     ]
    },
    {
     "name": "stdout",
     "output_type": "stream",
     "text": [
      "Empty DataFrame\n",
      "Columns: [Variable Name, Start Time, End Time, Timesteps, Error Flag]\n",
      "Index: []\n",
      "pm25\n"
     ]
    },
    {
     "name": "stderr",
     "output_type": "stream",
     "text": [
      "Check for missing data\n",
      "Check for corrupt data\n",
      "Check for data outside expected range\n",
      "Check for data outside expected range\n",
      "Check for corrupt data\n",
      "Check for corrupt data\n"
     ]
    },
    {
     "name": "stdout",
     "output_type": "stream",
     "text": [
      "Empty DataFrame\n",
      "Columns: [Variable Name, Start Time, End Time, Timesteps, Error Flag]\n",
      "Index: []\n",
      "Gobernación\n",
      "pm10\n"
     ]
    },
    {
     "name": "stderr",
     "output_type": "stream",
     "text": [
      "Check for missing data\n",
      "Check for corrupt data\n",
      "Check for data outside expected range\n",
      "Check for data outside expected range\n",
      "Check for corrupt data\n"
     ]
    },
    {
     "name": "stdout",
     "output_type": "stream",
     "text": [
      "Empty DataFrame\n",
      "Columns: [Variable Name, Start Time, End Time, Timesteps, Error Flag]\n",
      "Index: []\n",
      "so2\n"
     ]
    },
    {
     "name": "stderr",
     "output_type": "stream",
     "text": [
      "Check for corrupt data\n",
      "Check for missing data\n",
      "Check for corrupt data\n",
      "Check for data outside expected range\n",
      "Check for data outside expected range\n",
      "Check for corrupt data\n"
     ]
    },
    {
     "name": "stdout",
     "output_type": "stream",
     "text": [
      "Empty DataFrame\n",
      "Columns: [Variable Name, Start Time, End Time, Timesteps, Error Flag]\n",
      "Index: []\n",
      "Chiu Chiu\n",
      "so2\n"
     ]
    },
    {
     "name": "stderr",
     "output_type": "stream",
     "text": [
      "Check for corrupt data\n",
      "Check for missing data\n",
      "Check for corrupt data\n",
      "Check for data outside expected range\n",
      "Check for data outside expected range\n",
      "Check for corrupt data\n"
     ]
    },
    {
     "name": "stdout",
     "output_type": "stream",
     "text": [
      "Empty DataFrame\n",
      "Columns: [Variable Name, Start Time, End Time, Timesteps, Error Flag]\n",
      "Index: []\n",
      "Bomberos\n",
      "pm25\n"
     ]
    },
    {
     "name": "stderr",
     "output_type": "stream",
     "text": [
      "Check for corrupt data\n",
      "Check for missing data\n",
      "Check for corrupt data\n",
      "Check for data outside expected range\n",
      "Check for data outside expected range\n",
      "Check for corrupt data\n",
      "Check for corrupt data\n"
     ]
    },
    {
     "name": "stdout",
     "output_type": "stream",
     "text": [
      "Empty DataFrame\n",
      "Columns: [Variable Name, Start Time, End Time, Timesteps, Error Flag]\n",
      "Index: []\n",
      "Complejo Deportivo 23 de Marzo\n",
      "pm25\n"
     ]
    },
    {
     "name": "stderr",
     "output_type": "stream",
     "text": [
      "Check for missing data\n",
      "Check for corrupt data\n",
      "Check for data outside expected range\n",
      "Check for data outside expected range\n",
      "Check for corrupt data\n",
      "Check for corrupt data\n",
      "Check for missing data\n",
      "Check for corrupt data\n",
      "Check for data outside expected range\n",
      "Check for data outside expected range\n",
      "Check for corrupt data\n"
     ]
    },
    {
     "name": "stdout",
     "output_type": "stream",
     "text": [
      "Empty DataFrame\n",
      "Columns: [Variable Name, Start Time, End Time, Timesteps, Error Flag]\n",
      "Index: []\n",
      "pm10\n",
      "Empty DataFrame\n",
      "Columns: [Variable Name, Start Time, End Time, Timesteps, Error Flag]\n",
      "Index: []\n",
      "Colegio Pedro Vergara Keller\n",
      "pm25\n"
     ]
    },
    {
     "name": "stderr",
     "output_type": "stream",
     "text": [
      "Check for corrupt data\n",
      "Check for missing data\n",
      "Check for corrupt data\n",
      "Check for data outside expected range\n",
      "Check for data outside expected range\n",
      "Check for corrupt data\n",
      "Check for corrupt data\n"
     ]
    },
    {
     "name": "stdout",
     "output_type": "stream",
     "text": [
      "Empty DataFrame\n",
      "Columns: [Variable Name, Start Time, End Time, Timesteps, Error Flag]\n",
      "Index: []\n",
      "pm10\n"
     ]
    },
    {
     "name": "stderr",
     "output_type": "stream",
     "text": [
      "Check for missing data\n",
      "Check for corrupt data\n",
      "Check for data outside expected range\n",
      "Check for data outside expected range\n",
      "Check for corrupt data\n",
      "Check for corrupt data\n",
      "Check for missing data\n",
      "Check for corrupt data\n",
      "Check for data outside expected range\n",
      "Check for data outside expected range\n",
      "Check for corrupt data\n",
      "Check for corrupt data\n"
     ]
    },
    {
     "name": "stdout",
     "output_type": "stream",
     "text": [
      "Empty DataFrame\n",
      "Columns: [Variable Name, Start Time, End Time, Timesteps, Error Flag]\n",
      "Index: []\n",
      "Estación Centro\n",
      "pm25\n",
      "Empty DataFrame\n",
      "Columns: [Variable Name, Start Time, End Time, Timesteps, Error Flag]\n",
      "Index: []\n",
      "pm10\n"
     ]
    },
    {
     "name": "stderr",
     "output_type": "stream",
     "text": [
      "Check for missing data\n",
      "Check for corrupt data\n",
      "Check for data outside expected range\n",
      "Check for data outside expected range\n",
      "Check for corrupt data\n"
     ]
    },
    {
     "name": "stdout",
     "output_type": "stream",
     "text": [
      "Empty DataFrame\n",
      "Columns: [Variable Name, Start Time, End Time, Timesteps, Error Flag]\n",
      "Index: []\n",
      "o3\n"
     ]
    },
    {
     "name": "stderr",
     "output_type": "stream",
     "text": [
      "Check for corrupt data\n",
      "Check for missing data\n",
      "Check for corrupt data\n",
      "Check for data outside expected range\n",
      "Check for data outside expected range\n",
      "Check for corrupt data\n",
      "Check for corrupt data\n"
     ]
    },
    {
     "name": "stdout",
     "output_type": "stream",
     "text": [
      "Empty DataFrame\n",
      "Columns: [Variable Name, Start Time, End Time, Timesteps, Error Flag]\n",
      "Index: []\n",
      "co\n"
     ]
    },
    {
     "name": "stderr",
     "output_type": "stream",
     "text": [
      "Check for missing data\n",
      "Check for corrupt data\n",
      "Check for data outside expected range\n",
      "Check for data outside expected range\n",
      "Check for corrupt data\n",
      "Check for corrupt data\n"
     ]
    },
    {
     "name": "stdout",
     "output_type": "stream",
     "text": [
      "Empty DataFrame\n",
      "Columns: [Variable Name, Start Time, End Time, Timesteps, Error Flag]\n",
      "Index: []\n",
      "so2\n"
     ]
    },
    {
     "name": "stderr",
     "output_type": "stream",
     "text": [
      "Check for missing data\n",
      "Check for corrupt data\n",
      "Check for data outside expected range\n",
      "Check for data outside expected range\n",
      "Check for corrupt data\n",
      "Check for corrupt data\n"
     ]
    },
    {
     "name": "stdout",
     "output_type": "stream",
     "text": [
      "Empty DataFrame\n",
      "Columns: [Variable Name, Start Time, End Time, Timesteps, Error Flag]\n",
      "Index: []\n",
      "Copiapo Sivica\n",
      "pm25\n"
     ]
    },
    {
     "name": "stderr",
     "output_type": "stream",
     "text": [
      "Check for missing data\n",
      "Check for corrupt data\n",
      "Check for data outside expected range\n",
      "Check for data outside expected range\n",
      "Check for corrupt data\n"
     ]
    },
    {
     "name": "stdout",
     "output_type": "stream",
     "text": [
      "Empty DataFrame\n",
      "Columns: [Variable Name, Start Time, End Time, Timesteps, Error Flag]\n",
      "Index: []\n",
      "pm10\n"
     ]
    },
    {
     "name": "stderr",
     "output_type": "stream",
     "text": [
      "Check for corrupt data\n",
      "Check for missing data\n",
      "Check for corrupt data\n",
      "Check for data outside expected range\n",
      "Check for data outside expected range\n",
      "Check for corrupt data\n"
     ]
    },
    {
     "name": "stdout",
     "output_type": "stream",
     "text": [
      "Empty DataFrame\n",
      "Columns: [Variable Name, Start Time, End Time, Timesteps, Error Flag]\n",
      "Index: []\n",
      "Coya Población\n",
      "so2\n"
     ]
    },
    {
     "name": "stderr",
     "output_type": "stream",
     "text": [
      "Check for corrupt data\n",
      "Check for missing data\n",
      "Check for corrupt data\n",
      "Check for data outside expected range\n",
      "Check for data outside expected range\n",
      "Check for corrupt data\n"
     ]
    },
    {
     "name": "stdout",
     "output_type": "stream",
     "text": [
      "Empty DataFrame\n",
      "Columns: [Variable Name, Start Time, End Time, Timesteps, Error Flag]\n",
      "Index: []\n",
      "Cauquenes\n",
      "so2\n"
     ]
    },
    {
     "name": "stderr",
     "output_type": "stream",
     "text": [
      "Check for corrupt data\n",
      "Check for missing data\n",
      "Check for corrupt data\n",
      "Check for data outside expected range\n",
      "Check for data outside expected range\n",
      "Check for corrupt data\n"
     ]
    },
    {
     "name": "stdout",
     "output_type": "stream",
     "text": [
      "Empty DataFrame\n",
      "Columns: [Variable Name, Start Time, End Time, Timesteps, Error Flag]\n",
      "Index: []\n",
      "Liceo Polivalente\n",
      "o3\n"
     ]
    },
    {
     "name": "stderr",
     "output_type": "stream",
     "text": [
      "Check for corrupt data\n",
      "Check for missing data\n",
      "Check for corrupt data\n",
      "Check for data outside expected range\n",
      "Check for data outside expected range\n",
      "Check for corrupt data\n",
      "Check for corrupt data\n"
     ]
    },
    {
     "name": "stdout",
     "output_type": "stream",
     "text": [
      "Empty DataFrame\n",
      "Columns: [Variable Name, Start Time, End Time, Timesteps, Error Flag]\n",
      "Index: []\n",
      "no2\n"
     ]
    },
    {
     "name": "stderr",
     "output_type": "stream",
     "text": [
      "Check for missing data\n",
      "Check for corrupt data\n",
      "Check for data outside expected range\n",
      "Check for data outside expected range\n",
      "Check for corrupt data\n",
      "Check for corrupt data\n",
      "Check for missing data\n",
      "Check for corrupt data\n",
      "Check for data outside expected range\n",
      "Check for data outside expected range\n",
      "Check for corrupt data\n",
      "Check for corrupt data\n"
     ]
    },
    {
     "name": "stdout",
     "output_type": "stream",
     "text": [
      "Empty DataFrame\n",
      "Columns: [Variable Name, Start Time, End Time, Timesteps, Error Flag]\n",
      "Index: []\n",
      "so2\n",
      "Empty DataFrame\n",
      "Columns: [Variable Name, Start Time, End Time, Timesteps, Error Flag]\n",
      "Index: []\n",
      "Hualqui\n",
      "pm25\n"
     ]
    },
    {
     "name": "stderr",
     "output_type": "stream",
     "text": [
      "Check for missing data\n",
      "Check for corrupt data\n",
      "Check for data outside expected range\n",
      "Check for data outside expected range\n",
      "Check for corrupt data\n"
     ]
    },
    {
     "name": "stdout",
     "output_type": "stream",
     "text": [
      "Empty DataFrame\n",
      "Columns: [Variable Name, Start Time, End Time, Timesteps, Error Flag]\n",
      "Index: []\n",
      "Punteras\n",
      "no2\n"
     ]
    },
    {
     "name": "stderr",
     "output_type": "stream",
     "text": [
      "Check for corrupt data\n",
      "Check for missing data\n",
      "Check for corrupt data\n",
      "Check for data outside expected range\n",
      "Check for data outside expected range\n",
      "Check for corrupt data\n",
      "Check for corrupt data\n"
     ]
    },
    {
     "name": "stdout",
     "output_type": "stream",
     "text": [
      "Empty DataFrame\n",
      "Columns: [Variable Name, Start Time, End Time, Timesteps, Error Flag]\n",
      "Index: []\n",
      "so2\n"
     ]
    },
    {
     "name": "stderr",
     "output_type": "stream",
     "text": [
      "Check for missing data\n",
      "Check for corrupt data\n",
      "Check for data outside expected range\n",
      "Check for data outside expected range\n",
      "Check for corrupt data\n",
      "Check for corrupt data\n",
      "Check for missing data\n",
      "Check for corrupt data\n",
      "Check for data outside expected range\n",
      "Check for data outside expected range\n",
      "Check for corrupt data\n",
      "Check for corrupt data\n"
     ]
    },
    {
     "name": "stdout",
     "output_type": "stream",
     "text": [
      "Empty DataFrame\n",
      "Columns: [Variable Name, Start Time, End Time, Timesteps, Error Flag]\n",
      "Index: []\n",
      "Puren\n",
      "pm25\n",
      "Empty DataFrame\n",
      "Columns: [Variable Name, Start Time, End Time, Timesteps, Error Flag]\n",
      "Index: []\n",
      "pm10\n"
     ]
    },
    {
     "name": "stderr",
     "output_type": "stream",
     "text": [
      "Check for missing data\n",
      "Check for corrupt data\n",
      "Check for data outside expected range\n",
      "Check for data outside expected range\n",
      "Check for corrupt data\n"
     ]
    },
    {
     "name": "stdout",
     "output_type": "stream",
     "text": [
      "Empty DataFrame\n",
      "Columns: [Variable Name, Start Time, End Time, Timesteps, Error Flag]\n",
      "Index: []\n",
      "Chaiten Norte\n",
      "pm10\n"
     ]
    },
    {
     "name": "stderr",
     "output_type": "stream",
     "text": [
      "Check for corrupt data\n",
      "Check for missing data\n",
      "Check for corrupt data\n",
      "Check for data outside expected range\n",
      "Check for data outside expected range\n",
      "Check for corrupt data\n",
      "Check for corrupt data\n"
     ]
    },
    {
     "name": "stdout",
     "output_type": "stream",
     "text": [
      "Empty DataFrame\n",
      "Columns: [Variable Name, Start Time, End Time, Timesteps, Error Flag]\n",
      "Index: []\n",
      "La Union\n",
      "pm25\n"
     ]
    },
    {
     "name": "stderr",
     "output_type": "stream",
     "text": [
      "Check for missing data\n",
      "Check for corrupt data\n",
      "Check for data outside expected range\n",
      "Check for data outside expected range\n",
      "Check for corrupt data\n"
     ]
    },
    {
     "name": "stdout",
     "output_type": "stream",
     "text": [
      "Empty DataFrame\n",
      "Columns: [Variable Name, Start Time, End Time, Timesteps, Error Flag]\n",
      "Index: []\n",
      "Beijing US Embassy\n",
      "pm25\n"
     ]
    },
    {
     "name": "stderr",
     "output_type": "stream",
     "text": [
      "Check for corrupt data\n",
      "Check for missing data\n",
      "Check for corrupt data\n",
      "Check for data outside expected range\n",
      "Check for data outside expected range\n",
      "Check for corrupt data\n",
      "Check for corrupt data\n"
     ]
    },
    {
     "name": "stdout",
     "output_type": "stream",
     "text": [
      "Empty DataFrame\n",
      "Columns: [Variable Name, Start Time, End Time, Timesteps, Error Flag]\n",
      "Index: []\n",
      "Guangzhou\n",
      "pm25\n"
     ]
    },
    {
     "name": "stderr",
     "output_type": "stream",
     "text": [
      "Check for missing data\n",
      "Check for corrupt data\n",
      "Check for data outside expected range\n",
      "Check for data outside expected range\n",
      "Check for corrupt data\n",
      "Check for corrupt data\n"
     ]
    },
    {
     "name": "stdout",
     "output_type": "stream",
     "text": [
      "Empty DataFrame\n",
      "Columns: [Variable Name, Start Time, End Time, Timesteps, Error Flag]\n",
      "Index: []\n",
      "Shanghai\n",
      "pm25\n"
     ]
    },
    {
     "name": "stderr",
     "output_type": "stream",
     "text": [
      "Check for missing data\n",
      "Check for corrupt data\n",
      "Check for data outside expected range\n",
      "Check for data outside expected range\n",
      "Check for corrupt data\n",
      "Check for corrupt data\n"
     ]
    },
    {
     "name": "stdout",
     "output_type": "stream",
     "text": [
      "Empty DataFrame\n",
      "Columns: [Variable Name, Start Time, End Time, Timesteps, Error Flag]\n",
      "Index: []\n",
      "Shenyang\n",
      "pm25\n"
     ]
    },
    {
     "name": "stderr",
     "output_type": "stream",
     "text": [
      "Check for missing data\n",
      "Check for corrupt data\n",
      "Check for data outside expected range\n",
      "Check for data outside expected range\n",
      "Check for corrupt data\n"
     ]
    },
    {
     "name": "stdout",
     "output_type": "stream",
     "text": [
      "Empty DataFrame\n",
      "Columns: [Variable Name, Start Time, End Time, Timesteps, Error Flag]\n",
      "Index: []\n",
      "תחנה:1 נווה אילן\n",
      "o3\n"
     ]
    },
    {
     "name": "stderr",
     "output_type": "stream",
     "text": [
      "Check for corrupt data\n",
      "Check for missing data\n",
      "Check for corrupt data\n",
      "Check for data outside expected range\n",
      "Check for data outside expected range\n",
      "Check for corrupt data\n",
      "Check for corrupt data\n"
     ]
    },
    {
     "name": "stdout",
     "output_type": "stream",
     "text": [
      "  Variable Name          Start Time            End Time Timesteps  \\\n",
      "0           day 2017-12-30 22:00:00 2017-12-30 23:00:00         3   \n",
      "1           day 2017-12-30 22:00:00 2017-12-30 23:00:00         3   \n",
      "2           day 2017-12-30 22:00:00 2017-12-30 23:00:00         3   \n",
      "3           day 2017-12-30 22:00:00 2017-12-30 23:00:00         3   \n",
      "\n",
      "     Error Flag  \n",
      "0  Corrupt data  \n",
      "1  Corrupt data  \n",
      "2  Corrupt data  \n",
      "3  Corrupt data  \n",
      "no2\n"
     ]
    },
    {
     "name": "stderr",
     "output_type": "stream",
     "text": [
      "Check for missing data\n",
      "Check for corrupt data\n",
      "Check for data outside expected range\n",
      "Check for data outside expected range\n",
      "Check for corrupt data\n"
     ]
    },
    {
     "name": "stdout",
     "output_type": "stream",
     "text": [
      "  Variable Name          Start Time            End Time Timesteps  \\\n",
      "0           day 2017-12-30 22:00:00 2017-12-30 23:00:00         4   \n",
      "1           day 2017-12-30 22:00:00 2017-12-30 23:00:00         4   \n",
      "\n",
      "     Error Flag  \n",
      "0  Corrupt data  \n",
      "1  Corrupt data  \n",
      "תחנה:גוש עציון\n",
      "no2\n"
     ]
    },
    {
     "name": "stderr",
     "output_type": "stream",
     "text": [
      "Check for corrupt data\n",
      "Check for missing data\n",
      "Check for corrupt data\n",
      "Check for data outside expected range\n",
      "Check for data outside expected range\n",
      "Check for corrupt data\n"
     ]
    },
    {
     "name": "stdout",
     "output_type": "stream",
     "text": [
      "  Variable Name          Start Time            End Time Timesteps  \\\n",
      "0           day 2017-12-30 22:00:00 2017-12-30 23:00:00         7   \n",
      "1           day 2017-12-30 22:00:00 2017-12-30 23:00:00         7   \n",
      "2           day 2017-12-30 22:00:00 2017-12-30 23:00:00         7   \n",
      "3           day 2017-12-30 22:00:00 2017-12-30 23:00:00         7   \n",
      "\n",
      "     Error Flag  \n",
      "0  Corrupt data  \n",
      "1  Corrupt data  \n",
      "2  Corrupt data  \n",
      "3  Corrupt data  \n",
      "o3\n"
     ]
    },
    {
     "name": "stderr",
     "output_type": "stream",
     "text": [
      "Check for corrupt data\n",
      "Check for missing data\n",
      "Check for corrupt data\n",
      "Check for data outside expected range\n",
      "Check for data outside expected range\n",
      "Check for corrupt data\n"
     ]
    },
    {
     "name": "stdout",
     "output_type": "stream",
     "text": [
      "  Variable Name          Start Time            End Time Timesteps  \\\n",
      "0           day 2017-12-30 22:00:00 2017-12-30 23:00:00         4   \n",
      "1           day 2017-12-30 22:00:00 2017-12-30 23:00:00         4   \n",
      "2           day 2017-12-30 22:00:00 2017-12-30 23:00:00         4   \n",
      "3           day 2017-12-30 22:00:00 2017-12-30 23:00:00         4   \n",
      "\n",
      "     Error Flag  \n",
      "0  Corrupt data  \n",
      "1  Corrupt data  \n",
      "2  Corrupt data  \n",
      "3  Corrupt data  \n",
      "תחנה:נאות הכיכר\n",
      "o3\n"
     ]
    },
    {
     "name": "stderr",
     "output_type": "stream",
     "text": [
      "Check for corrupt data\n",
      "Check for missing data\n",
      "Check for corrupt data\n",
      "Check for data outside expected range\n",
      "Check for data outside expected range\n",
      "Check for corrupt data\n",
      "Check for corrupt data\n"
     ]
    },
    {
     "name": "stdout",
     "output_type": "stream",
     "text": [
      "  Variable Name          Start Time            End Time Timesteps  \\\n",
      "0           day 2017-12-30 22:00:00 2017-12-30 23:00:00         7   \n",
      "1           day 2017-12-30 22:00:00 2017-12-30 23:00:00         7   \n",
      "\n",
      "     Error Flag  \n",
      "0  Corrupt data  \n",
      "1  Corrupt data  \n",
      "no2\n"
     ]
    },
    {
     "name": "stderr",
     "output_type": "stream",
     "text": [
      "Check for missing data\n",
      "Check for corrupt data\n",
      "Check for data outside expected range\n",
      "Check for data outside expected range\n",
      "Check for corrupt data\n"
     ]
    },
    {
     "name": "stdout",
     "output_type": "stream",
     "text": [
      "  Variable Name          Start Time            End Time Timesteps  \\\n",
      "0           day 2017-12-30 22:00:00 2017-12-30 23:00:00         7   \n",
      "1           day 2017-12-30 22:00:00 2017-12-30 23:00:00         7   \n",
      "\n",
      "     Error Flag  \n",
      "0  Corrupt data  \n",
      "1  Corrupt data  \n",
      "תחנה:ניידת2\n",
      "o3\n"
     ]
    },
    {
     "name": "stderr",
     "output_type": "stream",
     "text": [
      "Check for corrupt data\n",
      "Check for missing data\n",
      "Check for corrupt data\n",
      "Check for data outside expected range\n",
      "Check for data outside expected range\n",
      "Check for corrupt data\n"
     ]
    },
    {
     "name": "stdout",
     "output_type": "stream",
     "text": [
      "  Variable Name          Start Time            End Time Timesteps  \\\n",
      "0           day 2017-12-30 22:00:00 2017-12-30 23:00:00         3   \n",
      "1           day 2017-12-30 22:00:00 2017-12-30 23:00:00         3   \n",
      "\n",
      "     Error Flag  \n",
      "0  Corrupt data  \n",
      "1  Corrupt data  \n",
      "no2\n"
     ]
    },
    {
     "name": "stderr",
     "output_type": "stream",
     "text": [
      "Check for corrupt data\n",
      "Check for missing data\n",
      "Check for corrupt data\n",
      "Check for data outside expected range\n",
      "Check for data outside expected range\n",
      "Check for corrupt data\n",
      "Check for corrupt data\n"
     ]
    },
    {
     "name": "stdout",
     "output_type": "stream",
     "text": [
      "  Variable Name          Start Time            End Time Timesteps  \\\n",
      "0           day 2017-12-30 22:00:00 2017-12-30 23:00:00         4   \n",
      "1           day 2017-12-30 23:00:00 2017-12-30 23:00:00         3   \n",
      "2           day 2017-12-30 22:00:00 2017-12-30 23:00:00         4   \n",
      "3           day 2017-12-30 23:00:00 2017-12-30 23:00:00         3   \n",
      "\n",
      "     Error Flag  \n",
      "0  Corrupt data  \n",
      "1  Corrupt data  \n",
      "2  Corrupt data  \n",
      "3  Corrupt data  \n",
      "so2\n"
     ]
    },
    {
     "name": "stderr",
     "output_type": "stream",
     "text": [
      "Check for missing data\n",
      "Check for corrupt data\n",
      "Check for data outside expected range\n",
      "Check for data outside expected range\n",
      "Check for corrupt data\n"
     ]
    },
    {
     "name": "stdout",
     "output_type": "stream",
     "text": [
      "  Variable Name          Start Time            End Time Timesteps  \\\n",
      "0           day 2017-12-30 22:00:00 2017-12-30 23:00:00         7   \n",
      "1           day 2017-12-30 22:00:00 2017-12-30 23:00:00         7   \n",
      "\n",
      "     Error Flag  \n",
      "0  Corrupt data  \n",
      "1  Corrupt data  \n",
      "תחנה:שדה יואב\n",
      "so2\n"
     ]
    },
    {
     "name": "stderr",
     "output_type": "stream",
     "text": [
      "Check for corrupt data\n",
      "Check for missing data\n",
      "Check for corrupt data\n",
      "Check for data outside expected range\n",
      "Check for data outside expected range\n",
      "Check for corrupt data\n"
     ]
    },
    {
     "name": "stdout",
     "output_type": "stream",
     "text": [
      "  Variable Name          Start Time            End Time Timesteps  \\\n",
      "0           day 2017-12-30 22:00:00 2017-12-30 23:00:00         5   \n",
      "1           day 2017-12-30 22:00:00 2017-12-30 23:00:00         7   \n",
      "2           day 2017-12-30 22:00:00 2017-12-30 23:00:00         2   \n",
      "\n",
      "     Error Flag  \n",
      "0  Corrupt data  \n",
      "1  Corrupt data  \n",
      "2  Corrupt data  \n",
      "no2\n"
     ]
    },
    {
     "name": "stderr",
     "output_type": "stream",
     "text": [
      "Check for corrupt data\n",
      "Check for missing data\n",
      "Check for corrupt data\n",
      "Check for data outside expected range\n",
      "Check for data outside expected range\n",
      "Check for corrupt data\n",
      "Check for corrupt data\n"
     ]
    },
    {
     "name": "stdout",
     "output_type": "stream",
     "text": [
      "  Variable Name          Start Time            End Time Timesteps  \\\n",
      "0           day 2017-12-30 22:00:00 2017-12-30 23:00:00         3   \n",
      "1           day 2017-12-30 22:00:00 2017-12-30 23:00:00         3   \n",
      "\n",
      "     Error Flag  \n",
      "0  Corrupt data  \n",
      "1  Corrupt data  \n",
      "תחנה:רכבת יוספטל\n",
      "co\n"
     ]
    },
    {
     "name": "stderr",
     "output_type": "stream",
     "text": [
      "Check for missing data\n",
      "Check for corrupt data\n",
      "Check for data outside expected range\n",
      "Check for data outside expected range\n",
      "Check for corrupt data\n"
     ]
    },
    {
     "name": "stdout",
     "output_type": "stream",
     "text": [
      "  Variable Name          Start Time            End Time Timesteps  \\\n",
      "0           day 2017-12-30 22:00:00 2017-12-30 23:00:00         7   \n",
      "1           day 2017-12-30 22:00:00 2017-12-30 23:00:00         7   \n",
      "\n",
      "     Error Flag  \n",
      "0  Corrupt data  \n",
      "1  Corrupt data  \n",
      "no2\n"
     ]
    },
    {
     "name": "stderr",
     "output_type": "stream",
     "text": [
      "Check for corrupt data\n",
      "Check for missing data\n",
      "Check for corrupt data\n",
      "Check for data outside expected range\n",
      "Check for data outside expected range\n",
      "Check for corrupt data\n"
     ]
    },
    {
     "name": "stdout",
     "output_type": "stream",
     "text": [
      "  Variable Name          Start Time            End Time Timesteps  \\\n",
      "0           day 2017-12-30 22:00:00 2017-12-30 23:00:00         7   \n",
      "1           day 2017-12-30 22:00:00 2017-12-30 23:00:00         7   \n",
      "\n",
      "     Error Flag  \n",
      "0  Corrupt data  \n",
      "1  Corrupt data  \n",
      "תחנה:יד אבנר\n",
      "o3\n"
     ]
    },
    {
     "name": "stderr",
     "output_type": "stream",
     "text": [
      "Check for corrupt data\n",
      "Check for missing data\n",
      "Check for corrupt data\n",
      "Check for data outside expected range\n",
      "Check for data outside expected range\n"
     ]
    },
    {
     "name": "stdout",
     "output_type": "stream",
     "text": [
      "  Variable Name          Start Time            End Time Timesteps  \\\n",
      "0           day 2017-12-30 22:00:00 2017-12-30 22:00:00         4   \n",
      "\n",
      "     Error Flag  \n",
      "0  Corrupt data  \n",
      "co\n"
     ]
    },
    {
     "name": "stderr",
     "output_type": "stream",
     "text": [
      "Check for corrupt data\n",
      "Check for corrupt data\n",
      "Check for missing data\n",
      "Check for corrupt data\n",
      "Check for data outside expected range\n",
      "Check for data outside expected range\n",
      "Check for corrupt data\n",
      "Check for corrupt data\n"
     ]
    },
    {
     "name": "stdout",
     "output_type": "stream",
     "text": [
      "   Variable Name          Start Time            End Time Timesteps  \\\n",
      "0          value 2017-12-31 10:00:00 2017-12-31 15:00:00        20   \n",
      "1          value 2017-12-31 16:00:00 2017-12-31 16:00:00         3   \n",
      "2          value 2017-12-31 17:00:00 2017-12-31 18:00:00         2   \n",
      "3          value 2017-12-31 18:00:00 2017-12-31 19:00:00         4   \n",
      "4          value 2017-12-31 20:00:00 2017-12-31 20:00:00         1   \n",
      "5          value 2017-12-31 21:00:00 2017-12-31 21:00:00         2   \n",
      "6          value 2017-12-31 10:00:00 2017-12-31 15:00:00        20   \n",
      "7          value 2017-12-31 16:00:00 2017-12-31 16:00:00         3   \n",
      "8          value 2017-12-31 17:00:00 2017-12-31 18:00:00         2   \n",
      "9          value 2017-12-31 18:00:00 2017-12-31 19:00:00         4   \n",
      "10         value 2017-12-31 20:00:00 2017-12-31 20:00:00         1   \n",
      "11         value 2017-12-31 21:00:00 2017-12-31 21:00:00         2   \n",
      "12           day 2017-12-30 22:00:00 2017-12-30 23:00:00         7   \n",
      "13           day 2017-12-30 22:00:00 2017-12-30 23:00:00         7   \n",
      "\n",
      "               Error Flag  \n",
      "0   Data < lower bound, 0  \n",
      "1   Data < lower bound, 0  \n",
      "2   Data < lower bound, 0  \n",
      "3   Data < lower bound, 0  \n",
      "4   Data < lower bound, 0  \n",
      "5   Data < lower bound, 0  \n",
      "6   Data < lower bound, 0  \n",
      "7   Data < lower bound, 0  \n",
      "8   Data < lower bound, 0  \n",
      "9   Data < lower bound, 0  \n",
      "10  Data < lower bound, 0  \n",
      "11  Data < lower bound, 0  \n",
      "12           Corrupt data  \n",
      "13           Corrupt data  \n",
      "no2\n"
     ]
    },
    {
     "name": "stderr",
     "output_type": "stream",
     "text": [
      "Check for missing data\n",
      "Check for corrupt data\n",
      "Check for data outside expected range\n",
      "Check for data outside expected range\n",
      "Check for corrupt data\n",
      "Check for corrupt data\n",
      "Check for missing data\n",
      "Check for corrupt data\n",
      "Check for data outside expected range\n",
      "Check for data outside expected range\n",
      "Check for corrupt data\n"
     ]
    },
    {
     "name": "stdout",
     "output_type": "stream",
     "text": [
      "  Variable Name          Start Time            End Time Timesteps  \\\n",
      "0           day 2017-12-30 23:00:00 2017-12-30 23:00:00         4   \n",
      "\n",
      "     Error Flag  \n",
      "0  Corrupt data  \n",
      "so2\n",
      "Empty DataFrame\n",
      "Columns: [Variable Name, Start Time, End Time, Timesteps, Error Flag]\n",
      "Index: []\n",
      "תחנה:רמת השרון\n",
      "o3\n"
     ]
    },
    {
     "name": "stderr",
     "output_type": "stream",
     "text": [
      "Check for corrupt data\n",
      "Check for missing data\n",
      "Check for corrupt data\n",
      "Check for data outside expected range\n",
      "Check for data outside expected range\n",
      "Check for corrupt data\n",
      "Check for corrupt data\n"
     ]
    },
    {
     "name": "stdout",
     "output_type": "stream",
     "text": [
      "  Variable Name          Start Time            End Time Timesteps  \\\n",
      "0           day 2017-12-30 22:00:00 2017-12-30 23:00:00         3   \n",
      "1           day 2017-12-30 22:00:00 2017-12-30 23:00:00         3   \n",
      "\n",
      "     Error Flag  \n",
      "0  Corrupt data  \n",
      "1  Corrupt data  \n",
      "so2\n"
     ]
    },
    {
     "name": "stderr",
     "output_type": "stream",
     "text": [
      "Check for missing data\n",
      "Check for corrupt data\n",
      "Check for data outside expected range\n",
      "Check for data outside expected range\n"
     ]
    },
    {
     "name": "stdout",
     "output_type": "stream",
     "text": [
      "  Variable Name          Start Time            End Time Timesteps  \\\n",
      "0           day 2017-12-30 22:00:00 2017-12-30 23:00:00         7   \n",
      "1           day 2017-12-30 22:00:00 2017-12-30 23:00:00         7   \n",
      "2           day 2017-12-30 22:00:00 2017-12-30 23:00:00         7   \n",
      "3           day 2017-12-30 22:00:00 2017-12-30 23:00:00         7   \n",
      "\n",
      "     Error Flag  \n",
      "0  Corrupt data  \n",
      "1  Corrupt data  \n",
      "2  Corrupt data  \n",
      "3  Corrupt data  \n",
      "no2\n"
     ]
    },
    {
     "name": "stderr",
     "output_type": "stream",
     "text": [
      "Check for corrupt data\n",
      "Check for corrupt data\n",
      "Check for missing data\n",
      "Check for corrupt data\n",
      "Check for data outside expected range\n",
      "Check for data outside expected range\n",
      "Check for corrupt data\n",
      "Check for corrupt data\n"
     ]
    },
    {
     "name": "stdout",
     "output_type": "stream",
     "text": [
      "   Variable Name          Start Time            End Time Timesteps  \\\n",
      "0          value 2017-12-31 12:00:00 2017-12-31 12:00:00         2   \n",
      "1          value 2017-12-30 22:00:00 2017-12-31 02:00:00        18   \n",
      "2          value 2017-12-31 03:00:00 2017-12-31 03:00:00         2   \n",
      "3          value 2017-12-31 11:00:00 2017-12-31 14:00:00        14   \n",
      "4          value 2017-12-31 20:00:00 2017-12-31 20:00:00         3   \n",
      "5          value 2017-12-31 12:00:00 2017-12-31 12:00:00         2   \n",
      "6          value 2017-12-30 22:00:00 2017-12-31 02:00:00        18   \n",
      "7          value 2017-12-31 03:00:00 2017-12-31 03:00:00         2   \n",
      "8          value 2017-12-31 11:00:00 2017-12-31 14:00:00        14   \n",
      "9          value 2017-12-31 20:00:00 2017-12-31 20:00:00         3   \n",
      "10           day 2017-12-30 22:00:00 2017-12-30 23:00:00         7   \n",
      "11           day 2017-12-30 22:00:00 2017-12-30 23:00:00         7   \n",
      "12           day 2017-12-30 22:00:00 2017-12-30 23:00:00         7   \n",
      "13           day 2017-12-30 22:00:00 2017-12-30 23:00:00         7   \n",
      "\n",
      "               Error Flag  \n",
      "0   Data < lower bound, 0  \n",
      "1   Data < lower bound, 0  \n",
      "2   Data < lower bound, 0  \n",
      "3   Data < lower bound, 0  \n",
      "4   Data < lower bound, 0  \n",
      "5   Data < lower bound, 0  \n",
      "6   Data < lower bound, 0  \n",
      "7   Data < lower bound, 0  \n",
      "8   Data < lower bound, 0  \n",
      "9   Data < lower bound, 0  \n",
      "10           Corrupt data  \n",
      "11           Corrupt data  \n",
      "12           Corrupt data  \n",
      "13           Corrupt data  \n",
      "תחנה:ניידת4\n",
      "so2\n"
     ]
    },
    {
     "name": "stderr",
     "output_type": "stream",
     "text": [
      "Check for missing data\n",
      "Check for corrupt data\n",
      "Check for data outside expected range\n",
      "Check for data outside expected range\n",
      "Check for corrupt data\n"
     ]
    },
    {
     "name": "stdout",
     "output_type": "stream",
     "text": [
      "Empty DataFrame\n",
      "Columns: [Variable Name, Start Time, End Time, Timesteps, Error Flag]\n",
      "Index: []\n",
      "no2\n"
     ]
    },
    {
     "name": "stderr",
     "output_type": "stream",
     "text": [
      "Check for corrupt data\n",
      "Check for missing data\n",
      "Check for corrupt data\n",
      "Check for data outside expected range\n",
      "Check for data outside expected range\n",
      "Check for corrupt data\n",
      "Check for corrupt data\n"
     ]
    },
    {
     "name": "stdout",
     "output_type": "stream",
     "text": [
      "  Variable Name          Start Time            End Time Timesteps  \\\n",
      "0           day 2017-12-30 22:00:00 2017-12-30 23:00:00         4   \n",
      "1           day 2017-12-30 22:00:00 2017-12-30 23:00:00         4   \n",
      "2           day 2017-12-30 22:00:00 2017-12-30 23:00:00         4   \n",
      "3           day 2017-12-30 22:00:00 2017-12-30 23:00:00         4   \n",
      "\n",
      "     Error Flag  \n",
      "0  Corrupt data  \n",
      "1  Corrupt data  \n",
      "2  Corrupt data  \n",
      "3  Corrupt data  \n",
      "תחנה:רחובות\n",
      "no2\n"
     ]
    },
    {
     "name": "stderr",
     "output_type": "stream",
     "text": [
      "Check for missing data\n",
      "Check for corrupt data\n",
      "Check for data outside expected range\n",
      "Check for data outside expected range\n",
      "Check for corrupt data\n"
     ]
    },
    {
     "name": "stdout",
     "output_type": "stream",
     "text": [
      "Empty DataFrame\n",
      "Columns: [Variable Name, Start Time, End Time, Timesteps, Error Flag]\n",
      "Index: []\n",
      "so2\n"
     ]
    },
    {
     "name": "stderr",
     "output_type": "stream",
     "text": [
      "Check for corrupt data\n",
      "Check for missing data\n",
      "Check for corrupt data\n",
      "Check for data outside expected range\n",
      "Check for data outside expected range\n",
      "Check for corrupt data\n"
     ]
    },
    {
     "name": "stdout",
     "output_type": "stream",
     "text": [
      "  Variable Name          Start Time            End Time Timesteps  \\\n",
      "0         value 2017-12-31 02:00:00 2017-12-31 02:00:00         1   \n",
      "1         value 2017-12-31 02:00:00 2017-12-31 02:00:00         1   \n",
      "\n",
      "              Error Flag  \n",
      "0  Data < lower bound, 0  \n",
      "1  Data < lower bound, 0  \n",
      "תחנה:רובע ו\n",
      "no2\n"
     ]
    },
    {
     "name": "stderr",
     "output_type": "stream",
     "text": [
      "Check for corrupt data\n",
      "Check for missing data\n",
      "Check for corrupt data\n",
      "Check for data outside expected range\n",
      "Check for data outside expected range\n",
      "Check for corrupt data\n"
     ]
    },
    {
     "name": "stdout",
     "output_type": "stream",
     "text": [
      "  Variable Name          Start Time            End Time Timesteps  \\\n",
      "0           day 2017-12-30 22:00:00 2017-12-30 23:00:00         4   \n",
      "1           day 2017-12-30 22:00:00 2017-12-30 23:00:00         6   \n",
      "2           day 2017-12-30 22:00:00 2017-12-30 22:00:00         2   \n",
      "\n",
      "     Error Flag  \n",
      "0  Corrupt data  \n",
      "1  Corrupt data  \n",
      "2  Corrupt data  \n",
      "co\n"
     ]
    },
    {
     "name": "stderr",
     "output_type": "stream",
     "text": [
      "Check for corrupt data\n",
      "Check for missing data\n",
      "Check for corrupt data\n",
      "Check for data outside expected range\n",
      "Check for data outside expected range\n",
      "Check for corrupt data\n"
     ]
    },
    {
     "name": "stdout",
     "output_type": "stream",
     "text": [
      "  Variable Name          Start Time            End Time Timesteps  \\\n",
      "0           day 2017-12-30 22:00:00 2017-12-30 23:00:00         7   \n",
      "1           day 2017-12-30 22:00:00 2017-12-30 23:00:00         7   \n",
      "2           day 2017-12-30 22:00:00 2017-12-30 23:00:00         7   \n",
      "3           day 2017-12-30 22:00:00 2017-12-30 23:00:00         7   \n",
      "\n",
      "     Error Flag  \n",
      "0  Corrupt data  \n",
      "1  Corrupt data  \n",
      "2  Corrupt data  \n",
      "3  Corrupt data  \n",
      "so2\n"
     ]
    },
    {
     "name": "stderr",
     "output_type": "stream",
     "text": [
      "Check for corrupt data\n",
      "Check for missing data\n",
      "Check for corrupt data\n",
      "Check for data outside expected range\n",
      "Check for data outside expected range\n",
      "Check for corrupt data\n",
      "Check for corrupt data\n"
     ]
    },
    {
     "name": "stdout",
     "output_type": "stream",
     "text": [
      "Empty DataFrame\n",
      "Columns: [Variable Name, Start Time, End Time, Timesteps, Error Flag]\n",
      "Index: []\n",
      "תחנה:המעפיל\n",
      "so2\n"
     ]
    },
    {
     "name": "stderr",
     "output_type": "stream",
     "text": [
      "Check for missing data\n",
      "Check for corrupt data\n",
      "Check for data outside expected range\n",
      "Check for data outside expected range\n",
      "Check for corrupt data\n",
      "Check for corrupt data\n"
     ]
    },
    {
     "name": "stdout",
     "output_type": "stream",
     "text": [
      "  Variable Name          Start Time            End Time Timesteps  \\\n",
      "0           day 2017-12-30 22:00:00 2017-12-30 23:00:00         3   \n",
      "1           day 2017-12-30 22:00:00 2017-12-30 23:00:00         3   \n",
      "\n",
      "     Error Flag  \n",
      "0  Corrupt data  \n",
      "1  Corrupt data  \n",
      "o3\n"
     ]
    },
    {
     "name": "stderr",
     "output_type": "stream",
     "text": [
      "Check for missing data\n",
      "Check for corrupt data\n",
      "Check for data outside expected range\n",
      "Check for data outside expected range\n",
      "Check for corrupt data\n"
     ]
    },
    {
     "name": "stdout",
     "output_type": "stream",
     "text": [
      "  Variable Name          Start Time            End Time Timesteps  \\\n",
      "0           day 2017-12-30 22:00:00 2017-12-30 23:00:00         5   \n",
      "1           day 2017-12-30 22:00:00 2017-12-30 23:00:00         5   \n",
      "\n",
      "     Error Flag  \n",
      "0  Corrupt data  \n",
      "1  Corrupt data  \n",
      "תחנה:נשר\n",
      "no2\n"
     ]
    },
    {
     "name": "stderr",
     "output_type": "stream",
     "text": [
      "Check for corrupt data\n",
      "Check for missing data\n",
      "Check for corrupt data\n",
      "Check for data outside expected range\n",
      "Check for data outside expected range\n",
      "Check for corrupt data\n"
     ]
    },
    {
     "name": "stdout",
     "output_type": "stream",
     "text": [
      "  Variable Name          Start Time            End Time Timesteps  \\\n",
      "0           day 2017-12-30 22:00:00 2017-12-30 23:00:00         7   \n",
      "1           day 2017-12-30 22:00:00 2017-12-30 23:00:00         7   \n",
      "\n",
      "     Error Flag  \n",
      "0  Corrupt data  \n",
      "1  Corrupt data  \n",
      "תחנה:ק.מלאכי\n",
      "o3\n"
     ]
    },
    {
     "name": "stderr",
     "output_type": "stream",
     "text": [
      "Check for corrupt data\n",
      "Check for missing data\n",
      "Check for corrupt data\n",
      "Check for data outside expected range\n",
      "Check for data outside expected range\n",
      "Check for corrupt data\n"
     ]
    },
    {
     "name": "stdout",
     "output_type": "stream",
     "text": [
      "  Variable Name          Start Time            End Time Timesteps  \\\n",
      "0           day 2017-12-30 22:00:00 2017-12-30 23:00:00         8   \n",
      "1           day 2017-12-30 22:00:00 2017-12-30 23:00:00         8   \n",
      "\n",
      "     Error Flag  \n",
      "0  Corrupt data  \n",
      "1  Corrupt data  \n",
      "so2\n"
     ]
    },
    {
     "name": "stderr",
     "output_type": "stream",
     "text": [
      "Check for corrupt data\n",
      "Check for missing data\n",
      "Check for corrupt data\n",
      "Check for data outside expected range\n",
      "Check for data outside expected range\n",
      "Check for corrupt data\n",
      "Check for corrupt data\n"
     ]
    },
    {
     "name": "stdout",
     "output_type": "stream",
     "text": [
      "  Variable Name          Start Time            End Time Timesteps  \\\n",
      "0           day 2017-12-30 22:00:00 2017-12-30 23:00:00         3   \n",
      "1           day 2017-12-30 22:00:00 2017-12-30 23:00:00         3   \n",
      "\n",
      "     Error Flag  \n",
      "0  Corrupt data  \n",
      "1  Corrupt data  \n",
      "תחנה:איינשטין\n",
      "so2\n"
     ]
    },
    {
     "name": "stderr",
     "output_type": "stream",
     "text": [
      "Check for missing data\n",
      "Check for corrupt data\n",
      "Check for data outside expected range\n",
      "Check for data outside expected range\n",
      "Check for corrupt data\n"
     ]
    },
    {
     "name": "stdout",
     "output_type": "stream",
     "text": [
      "  Variable Name          Start Time            End Time Timesteps  \\\n",
      "0           day 2017-12-30 22:00:00 2017-12-30 22:00:00         1   \n",
      "1           day 2017-12-30 22:00:00 2017-12-30 22:00:00         1   \n",
      "\n",
      "     Error Flag  \n",
      "0  Corrupt data  \n",
      "1  Corrupt data  \n",
      "תחנה:ק.גברעם\n",
      "o3\n"
     ]
    },
    {
     "name": "stderr",
     "output_type": "stream",
     "text": [
      "Check for corrupt data\n",
      "Check for missing data\n",
      "Check for corrupt data\n",
      "Check for data outside expected range\n",
      "Check for data outside expected range\n",
      "Check for corrupt data\n"
     ]
    },
    {
     "name": "stdout",
     "output_type": "stream",
     "text": [
      "  Variable Name          Start Time            End Time Timesteps  \\\n",
      "0           day 2017-12-30 22:00:00 2017-12-30 23:00:00         5   \n",
      "1           day 2017-12-30 22:00:00 2017-12-30 23:00:00         5   \n",
      "2           day 2017-12-30 22:00:00 2017-12-30 23:00:00         7   \n",
      "3           day 2017-12-30 22:00:00 2017-12-30 23:00:00         5   \n",
      "4           day 2017-12-30 22:00:00 2017-12-30 23:00:00         5   \n",
      "5           day 2017-12-30 22:00:00 2017-12-30 23:00:00         7   \n",
      "\n",
      "     Error Flag  \n",
      "0  Corrupt data  \n",
      "1  Corrupt data  \n",
      "2  Corrupt data  \n",
      "3  Corrupt data  \n",
      "4  Corrupt data  \n",
      "5  Corrupt data  \n",
      "so2\n"
     ]
    },
    {
     "name": "stderr",
     "output_type": "stream",
     "text": [
      "Check for corrupt data\n",
      "Check for missing data\n",
      "Check for corrupt data\n",
      "Check for data outside expected range\n",
      "Check for data outside expected range\n",
      "Check for corrupt data\n"
     ]
    },
    {
     "name": "stdout",
     "output_type": "stream",
     "text": [
      "  Variable Name          Start Time            End Time Timesteps  \\\n",
      "0           day 2017-12-30 22:00:00 2017-12-30 23:00:00         4   \n",
      "1           day 2017-12-30 22:00:00 2017-12-30 23:00:00         6   \n",
      "2           day 2017-12-30 22:00:00 2017-12-30 23:00:00         4   \n",
      "3           day 2017-12-30 22:00:00 2017-12-30 23:00:00         6   \n",
      "\n",
      "     Error Flag  \n",
      "0  Corrupt data  \n",
      "1  Corrupt data  \n",
      "2  Corrupt data  \n",
      "3  Corrupt data  \n",
      "תחנה:ניר גלים 1\n",
      "so2\n"
     ]
    },
    {
     "name": "stderr",
     "output_type": "stream",
     "text": [
      "Check for corrupt data\n",
      "Check for missing data\n",
      "Check for corrupt data\n",
      "Check for data outside expected range\n",
      "Check for data outside expected range\n",
      "Check for corrupt data\n",
      "Check for corrupt data\n"
     ]
    },
    {
     "name": "stdout",
     "output_type": "stream",
     "text": [
      "  Variable Name          Start Time            End Time Timesteps  \\\n",
      "0           day 2017-12-30 22:00:00 2017-12-30 23:00:00         6   \n",
      "\n",
      "     Error Flag  \n",
      "0  Corrupt data  \n",
      "o3\n"
     ]
    },
    {
     "name": "stderr",
     "output_type": "stream",
     "text": [
      "Check for missing data\n",
      "Check for corrupt data\n",
      "Check for data outside expected range\n",
      "Check for data outside expected range\n",
      "Check for corrupt data\n"
     ]
    },
    {
     "name": "stdout",
     "output_type": "stream",
     "text": [
      "  Variable Name          Start Time            End Time Timesteps  \\\n",
      "0           day 2017-12-30 22:00:00 2017-12-30 22:00:00         2   \n",
      "\n",
      "     Error Flag  \n",
      "0  Corrupt data  \n",
      "תחנה:כרמיה אשק\n",
      "no2\n"
     ]
    },
    {
     "name": "stderr",
     "output_type": "stream",
     "text": [
      "Check for corrupt data\n",
      "Check for missing data\n",
      "Check for corrupt data\n",
      "Check for data outside expected range\n",
      "Check for data outside expected range\n",
      "Check for corrupt data\n"
     ]
    },
    {
     "name": "stdout",
     "output_type": "stream",
     "text": [
      "  Variable Name          Start Time            End Time Timesteps  \\\n",
      "0           day 2017-12-30 22:00:00 2017-12-30 23:00:00         7   \n",
      "1           day 2017-12-30 22:00:00 2017-12-30 23:00:00         7   \n",
      "\n",
      "     Error Flag  \n",
      "0  Corrupt data  \n",
      "1  Corrupt data  \n",
      "so2\n"
     ]
    },
    {
     "name": "stderr",
     "output_type": "stream",
     "text": [
      "Check for corrupt data\n",
      "Check for missing data\n",
      "Check for corrupt data\n",
      "Check for data outside expected range\n",
      "Check for data outside expected range\n",
      "Check for corrupt data\n"
     ]
    },
    {
     "name": "stdout",
     "output_type": "stream",
     "text": [
      "  Variable Name          Start Time            End Time Timesteps  \\\n",
      "0           day 2017-12-30 22:00:00 2017-12-30 23:00:00         7   \n",
      "1           day 2017-12-30 22:00:00 2017-12-30 23:00:00         7   \n",
      "\n",
      "     Error Flag  \n",
      "0  Corrupt data  \n",
      "1  Corrupt data  \n",
      "תחנה:מבקיעים\n",
      "o3\n"
     ]
    },
    {
     "name": "stderr",
     "output_type": "stream",
     "text": [
      "Check for corrupt data\n",
      "Check for missing data\n",
      "Check for corrupt data\n",
      "Check for data outside expected range\n",
      "Check for data outside expected range\n",
      "Check for corrupt data\n"
     ]
    },
    {
     "name": "stdout",
     "output_type": "stream",
     "text": [
      "  Variable Name          Start Time            End Time Timesteps  \\\n",
      "0           day 2017-12-30 22:00:00 2017-12-30 23:00:00         6   \n",
      "\n",
      "     Error Flag  \n",
      "0  Corrupt data  \n",
      "תחנה:כ.חסידים\n",
      "so2\n"
     ]
    },
    {
     "name": "stderr",
     "output_type": "stream",
     "text": [
      "Check for corrupt data\n",
      "Check for missing data\n",
      "Check for corrupt data\n",
      "Check for data outside expected range\n",
      "Check for data outside expected range\n",
      "Check for corrupt data\n"
     ]
    },
    {
     "name": "stdout",
     "output_type": "stream",
     "text": [
      "  Variable Name          Start Time            End Time Timesteps  \\\n",
      "0         value 2017-12-31 01:00:00 2017-12-31 05:00:00        10   \n",
      "1         value 2017-12-31 17:00:00 2017-12-31 22:00:00        10   \n",
      "2         value 2017-12-31 01:00:00 2017-12-31 05:00:00        10   \n",
      "3         value 2017-12-31 17:00:00 2017-12-31 22:00:00        10   \n",
      "4           day 2017-12-30 22:00:00 2017-12-30 23:00:00         2   \n",
      "5           day 2017-12-30 22:00:00 2017-12-30 23:00:00         5   \n",
      "6           day 2017-12-30 22:00:00 2017-12-30 23:00:00         2   \n",
      "7           day 2017-12-30 22:00:00 2017-12-30 23:00:00         5   \n",
      "\n",
      "              Error Flag  \n",
      "0  Data < lower bound, 0  \n",
      "1  Data < lower bound, 0  \n",
      "2  Data < lower bound, 0  \n",
      "3  Data < lower bound, 0  \n",
      "4           Corrupt data  \n",
      "5           Corrupt data  \n",
      "6           Corrupt data  \n",
      "7           Corrupt data  \n",
      "no2\n"
     ]
    },
    {
     "name": "stderr",
     "output_type": "stream",
     "text": [
      "Check for corrupt data\n",
      "Check for missing data\n",
      "Check for corrupt data\n",
      "Check for data outside expected range\n",
      "Check for data outside expected range\n",
      "Check for corrupt data\n"
     ]
    },
    {
     "name": "stdout",
     "output_type": "stream",
     "text": [
      "  Variable Name          Start Time            End Time Timesteps  \\\n",
      "0           day 2017-12-30 22:00:00 2017-12-30 23:00:00         5   \n",
      "1           day 2017-12-30 22:00:00 2017-12-30 23:00:00         5   \n",
      "\n",
      "     Error Flag  \n",
      "0  Corrupt data  \n",
      "1  Corrupt data  \n",
      "o3\n"
     ]
    },
    {
     "name": "stderr",
     "output_type": "stream",
     "text": [
      "Check for corrupt data\n",
      "Check for missing data\n",
      "Check for corrupt data\n",
      "Check for data outside expected range\n",
      "Check for data outside expected range\n",
      "Check for corrupt data\n"
     ]
    },
    {
     "name": "stdout",
     "output_type": "stream",
     "text": [
      "  Variable Name          Start Time            End Time Timesteps  \\\n",
      "0           day 2017-12-30 22:00:00 2017-12-30 23:00:00         5   \n",
      "1           day 2017-12-30 22:00:00 2017-12-30 23:00:00         5   \n",
      "\n",
      "     Error Flag  \n",
      "0  Corrupt data  \n",
      "1  Corrupt data  \n",
      "תחנה:חבל יבנה\n",
      "o3\n"
     ]
    },
    {
     "name": "stderr",
     "output_type": "stream",
     "text": [
      "Check for corrupt data\n",
      "Check for missing data\n",
      "Check for corrupt data\n",
      "Check for data outside expected range\n",
      "Check for data outside expected range\n",
      "Check for corrupt data\n"
     ]
    },
    {
     "name": "stdout",
     "output_type": "stream",
     "text": [
      "  Variable Name          Start Time            End Time Timesteps  \\\n",
      "0           day 2017-12-30 23:00:00 2017-12-30 23:00:00         2   \n",
      "1           day 2017-12-30 23:00:00 2017-12-30 23:00:00         2   \n",
      "\n",
      "     Error Flag  \n",
      "0  Corrupt data  \n",
      "1  Corrupt data  \n",
      "so2\n"
     ]
    },
    {
     "name": "stderr",
     "output_type": "stream",
     "text": [
      "Check for corrupt data\n",
      "Check for missing data\n",
      "Check for corrupt data\n",
      "Check for data outside expected range\n",
      "Check for data outside expected range\n",
      "Check for corrupt data\n"
     ]
    },
    {
     "name": "stdout",
     "output_type": "stream",
     "text": [
      "  Variable Name          Start Time            End Time Timesteps  \\\n",
      "0         value 2017-12-31 01:00:00 2017-12-31 01:00:00         2   \n",
      "\n",
      "              Error Flag  \n",
      "0  Data < lower bound, 0  \n",
      "תחנה:לוט\n",
      "so2\n"
     ]
    },
    {
     "name": "stderr",
     "output_type": "stream",
     "text": [
      "Check for corrupt data\n"
     ]
    },
    {
     "name": "stdout",
     "output_type": "stream",
     "text": [
      "  Variable Name          Start Time            End Time Timesteps  \\\n",
      "0           day 2017-12-30 23:00:00 2017-12-30 23:00:00         2   \n",
      "\n",
      "     Error Flag  \n",
      "0  Corrupt data  \n",
      "o3\n"
     ]
    },
    {
     "name": "stderr",
     "output_type": "stream",
     "text": [
      "Check for missing data\n",
      "Check for corrupt data\n",
      "Check for data outside expected range\n",
      "Check for data outside expected range\n",
      "Check for corrupt data\n",
      "Check for corrupt data\n",
      "Check for missing data\n",
      "Check for corrupt data\n",
      "Check for data outside expected range\n",
      "Check for data outside expected range\n",
      "Check for corrupt data\n"
     ]
    },
    {
     "name": "stdout",
     "output_type": "stream",
     "text": [
      "  Variable Name          Start Time            End Time Timesteps  \\\n",
      "0           day 2017-12-30 22:00:00 2017-12-30 23:00:00         5   \n",
      "1           day 2017-12-30 22:00:00 2017-12-30 23:00:00         5   \n",
      "\n",
      "     Error Flag  \n",
      "0  Corrupt data  \n",
      "1  Corrupt data  \n",
      "תחנה:ניידת התחנה המרכזית בירושלים\n",
      "so2\n"
     ]
    },
    {
     "name": "stderr",
     "output_type": "stream",
     "text": [
      "Check for corrupt data\n",
      "Check for missing data\n",
      "Check for corrupt data\n",
      "Check for data outside expected range\n",
      "Check for data outside expected range\n",
      "Check for corrupt data\n"
     ]
    },
    {
     "name": "stdout",
     "output_type": "stream",
     "text": [
      "  Variable Name          Start Time            End Time Timesteps  \\\n",
      "0           day 2017-12-30 22:00:00 2017-12-30 23:00:00         3   \n",
      "1           day 2017-12-30 22:00:00 2017-12-30 23:00:00         3   \n",
      "\n",
      "     Error Flag  \n",
      "0  Corrupt data  \n",
      "1  Corrupt data  \n",
      "no2\n"
     ]
    },
    {
     "name": "stderr",
     "output_type": "stream",
     "text": [
      "Check for corrupt data\n",
      "Check for missing data\n",
      "Check for corrupt data\n",
      "Check for data outside expected range\n",
      "Check for data outside expected range\n",
      "Check for corrupt data\n"
     ]
    },
    {
     "name": "stdout",
     "output_type": "stream",
     "text": [
      "  Variable Name          Start Time            End Time Timesteps  \\\n",
      "0           day 2017-12-30 22:00:00 2017-12-30 23:00:00         4   \n",
      "1           day 2017-12-30 23:00:00 2017-12-30 23:00:00         3   \n",
      "2           day 2017-12-30 22:00:00 2017-12-30 23:00:00         4   \n",
      "3           day 2017-12-30 23:00:00 2017-12-30 23:00:00         3   \n",
      "\n",
      "     Error Flag  \n",
      "0  Corrupt data  \n",
      "1  Corrupt data  \n",
      "2  Corrupt data  \n",
      "3  Corrupt data  \n",
      "תחנה:רוממה\n",
      "no2\n"
     ]
    },
    {
     "name": "stderr",
     "output_type": "stream",
     "text": [
      "Check for corrupt data\n",
      "Check for missing data\n",
      "Check for corrupt data\n",
      "Check for data outside expected range\n",
      "Check for data outside expected range\n",
      "Check for corrupt data\n"
     ]
    },
    {
     "name": "stdout",
     "output_type": "stream",
     "text": [
      "  Variable Name          Start Time            End Time Timesteps  \\\n",
      "0           day 2017-12-30 22:00:00 2017-12-30 23:00:00         4   \n",
      "1           day 2017-12-30 22:00:00 2017-12-30 23:00:00         4   \n",
      "\n",
      "     Error Flag  \n",
      "0  Corrupt data  \n",
      "1  Corrupt data  \n",
      "תחנה:שפרינצק\n",
      "so2\n"
     ]
    },
    {
     "name": "stderr",
     "output_type": "stream",
     "text": [
      "Check for corrupt data\n",
      "Check for missing data\n",
      "Check for corrupt data\n",
      "Check for data outside expected range\n"
     ]
    },
    {
     "name": "stdout",
     "output_type": "stream",
     "text": [
      "  Variable Name          Start Time            End Time Timesteps  \\\n",
      "0         value 2017-12-30 23:00:00 2017-12-30 23:00:00         1   \n",
      "1         value 2017-12-30 23:00:00 2017-12-30 23:00:00         1   \n",
      "2           day 2017-12-30 22:00:00 2017-12-30 23:00:00         5   \n",
      "3           day 2017-12-30 22:00:00 2017-12-30 23:00:00         7   \n",
      "4           day 2017-12-30 22:00:00 2017-12-30 23:00:00         5   \n",
      "5           day 2017-12-30 22:00:00 2017-12-30 23:00:00         7   \n",
      "\n",
      "              Error Flag  \n",
      "0  Data < lower bound, 0  \n",
      "1  Data < lower bound, 0  \n",
      "2           Corrupt data  \n",
      "3           Corrupt data  \n",
      "4           Corrupt data  \n",
      "5           Corrupt data  \n",
      "no2\n"
     ]
    },
    {
     "name": "stderr",
     "output_type": "stream",
     "text": [
      "Check for data outside expected range\n",
      "Check for corrupt data\n",
      "Check for corrupt data\n",
      "Check for missing data\n",
      "Check for corrupt data\n",
      "Check for data outside expected range\n",
      "Check for data outside expected range\n",
      "Check for corrupt data\n"
     ]
    },
    {
     "name": "stdout",
     "output_type": "stream",
     "text": [
      "   Variable Name          Start Time            End Time Timesteps  \\\n",
      "0          value 2017-12-30 22:00:00 2017-12-31 02:00:00        18   \n",
      "1          value 2017-12-31 03:00:00 2017-12-31 03:00:00         2   \n",
      "2          value 2017-12-31 11:00:00 2017-12-31 14:00:00        14   \n",
      "3          value 2017-12-31 20:00:00 2017-12-31 20:00:00         3   \n",
      "4          value 2017-12-30 22:00:00 2017-12-31 02:00:00        18   \n",
      "5          value 2017-12-31 03:00:00 2017-12-31 03:00:00         2   \n",
      "6          value 2017-12-31 11:00:00 2017-12-31 14:00:00        14   \n",
      "7          value 2017-12-31 20:00:00 2017-12-31 20:00:00         3   \n",
      "8            day 2017-12-30 22:00:00 2017-12-30 23:00:00         6   \n",
      "9            day 2017-12-30 22:00:00 2017-12-30 23:00:00         7   \n",
      "10           day 2017-12-30 22:00:00 2017-12-30 23:00:00         6   \n",
      "11           day 2017-12-30 22:00:00 2017-12-30 23:00:00         7   \n",
      "\n",
      "               Error Flag  \n",
      "0   Data < lower bound, 0  \n",
      "1   Data < lower bound, 0  \n",
      "2   Data < lower bound, 0  \n",
      "3   Data < lower bound, 0  \n",
      "4   Data < lower bound, 0  \n",
      "5   Data < lower bound, 0  \n",
      "6   Data < lower bound, 0  \n",
      "7   Data < lower bound, 0  \n",
      "8            Corrupt data  \n",
      "9            Corrupt data  \n",
      "10           Corrupt data  \n",
      "11           Corrupt data  \n",
      "o3\n"
     ]
    },
    {
     "name": "stderr",
     "output_type": "stream",
     "text": [
      "Check for corrupt data\n",
      "Check for missing data\n",
      "Check for corrupt data\n",
      "Check for data outside expected range\n",
      "Check for data outside expected range\n",
      "Check for corrupt data\n"
     ]
    },
    {
     "name": "stdout",
     "output_type": "stream",
     "text": [
      "  Variable Name          Start Time            End Time Timesteps  \\\n",
      "0           day 2017-12-30 22:00:00 2017-12-30 23:00:00         7   \n",
      "1           day 2017-12-30 22:00:00 2017-12-30 23:00:00         3   \n",
      "2           day 2017-12-30 22:00:00 2017-12-30 23:00:00         7   \n",
      "3           day 2017-12-30 22:00:00 2017-12-30 23:00:00         3   \n",
      "\n",
      "     Error Flag  \n",
      "0  Corrupt data  \n",
      "1  Corrupt data  \n",
      "2  Corrupt data  \n",
      "3  Corrupt data  \n",
      "תחנה:קרית חיים\n",
      "no2\n"
     ]
    },
    {
     "name": "stderr",
     "output_type": "stream",
     "text": [
      "Check for corrupt data\n",
      "Check for missing data\n",
      "Check for corrupt data\n",
      "Check for data outside expected range\n",
      "Check for data outside expected range\n",
      "Check for corrupt data\n"
     ]
    },
    {
     "name": "stdout",
     "output_type": "stream",
     "text": [
      "  Variable Name          Start Time            End Time Timesteps  \\\n",
      "0           day 2017-12-30 22:00:00 2017-12-30 23:00:00         2   \n",
      "1           day 2017-12-30 22:00:00 2017-12-30 23:00:00         2   \n",
      "\n",
      "     Error Flag  \n",
      "0  Corrupt data  \n",
      "1  Corrupt data  \n",
      "o3\n"
     ]
    },
    {
     "name": "stderr",
     "output_type": "stream",
     "text": [
      "Check for corrupt data\n",
      "Check for missing data\n",
      "Check for corrupt data\n",
      "Check for data outside expected range\n",
      "Check for data outside expected range\n",
      "Check for corrupt data\n"
     ]
    },
    {
     "name": "stdout",
     "output_type": "stream",
     "text": [
      "  Variable Name          Start Time            End Time Timesteps  \\\n",
      "0           day 2017-12-30 22:00:00 2017-12-30 23:00:00         6   \n",
      "\n",
      "     Error Flag  \n",
      "0  Corrupt data  \n",
      "so2\n"
     ]
    },
    {
     "name": "stderr",
     "output_type": "stream",
     "text": [
      "Check for corrupt data\n",
      "Check for missing data\n",
      "Check for corrupt data\n",
      "Check for data outside expected range\n",
      "Check for data outside expected range\n",
      "Check for corrupt data\n"
     ]
    },
    {
     "name": "stdout",
     "output_type": "stream",
     "text": [
      "  Variable Name          Start Time            End Time Timesteps  \\\n",
      "0           day 2017-12-30 22:00:00 2017-12-30 23:00:00         6   \n",
      "\n",
      "     Error Flag  \n",
      "0  Corrupt data  \n",
      "תחנה:ק.אתא\n",
      "no2\n"
     ]
    },
    {
     "name": "stderr",
     "output_type": "stream",
     "text": [
      "Check for corrupt data\n",
      "Check for missing data\n",
      "Check for corrupt data\n",
      "Check for data outside expected range\n",
      "Check for data outside expected range\n",
      "Check for corrupt data\n",
      "Check for corrupt data\n"
     ]
    },
    {
     "name": "stdout",
     "output_type": "stream",
     "text": [
      "  Variable Name          Start Time            End Time Timesteps  \\\n",
      "0           day 2017-12-30 22:00:00 2017-12-30 23:00:00         7   \n",
      "1           day 2017-12-30 22:00:00 2017-12-30 23:00:00         3   \n",
      "2           day 2017-12-30 22:00:00 2017-12-30 23:00:00         3   \n",
      "3           day 2017-12-30 23:00:00 2017-12-30 23:00:00         1   \n",
      "4           day 2017-12-30 22:00:00 2017-12-30 23:00:00         7   \n",
      "5           day 2017-12-30 22:00:00 2017-12-30 23:00:00         3   \n",
      "6           day 2017-12-30 22:00:00 2017-12-30 23:00:00         3   \n",
      "7           day 2017-12-30 23:00:00 2017-12-30 23:00:00         1   \n",
      "\n",
      "     Error Flag  \n",
      "0  Corrupt data  \n",
      "1  Corrupt data  \n",
      "2  Corrupt data  \n",
      "3  Corrupt data  \n",
      "4  Corrupt data  \n",
      "5  Corrupt data  \n",
      "6  Corrupt data  \n",
      "7  Corrupt data  \n",
      "co\n"
     ]
    },
    {
     "name": "stderr",
     "output_type": "stream",
     "text": [
      "Check for missing data\n",
      "Check for corrupt data\n",
      "Check for data outside expected range\n",
      "Check for data outside expected range\n",
      "Check for corrupt data\n"
     ]
    },
    {
     "name": "stdout",
     "output_type": "stream",
     "text": [
      "  Variable Name          Start Time            End Time Timesteps  \\\n",
      "0           day 2017-12-30 22:00:00 2017-12-30 23:00:00         7   \n",
      "1           day 2017-12-30 22:00:00 2017-12-30 23:00:00         7   \n",
      "\n",
      "     Error Flag  \n",
      "0  Corrupt data  \n",
      "1  Corrupt data  \n",
      "so2\n"
     ]
    },
    {
     "name": "stderr",
     "output_type": "stream",
     "text": [
      "Check for corrupt data\n",
      "Check for missing data\n",
      "Check for corrupt data\n",
      "Check for data outside expected range\n",
      "Check for data outside expected range\n",
      "Check for corrupt data\n"
     ]
    },
    {
     "name": "stdout",
     "output_type": "stream",
     "text": [
      "   Variable Name          Start Time            End Time Timesteps  \\\n",
      "0          value 2017-12-31 20:00:00 2017-12-31 20:00:00         1   \n",
      "1          value 2017-12-31 21:00:00 2017-12-31 22:00:00         2   \n",
      "2          value 2017-12-31 20:00:00 2017-12-31 20:00:00         1   \n",
      "3          value 2017-12-31 21:00:00 2017-12-31 22:00:00         2   \n",
      "4          value 2017-12-31 20:00:00 2017-12-31 20:00:00         1   \n",
      "5          value 2017-12-31 21:00:00 2017-12-31 22:00:00         2   \n",
      "6          value 2017-12-31 20:00:00 2017-12-31 20:00:00         1   \n",
      "7          value 2017-12-31 21:00:00 2017-12-31 22:00:00         2   \n",
      "8          value 2017-12-31 20:00:00 2017-12-31 20:00:00         1   \n",
      "9          value 2017-12-31 21:00:00 2017-12-31 22:00:00         2   \n",
      "10         value 2017-12-31 20:00:00 2017-12-31 20:00:00         1   \n",
      "11         value 2017-12-31 21:00:00 2017-12-31 22:00:00         2   \n",
      "12           day 2017-12-30 22:00:00 2017-12-30 23:00:00         2   \n",
      "13           day 2017-12-30 22:00:00 2017-12-30 23:00:00         2   \n",
      "14           day 2017-12-30 22:00:00 2017-12-30 23:00:00         2   \n",
      "15           day 2017-12-30 22:00:00 2017-12-30 23:00:00         2   \n",
      "16           day 2017-12-30 22:00:00 2017-12-30 23:00:00         2   \n",
      "17           day 2017-12-30 22:00:00 2017-12-30 23:00:00         2   \n",
      "\n",
      "               Error Flag  \n",
      "0   Data < lower bound, 0  \n",
      "1   Data < lower bound, 0  \n",
      "2   Data < lower bound, 0  \n",
      "3   Data < lower bound, 0  \n",
      "4   Data < lower bound, 0  \n",
      "5   Data < lower bound, 0  \n",
      "6   Data < lower bound, 0  \n",
      "7   Data < lower bound, 0  \n",
      "8   Data < lower bound, 0  \n",
      "9   Data < lower bound, 0  \n",
      "10  Data < lower bound, 0  \n",
      "11  Data < lower bound, 0  \n",
      "12           Corrupt data  \n",
      "13           Corrupt data  \n",
      "14           Corrupt data  \n",
      "15           Corrupt data  \n",
      "16           Corrupt data  \n",
      "17           Corrupt data  \n",
      "תחנה:כביש 1\n",
      "so2\n"
     ]
    },
    {
     "name": "stderr",
     "output_type": "stream",
     "text": [
      "Check for corrupt data\n",
      "Check for missing data\n",
      "Check for corrupt data\n",
      "Check for data outside expected range\n"
     ]
    },
    {
     "name": "stdout",
     "output_type": "stream",
     "text": [
      "  Variable Name          Start Time            End Time Timesteps  \\\n",
      "0           day 2017-12-30 23:00:00 2017-12-30 23:00:00         5   \n",
      "1           day 2017-12-30 23:00:00 2017-12-30 23:00:00         5   \n",
      "\n",
      "     Error Flag  \n",
      "0  Corrupt data  \n",
      "1  Corrupt data  \n",
      "תחנה:אור יהודה\n",
      "so2\n"
     ]
    },
    {
     "name": "stderr",
     "output_type": "stream",
     "text": [
      "Check for data outside expected range\n",
      "Check for corrupt data\n",
      "Check for corrupt data\n",
      "Check for missing data\n",
      "Check for corrupt data\n",
      "Check for data outside expected range\n",
      "Check for data outside expected range\n",
      "Check for corrupt data\n",
      "Check for corrupt data\n"
     ]
    },
    {
     "name": "stdout",
     "output_type": "stream",
     "text": [
      "   Variable Name          Start Time            End Time Timesteps  \\\n",
      "0          value 2017-12-30 22:00:00 2017-12-30 22:00:00         2   \n",
      "1          value 2017-12-30 23:00:00 2017-12-30 23:00:00         1   \n",
      "2          value 2017-12-30 23:00:00 2017-12-30 23:00:00         1   \n",
      "3          value 2017-12-31 00:00:00 2017-12-31 00:00:00         1   \n",
      "4          value 2017-12-31 02:00:00 2017-12-31 02:00:00         2   \n",
      "5          value 2017-12-31 03:00:00 2017-12-31 04:00:00         6   \n",
      "6          value 2017-12-31 18:00:00 2017-12-31 19:00:00         8   \n",
      "7          value 2017-12-31 20:00:00 2017-12-30 22:00:00        10   \n",
      "8          value 2017-12-30 23:00:00 2017-12-30 23:00:00         1   \n",
      "9          value 2017-12-30 23:00:00 2017-12-30 23:00:00         1   \n",
      "10         value 2017-12-31 00:00:00 2017-12-31 00:00:00         1   \n",
      "11         value 2017-12-31 02:00:00 2017-12-31 02:00:00         2   \n",
      "12         value 2017-12-31 03:00:00 2017-12-31 04:00:00         6   \n",
      "13         value 2017-12-31 18:00:00 2017-12-31 19:00:00         8   \n",
      "14         value 2017-12-31 20:00:00 2017-12-31 22:00:00         8   \n",
      "15           day 2017-12-30 22:00:00 2017-12-30 23:00:00         7   \n",
      "16           day 2017-12-30 22:00:00 2017-12-30 23:00:00         7   \n",
      "\n",
      "               Error Flag  \n",
      "0   Data < lower bound, 0  \n",
      "1   Data < lower bound, 0  \n",
      "2   Data < lower bound, 0  \n",
      "3   Data < lower bound, 0  \n",
      "4   Data < lower bound, 0  \n",
      "5   Data < lower bound, 0  \n",
      "6   Data < lower bound, 0  \n",
      "7   Data < lower bound, 0  \n",
      "8   Data < lower bound, 0  \n",
      "9   Data < lower bound, 0  \n",
      "10  Data < lower bound, 0  \n",
      "11  Data < lower bound, 0  \n",
      "12  Data < lower bound, 0  \n",
      "13  Data < lower bound, 0  \n",
      "14  Data < lower bound, 0  \n",
      "15           Corrupt data  \n",
      "16           Corrupt data  \n",
      "no2\n"
     ]
    },
    {
     "name": "stderr",
     "output_type": "stream",
     "text": [
      "Check for missing data\n",
      "Check for corrupt data\n",
      "Check for data outside expected range\n",
      "Check for data outside expected range\n",
      "Check for corrupt data\n"
     ]
    },
    {
     "name": "stdout",
     "output_type": "stream",
     "text": [
      "Empty DataFrame\n",
      "Columns: [Variable Name, Start Time, End Time, Timesteps, Error Flag]\n",
      "Index: []\n",
      "תחנה:קציר החדשה\n",
      "so2\n"
     ]
    },
    {
     "name": "stderr",
     "output_type": "stream",
     "text": [
      "Check for corrupt data\n",
      "Check for missing data\n",
      "Check for corrupt data\n",
      "Check for data outside expected range\n",
      "Check for data outside expected range\n",
      "Check for corrupt data\n"
     ]
    },
    {
     "name": "stdout",
     "output_type": "stream",
     "text": [
      "  Variable Name          Start Time            End Time Timesteps  \\\n",
      "0           day 2017-12-30 22:00:00 2017-12-30 23:00:00         3   \n",
      "1           day 2017-12-30 22:00:00 2017-12-30 23:00:00         3   \n",
      "\n",
      "     Error Flag  \n",
      "0  Corrupt data  \n",
      "1  Corrupt data  \n",
      "תחנה:אילת 6\n",
      "no2\n"
     ]
    },
    {
     "name": "stderr",
     "output_type": "stream",
     "text": [
      "Check for corrupt data\n",
      "Check for missing data\n",
      "Check for corrupt data\n",
      "Check for data outside expected range\n",
      "Check for data outside expected range\n",
      "Check for corrupt data\n"
     ]
    },
    {
     "name": "stdout",
     "output_type": "stream",
     "text": [
      "  Variable Name          Start Time            End Time Timesteps  \\\n",
      "0           day 2017-12-30 22:00:00 2017-12-30 23:00:00         7   \n",
      "1           day 2017-12-30 22:00:00 2017-12-30 23:00:00         7   \n",
      "\n",
      "     Error Flag  \n",
      "0  Corrupt data  \n",
      "1  Corrupt data  \n",
      "תחנה:ראשון לציון\n",
      "so2\n"
     ]
    },
    {
     "name": "stderr",
     "output_type": "stream",
     "text": [
      "Check for corrupt data\n",
      "Check for missing data\n",
      "Check for corrupt data\n",
      "Check for data outside expected range\n",
      "Check for data outside expected range\n",
      "Check for corrupt data\n"
     ]
    },
    {
     "name": "stdout",
     "output_type": "stream",
     "text": [
      "  Variable Name          Start Time            End Time Timesteps  \\\n",
      "0           day 2017-12-30 22:00:00 2017-12-30 23:00:00         7   \n",
      "1           day 2017-12-30 22:00:00 2017-12-30 23:00:00         7   \n",
      "\n",
      "     Error Flag  \n",
      "0  Corrupt data  \n",
      "1  Corrupt data  \n",
      "no2\n"
     ]
    },
    {
     "name": "stderr",
     "output_type": "stream",
     "text": [
      "Check for corrupt data\n",
      "Check for missing data\n",
      "Check for corrupt data\n",
      "Check for data outside expected range\n",
      "Check for data outside expected range\n",
      "Check for corrupt data\n",
      "Check for corrupt data\n"
     ]
    },
    {
     "name": "stdout",
     "output_type": "stream",
     "text": [
      "  Variable Name          Start Time            End Time Timesteps  \\\n",
      "0         value 2017-12-30 22:00:00 2017-12-31 02:00:00        18   \n",
      "1         value 2017-12-31 03:00:00 2017-12-31 03:00:00         2   \n",
      "2         value 2017-12-31 11:00:00 2017-12-31 14:00:00        14   \n",
      "3         value 2017-12-31 20:00:00 2017-12-31 20:00:00         3   \n",
      "4         value 2017-12-30 22:00:00 2017-12-31 02:00:00        18   \n",
      "5         value 2017-12-31 03:00:00 2017-12-31 03:00:00         2   \n",
      "6         value 2017-12-31 11:00:00 2017-12-31 14:00:00        14   \n",
      "7         value 2017-12-31 20:00:00 2017-12-31 20:00:00         3   \n",
      "8           day 2017-12-30 22:00:00 2017-12-30 23:00:00         7   \n",
      "9           day 2017-12-30 22:00:00 2017-12-30 23:00:00         7   \n",
      "\n",
      "              Error Flag  \n",
      "0  Data < lower bound, 0  \n",
      "1  Data < lower bound, 0  \n",
      "2  Data < lower bound, 0  \n",
      "3  Data < lower bound, 0  \n",
      "4  Data < lower bound, 0  \n",
      "5  Data < lower bound, 0  \n",
      "6  Data < lower bound, 0  \n",
      "7  Data < lower bound, 0  \n",
      "8           Corrupt data  \n",
      "9           Corrupt data  \n",
      "תחנה:כ.מהרל\n",
      "so2\n"
     ]
    },
    {
     "name": "stderr",
     "output_type": "stream",
     "text": [
      "Check for missing data\n",
      "Check for corrupt data\n",
      "Check for data outside expected range\n",
      "Check for data outside expected range\n",
      "Check for corrupt data\n",
      "Check for corrupt data\n"
     ]
    },
    {
     "name": "stdout",
     "output_type": "stream",
     "text": [
      "Empty DataFrame\n",
      "Columns: [Variable Name, Start Time, End Time, Timesteps, Error Flag]\n",
      "Index: []\n",
      "no2\n"
     ]
    },
    {
     "name": "stderr",
     "output_type": "stream",
     "text": [
      "Check for missing data\n",
      "Check for corrupt data\n",
      "Check for data outside expected range\n",
      "Check for data outside expected range\n",
      "Check for corrupt data\n",
      "Check for corrupt data\n"
     ]
    },
    {
     "name": "stdout",
     "output_type": "stream",
     "text": [
      "Empty DataFrame\n",
      "Columns: [Variable Name, Start Time, End Time, Timesteps, Error Flag]\n",
      "Index: []\n",
      "תחנה:דליה\n",
      "so2\n"
     ]
    },
    {
     "name": "stderr",
     "output_type": "stream",
     "text": [
      "Check for missing data\n",
      "Check for corrupt data\n",
      "Check for data outside expected range\n",
      "Check for data outside expected range\n",
      "Check for corrupt data\n"
     ]
    },
    {
     "name": "stdout",
     "output_type": "stream",
     "text": [
      "  Variable Name          Start Time            End Time Timesteps  \\\n",
      "0           day 2017-12-30 23:00:00 2017-12-30 23:00:00         4   \n",
      "1           day 2017-12-30 22:00:00 2017-12-30 23:00:00         7   \n",
      "2           day 2017-12-30 23:00:00 2017-12-30 23:00:00         4   \n",
      "3           day 2017-12-30 22:00:00 2017-12-30 23:00:00         7   \n",
      "\n",
      "     Error Flag  \n",
      "0  Corrupt data  \n",
      "1  Corrupt data  \n",
      "2  Corrupt data  \n",
      "3  Corrupt data  \n",
      "o3\n"
     ]
    },
    {
     "name": "stderr",
     "output_type": "stream",
     "text": [
      "Check for corrupt data\n",
      "Check for missing data\n",
      "Check for corrupt data\n",
      "Check for data outside expected range\n",
      "Check for data outside expected range\n",
      "Check for corrupt data\n",
      "Check for corrupt data\n"
     ]
    },
    {
     "name": "stdout",
     "output_type": "stream",
     "text": [
      "  Variable Name          Start Time            End Time Timesteps  \\\n",
      "0           day 2017-12-30 23:00:00 2017-12-30 23:00:00         4   \n",
      "1           day 2017-12-30 22:00:00 2017-12-30 23:00:00         5   \n",
      "2           day 2017-12-30 23:00:00 2017-12-30 23:00:00         4   \n",
      "3           day 2017-12-30 22:00:00 2017-12-30 23:00:00         5   \n",
      "\n",
      "     Error Flag  \n",
      "0  Corrupt data  \n",
      "1  Corrupt data  \n",
      "2  Corrupt data  \n",
      "3  Corrupt data  \n",
      "no2\n"
     ]
    },
    {
     "name": "stderr",
     "output_type": "stream",
     "text": [
      "Check for missing data\n",
      "Check for corrupt data\n",
      "Check for data outside expected range\n",
      "Check for data outside expected range\n",
      "Check for corrupt data\n"
     ]
    },
    {
     "name": "stdout",
     "output_type": "stream",
     "text": [
      "  Variable Name          Start Time            End Time Timesteps  \\\n",
      "0           day 2017-12-30 23:00:00 2017-12-30 23:00:00         4   \n",
      "1           day 2017-12-30 22:00:00 2017-12-30 23:00:00         5   \n",
      "2           day 2017-12-30 23:00:00 2017-12-30 23:00:00         4   \n",
      "3           day 2017-12-30 22:00:00 2017-12-30 23:00:00         5   \n",
      "\n",
      "     Error Flag  \n",
      "0  Corrupt data  \n",
      "1  Corrupt data  \n",
      "2  Corrupt data  \n",
      "3  Corrupt data  \n",
      "תחנה:ק.טבעון\n",
      "so2\n"
     ]
    },
    {
     "name": "stderr",
     "output_type": "stream",
     "text": [
      "Check for corrupt data\n",
      "Check for missing data\n",
      "Check for corrupt data\n",
      "Check for data outside expected range\n",
      "Check for data outside expected range\n",
      "Check for corrupt data\n"
     ]
    },
    {
     "name": "stdout",
     "output_type": "stream",
     "text": [
      "  Variable Name          Start Time            End Time Timesteps  \\\n",
      "0           day 2017-12-30 22:00:00 2017-12-30 22:00:00         1   \n",
      "1           day 2017-12-30 22:00:00 2017-12-30 22:00:00         1   \n",
      "\n",
      "     Error Flag  \n",
      "0  Corrupt data  \n",
      "1  Corrupt data  \n",
      "תחנה:שדרות\n",
      "so2\n"
     ]
    },
    {
     "name": "stderr",
     "output_type": "stream",
     "text": [
      "Check for corrupt data\n",
      "Check for missing data\n",
      "Check for corrupt data\n",
      "Check for data outside expected range\n",
      "Check for data outside expected range\n",
      "Check for corrupt data\n"
     ]
    },
    {
     "name": "stdout",
     "output_type": "stream",
     "text": [
      "  Variable Name          Start Time            End Time Timesteps  \\\n",
      "0           day 2017-12-30 22:00:00 2017-12-30 23:00:00         3   \n",
      "1           day 2017-12-30 22:00:00 2017-12-30 23:00:00         3   \n",
      "\n",
      "     Error Flag  \n",
      "0  Corrupt data  \n",
      "1  Corrupt data  \n",
      "o3\n"
     ]
    },
    {
     "name": "stderr",
     "output_type": "stream",
     "text": [
      "Check for corrupt data\n",
      "Check for missing data\n",
      "Check for corrupt data\n",
      "Check for data outside expected range\n",
      "Check for data outside expected range\n",
      "Check for corrupt data\n"
     ]
    },
    {
     "name": "stdout",
     "output_type": "stream",
     "text": [
      "  Variable Name          Start Time            End Time Timesteps  \\\n",
      "0           day 2017-12-30 22:00:00 2017-12-30 23:00:00         5   \n",
      "1           day 2017-12-30 22:00:00 2017-12-30 23:00:00         5   \n",
      "\n",
      "     Error Flag  \n",
      "0  Corrupt data  \n",
      "1  Corrupt data  \n",
      "תחנה:עפולה\n",
      "no2\n"
     ]
    },
    {
     "name": "stderr",
     "output_type": "stream",
     "text": [
      "Check for corrupt data\n",
      "Check for missing data\n",
      "Check for corrupt data\n",
      "Check for data outside expected range\n",
      "Check for data outside expected range\n",
      "Check for corrupt data\n"
     ]
    },
    {
     "name": "stdout",
     "output_type": "stream",
     "text": [
      "Empty DataFrame\n",
      "Columns: [Variable Name, Start Time, End Time, Timesteps, Error Flag]\n",
      "Index: []\n",
      "תחנה:פ.חנה\n",
      "so2\n"
     ]
    },
    {
     "name": "stderr",
     "output_type": "stream",
     "text": [
      "Check for corrupt data\n",
      "Check for missing data\n",
      "Check for corrupt data\n",
      "Check for data outside expected range\n",
      "Check for data outside expected range\n",
      "Check for corrupt data\n"
     ]
    },
    {
     "name": "stdout",
     "output_type": "stream",
     "text": [
      "Empty DataFrame\n",
      "Columns: [Variable Name, Start Time, End Time, Timesteps, Error Flag]\n",
      "Index: []\n",
      "תחנה:שפיה\n",
      "o3\n"
     ]
    },
    {
     "name": "stderr",
     "output_type": "stream",
     "text": [
      "Check for corrupt data\n",
      "Check for missing data\n",
      "Check for corrupt data\n",
      "Check for data outside expected range\n",
      "Check for data outside expected range\n",
      "Check for corrupt data\n"
     ]
    },
    {
     "name": "stdout",
     "output_type": "stream",
     "text": [
      "  Variable Name          Start Time            End Time Timesteps  \\\n",
      "0           day 2017-12-30 22:00:00 2017-12-30 23:00:00         7   \n",
      "1           day 2017-12-30 22:00:00 2017-12-30 23:00:00         7   \n",
      "\n",
      "     Error Flag  \n",
      "0  Corrupt data  \n",
      "1  Corrupt data  \n",
      "so2\n"
     ]
    },
    {
     "name": "stderr",
     "output_type": "stream",
     "text": [
      "Check for corrupt data\n",
      "Check for missing data\n",
      "Check for corrupt data\n",
      "Check for data outside expected range\n",
      "Check for data outside expected range\n",
      "Check for corrupt data\n"
     ]
    },
    {
     "name": "stdout",
     "output_type": "stream",
     "text": [
      "  Variable Name          Start Time            End Time Timesteps  \\\n",
      "0         value 2017-12-31 18:00:00 2017-12-31 18:00:00         1   \n",
      "1         value 2017-12-31 18:00:00 2017-12-31 18:00:00         1   \n",
      "2           day 2017-12-30 22:00:00 2017-12-30 23:00:00         4   \n",
      "3           day 2017-12-30 22:00:00 2017-12-30 23:00:00         4   \n",
      "\n",
      "              Error Flag  \n",
      "0  Data < lower bound, 0  \n",
      "1  Data < lower bound, 0  \n",
      "2           Corrupt data  \n",
      "3           Corrupt data  \n",
      "תחנה:קריית גת\n",
      "so2\n"
     ]
    },
    {
     "name": "stderr",
     "output_type": "stream",
     "text": [
      "Check for corrupt data\n",
      "Check for missing data\n",
      "Check for corrupt data\n",
      "Check for data outside expected range\n",
      "Check for data outside expected range\n",
      "Check for corrupt data\n"
     ]
    },
    {
     "name": "stdout",
     "output_type": "stream",
     "text": [
      "Empty DataFrame\n",
      "Columns: [Variable Name, Start Time, End Time, Timesteps, Error Flag]\n",
      "Index: []\n",
      "תחנה:אילת גולדווטר\n",
      "so2\n"
     ]
    },
    {
     "name": "stderr",
     "output_type": "stream",
     "text": [
      "Check for corrupt data\n",
      "Check for missing data\n",
      "Check for corrupt data\n",
      "Check for data outside expected range\n",
      "Check for data outside expected range\n",
      "Check for corrupt data\n"
     ]
    },
    {
     "name": "stdout",
     "output_type": "stream",
     "text": [
      "  Variable Name          Start Time            End Time Timesteps  \\\n",
      "0         value 2017-12-31 22:00:00 2017-12-31 22:00:00         1   \n",
      "1         value 2017-12-31 22:00:00 2017-12-31 22:00:00         1   \n",
      "2           day 2017-12-30 23:00:00 2017-12-30 23:00:00         2   \n",
      "3           day 2017-12-30 23:00:00 2017-12-30 23:00:00         2   \n",
      "\n",
      "              Error Flag  \n",
      "0  Data < lower bound, 0  \n",
      "1  Data < lower bound, 0  \n",
      "2           Corrupt data  \n",
      "3           Corrupt data  \n",
      "תחנה:עצמאות חיפה\n",
      "no2\n"
     ]
    },
    {
     "name": "stderr",
     "output_type": "stream",
     "text": [
      "Check for corrupt data\n",
      "Check for missing data\n",
      "Check for corrupt data\n",
      "Check for data outside expected range\n",
      "Check for data outside expected range\n",
      "Check for corrupt data\n",
      "Check for corrupt data\n"
     ]
    },
    {
     "name": "stdout",
     "output_type": "stream",
     "text": [
      "  Variable Name          Start Time            End Time Timesteps  \\\n",
      "0           day 2017-12-30 22:00:00 2017-12-30 23:00:00         7   \n",
      "1           day 2017-12-30 22:00:00 2017-12-30 23:00:00         7   \n",
      "\n",
      "     Error Flag  \n",
      "0  Corrupt data  \n",
      "1  Corrupt data  \n",
      "co\n"
     ]
    },
    {
     "name": "stderr",
     "output_type": "stream",
     "text": [
      "Check for missing data\n",
      "Check for corrupt data\n",
      "Check for data outside expected range\n",
      "Check for data outside expected range\n",
      "Check for corrupt data\n"
     ]
    },
    {
     "name": "stdout",
     "output_type": "stream",
     "text": [
      "  Variable Name          Start Time            End Time Timesteps  \\\n",
      "0           day 2017-12-30 22:00:00 2017-12-30 23:00:00         7   \n",
      "1           day 2017-12-30 22:00:00 2017-12-30 23:00:00         7   \n",
      "\n",
      "     Error Flag  \n",
      "0  Corrupt data  \n",
      "1  Corrupt data  \n",
      "תחנה:ג.עדה\n",
      "o3\n"
     ]
    },
    {
     "name": "stderr",
     "output_type": "stream",
     "text": [
      "Check for corrupt data\n",
      "Check for missing data\n",
      "Check for corrupt data\n",
      "Check for data outside expected range\n",
      "Check for data outside expected range\n",
      "Check for corrupt data\n",
      "Check for corrupt data\n"
     ]
    },
    {
     "name": "stdout",
     "output_type": "stream",
     "text": [
      "  Variable Name          Start Time            End Time Timesteps  \\\n",
      "0           day 2017-12-30 22:00:00 2017-12-30 23:00:00         3   \n",
      "1           day 2017-12-30 22:00:00 2017-12-30 23:00:00         3   \n",
      "\n",
      "     Error Flag  \n",
      "0  Corrupt data  \n",
      "1  Corrupt data  \n",
      "תחנה:ברטעה\n",
      "no2\n"
     ]
    },
    {
     "name": "stderr",
     "output_type": "stream",
     "text": [
      "Check for missing data\n",
      "Check for corrupt data\n",
      "Check for data outside expected range\n",
      "Check for data outside expected range\n",
      "Check for corrupt data\n"
     ]
    },
    {
     "name": "stdout",
     "output_type": "stream",
     "text": [
      "  Variable Name          Start Time            End Time Timesteps  \\\n",
      "0           day 2017-12-30 22:00:00 2017-12-30 23:00:00         7   \n",
      "1           day 2017-12-30 22:00:00 2017-12-30 23:00:00         7   \n",
      "\n",
      "     Error Flag  \n",
      "0  Corrupt data  \n",
      "1  Corrupt data  \n",
      "so2\n"
     ]
    },
    {
     "name": "stderr",
     "output_type": "stream",
     "text": [
      "Check for corrupt data\n",
      "Check for missing data\n",
      "Check for corrupt data\n",
      "Check for data outside expected range\n",
      "Check for data outside expected range\n",
      "Check for corrupt data\n"
     ]
    },
    {
     "name": "stdout",
     "output_type": "stream",
     "text": [
      "  Variable Name          Start Time            End Time Timesteps  \\\n",
      "0           day 2017-12-30 22:00:00 2017-12-30 23:00:00         6   \n",
      "\n",
      "     Error Flag  \n",
      "0  Corrupt data  \n",
      "תחנה:נוה יוסף\n",
      "no2\n"
     ]
    },
    {
     "name": "stderr",
     "output_type": "stream",
     "text": [
      "Check for corrupt data\n",
      "Check for missing data\n",
      "Check for corrupt data\n",
      "Check for data outside expected range\n",
      "Check for data outside expected range\n",
      "Check for corrupt data\n"
     ]
    },
    {
     "name": "stdout",
     "output_type": "stream",
     "text": [
      "Empty DataFrame\n",
      "Columns: [Variable Name, Start Time, End Time, Timesteps, Error Flag]\n",
      "Index: []\n",
      "so2\n"
     ]
    },
    {
     "name": "stderr",
     "output_type": "stream",
     "text": [
      "Check for corrupt data\n",
      "Check for missing data\n",
      "Check for corrupt data\n",
      "Check for data outside expected range\n",
      "Check for data outside expected range\n",
      "Check for corrupt data\n"
     ]
    },
    {
     "name": "stdout",
     "output_type": "stream",
     "text": [
      "  Variable Name          Start Time            End Time Timesteps  \\\n",
      "0         value 2017-12-31 01:00:00 2017-12-31 05:00:00        10   \n",
      "1         value 2017-12-31 17:00:00 2017-12-31 22:00:00        10   \n",
      "2         value 2017-12-31 01:00:00 2017-12-31 05:00:00        10   \n",
      "3         value 2017-12-31 17:00:00 2017-12-31 22:00:00        10   \n",
      "4           day 2017-12-30 22:00:00 2017-12-30 23:00:00         2   \n",
      "5           day 2017-12-30 22:00:00 2017-12-30 23:00:00         2   \n",
      "\n",
      "              Error Flag  \n",
      "0  Data < lower bound, 0  \n",
      "1  Data < lower bound, 0  \n",
      "2  Data < lower bound, 0  \n",
      "3  Data < lower bound, 0  \n",
      "4           Corrupt data  \n",
      "5           Corrupt data  \n",
      "תחנה:ניידת5\n",
      "no2\n"
     ]
    },
    {
     "name": "stderr",
     "output_type": "stream",
     "text": [
      "Check for corrupt data\n",
      "Check for missing data\n",
      "Check for corrupt data\n",
      "Check for data outside expected range\n",
      "Check for data outside expected range\n",
      "Check for corrupt data\n"
     ]
    },
    {
     "name": "stdout",
     "output_type": "stream",
     "text": [
      "  Variable Name          Start Time            End Time Timesteps  \\\n",
      "0           day 2017-12-30 22:00:00 2017-12-30 23:00:00         4   \n",
      "1           day 2017-12-30 22:00:00 2017-12-30 23:00:00         4   \n",
      "\n",
      "     Error Flag  \n",
      "0  Corrupt data  \n",
      "1  Corrupt data  \n",
      "תחנה:נגב מזרחי\n",
      "so2\n"
     ]
    },
    {
     "name": "stderr",
     "output_type": "stream",
     "text": [
      "Check for corrupt data\n",
      "Check for missing data\n",
      "Check for corrupt data\n",
      "Check for data outside expected range\n",
      "Check for data outside expected range\n",
      "Check for corrupt data\n"
     ]
    },
    {
     "name": "stdout",
     "output_type": "stream",
     "text": [
      "  Variable Name          Start Time            End Time Timesteps  \\\n",
      "0         value 2017-12-31 20:00:00 2017-12-31 20:00:00         1   \n",
      "1         value 2017-12-31 21:00:00 2017-12-31 22:00:00         2   \n",
      "2         value 2017-12-31 20:00:00 2017-12-31 20:00:00         1   \n",
      "3         value 2017-12-31 21:00:00 2017-12-31 22:00:00         2   \n",
      "4           day 2017-12-30 22:00:00 2017-12-30 23:00:00         2   \n",
      "5           day 2017-12-30 22:00:00 2017-12-30 23:00:00         2   \n",
      "\n",
      "              Error Flag  \n",
      "0  Data < lower bound, 0  \n",
      "1  Data < lower bound, 0  \n",
      "2  Data < lower bound, 0  \n",
      "3  Data < lower bound, 0  \n",
      "4           Corrupt data  \n",
      "5           Corrupt data  \n",
      "no2\n"
     ]
    },
    {
     "name": "stderr",
     "output_type": "stream",
     "text": [
      "Check for corrupt data\n",
      "Check for missing data\n",
      "Check for corrupt data\n",
      "Check for data outside expected range\n",
      "Check for data outside expected range\n",
      "Check for corrupt data\n"
     ]
    },
    {
     "name": "stdout",
     "output_type": "stream",
     "text": [
      "  Variable Name          Start Time            End Time Timesteps  \\\n",
      "0           day 2017-12-30 22:00:00 2017-12-30 23:00:00         3   \n",
      "1           day 2017-12-30 22:00:00 2017-12-30 23:00:00         3   \n",
      "\n",
      "     Error Flag  \n",
      "0  Corrupt data  \n",
      "1  Corrupt data  \n",
      "תחנה:רכבת ההגנה\n",
      "so2\n"
     ]
    },
    {
     "name": "stderr",
     "output_type": "stream",
     "text": [
      "Check for corrupt data\n",
      "Check for missing data\n",
      "Check for corrupt data\n",
      "Check for data outside expected range\n",
      "Check for data outside expected range\n",
      "Check for corrupt data\n"
     ]
    },
    {
     "name": "stdout",
     "output_type": "stream",
     "text": [
      "  Variable Name          Start Time            End Time Timesteps  \\\n",
      "0           day 2017-12-30 22:00:00 2017-12-30 23:00:00         4   \n",
      "1           day 2017-12-30 22:00:00 2017-12-30 23:00:00         4   \n",
      "\n",
      "     Error Flag  \n",
      "0  Corrupt data  \n",
      "1  Corrupt data  \n",
      "o3\n"
     ]
    },
    {
     "name": "stderr",
     "output_type": "stream",
     "text": [
      "Check for corrupt data\n",
      "Check for missing data\n",
      "Check for corrupt data\n",
      "Check for data outside expected range\n",
      "Check for data outside expected range\n",
      "Check for corrupt data\n"
     ]
    },
    {
     "name": "stdout",
     "output_type": "stream",
     "text": [
      "  Variable Name          Start Time            End Time Timesteps  \\\n",
      "0           day 2017-12-30 22:00:00 2017-12-30 23:00:00         4   \n",
      "1           day 2017-12-30 22:00:00 2017-12-30 23:00:00         4   \n",
      "\n",
      "     Error Flag  \n",
      "0  Corrupt data  \n",
      "1  Corrupt data  \n",
      "no2\n"
     ]
    },
    {
     "name": "stderr",
     "output_type": "stream",
     "text": [
      "Check for corrupt data\n",
      "Check for missing data\n",
      "Check for corrupt data\n",
      "Check for data outside expected range\n",
      "Check for data outside expected range\n",
      "Check for corrupt data\n"
     ]
    },
    {
     "name": "stdout",
     "output_type": "stream",
     "text": [
      "  Variable Name          Start Time            End Time Timesteps  \\\n",
      "0           day 2017-12-30 23:00:00 2017-12-30 23:00:00         1   \n",
      "1           day 2017-12-30 23:00:00 2017-12-30 23:00:00         1   \n",
      "\n",
      "     Error Flag  \n",
      "0  Corrupt data  \n",
      "1  Corrupt data  \n",
      "תחנה:אום אל קוטוף\n",
      "so2\n"
     ]
    },
    {
     "name": "stderr",
     "output_type": "stream",
     "text": [
      "Check for corrupt data\n",
      "Check for missing data\n",
      "Check for corrupt data\n",
      "Check for data outside expected range\n",
      "Check for data outside expected range\n",
      "Check for corrupt data\n"
     ]
    },
    {
     "name": "stdout",
     "output_type": "stream",
     "text": [
      "  Variable Name          Start Time            End Time Timesteps  \\\n",
      "0           day 2017-12-30 22:00:00 2017-12-30 23:00:00         4   \n",
      "1           day 2017-12-30 22:00:00 2017-12-30 23:00:00         4   \n",
      "\n",
      "     Error Flag  \n",
      "0  Corrupt data  \n",
      "1  Corrupt data  \n",
      "o3\n"
     ]
    },
    {
     "name": "stderr",
     "output_type": "stream",
     "text": [
      "Check for corrupt data\n",
      "Check for missing data\n",
      "Check for corrupt data\n",
      "Check for data outside expected range\n",
      "Check for data outside expected range\n",
      "Check for corrupt data\n"
     ]
    },
    {
     "name": "stdout",
     "output_type": "stream",
     "text": [
      "  Variable Name          Start Time            End Time Timesteps  \\\n",
      "0           day 2017-12-30 22:00:00 2017-12-30 23:00:00         4   \n",
      "1           day 2017-12-30 22:00:00 2017-12-30 23:00:00         4   \n",
      "\n",
      "     Error Flag  \n",
      "0  Corrupt data  \n",
      "1  Corrupt data  \n",
      "no2\n"
     ]
    },
    {
     "name": "stderr",
     "output_type": "stream",
     "text": [
      "Check for corrupt data\n",
      "Check for missing data\n",
      "Check for corrupt data\n",
      "Check for data outside expected range\n",
      "Check for data outside expected range\n",
      "Check for corrupt data\n"
     ]
    },
    {
     "name": "stdout",
     "output_type": "stream",
     "text": [
      "  Variable Name          Start Time            End Time Timesteps  \\\n",
      "0           day 2017-12-30 22:00:00 2017-12-30 23:00:00         4   \n",
      "1           day 2017-12-30 22:00:00 2017-12-30 23:00:00         4   \n",
      "\n",
      "     Error Flag  \n",
      "0  Corrupt data  \n",
      "1  Corrupt data  \n",
      "Collectorate - Gaya - BSPCB\n",
      "no2\n"
     ]
    },
    {
     "name": "stderr",
     "output_type": "stream",
     "text": [
      "Check for corrupt data\n",
      "Check for missing data\n",
      "Check for corrupt data\n",
      "Check for data outside expected range\n",
      "Check for data outside expected range\n",
      "Check for corrupt data\n"
     ]
    },
    {
     "name": "stdout",
     "output_type": "stream",
     "text": [
      "Empty DataFrame\n",
      "Columns: [Variable Name, Start Time, End Time, Timesteps, Error Flag]\n",
      "Index: []\n",
      "so2\n"
     ]
    },
    {
     "name": "stderr",
     "output_type": "stream",
     "text": [
      "Check for corrupt data\n",
      "Check for missing data\n",
      "Check for corrupt data\n",
      "Check for data outside expected range\n",
      "Check for data outside expected range\n",
      "Check for corrupt data\n"
     ]
    },
    {
     "name": "stdout",
     "output_type": "stream",
     "text": [
      "Empty DataFrame\n",
      "Columns: [Variable Name, Start Time, End Time, Timesteps, Error Flag]\n",
      "Index: []\n",
      "co\n"
     ]
    },
    {
     "name": "stderr",
     "output_type": "stream",
     "text": [
      "Check for corrupt data\n",
      "Check for missing data\n",
      "Check for corrupt data\n",
      "Check for data outside expected range\n",
      "Check for data outside expected range\n",
      "Check for corrupt data\n"
     ]
    },
    {
     "name": "stdout",
     "output_type": "stream",
     "text": [
      "Empty DataFrame\n",
      "Columns: [Variable Name, Start Time, End Time, Timesteps, Error Flag]\n",
      "Index: []\n",
      "o3\n"
     ]
    },
    {
     "name": "stderr",
     "output_type": "stream",
     "text": [
      "Check for corrupt data\n",
      "Check for missing data\n",
      "Check for corrupt data\n",
      "Check for data outside expected range\n",
      "Check for data outside expected range\n",
      "Check for corrupt data\n",
      "Check for corrupt data\n"
     ]
    },
    {
     "name": "stdout",
     "output_type": "stream",
     "text": [
      "Empty DataFrame\n",
      "Columns: [Variable Name, Start Time, End Time, Timesteps, Error Flag]\n",
      "Index: []\n",
      "pm25\n"
     ]
    },
    {
     "name": "stderr",
     "output_type": "stream",
     "text": [
      "Check for missing data\n",
      "Check for corrupt data\n",
      "Check for data outside expected range\n",
      "Check for data outside expected range\n",
      "Check for corrupt data\n"
     ]
    },
    {
     "name": "stdout",
     "output_type": "stream",
     "text": [
      "Empty DataFrame\n",
      "Columns: [Variable Name, Start Time, End Time, Timesteps, Error Flag]\n",
      "Index: []\n",
      "NSIT Dwarka, Delhi - CPCB\n",
      "no2\n"
     ]
    },
    {
     "name": "stderr",
     "output_type": "stream",
     "text": [
      "Check for corrupt data\n",
      "Check for missing data\n",
      "Check for corrupt data\n",
      "Check for data outside expected range\n",
      "Check for data outside expected range\n",
      "Check for corrupt data\n"
     ]
    },
    {
     "name": "stdout",
     "output_type": "stream",
     "text": [
      "Empty DataFrame\n",
      "Columns: [Variable Name, Start Time, End Time, Timesteps, Error Flag]\n",
      "Index: []\n",
      "so2\n"
     ]
    },
    {
     "name": "stderr",
     "output_type": "stream",
     "text": [
      "Check for corrupt data\n",
      "Check for missing data\n",
      "Check for corrupt data\n",
      "Check for data outside expected range\n",
      "Check for data outside expected range\n",
      "Check for corrupt data\n"
     ]
    },
    {
     "name": "stdout",
     "output_type": "stream",
     "text": [
      "Empty DataFrame\n",
      "Columns: [Variable Name, Start Time, End Time, Timesteps, Error Flag]\n",
      "Index: []\n",
      "co\n"
     ]
    },
    {
     "name": "stderr",
     "output_type": "stream",
     "text": [
      "Check for corrupt data\n",
      "Check for missing data\n",
      "Check for corrupt data\n",
      "Check for data outside expected range\n",
      "Check for data outside expected range\n",
      "Check for corrupt data\n",
      "Check for corrupt data\n"
     ]
    },
    {
     "name": "stdout",
     "output_type": "stream",
     "text": [
      "Empty DataFrame\n",
      "Columns: [Variable Name, Start Time, End Time, Timesteps, Error Flag]\n",
      "Index: []\n",
      "o3\n"
     ]
    },
    {
     "name": "stderr",
     "output_type": "stream",
     "text": [
      "Check for missing data\n",
      "Check for corrupt data\n",
      "Check for data outside expected range\n",
      "Check for data outside expected range\n",
      "Check for corrupt data\n"
     ]
    },
    {
     "name": "stdout",
     "output_type": "stream",
     "text": [
      "Empty DataFrame\n",
      "Columns: [Variable Name, Start Time, End Time, Timesteps, Error Flag]\n",
      "Index: []\n",
      "pm25\n"
     ]
    },
    {
     "name": "stderr",
     "output_type": "stream",
     "text": [
      "Check for corrupt data\n"
     ]
    },
    {
     "name": "stdout",
     "output_type": "stream",
     "text": [
      "Empty DataFrame\n",
      "Columns: [Variable Name, Start Time, End Time, Timesteps, Error Flag]\n",
      "Index: []\n",
      "IHBAS, Delhi - CPCB\n",
      "no2\n"
     ]
    },
    {
     "name": "stderr",
     "output_type": "stream",
     "text": [
      "Check for missing data\n",
      "Check for corrupt data\n",
      "Check for data outside expected range\n",
      "Check for data outside expected range\n",
      "Check for corrupt data\n",
      "Check for corrupt data\n",
      "Check for missing data\n",
      "Check for corrupt data\n",
      "Check for data outside expected range\n",
      "Check for data outside expected range\n",
      "Check for corrupt data\n"
     ]
    },
    {
     "name": "stdout",
     "output_type": "stream",
     "text": [
      "Empty DataFrame\n",
      "Columns: [Variable Name, Start Time, End Time, Timesteps, Error Flag]\n",
      "Index: []\n",
      "so2\n"
     ]
    },
    {
     "name": "stderr",
     "output_type": "stream",
     "text": [
      "Check for corrupt data\n",
      "Check for missing data\n",
      "Check for corrupt data\n",
      "Check for data outside expected range\n",
      "Check for data outside expected range\n",
      "Check for corrupt data\n",
      "Check for corrupt data\n"
     ]
    },
    {
     "name": "stdout",
     "output_type": "stream",
     "text": [
      "Empty DataFrame\n",
      "Columns: [Variable Name, Start Time, End Time, Timesteps, Error Flag]\n",
      "Index: []\n",
      "co\n"
     ]
    },
    {
     "name": "stderr",
     "output_type": "stream",
     "text": [
      "Check for missing data\n",
      "Check for corrupt data\n",
      "Check for data outside expected range\n",
      "Check for data outside expected range\n",
      "Check for corrupt data\n",
      "Check for corrupt data\n"
     ]
    },
    {
     "name": "stdout",
     "output_type": "stream",
     "text": [
      "Empty DataFrame\n",
      "Columns: [Variable Name, Start Time, End Time, Timesteps, Error Flag]\n",
      "Index: []\n",
      "pm25\n"
     ]
    },
    {
     "name": "stderr",
     "output_type": "stream",
     "text": [
      "Check for missing data\n",
      "Check for corrupt data\n"
     ]
    },
    {
     "name": "stdout",
     "output_type": "stream",
     "text": [
      "Empty DataFrame\n",
      "Columns: [Variable Name, Start Time, End Time, Timesteps, Error Flag]\n",
      "Index: []\n",
      "BTM Layout, Bengaluru - KSPCB\n",
      "no2\n"
     ]
    },
    {
     "name": "stderr",
     "output_type": "stream",
     "text": [
      "Check for data outside expected range\n",
      "Check for data outside expected range\n",
      "Check for corrupt data\n",
      "Check for corrupt data\n",
      "Check for missing data\n",
      "Check for corrupt data\n",
      "Check for data outside expected range\n",
      "Check for data outside expected range\n",
      "Check for corrupt data\n"
     ]
    },
    {
     "name": "stdout",
     "output_type": "stream",
     "text": [
      "Empty DataFrame\n",
      "Columns: [Variable Name, Start Time, End Time, Timesteps, Error Flag]\n",
      "Index: []\n",
      "so2\n"
     ]
    },
    {
     "name": "stderr",
     "output_type": "stream",
     "text": [
      "Check for corrupt data\n",
      "Check for missing data\n",
      "Check for corrupt data\n",
      "Check for data outside expected range\n",
      "Check for data outside expected range\n",
      "Check for corrupt data\n"
     ]
    },
    {
     "name": "stdout",
     "output_type": "stream",
     "text": [
      "Empty DataFrame\n",
      "Columns: [Variable Name, Start Time, End Time, Timesteps, Error Flag]\n",
      "Index: []\n",
      "co\n"
     ]
    },
    {
     "name": "stderr",
     "output_type": "stream",
     "text": [
      "Check for corrupt data\n",
      "Check for missing data\n",
      "Check for corrupt data\n",
      "Check for data outside expected range\n",
      "Check for data outside expected range\n",
      "Check for corrupt data\n"
     ]
    },
    {
     "name": "stdout",
     "output_type": "stream",
     "text": [
      "Empty DataFrame\n",
      "Columns: [Variable Name, Start Time, End Time, Timesteps, Error Flag]\n",
      "Index: []\n",
      "o3\n"
     ]
    },
    {
     "name": "stderr",
     "output_type": "stream",
     "text": [
      "Check for corrupt data\n",
      "Check for missing data\n",
      "Check for corrupt data\n",
      "Check for data outside expected range\n",
      "Check for data outside expected range\n",
      "Check for corrupt data\n"
     ]
    },
    {
     "name": "stdout",
     "output_type": "stream",
     "text": [
      "Empty DataFrame\n",
      "Columns: [Variable Name, Start Time, End Time, Timesteps, Error Flag]\n",
      "Index: []\n",
      "pm25\n"
     ]
    },
    {
     "name": "stderr",
     "output_type": "stream",
     "text": [
      "Check for corrupt data\n",
      "Check for missing data\n",
      "Check for corrupt data\n",
      "Check for data outside expected range\n",
      "Check for data outside expected range\n",
      "Check for corrupt data\n"
     ]
    },
    {
     "name": "stdout",
     "output_type": "stream",
     "text": [
      "Empty DataFrame\n",
      "Columns: [Variable Name, Start Time, End Time, Timesteps, Error Flag]\n",
      "Index: []\n",
      "City Railway Station - KSPCB\n",
      "no2\n"
     ]
    },
    {
     "name": "stderr",
     "output_type": "stream",
     "text": [
      "Check for corrupt data\n",
      "Check for missing data\n",
      "Check for corrupt data\n",
      "Check for data outside expected range\n",
      "Check for data outside expected range\n",
      "Check for corrupt data\n"
     ]
    },
    {
     "name": "stdout",
     "output_type": "stream",
     "text": [
      "Empty DataFrame\n",
      "Columns: [Variable Name, Start Time, End Time, Timesteps, Error Flag]\n",
      "Index: []\n",
      "so2\n"
     ]
    },
    {
     "name": "stderr",
     "output_type": "stream",
     "text": [
      "Check for corrupt data\n",
      "Check for missing data\n",
      "Check for corrupt data\n",
      "Check for data outside expected range\n",
      "Check for data outside expected range\n",
      "Check for corrupt data\n"
     ]
    },
    {
     "name": "stdout",
     "output_type": "stream",
     "text": [
      "Empty DataFrame\n",
      "Columns: [Variable Name, Start Time, End Time, Timesteps, Error Flag]\n",
      "Index: []\n",
      "co\n"
     ]
    },
    {
     "name": "stderr",
     "output_type": "stream",
     "text": [
      "Check for corrupt data\n",
      "Check for missing data\n",
      "Check for corrupt data\n",
      "Check for data outside expected range\n",
      "Check for data outside expected range\n",
      "Check for corrupt data\n"
     ]
    },
    {
     "name": "stdout",
     "output_type": "stream",
     "text": [
      "Empty DataFrame\n",
      "Columns: [Variable Name, Start Time, End Time, Timesteps, Error Flag]\n",
      "Index: []\n",
      "pm10\n"
     ]
    },
    {
     "name": "stderr",
     "output_type": "stream",
     "text": [
      "Check for corrupt data\n",
      "Check for missing data\n",
      "Check for corrupt data\n",
      "Check for data outside expected range\n",
      "Check for data outside expected range\n",
      "Check for corrupt data\n",
      "Check for corrupt data\n"
     ]
    },
    {
     "name": "stdout",
     "output_type": "stream",
     "text": [
      "Empty DataFrame\n",
      "Columns: [Variable Name, Start Time, End Time, Timesteps, Error Flag]\n",
      "Index: []\n",
      "Bhopal Chauraha, Dewas - MPPCB\n",
      "no2\n"
     ]
    },
    {
     "name": "stderr",
     "output_type": "stream",
     "text": [
      "Check for missing data\n",
      "Check for corrupt data\n",
      "Check for data outside expected range\n",
      "Check for data outside expected range\n",
      "Check for corrupt data\n",
      "Check for corrupt data\n"
     ]
    },
    {
     "name": "stdout",
     "output_type": "stream",
     "text": [
      "Empty DataFrame\n",
      "Columns: [Variable Name, Start Time, End Time, Timesteps, Error Flag]\n",
      "Index: []\n",
      "so2\n"
     ]
    },
    {
     "name": "stderr",
     "output_type": "stream",
     "text": [
      "Check for missing data\n",
      "Check for corrupt data\n",
      "Check for data outside expected range\n",
      "Check for data outside expected range\n",
      "Check for corrupt data\n",
      "Check for corrupt data\n",
      "Check for missing data\n",
      "Check for corrupt data\n",
      "Check for data outside expected range\n",
      "Check for data outside expected range\n",
      "Check for corrupt data\n",
      "Check for corrupt data\n"
     ]
    },
    {
     "name": "stdout",
     "output_type": "stream",
     "text": [
      "Empty DataFrame\n",
      "Columns: [Variable Name, Start Time, End Time, Timesteps, Error Flag]\n",
      "Index: []\n",
      "co\n",
      "Empty DataFrame\n",
      "Columns: [Variable Name, Start Time, End Time, Timesteps, Error Flag]\n",
      "Index: []\n",
      "o3\n"
     ]
    },
    {
     "name": "stderr",
     "output_type": "stream",
     "text": [
      "Check for missing data\n",
      "Check for corrupt data\n",
      "Check for data outside expected range\n",
      "Check for data outside expected range\n",
      "Check for corrupt data\n",
      "Check for corrupt data\n"
     ]
    },
    {
     "name": "stdout",
     "output_type": "stream",
     "text": [
      "Empty DataFrame\n",
      "Columns: [Variable Name, Start Time, End Time, Timesteps, Error Flag]\n",
      "Index: []\n",
      "pm25\n"
     ]
    },
    {
     "name": "stderr",
     "output_type": "stream",
     "text": [
      "Check for missing data\n",
      "Check for corrupt data\n",
      "Check for data outside expected range\n",
      "Check for data outside expected range\n",
      "Check for corrupt data\n",
      "Check for corrupt data\n"
     ]
    },
    {
     "name": "stdout",
     "output_type": "stream",
     "text": [
      "Empty DataFrame\n",
      "Columns: [Variable Name, Start Time, End Time, Timesteps, Error Flag]\n",
      "Index: []\n",
      "pm10\n"
     ]
    },
    {
     "name": "stderr",
     "output_type": "stream",
     "text": [
      "Check for missing data\n",
      "Check for corrupt data\n",
      "Check for data outside expected range\n",
      "Check for data outside expected range\n",
      "Check for corrupt data\n",
      "Check for corrupt data\n"
     ]
    },
    {
     "name": "stdout",
     "output_type": "stream",
     "text": [
      "Empty DataFrame\n",
      "Columns: [Variable Name, Start Time, End Time, Timesteps, Error Flag]\n",
      "Index: []\n",
      "Sector-D Industrial Area, Mandideep - MPPCB\n",
      "so2\n"
     ]
    },
    {
     "name": "stderr",
     "output_type": "stream",
     "text": [
      "Check for missing data\n",
      "Check for corrupt data\n",
      "Check for data outside expected range\n",
      "Check for data outside expected range\n",
      "Check for corrupt data\n",
      "Check for corrupt data\n"
     ]
    },
    {
     "name": "stdout",
     "output_type": "stream",
     "text": [
      "Empty DataFrame\n",
      "Columns: [Variable Name, Start Time, End Time, Timesteps, Error Flag]\n",
      "Index: []\n",
      "co\n"
     ]
    },
    {
     "name": "stderr",
     "output_type": "stream",
     "text": [
      "Check for missing data\n",
      "Check for corrupt data\n",
      "Check for data outside expected range\n",
      "Check for data outside expected range\n",
      "Check for corrupt data\n",
      "Check for corrupt data\n",
      "Check for missing data\n",
      "Check for corrupt data\n",
      "Check for data outside expected range\n",
      "Check for data outside expected range\n",
      "Check for corrupt data\n",
      "Check for corrupt data\n"
     ]
    },
    {
     "name": "stdout",
     "output_type": "stream",
     "text": [
      "Empty DataFrame\n",
      "Columns: [Variable Name, Start Time, End Time, Timesteps, Error Flag]\n",
      "Index: []\n",
      "o3\n",
      "Empty DataFrame\n",
      "Columns: [Variable Name, Start Time, End Time, Timesteps, Error Flag]\n",
      "Index: []\n",
      "pm25\n"
     ]
    },
    {
     "name": "stderr",
     "output_type": "stream",
     "text": [
      "Check for missing data\n",
      "Check for corrupt data\n",
      "Check for data outside expected range\n",
      "Check for data outside expected range\n",
      "Check for corrupt data\n",
      "Check for corrupt data\n"
     ]
    },
    {
     "name": "stdout",
     "output_type": "stream",
     "text": [
      "Empty DataFrame\n",
      "Columns: [Variable Name, Start Time, End Time, Timesteps, Error Flag]\n",
      "Index: []\n",
      "pm10\n"
     ]
    },
    {
     "name": "stderr",
     "output_type": "stream",
     "text": [
      "Check for missing data\n",
      "Check for corrupt data\n",
      "Check for data outside expected range\n",
      "Check for data outside expected range\n",
      "Check for corrupt data\n"
     ]
    },
    {
     "name": "stdout",
     "output_type": "stream",
     "text": [
      "Empty DataFrame\n",
      "Columns: [Variable Name, Start Time, End Time, Timesteps, Error Flag]\n",
      "Index: []\n",
      "Chandrapur\n",
      "no2\n"
     ]
    },
    {
     "name": "stderr",
     "output_type": "stream",
     "text": [
      "Check for corrupt data\n",
      "Check for missing data\n",
      "Check for corrupt data\n",
      "Check for data outside expected range\n",
      "Check for data outside expected range\n",
      "Check for corrupt data\n",
      "Check for corrupt data\n"
     ]
    },
    {
     "name": "stdout",
     "output_type": "stream",
     "text": [
      "Empty DataFrame\n",
      "Columns: [Variable Name, Start Time, End Time, Timesteps, Error Flag]\n",
      "Index: []\n",
      "pm10\n"
     ]
    },
    {
     "name": "stderr",
     "output_type": "stream",
     "text": [
      "Check for missing data\n",
      "Check for corrupt data\n",
      "Check for data outside expected range\n",
      "Check for data outside expected range\n",
      "Check for corrupt data\n",
      "Check for corrupt data\n"
     ]
    },
    {
     "name": "stdout",
     "output_type": "stream",
     "text": [
      "Empty DataFrame\n",
      "Columns: [Variable Name, Start Time, End Time, Timesteps, Error Flag]\n",
      "Index: []\n",
      "pm25\n"
     ]
    },
    {
     "name": "stderr",
     "output_type": "stream",
     "text": [
      "Check for missing data\n",
      "Check for corrupt data\n",
      "Check for data outside expected range\n",
      "Check for data outside expected range\n",
      "Check for corrupt data\n",
      "Check for corrupt data\n"
     ]
    },
    {
     "name": "stdout",
     "output_type": "stream",
     "text": [
      "Empty DataFrame\n",
      "Columns: [Variable Name, Start Time, End Time, Timesteps, Error Flag]\n",
      "Index: []\n",
      "so2\n"
     ]
    },
    {
     "name": "stderr",
     "output_type": "stream",
     "text": [
      "Check for missing data\n",
      "Check for corrupt data\n",
      "Check for data outside expected range\n",
      "Check for data outside expected range\n",
      "Check for corrupt data\n",
      "Check for corrupt data\n"
     ]
    },
    {
     "name": "stdout",
     "output_type": "stream",
     "text": [
      "Empty DataFrame\n",
      "Columns: [Variable Name, Start Time, End Time, Timesteps, Error Flag]\n",
      "Index: []\n",
      "co\n"
     ]
    },
    {
     "name": "stderr",
     "output_type": "stream",
     "text": [
      "Check for missing data\n",
      "Check for corrupt data\n",
      "Check for data outside expected range\n",
      "Check for data outside expected range\n",
      "Check for corrupt data\n",
      "Check for corrupt data\n"
     ]
    },
    {
     "name": "stdout",
     "output_type": "stream",
     "text": [
      "Empty DataFrame\n",
      "Columns: [Variable Name, Start Time, End Time, Timesteps, Error Flag]\n",
      "Index: []\n",
      "o3\n"
     ]
    },
    {
     "name": "stderr",
     "output_type": "stream",
     "text": [
      "Check for missing data\n",
      "Check for corrupt data\n",
      "Check for data outside expected range\n",
      "Check for data outside expected range\n",
      "Check for corrupt data\n",
      "Check for corrupt data\n"
     ]
    },
    {
     "name": "stdout",
     "output_type": "stream",
     "text": [
      "Empty DataFrame\n",
      "Columns: [Variable Name, Start Time, End Time, Timesteps, Error Flag]\n",
      "Index: []\n",
      "MIDC Khutala,Chandrapur - MPCB\n",
      "so2\n"
     ]
    },
    {
     "name": "stderr",
     "output_type": "stream",
     "text": [
      "Check for missing data\n",
      "Check for corrupt data\n",
      "Check for data outside expected range\n",
      "Check for data outside expected range\n",
      "Check for corrupt data\n",
      "Check for corrupt data\n"
     ]
    },
    {
     "name": "stdout",
     "output_type": "stream",
     "text": [
      "Empty DataFrame\n",
      "Columns: [Variable Name, Start Time, End Time, Timesteps, Error Flag]\n",
      "Index: []\n",
      "co\n"
     ]
    },
    {
     "name": "stderr",
     "output_type": "stream",
     "text": [
      "Check for missing data\n",
      "Check for corrupt data\n",
      "Check for data outside expected range\n",
      "Check for data outside expected range\n",
      "Check for corrupt data\n",
      "Check for corrupt data\n",
      "Check for missing data\n",
      "Check for corrupt data\n",
      "Check for data outside expected range\n",
      "Check for data outside expected range\n",
      "Check for corrupt data\n",
      "Check for corrupt data\n"
     ]
    },
    {
     "name": "stdout",
     "output_type": "stream",
     "text": [
      "Empty DataFrame\n",
      "Columns: [Variable Name, Start Time, End Time, Timesteps, Error Flag]\n",
      "Index: []\n",
      "pm25\n",
      "Empty DataFrame\n",
      "Columns: [Variable Name, Start Time, End Time, Timesteps, Error Flag]\n",
      "Index: []\n",
      "pm10\n"
     ]
    },
    {
     "name": "stderr",
     "output_type": "stream",
     "text": [
      "Check for missing data\n",
      "Check for corrupt data\n",
      "Check for data outside expected range\n",
      "Check for data outside expected range\n",
      "Check for corrupt data\n",
      "Check for corrupt data\n",
      "Check for missing data\n",
      "Check for corrupt data\n",
      "Check for data outside expected range\n",
      "Check for data outside expected range\n",
      "Check for corrupt data\n",
      "Check for corrupt data\n"
     ]
    },
    {
     "name": "stdout",
     "output_type": "stream",
     "text": [
      "Empty DataFrame\n",
      "Columns: [Variable Name, Start Time, End Time, Timesteps, Error Flag]\n",
      "Index: []\n",
      "Maharashtra Pollution Control Board - Solapur\n",
      "no2\n",
      "Empty DataFrame\n",
      "Columns: [Variable Name, Start Time, End Time, Timesteps, Error Flag]\n",
      "Index: []\n",
      "so2\n"
     ]
    },
    {
     "name": "stderr",
     "output_type": "stream",
     "text": [
      "Check for missing data\n",
      "Check for corrupt data\n",
      "Check for data outside expected range\n",
      "Check for data outside expected range\n",
      "Check for corrupt data\n",
      "Check for corrupt data\n",
      "Check for missing data\n",
      "Check for corrupt data\n",
      "Check for data outside expected range\n",
      "Check for data outside expected range\n",
      "Check for corrupt data\n"
     ]
    },
    {
     "name": "stdout",
     "output_type": "stream",
     "text": [
      "Empty DataFrame\n",
      "Columns: [Variable Name, Start Time, End Time, Timesteps, Error Flag]\n",
      "Index: []\n",
      "co\n",
      "Empty DataFrame\n",
      "Columns: [Variable Name, Start Time, End Time, Timesteps, Error Flag]\n",
      "Index: []\n",
      "o3\n"
     ]
    },
    {
     "name": "stderr",
     "output_type": "stream",
     "text": [
      "Check for corrupt data\n",
      "Check for missing data\n",
      "Check for corrupt data\n",
      "Check for data outside expected range\n",
      "Check for data outside expected range\n",
      "Check for corrupt data\n",
      "Check for corrupt data\n"
     ]
    },
    {
     "name": "stdout",
     "output_type": "stream",
     "text": [
      "Empty DataFrame\n",
      "Columns: [Variable Name, Start Time, End Time, Timesteps, Error Flag]\n",
      "Index: []\n",
      "pm25\n"
     ]
    },
    {
     "name": "stderr",
     "output_type": "stream",
     "text": [
      "Check for missing data\n",
      "Check for corrupt data\n",
      "Check for data outside expected range\n",
      "Check for data outside expected range\n",
      "Check for corrupt data\n",
      "Check for corrupt data\n",
      "Check for missing data\n",
      "Check for corrupt data\n",
      "Check for data outside expected range\n",
      "Check for data outside expected range\n",
      "Check for corrupt data\n"
     ]
    },
    {
     "name": "stdout",
     "output_type": "stream",
     "text": [
      "Empty DataFrame\n",
      "Columns: [Variable Name, Start Time, End Time, Timesteps, Error Flag]\n",
      "Index: []\n",
      "pm10\n",
      "Empty DataFrame\n",
      "Columns: [Variable Name, Start Time, End Time, Timesteps, Error Flag]\n",
      "Index: []\n",
      "Golden Temple,Amritsar - PPCB\n",
      "no2\n"
     ]
    },
    {
     "name": "stderr",
     "output_type": "stream",
     "text": [
      "Check for corrupt data\n",
      "Check for missing data\n",
      "Check for corrupt data\n",
      "Check for data outside expected range\n",
      "Check for data outside expected range\n",
      "Check for corrupt data\n",
      "Check for corrupt data\n"
     ]
    },
    {
     "name": "stdout",
     "output_type": "stream",
     "text": [
      "Empty DataFrame\n",
      "Columns: [Variable Name, Start Time, End Time, Timesteps, Error Flag]\n",
      "Index: []\n",
      "so2\n"
     ]
    },
    {
     "name": "stderr",
     "output_type": "stream",
     "text": [
      "Check for missing data\n",
      "Check for corrupt data\n",
      "Check for data outside expected range\n",
      "Check for data outside expected range\n",
      "Check for corrupt data\n"
     ]
    },
    {
     "name": "stdout",
     "output_type": "stream",
     "text": [
      "Empty DataFrame\n",
      "Columns: [Variable Name, Start Time, End Time, Timesteps, Error Flag]\n",
      "Index: []\n",
      "co\n"
     ]
    },
    {
     "name": "stderr",
     "output_type": "stream",
     "text": [
      "Check for corrupt data\n",
      "Check for missing data\n",
      "Check for corrupt data\n",
      "Check for data outside expected range\n",
      "Check for data outside expected range\n",
      "Check for corrupt data\n",
      "Check for corrupt data\n"
     ]
    },
    {
     "name": "stdout",
     "output_type": "stream",
     "text": [
      "Empty DataFrame\n",
      "Columns: [Variable Name, Start Time, End Time, Timesteps, Error Flag]\n",
      "Index: []\n",
      "o3\n"
     ]
    },
    {
     "name": "stderr",
     "output_type": "stream",
     "text": [
      "Check for missing data\n",
      "Check for corrupt data\n",
      "Check for data outside expected range\n",
      "Check for data outside expected range\n",
      "Check for corrupt data\n",
      "Check for corrupt data\n"
     ]
    },
    {
     "name": "stdout",
     "output_type": "stream",
     "text": [
      "Empty DataFrame\n",
      "Columns: [Variable Name, Start Time, End Time, Timesteps, Error Flag]\n",
      "Index: []\n",
      "pm25\n"
     ]
    },
    {
     "name": "stderr",
     "output_type": "stream",
     "text": [
      "Check for missing data\n",
      "Check for corrupt data\n",
      "Check for data outside expected range\n",
      "Check for data outside expected range\n",
      "Check for corrupt data\n",
      "Check for corrupt data\n"
     ]
    },
    {
     "name": "stdout",
     "output_type": "stream",
     "text": [
      "Empty DataFrame\n",
      "Columns: [Variable Name, Start Time, End Time, Timesteps, Error Flag]\n",
      "Index: []\n",
      "pm10\n"
     ]
    },
    {
     "name": "stderr",
     "output_type": "stream",
     "text": [
      "Check for missing data\n",
      "Check for corrupt data\n",
      "Check for data outside expected range\n",
      "Check for data outside expected range\n",
      "Check for corrupt data\n"
     ]
    },
    {
     "name": "stdout",
     "output_type": "stream",
     "text": [
      "Empty DataFrame\n",
      "Columns: [Variable Name, Start Time, End Time, Timesteps, Error Flag]\n",
      "Index: []\n",
      "Adarsh Nagar, Jaipur- RSPCB\n",
      "no2\n"
     ]
    },
    {
     "name": "stderr",
     "output_type": "stream",
     "text": [
      "Check for corrupt data\n",
      "Check for missing data\n",
      "Check for corrupt data\n",
      "Check for data outside expected range\n",
      "Check for data outside expected range\n",
      "Check for corrupt data\n",
      "Check for corrupt data\n"
     ]
    },
    {
     "name": "stdout",
     "output_type": "stream",
     "text": [
      "Empty DataFrame\n",
      "Columns: [Variable Name, Start Time, End Time, Timesteps, Error Flag]\n",
      "Index: []\n",
      "so2\n"
     ]
    },
    {
     "name": "stderr",
     "output_type": "stream",
     "text": [
      "Check for missing data\n",
      "Check for corrupt data\n",
      "Check for data outside expected range\n",
      "Check for data outside expected range\n",
      "Check for corrupt data\n",
      "Check for corrupt data\n"
     ]
    },
    {
     "name": "stdout",
     "output_type": "stream",
     "text": [
      "Empty DataFrame\n",
      "Columns: [Variable Name, Start Time, End Time, Timesteps, Error Flag]\n",
      "Index: []\n",
      "co\n"
     ]
    },
    {
     "name": "stderr",
     "output_type": "stream",
     "text": [
      "Check for missing data\n",
      "Check for corrupt data\n",
      "Check for data outside expected range\n",
      "Check for data outside expected range\n",
      "Check for corrupt data\n",
      "Check for corrupt data\n",
      "Check for missing data\n",
      "Check for corrupt data\n",
      "Check for data outside expected range\n",
      "Check for data outside expected range\n",
      "Check for corrupt data\n"
     ]
    },
    {
     "name": "stdout",
     "output_type": "stream",
     "text": [
      "Empty DataFrame\n",
      "Columns: [Variable Name, Start Time, End Time, Timesteps, Error Flag]\n",
      "Index: []\n",
      "o3\n",
      "Empty DataFrame\n",
      "Columns: [Variable Name, Start Time, End Time, Timesteps, Error Flag]\n",
      "Index: []\n",
      "pm25\n"
     ]
    },
    {
     "name": "stderr",
     "output_type": "stream",
     "text": [
      "Check for corrupt data\n",
      "Check for missing data\n",
      "Check for corrupt data\n",
      "Check for data outside expected range\n",
      "Check for data outside expected range\n",
      "Check for corrupt data\n"
     ]
    },
    {
     "name": "stdout",
     "output_type": "stream",
     "text": [
      "Empty DataFrame\n",
      "Columns: [Variable Name, Start Time, End Time, Timesteps, Error Flag]\n",
      "Index: []\n",
      "pm10\n"
     ]
    },
    {
     "name": "stderr",
     "output_type": "stream",
     "text": [
      "Check for corrupt data\n",
      "Check for missing data\n",
      "Check for corrupt data\n",
      "Check for data outside expected range\n",
      "Check for data outside expected range\n",
      "Check for corrupt data\n"
     ]
    },
    {
     "name": "stdout",
     "output_type": "stream",
     "text": [
      "Empty DataFrame\n",
      "Columns: [Variable Name, Start Time, End Time, Timesteps, Error Flag]\n",
      "Index: []\n",
      "Collectorate Jodhpur - RSPCB\n",
      "no2\n"
     ]
    },
    {
     "name": "stderr",
     "output_type": "stream",
     "text": [
      "Check for corrupt data\n",
      "Check for missing data\n",
      "Check for corrupt data\n",
      "Check for data outside expected range\n",
      "Check for data outside expected range\n",
      "Check for corrupt data\n"
     ]
    },
    {
     "name": "stdout",
     "output_type": "stream",
     "text": [
      "  Variable Name          Start Time            End Time Timesteps  \\\n",
      "0           day 2017-12-30 18:00:00 2017-12-30 18:00:00         2   \n",
      "\n",
      "     Error Flag  \n",
      "0  Corrupt data  \n",
      "so2\n"
     ]
    },
    {
     "name": "stderr",
     "output_type": "stream",
     "text": [
      "Check for corrupt data\n",
      "Check for missing data\n",
      "Check for corrupt data\n",
      "Check for data outside expected range\n",
      "Check for data outside expected range\n",
      "Check for corrupt data\n"
     ]
    },
    {
     "name": "stdout",
     "output_type": "stream",
     "text": [
      "  Variable Name          Start Time            End Time Timesteps  \\\n",
      "0           day 2017-12-30 18:00:00 2017-12-30 18:00:00         2   \n",
      "\n",
      "     Error Flag  \n",
      "0  Corrupt data  \n",
      "co\n"
     ]
    },
    {
     "name": "stderr",
     "output_type": "stream",
     "text": [
      "Check for corrupt data\n",
      "Check for missing data\n",
      "Check for corrupt data\n",
      "Check for data outside expected range\n",
      "Check for data outside expected range\n",
      "Check for corrupt data\n",
      "Check for corrupt data\n"
     ]
    },
    {
     "name": "stdout",
     "output_type": "stream",
     "text": [
      "  Variable Name          Start Time            End Time Timesteps  \\\n",
      "0           day 2017-12-30 18:00:00 2017-12-30 18:00:00         2   \n",
      "\n",
      "     Error Flag  \n",
      "0  Corrupt data  \n",
      "pm25\n"
     ]
    },
    {
     "name": "stderr",
     "output_type": "stream",
     "text": [
      "Check for missing data\n",
      "Check for corrupt data\n",
      "Check for data outside expected range\n",
      "Check for data outside expected range\n",
      "Check for corrupt data\n",
      "Check for corrupt data\n"
     ]
    },
    {
     "name": "stdout",
     "output_type": "stream",
     "text": [
      "  Variable Name          Start Time            End Time Timesteps  \\\n",
      "0           day 2017-12-30 18:00:00 2017-12-30 18:00:00         2   \n",
      "\n",
      "     Error Flag  \n",
      "0  Corrupt data  \n",
      "pm10\n"
     ]
    },
    {
     "name": "stderr",
     "output_type": "stream",
     "text": [
      "Check for missing data\n",
      "Check for corrupt data\n",
      "Check for data outside expected range\n",
      "Check for data outside expected range\n",
      "Check for corrupt data\n"
     ]
    },
    {
     "name": "stdout",
     "output_type": "stream",
     "text": [
      "  Variable Name          Start Time            End Time Timesteps  \\\n",
      "0           day 2017-12-30 18:00:00 2017-12-30 18:00:00         2   \n",
      "\n",
      "     Error Flag  \n",
      "0  Corrupt data  \n",
      "Shrinath Puram, Kota- RSPCB\n",
      "no2\n"
     ]
    },
    {
     "name": "stderr",
     "output_type": "stream",
     "text": [
      "Check for corrupt data\n",
      "Check for missing data\n",
      "Check for corrupt data\n",
      "Check for data outside expected range\n",
      "Check for data outside expected range\n",
      "Check for corrupt data\n"
     ]
    },
    {
     "name": "stdout",
     "output_type": "stream",
     "text": [
      "Empty DataFrame\n",
      "Columns: [Variable Name, Start Time, End Time, Timesteps, Error Flag]\n",
      "Index: []\n",
      "so2\n"
     ]
    },
    {
     "name": "stderr",
     "output_type": "stream",
     "text": [
      "Check for corrupt data\n",
      "Check for missing data\n",
      "Check for corrupt data\n",
      "Check for data outside expected range\n",
      "Check for data outside expected range\n",
      "Check for corrupt data\n",
      "Check for corrupt data\n"
     ]
    },
    {
     "name": "stdout",
     "output_type": "stream",
     "text": [
      "Empty DataFrame\n",
      "Columns: [Variable Name, Start Time, End Time, Timesteps, Error Flag]\n",
      "Index: []\n",
      "co\n"
     ]
    },
    {
     "name": "stderr",
     "output_type": "stream",
     "text": [
      "Check for missing data\n",
      "Check for corrupt data\n",
      "Check for data outside expected range\n",
      "Check for data outside expected range\n",
      "Check for corrupt data\n",
      "Check for corrupt data\n"
     ]
    },
    {
     "name": "stdout",
     "output_type": "stream",
     "text": [
      "Empty DataFrame\n",
      "Columns: [Variable Name, Start Time, End Time, Timesteps, Error Flag]\n",
      "Index: []\n",
      "o3\n"
     ]
    },
    {
     "name": "stderr",
     "output_type": "stream",
     "text": [
      "Check for missing data\n",
      "Check for corrupt data\n",
      "Check for data outside expected range\n",
      "Check for data outside expected range\n",
      "Check for corrupt data\n",
      "Check for corrupt data\n"
     ]
    },
    {
     "name": "stdout",
     "output_type": "stream",
     "text": [
      "Empty DataFrame\n",
      "Columns: [Variable Name, Start Time, End Time, Timesteps, Error Flag]\n",
      "Index: []\n",
      "pm25\n"
     ]
    },
    {
     "name": "stderr",
     "output_type": "stream",
     "text": [
      "Check for missing data\n",
      "Check for corrupt data\n",
      "Check for data outside expected range\n",
      "Check for data outside expected range\n",
      "Check for corrupt data\n",
      "Check for corrupt data\n",
      "Check for missing data\n",
      "Check for corrupt data\n",
      "Check for data outside expected range\n",
      "Check for data outside expected range\n",
      "Check for corrupt data\n"
     ]
    },
    {
     "name": "stdout",
     "output_type": "stream",
     "text": [
      "Empty DataFrame\n",
      "Columns: [Variable Name, Start Time, End Time, Timesteps, Error Flag]\n",
      "Index: []\n",
      "pm10\n",
      "Empty DataFrame\n",
      "Columns: [Variable Name, Start Time, End Time, Timesteps, Error Flag]\n",
      "Index: []\n",
      "Ashok Nagar, Udaipur- RSPCB\n",
      "no2\n"
     ]
    },
    {
     "name": "stderr",
     "output_type": "stream",
     "text": [
      "Check for corrupt data\n",
      "Check for missing data\n",
      "Check for corrupt data\n",
      "Check for data outside expected range\n",
      "Check for data outside expected range\n",
      "Check for corrupt data\n",
      "Check for corrupt data\n"
     ]
    },
    {
     "name": "stdout",
     "output_type": "stream",
     "text": [
      "Empty DataFrame\n",
      "Columns: [Variable Name, Start Time, End Time, Timesteps, Error Flag]\n",
      "Index: []\n",
      "so2\n"
     ]
    },
    {
     "name": "stderr",
     "output_type": "stream",
     "text": [
      "Check for missing data\n",
      "Check for corrupt data\n",
      "Check for data outside expected range\n",
      "Check for data outside expected range\n",
      "Check for corrupt data\n",
      "Check for corrupt data\n",
      "Check for missing data\n",
      "Check for corrupt data\n",
      "Check for data outside expected range\n",
      "Check for data outside expected range\n",
      "Check for corrupt data\n",
      "Check for corrupt data\n"
     ]
    },
    {
     "name": "stdout",
     "output_type": "stream",
     "text": [
      "Empty DataFrame\n",
      "Columns: [Variable Name, Start Time, End Time, Timesteps, Error Flag]\n",
      "Index: []\n",
      "co\n",
      "Empty DataFrame\n",
      "Columns: [Variable Name, Start Time, End Time, Timesteps, Error Flag]\n",
      "Index: []\n",
      "o3\n"
     ]
    },
    {
     "name": "stderr",
     "output_type": "stream",
     "text": [
      "Check for missing data\n",
      "Check for corrupt data\n",
      "Check for data outside expected range\n",
      "Check for data outside expected range\n",
      "Check for corrupt data\n",
      "Check for corrupt data\n"
     ]
    },
    {
     "name": "stdout",
     "output_type": "stream",
     "text": [
      "Empty DataFrame\n",
      "Columns: [Variable Name, Start Time, End Time, Timesteps, Error Flag]\n",
      "Index: []\n",
      "pm25\n"
     ]
    },
    {
     "name": "stderr",
     "output_type": "stream",
     "text": [
      "Check for missing data\n",
      "Check for corrupt data\n",
      "Check for data outside expected range\n",
      "Check for data outside expected range\n",
      "Check for corrupt data\n",
      "Check for corrupt data\n"
     ]
    },
    {
     "name": "stdout",
     "output_type": "stream",
     "text": [
      "Empty DataFrame\n",
      "Columns: [Variable Name, Start Time, End Time, Timesteps, Error Flag]\n",
      "Index: []\n",
      "pm10\n"
     ]
    },
    {
     "name": "stderr",
     "output_type": "stream",
     "text": [
      "Check for missing data\n",
      "Check for corrupt data\n",
      "Check for data outside expected range\n",
      "Check for data outside expected range\n",
      "Check for corrupt data\n"
     ]
    },
    {
     "name": "stdout",
     "output_type": "stream",
     "text": [
      "Empty DataFrame\n",
      "Columns: [Variable Name, Start Time, End Time, Timesteps, Error Flag]\n",
      "Index: []\n",
      "IIT\n",
      "no2\n"
     ]
    },
    {
     "name": "stderr",
     "output_type": "stream",
     "text": [
      "Check for corrupt data\n",
      "Check for missing data\n",
      "Check for corrupt data\n",
      "Check for data outside expected range\n",
      "Check for data outside expected range\n",
      "Check for corrupt data\n",
      "Check for corrupt data\n"
     ]
    },
    {
     "name": "stdout",
     "output_type": "stream",
     "text": [
      "Empty DataFrame\n",
      "Columns: [Variable Name, Start Time, End Time, Timesteps, Error Flag]\n",
      "Index: []\n",
      "so2\n"
     ]
    },
    {
     "name": "stderr",
     "output_type": "stream",
     "text": [
      "Check for missing data\n",
      "Check for corrupt data\n",
      "Check for data outside expected range\n",
      "Check for data outside expected range\n",
      "Check for corrupt data\n"
     ]
    },
    {
     "name": "stdout",
     "output_type": "stream",
     "text": [
      "Empty DataFrame\n",
      "Columns: [Variable Name, Start Time, End Time, Timesteps, Error Flag]\n",
      "Index: []\n",
      "co\n"
     ]
    },
    {
     "name": "stderr",
     "output_type": "stream",
     "text": [
      "Check for corrupt data\n",
      "Check for missing data\n",
      "Check for corrupt data\n",
      "Check for data outside expected range\n",
      "Check for data outside expected range\n",
      "Check for corrupt data\n",
      "Check for corrupt data\n"
     ]
    },
    {
     "name": "stdout",
     "output_type": "stream",
     "text": [
      "Empty DataFrame\n",
      "Columns: [Variable Name, Start Time, End Time, Timesteps, Error Flag]\n",
      "Index: []\n",
      "o3\n"
     ]
    },
    {
     "name": "stderr",
     "output_type": "stream",
     "text": [
      "Check for missing data\n",
      "Check for corrupt data\n",
      "Check for data outside expected range\n",
      "Check for data outside expected range\n",
      "Check for corrupt data\n"
     ]
    },
    {
     "name": "stdout",
     "output_type": "stream",
     "text": [
      "Empty DataFrame\n",
      "Columns: [Variable Name, Start Time, End Time, Timesteps, Error Flag]\n",
      "Index: []\n",
      "pm25\n"
     ]
    },
    {
     "name": "stderr",
     "output_type": "stream",
     "text": [
      "Check for corrupt data\n",
      "Check for missing data\n",
      "Check for corrupt data\n",
      "Check for data outside expected range\n",
      "Check for data outside expected range\n",
      "Check for corrupt data\n",
      "Check for corrupt data\n"
     ]
    },
    {
     "name": "stdout",
     "output_type": "stream",
     "text": [
      "Empty DataFrame\n",
      "Columns: [Variable Name, Start Time, End Time, Timesteps, Error Flag]\n",
      "Index: []\n",
      "Manali\n",
      "no2\n"
     ]
    },
    {
     "name": "stderr",
     "output_type": "stream",
     "text": [
      "Check for missing data\n",
      "Check for corrupt data\n",
      "Check for data outside expected range\n",
      "Check for data outside expected range\n",
      "Check for corrupt data\n",
      "Check for corrupt data\n"
     ]
    },
    {
     "name": "stdout",
     "output_type": "stream",
     "text": [
      "Empty DataFrame\n",
      "Columns: [Variable Name, Start Time, End Time, Timesteps, Error Flag]\n",
      "Index: []\n",
      "so2\n"
     ]
    },
    {
     "name": "stderr",
     "output_type": "stream",
     "text": [
      "Check for missing data\n",
      "Check for corrupt data\n",
      "Check for data outside expected range\n",
      "Check for data outside expected range\n",
      "Check for corrupt data\n",
      "Check for corrupt data\n"
     ]
    },
    {
     "name": "stdout",
     "output_type": "stream",
     "text": [
      "Empty DataFrame\n",
      "Columns: [Variable Name, Start Time, End Time, Timesteps, Error Flag]\n",
      "Index: []\n",
      "co\n"
     ]
    },
    {
     "name": "stderr",
     "output_type": "stream",
     "text": [
      "Check for missing data\n",
      "Check for corrupt data\n",
      "Check for data outside expected range\n",
      "Check for data outside expected range\n",
      "Check for corrupt data\n"
     ]
    },
    {
     "name": "stdout",
     "output_type": "stream",
     "text": [
      "Empty DataFrame\n",
      "Columns: [Variable Name, Start Time, End Time, Timesteps, Error Flag]\n",
      "Index: []\n",
      "pm25\n"
     ]
    },
    {
     "name": "stderr",
     "output_type": "stream",
     "text": [
      "Check for corrupt data\n",
      "Check for missing data\n",
      "Check for corrupt data\n",
      "Check for data outside expected range\n",
      "Check for data outside expected range\n",
      "Check for corrupt data\n",
      "Check for corrupt data\n"
     ]
    },
    {
     "name": "stdout",
     "output_type": "stream",
     "text": [
      "Empty DataFrame\n",
      "Columns: [Variable Name, Start Time, End Time, Timesteps, Error Flag]\n",
      "Index: []\n",
      "Talkatora District Industries Center\n",
      "no2\n"
     ]
    },
    {
     "name": "stderr",
     "output_type": "stream",
     "text": [
      "Check for missing data\n",
      "Check for corrupt data\n",
      "Check for data outside expected range\n",
      "Check for data outside expected range\n",
      "Check for corrupt data\n"
     ]
    },
    {
     "name": "stdout",
     "output_type": "stream",
     "text": [
      "Empty DataFrame\n",
      "Columns: [Variable Name, Start Time, End Time, Timesteps, Error Flag]\n",
      "Index: []\n",
      "so2\n"
     ]
    },
    {
     "name": "stderr",
     "output_type": "stream",
     "text": [
      "Check for corrupt data\n",
      "Check for missing data\n",
      "Check for corrupt data\n",
      "Check for data outside expected range\n",
      "Check for data outside expected range\n",
      "Check for corrupt data\n"
     ]
    },
    {
     "name": "stdout",
     "output_type": "stream",
     "text": [
      "Empty DataFrame\n",
      "Columns: [Variable Name, Start Time, End Time, Timesteps, Error Flag]\n",
      "Index: []\n",
      "co\n"
     ]
    },
    {
     "name": "stderr",
     "output_type": "stream",
     "text": [
      "Check for corrupt data\n",
      "Check for missing data\n",
      "Check for corrupt data\n",
      "Check for data outside expected range\n",
      "Check for data outside expected range\n",
      "Check for corrupt data\n",
      "Check for corrupt data\n"
     ]
    },
    {
     "name": "stdout",
     "output_type": "stream",
     "text": [
      "Empty DataFrame\n",
      "Columns: [Variable Name, Start Time, End Time, Timesteps, Error Flag]\n",
      "Index: []\n",
      "pm25\n"
     ]
    },
    {
     "name": "stderr",
     "output_type": "stream",
     "text": [
      "Check for missing data\n",
      "Check for corrupt data\n",
      "Check for data outside expected range\n",
      "Check for data outside expected range\n",
      "Check for corrupt data\n",
      "Check for corrupt data\n",
      "Check for missing data\n",
      "Check for corrupt data\n",
      "Check for data outside expected range\n",
      "Check for data outside expected range\n",
      "Check for corrupt data\n",
      "Check for corrupt data\n"
     ]
    },
    {
     "name": "stdout",
     "output_type": "stream",
     "text": [
      "Empty DataFrame\n",
      "Columns: [Variable Name, Start Time, End Time, Timesteps, Error Flag]\n",
      "Index: []\n",
      "Nishant Ganj, Lucknow - UPPCB\n",
      "no2\n",
      "Empty DataFrame\n",
      "Columns: [Variable Name, Start Time, End Time, Timesteps, Error Flag]\n",
      "Index: []\n",
      "so2\n"
     ]
    },
    {
     "name": "stderr",
     "output_type": "stream",
     "text": [
      "Check for missing data\n",
      "Check for corrupt data\n",
      "Check for data outside expected range\n",
      "Check for data outside expected range\n",
      "Check for corrupt data\n",
      "Check for corrupt data\n"
     ]
    },
    {
     "name": "stdout",
     "output_type": "stream",
     "text": [
      "Empty DataFrame\n",
      "Columns: [Variable Name, Start Time, End Time, Timesteps, Error Flag]\n",
      "Index: []\n",
      "co\n"
     ]
    },
    {
     "name": "stderr",
     "output_type": "stream",
     "text": [
      "Check for missing data\n",
      "Check for corrupt data\n",
      "Check for data outside expected range\n",
      "Check for data outside expected range\n",
      "Check for corrupt data\n",
      "Check for corrupt data\n"
     ]
    },
    {
     "name": "stdout",
     "output_type": "stream",
     "text": [
      "Empty DataFrame\n",
      "Columns: [Variable Name, Start Time, End Time, Timesteps, Error Flag]\n",
      "Index: []\n",
      "o3\n"
     ]
    },
    {
     "name": "stderr",
     "output_type": "stream",
     "text": [
      "Check for missing data\n",
      "Check for corrupt data\n",
      "Check for data outside expected range\n",
      "Check for data outside expected range\n",
      "Check for corrupt data\n",
      "Check for corrupt data\n",
      "Check for missing data\n",
      "Check for corrupt data\n",
      "Check for data outside expected range\n",
      "Check for data outside expected range\n",
      "Check for corrupt data\n",
      "Check for corrupt data\n"
     ]
    },
    {
     "name": "stdout",
     "output_type": "stream",
     "text": [
      "Empty DataFrame\n",
      "Columns: [Variable Name, Start Time, End Time, Timesteps, Error Flag]\n",
      "Index: []\n",
      "pm25\n",
      "Empty DataFrame\n",
      "Columns: [Variable Name, Start Time, End Time, Timesteps, Error Flag]\n",
      "Index: []\n",
      "Sidhu Kanhu Indoor Stadium, Durgapur - WBSPCB\n",
      "no2\n"
     ]
    },
    {
     "name": "stderr",
     "output_type": "stream",
     "text": [
      "Check for missing data\n",
      "Check for corrupt data\n",
      "Check for data outside expected range\n",
      "Check for data outside expected range\n",
      "Check for corrupt data\n"
     ]
    },
    {
     "name": "stdout",
     "output_type": "stream",
     "text": [
      "Empty DataFrame\n",
      "Columns: [Variable Name, Start Time, End Time, Timesteps, Error Flag]\n",
      "Index: []\n",
      "so2\n"
     ]
    },
    {
     "name": "stderr",
     "output_type": "stream",
     "text": [
      "Check for corrupt data\n",
      "Check for missing data\n",
      "Check for corrupt data\n",
      "Check for data outside expected range\n",
      "Check for data outside expected range\n",
      "Check for corrupt data\n",
      "Check for corrupt data\n"
     ]
    },
    {
     "name": "stdout",
     "output_type": "stream",
     "text": [
      "Empty DataFrame\n",
      "Columns: [Variable Name, Start Time, End Time, Timesteps, Error Flag]\n",
      "Index: []\n",
      "co\n"
     ]
    },
    {
     "name": "stderr",
     "output_type": "stream",
     "text": [
      "Check for missing data\n",
      "Check for corrupt data\n",
      "Check for data outside expected range\n",
      "Check for data outside expected range\n",
      "Check for corrupt data\n",
      "Check for corrupt data\n"
     ]
    },
    {
     "name": "stdout",
     "output_type": "stream",
     "text": [
      "Empty DataFrame\n",
      "Columns: [Variable Name, Start Time, End Time, Timesteps, Error Flag]\n",
      "Index: []\n",
      "pm10\n"
     ]
    },
    {
     "name": "stderr",
     "output_type": "stream",
     "text": [
      "Check for missing data\n",
      "Check for corrupt data\n",
      "Check for data outside expected range\n",
      "Check for data outside expected range\n",
      "Check for corrupt data\n",
      "Check for corrupt data\n",
      "Check for missing data\n",
      "Check for corrupt data\n",
      "Check for data outside expected range\n",
      "Check for data outside expected range\n",
      "Check for corrupt data\n",
      "Check for corrupt data\n"
     ]
    },
    {
     "name": "stdout",
     "output_type": "stream",
     "text": [
      "Empty DataFrame\n",
      "Columns: [Variable Name, Start Time, End Time, Timesteps, Error Flag]\n",
      "Index: []\n",
      "Haldia - WBSPCB\n",
      "no2\n",
      "Empty DataFrame\n",
      "Columns: [Variable Name, Start Time, End Time, Timesteps, Error Flag]\n",
      "Index: []\n",
      "so2\n"
     ]
    },
    {
     "name": "stderr",
     "output_type": "stream",
     "text": [
      "Check for missing data\n",
      "Check for corrupt data\n",
      "Check for data outside expected range\n",
      "Check for data outside expected range\n",
      "Check for corrupt data\n"
     ]
    },
    {
     "name": "stdout",
     "output_type": "stream",
     "text": [
      "Empty DataFrame\n",
      "Columns: [Variable Name, Start Time, End Time, Timesteps, Error Flag]\n",
      "Index: []\n",
      "pm10\n"
     ]
    },
    {
     "name": "stderr",
     "output_type": "stream",
     "text": [
      "Check for corrupt data\n",
      "Check for missing data\n",
      "Check for corrupt data\n",
      "Check for data outside expected range\n",
      "Check for data outside expected range\n",
      "Check for corrupt data\n",
      "Check for corrupt data\n"
     ]
    },
    {
     "name": "stdout",
     "output_type": "stream",
     "text": [
      "Empty DataFrame\n",
      "Columns: [Variable Name, Start Time, End Time, Timesteps, Error Flag]\n",
      "Index: []\n",
      "Bukhiin urguu\n",
      "pm10\n"
     ]
    },
    {
     "name": "stderr",
     "output_type": "stream",
     "text": [
      "Check for missing data\n",
      "Check for corrupt data\n",
      "Check for data outside expected range\n",
      "Check for data outside expected range\n",
      "Check for corrupt data\n",
      "Check for corrupt data\n",
      "Check for missing data\n",
      "Check for corrupt data\n",
      "Check for data outside expected range\n",
      "Check for data outside expected range\n",
      "Check for corrupt data\n"
     ]
    },
    {
     "name": "stdout",
     "output_type": "stream",
     "text": [
      "Empty DataFrame\n",
      "Columns: [Variable Name, Start Time, End Time, Timesteps, Error Flag]\n",
      "Index: []\n",
      "pm25\n",
      "Empty DataFrame\n",
      "Columns: [Variable Name, Start Time, End Time, Timesteps, Error Flag]\n",
      "Index: []\n",
      "co\n"
     ]
    },
    {
     "name": "stderr",
     "output_type": "stream",
     "text": [
      "Check for corrupt data\n",
      "Check for missing data\n",
      "Check for corrupt data\n",
      "Check for data outside expected range\n",
      "Check for data outside expected range\n",
      "Check for corrupt data\n",
      "Check for corrupt data\n"
     ]
    },
    {
     "name": "stdout",
     "output_type": "stream",
     "text": [
      "Empty DataFrame\n",
      "Columns: [Variable Name, Start Time, End Time, Timesteps, Error Flag]\n",
      "Index: []\n",
      "so2\n"
     ]
    },
    {
     "name": "stderr",
     "output_type": "stream",
     "text": [
      "Check for missing data\n",
      "Check for corrupt data\n",
      "Check for data outside expected range\n",
      "Check for data outside expected range\n",
      "Check for corrupt data\n",
      "Check for corrupt data\n"
     ]
    },
    {
     "name": "stdout",
     "output_type": "stream",
     "text": [
      "Empty DataFrame\n",
      "Columns: [Variable Name, Start Time, End Time, Timesteps, Error Flag]\n",
      "Index: []\n",
      "no2\n"
     ]
    },
    {
     "name": "stderr",
     "output_type": "stream",
     "text": [
      "Check for missing data\n",
      "Check for corrupt data\n",
      "Check for data outside expected range\n",
      "Check for data outside expected range\n",
      "Check for corrupt data\n",
      "Check for corrupt data\n"
     ]
    },
    {
     "name": "stdout",
     "output_type": "stream",
     "text": [
      "Empty DataFrame\n",
      "Columns: [Variable Name, Start Time, End Time, Timesteps, Error Flag]\n",
      "Index: []\n",
      "o3\n"
     ]
    },
    {
     "name": "stderr",
     "output_type": "stream",
     "text": [
      "Check for missing data\n",
      "Check for corrupt data\n",
      "Check for data outside expected range\n",
      "Check for data outside expected range\n",
      "Check for corrupt data\n",
      "Check for corrupt data\n",
      "Check for missing data\n",
      "Check for corrupt data\n",
      "Check for data outside expected range\n",
      "Check for data outside expected range\n",
      "Check for corrupt data\n",
      "Check for corrupt data\n"
     ]
    },
    {
     "name": "stdout",
     "output_type": "stream",
     "text": [
      "Empty DataFrame\n",
      "Columns: [Variable Name, Start Time, End Time, Timesteps, Error Flag]\n",
      "Index: []\n",
      "Mongol gazar\n",
      "pm10\n",
      "Empty DataFrame\n",
      "Columns: [Variable Name, Start Time, End Time, Timesteps, Error Flag]\n",
      "Index: []\n",
      "co\n"
     ]
    },
    {
     "name": "stderr",
     "output_type": "stream",
     "text": [
      "Check for missing data\n",
      "Check for corrupt data\n",
      "Check for data outside expected range\n",
      "Check for data outside expected range\n",
      "Check for corrupt data\n",
      "Check for corrupt data\n"
     ]
    },
    {
     "name": "stdout",
     "output_type": "stream",
     "text": [
      "Empty DataFrame\n",
      "Columns: [Variable Name, Start Time, End Time, Timesteps, Error Flag]\n",
      "Index: []\n",
      "so2\n"
     ]
    },
    {
     "name": "stderr",
     "output_type": "stream",
     "text": [
      "Check for missing data\n",
      "Check for corrupt data\n",
      "Check for data outside expected range\n",
      "Check for data outside expected range\n",
      "Check for corrupt data\n"
     ]
    },
    {
     "name": "stdout",
     "output_type": "stream",
     "text": [
      "Empty DataFrame\n",
      "Columns: [Variable Name, Start Time, End Time, Timesteps, Error Flag]\n",
      "Index: []\n",
      "no2\n"
     ]
    },
    {
     "name": "stderr",
     "output_type": "stream",
     "text": [
      "Check for corrupt data\n",
      "Check for missing data\n",
      "Check for corrupt data\n",
      "Check for data outside expected range\n",
      "Check for data outside expected range\n",
      "Check for corrupt data\n",
      "Check for corrupt data\n"
     ]
    },
    {
     "name": "stdout",
     "output_type": "stream",
     "text": [
      "Empty DataFrame\n",
      "Columns: [Variable Name, Start Time, End Time, Timesteps, Error Flag]\n",
      "Index: []\n",
      "Amsterdam-Einsteinweg\n",
      "co\n"
     ]
    },
    {
     "name": "stderr",
     "output_type": "stream",
     "text": [
      "Check for missing data\n",
      "Check for corrupt data\n",
      "Check for data outside expected range\n",
      "Check for data outside expected range\n",
      "Check for corrupt data\n"
     ]
    },
    {
     "name": "stdout",
     "output_type": "stream",
     "text": [
      "  Variable Name Start Time   End Time Timesteps    Error Flag\n",
      "0         value 2018-01-01 2018-01-01         2  Corrupt data\n",
      "no2\n"
     ]
    },
    {
     "name": "stderr",
     "output_type": "stream",
     "text": [
      "Check for corrupt data\n",
      "Check for missing data\n",
      "Check for corrupt data\n",
      "Check for data outside expected range\n",
      "Check for data outside expected range\n",
      "Check for corrupt data\n",
      "Check for corrupt data\n"
     ]
    },
    {
     "name": "stdout",
     "output_type": "stream",
     "text": [
      "  Variable Name Start Time   End Time Timesteps    Error Flag\n",
      "0         value 2018-01-01 2018-01-01         2  Corrupt data\n",
      "pm25\n"
     ]
    },
    {
     "name": "stderr",
     "output_type": "stream",
     "text": [
      "Check for missing data\n",
      "Check for corrupt data\n",
      "Check for data outside expected range\n",
      "Check for data outside expected range\n"
     ]
    },
    {
     "name": "stdout",
     "output_type": "stream",
     "text": [
      "  Variable Name Start Time   End Time Timesteps    Error Flag\n",
      "0         value 2018-01-01 2018-01-01         2  Corrupt data\n",
      "pm10\n"
     ]
    },
    {
     "name": "stderr",
     "output_type": "stream",
     "text": [
      "Check for corrupt data\n",
      "Check for corrupt data\n",
      "Check for missing data\n",
      "Check for corrupt data\n",
      "Check for data outside expected range\n",
      "Check for data outside expected range\n",
      "Check for corrupt data\n"
     ]
    },
    {
     "name": "stdout",
     "output_type": "stream",
     "text": [
      "  Variable Name Start Time   End Time Timesteps    Error Flag\n",
      "0         value 2018-01-01 2018-01-01         2  Corrupt data\n",
      "Amsterdam-Van Diemenstraat\n",
      "co\n"
     ]
    },
    {
     "name": "stderr",
     "output_type": "stream",
     "text": [
      "Check for corrupt data\n",
      "Check for missing data\n",
      "Check for corrupt data\n",
      "Check for data outside expected range\n",
      "Check for data outside expected range\n",
      "Check for corrupt data\n"
     ]
    },
    {
     "name": "stdout",
     "output_type": "stream",
     "text": [
      "  Variable Name Start Time   End Time Timesteps    Error Flag\n",
      "0         value 2018-01-01 2018-01-01         2  Corrupt data\n",
      "no2\n"
     ]
    },
    {
     "name": "stderr",
     "output_type": "stream",
     "text": [
      "Check for corrupt data\n",
      "Check for missing data\n",
      "Check for corrupt data\n",
      "Check for data outside expected range\n",
      "Check for data outside expected range\n",
      "Check for corrupt data\n",
      "Check for corrupt data\n"
     ]
    },
    {
     "name": "stdout",
     "output_type": "stream",
     "text": [
      "  Variable Name Start Time   End Time Timesteps    Error Flag\n",
      "0         value 2018-01-01 2018-01-01         2  Corrupt data\n",
      "o3\n"
     ]
    },
    {
     "name": "stderr",
     "output_type": "stream",
     "text": [
      "Check for missing data\n",
      "Check for corrupt data\n",
      "Check for data outside expected range\n",
      "Check for data outside expected range\n",
      "Check for corrupt data\n",
      "Check for corrupt data\n",
      "Check for missing data\n",
      "Check for corrupt data\n",
      "Check for data outside expected range\n",
      "Check for data outside expected range\n",
      "Check for corrupt data\n",
      "Check for corrupt data\n"
     ]
    },
    {
     "name": "stdout",
     "output_type": "stream",
     "text": [
      "  Variable Name Start Time   End Time Timesteps    Error Flag\n",
      "0         value 2018-01-01 2018-01-01         2  Corrupt data\n",
      "pm25\n",
      "Empty DataFrame\n",
      "Columns: [Variable Name, Start Time, End Time, Timesteps, Error Flag]\n",
      "Index: []\n",
      "pm10\n"
     ]
    },
    {
     "name": "stderr",
     "output_type": "stream",
     "text": [
      "Check for missing data\n",
      "Check for corrupt data\n",
      "Check for data outside expected range\n",
      "Check for data outside expected range\n",
      "Check for corrupt data\n",
      "Check for corrupt data\n",
      "Check for missing data\n",
      "Check for corrupt data\n",
      "Check for data outside expected range\n",
      "Check for data outside expected range\n",
      "Check for corrupt data\n"
     ]
    },
    {
     "name": "stdout",
     "output_type": "stream",
     "text": [
      "Empty DataFrame\n",
      "Columns: [Variable Name, Start Time, End Time, Timesteps, Error Flag]\n",
      "Index: []\n",
      "Amsterdam-Vondelpark\n",
      "co\n",
      "  Variable Name Start Time   End Time Timesteps    Error Flag\n",
      "0         value 2018-01-01 2018-01-01         2  Corrupt data\n",
      "no2\n"
     ]
    },
    {
     "name": "stderr",
     "output_type": "stream",
     "text": [
      "Check for corrupt data\n",
      "Check for missing data\n",
      "Check for corrupt data\n",
      "Check for data outside expected range\n",
      "Check for data outside expected range\n",
      "Check for corrupt data\n",
      "Check for corrupt data\n"
     ]
    },
    {
     "name": "stdout",
     "output_type": "stream",
     "text": [
      "  Variable Name Start Time   End Time Timesteps    Error Flag\n",
      "0         value 2018-01-01 2018-01-01         2  Corrupt data\n",
      "o3\n"
     ]
    },
    {
     "name": "stderr",
     "output_type": "stream",
     "text": [
      "Check for missing data\n",
      "Check for corrupt data\n",
      "Check for data outside expected range\n",
      "Check for data outside expected range\n",
      "Check for corrupt data\n",
      "Check for corrupt data\n"
     ]
    },
    {
     "name": "stdout",
     "output_type": "stream",
     "text": [
      "  Variable Name Start Time   End Time Timesteps    Error Flag\n",
      "0         value 2018-01-01 2018-01-01         2  Corrupt data\n",
      "pm25\n"
     ]
    },
    {
     "name": "stderr",
     "output_type": "stream",
     "text": [
      "Check for missing data\n",
      "Check for corrupt data\n",
      "Check for data outside expected range\n",
      "Check for data outside expected range\n",
      "Check for corrupt data\n",
      "Check for corrupt data\n"
     ]
    },
    {
     "name": "stdout",
     "output_type": "stream",
     "text": [
      "Empty DataFrame\n",
      "Columns: [Variable Name, Start Time, End Time, Timesteps, Error Flag]\n",
      "Index: []\n",
      "pm10\n"
     ]
    },
    {
     "name": "stderr",
     "output_type": "stream",
     "text": [
      "Check for missing data\n",
      "Check for corrupt data\n",
      "Check for data outside expected range\n",
      "Check for data outside expected range\n",
      "Check for corrupt data\n",
      "Check for corrupt data\n"
     ]
    },
    {
     "name": "stdout",
     "output_type": "stream",
     "text": [
      "Empty DataFrame\n",
      "Columns: [Variable Name, Start Time, End Time, Timesteps, Error Flag]\n",
      "Index: []\n",
      "IJmuiden-Kanaaldijk\n",
      "co\n"
     ]
    },
    {
     "name": "stderr",
     "output_type": "stream",
     "text": [
      "Check for missing data\n",
      "Check for corrupt data\n",
      "Check for data outside expected range\n",
      "Check for data outside expected range\n",
      "Check for corrupt data\n",
      "Check for corrupt data\n"
     ]
    },
    {
     "name": "stdout",
     "output_type": "stream",
     "text": [
      "  Variable Name Start Time   End Time Timesteps    Error Flag\n",
      "0         value 2018-01-01 2018-01-01         2  Corrupt data\n",
      "no2\n"
     ]
    },
    {
     "name": "stderr",
     "output_type": "stream",
     "text": [
      "Check for missing data\n",
      "Check for corrupt data\n",
      "Check for data outside expected range\n",
      "Check for data outside expected range\n",
      "Check for corrupt data\n",
      "Check for corrupt data\n"
     ]
    },
    {
     "name": "stdout",
     "output_type": "stream",
     "text": [
      "  Variable Name Start Time   End Time Timesteps    Error Flag\n",
      "0         value 2018-01-01 2018-01-01         2  Corrupt data\n",
      "pm25\n"
     ]
    },
    {
     "name": "stderr",
     "output_type": "stream",
     "text": [
      "Check for missing data\n",
      "Check for corrupt data\n",
      "Check for data outside expected range\n",
      "Check for data outside expected range\n",
      "Check for corrupt data\n",
      "Check for corrupt data\n"
     ]
    },
    {
     "name": "stdout",
     "output_type": "stream",
     "text": [
      "Empty DataFrame\n",
      "Columns: [Variable Name, Start Time, End Time, Timesteps, Error Flag]\n",
      "Index: []\n",
      "pm10\n"
     ]
    },
    {
     "name": "stderr",
     "output_type": "stream",
     "text": [
      "Check for missing data\n",
      "Check for corrupt data\n",
      "Check for data outside expected range\n",
      "Check for data outside expected range\n",
      "Check for corrupt data\n"
     ]
    },
    {
     "name": "stdout",
     "output_type": "stream",
     "text": [
      "Empty DataFrame\n",
      "Columns: [Variable Name, Start Time, End Time, Timesteps, Error Flag]\n",
      "Index: []\n",
      "so2\n"
     ]
    },
    {
     "name": "stderr",
     "output_type": "stream",
     "text": [
      "Check for corrupt data\n",
      "Check for missing data\n",
      "Check for corrupt data\n",
      "Check for data outside expected range\n",
      "Check for data outside expected range\n",
      "Check for corrupt data\n",
      "Check for corrupt data\n"
     ]
    },
    {
     "name": "stdout",
     "output_type": "stream",
     "text": [
      "  Variable Name Start Time   End Time Timesteps    Error Flag\n",
      "0         value 2018-01-01 2018-01-01         2  Corrupt data\n",
      "Wijk aan Zee-Burgemeester Rothestraat\n",
      "co\n"
     ]
    },
    {
     "name": "stderr",
     "output_type": "stream",
     "text": [
      "Check for missing data\n",
      "Check for corrupt data\n",
      "Check for data outside expected range\n",
      "Check for data outside expected range\n",
      "Check for corrupt data\n",
      "Check for corrupt data\n"
     ]
    },
    {
     "name": "stdout",
     "output_type": "stream",
     "text": [
      "  Variable Name Start Time   End Time Timesteps    Error Flag\n",
      "0         value 2018-01-01 2018-01-01         2  Corrupt data\n",
      "no2\n"
     ]
    },
    {
     "name": "stderr",
     "output_type": "stream",
     "text": [
      "Check for missing data\n",
      "Check for corrupt data\n",
      "Check for data outside expected range\n",
      "Check for data outside expected range\n",
      "Check for corrupt data\n",
      "Check for corrupt data\n",
      "Check for missing data\n",
      "Check for corrupt data\n",
      "Check for data outside expected range\n",
      "Check for data outside expected range\n",
      "Check for corrupt data\n",
      "Check for corrupt data\n"
     ]
    },
    {
     "name": "stdout",
     "output_type": "stream",
     "text": [
      "  Variable Name Start Time   End Time Timesteps    Error Flag\n",
      "0         value 2018-01-01 2018-01-01         2  Corrupt data\n",
      "pm25\n",
      "Empty DataFrame\n",
      "Columns: [Variable Name, Start Time, End Time, Timesteps, Error Flag]\n",
      "Index: []\n",
      "pm10\n"
     ]
    },
    {
     "name": "stderr",
     "output_type": "stream",
     "text": [
      "Check for missing data\n",
      "Check for corrupt data\n",
      "Check for data outside expected range\n",
      "Check for data outside expected range\n",
      "Check for corrupt data\n",
      "Check for corrupt data\n"
     ]
    },
    {
     "name": "stdout",
     "output_type": "stream",
     "text": [
      "Empty DataFrame\n",
      "Columns: [Variable Name, Start Time, End Time, Timesteps, Error Flag]\n",
      "Index: []\n",
      "so2\n"
     ]
    },
    {
     "name": "stderr",
     "output_type": "stream",
     "text": [
      "Check for missing data\n",
      "Check for corrupt data\n",
      "Check for data outside expected range\n",
      "Check for data outside expected range\n",
      "Check for corrupt data\n",
      "Check for corrupt data\n"
     ]
    },
    {
     "name": "stdout",
     "output_type": "stream",
     "text": [
      "  Variable Name Start Time   End Time Timesteps    Error Flag\n",
      "0         value 2018-01-01 2018-01-01         2  Corrupt data\n",
      "Badhoevedorp-Sloterweg\n",
      "co\n"
     ]
    },
    {
     "name": "stderr",
     "output_type": "stream",
     "text": [
      "Check for missing data\n",
      "Check for corrupt data\n",
      "Check for data outside expected range\n",
      "Check for data outside expected range\n",
      "Check for corrupt data\n",
      "Check for corrupt data\n",
      "Check for missing data\n",
      "Check for corrupt data\n",
      "Check for data outside expected range\n",
      "Check for data outside expected range\n",
      "Check for corrupt data\n",
      "Check for corrupt data\n"
     ]
    },
    {
     "name": "stdout",
     "output_type": "stream",
     "text": [
      "  Variable Name Start Time   End Time Timesteps    Error Flag\n",
      "0         value 2018-01-01 2018-01-01         2  Corrupt data\n",
      "no2\n",
      "  Variable Name Start Time   End Time Timesteps    Error Flag\n",
      "0         value 2018-01-01 2018-01-01         2  Corrupt data\n",
      "pm25\n"
     ]
    },
    {
     "name": "stderr",
     "output_type": "stream",
     "text": [
      "Check for missing data\n",
      "Check for corrupt data\n",
      "Check for data outside expected range\n",
      "Check for data outside expected range\n",
      "Check for corrupt data\n"
     ]
    },
    {
     "name": "stdout",
     "output_type": "stream",
     "text": [
      "Empty DataFrame\n",
      "Columns: [Variable Name, Start Time, End Time, Timesteps, Error Flag]\n",
      "Index: []\n",
      "pm10\n"
     ]
    },
    {
     "name": "stderr",
     "output_type": "stream",
     "text": [
      "Check for corrupt data\n",
      "Check for missing data\n",
      "Check for corrupt data\n",
      "Check for data outside expected range\n",
      "Check for data outside expected range\n",
      "Check for corrupt data\n",
      "Check for corrupt data\n"
     ]
    },
    {
     "name": "stdout",
     "output_type": "stream",
     "text": [
      "Empty DataFrame\n",
      "Columns: [Variable Name, Start Time, End Time, Timesteps, Error Flag]\n",
      "Index: []\n",
      "Zegveld-Oude Meije\n",
      "co\n"
     ]
    },
    {
     "name": "stderr",
     "output_type": "stream",
     "text": [
      "Check for missing data\n",
      "Check for corrupt data\n",
      "Check for data outside expected range\n",
      "Check for data outside expected range\n",
      "Check for corrupt data\n",
      "Check for corrupt data\n"
     ]
    },
    {
     "name": "stdout",
     "output_type": "stream",
     "text": [
      "  Variable Name Start Time   End Time Timesteps             Error Flag\n",
      "0         value 2018-01-01 2018-01-01         2  Data < lower bound, 0\n",
      "no2\n"
     ]
    },
    {
     "name": "stderr",
     "output_type": "stream",
     "text": [
      "Check for missing data\n",
      "Check for corrupt data\n",
      "Check for data outside expected range\n",
      "Check for data outside expected range\n",
      "Check for corrupt data\n",
      "Check for corrupt data\n"
     ]
    },
    {
     "name": "stdout",
     "output_type": "stream",
     "text": [
      "Empty DataFrame\n",
      "Columns: [Variable Name, Start Time, End Time, Timesteps, Error Flag]\n",
      "Index: []\n",
      "o3\n"
     ]
    },
    {
     "name": "stderr",
     "output_type": "stream",
     "text": [
      "Check for missing data\n",
      "Check for corrupt data\n",
      "Check for data outside expected range\n",
      "Check for data outside expected range\n",
      "Check for corrupt data\n",
      "Check for corrupt data\n"
     ]
    },
    {
     "name": "stdout",
     "output_type": "stream",
     "text": [
      "Empty DataFrame\n",
      "Columns: [Variable Name, Start Time, End Time, Timesteps, Error Flag]\n",
      "Index: []\n",
      "pm10\n"
     ]
    },
    {
     "name": "stderr",
     "output_type": "stream",
     "text": [
      "Check for missing data\n",
      "Check for corrupt data\n",
      "Check for data outside expected range\n",
      "Check for data outside expected range\n",
      "Check for corrupt data\n",
      "Check for corrupt data\n"
     ]
    },
    {
     "name": "stdout",
     "output_type": "stream",
     "text": [
      "Empty DataFrame\n",
      "Columns: [Variable Name, Start Time, End Time, Timesteps, Error Flag]\n",
      "Index: []\n",
      "Cabauw-Wielsekade\n",
      "co\n"
     ]
    },
    {
     "name": "stderr",
     "output_type": "stream",
     "text": [
      "Check for missing data\n",
      "Check for corrupt data\n",
      "Check for data outside expected range\n",
      "Check for data outside expected range\n",
      "Check for corrupt data\n",
      "Check for corrupt data\n"
     ]
    },
    {
     "name": "stdout",
     "output_type": "stream",
     "text": [
      "Empty DataFrame\n",
      "Columns: [Variable Name, Start Time, End Time, Timesteps, Error Flag]\n",
      "Index: []\n",
      "no2\n"
     ]
    },
    {
     "name": "stderr",
     "output_type": "stream",
     "text": [
      "Check for missing data\n",
      "Check for corrupt data\n",
      "Check for data outside expected range\n",
      "Check for data outside expected range\n",
      "Check for corrupt data\n",
      "Check for corrupt data\n",
      "Check for missing data\n",
      "Check for corrupt data\n",
      "Check for data outside expected range\n",
      "Check for data outside expected range\n",
      "Check for corrupt data\n",
      "Check for corrupt data\n"
     ]
    },
    {
     "name": "stdout",
     "output_type": "stream",
     "text": [
      "  Variable Name Start Time   End Time Timesteps             Error Flag\n",
      "0         value 2018-01-01 2018-01-01         2  Data < lower bound, 0\n",
      "o3\n",
      "Empty DataFrame\n",
      "Columns: [Variable Name, Start Time, End Time, Timesteps, Error Flag]\n",
      "Index: []\n",
      "pm25\n"
     ]
    },
    {
     "name": "stderr",
     "output_type": "stream",
     "text": [
      "Check for missing data\n",
      "Check for corrupt data\n",
      "Check for data outside expected range\n",
      "Check for data outside expected range\n",
      "Check for corrupt data\n"
     ]
    },
    {
     "name": "stdout",
     "output_type": "stream",
     "text": [
      "Empty DataFrame\n",
      "Columns: [Variable Name, Start Time, End Time, Timesteps, Error Flag]\n",
      "Index: []\n",
      "pm10\n"
     ]
    },
    {
     "name": "stderr",
     "output_type": "stream",
     "text": [
      "Check for corrupt data\n",
      "Check for missing data\n",
      "Check for corrupt data\n",
      "Check for data outside expected range\n",
      "Check for data outside expected range\n",
      "Check for corrupt data\n",
      "Check for corrupt data\n"
     ]
    },
    {
     "name": "stdout",
     "output_type": "stream",
     "text": [
      "Empty DataFrame\n",
      "Columns: [Variable Name, Start Time, End Time, Timesteps, Error Flag]\n",
      "Index: []\n",
      "so2\n"
     ]
    },
    {
     "name": "stderr",
     "output_type": "stream",
     "text": [
      "Check for missing data\n",
      "Check for corrupt data\n",
      "Check for data outside expected range\n",
      "Check for data outside expected range\n",
      "Check for corrupt data\n",
      "Check for corrupt data\n",
      "Check for missing data\n",
      "Check for corrupt data\n",
      "Check for data outside expected range\n",
      "Check for data outside expected range\n",
      "Check for corrupt data\n"
     ]
    },
    {
     "name": "stdout",
     "output_type": "stream",
     "text": [
      "Empty DataFrame\n",
      "Columns: [Variable Name, Start Time, End Time, Timesteps, Error Flag]\n",
      "Index: []\n",
      "Nijmegen-Graafseweg\n",
      "co\n",
      "Empty DataFrame\n",
      "Columns: [Variable Name, Start Time, End Time, Timesteps, Error Flag]\n",
      "Index: []\n",
      "no2\n"
     ]
    },
    {
     "name": "stderr",
     "output_type": "stream",
     "text": [
      "Check for corrupt data\n",
      "Check for missing data\n",
      "Check for corrupt data\n",
      "Check for data outside expected range\n",
      "Check for data outside expected range\n",
      "Check for corrupt data\n",
      "Check for corrupt data\n"
     ]
    },
    {
     "name": "stdout",
     "output_type": "stream",
     "text": [
      "Empty DataFrame\n",
      "Columns: [Variable Name, Start Time, End Time, Timesteps, Error Flag]\n",
      "Index: []\n",
      "pm25\n"
     ]
    },
    {
     "name": "stderr",
     "output_type": "stream",
     "text": [
      "Check for missing data\n",
      "Check for corrupt data\n",
      "Check for data outside expected range\n",
      "Check for data outside expected range\n",
      "Check for corrupt data\n",
      "Check for corrupt data\n",
      "Check for missing data\n",
      "Check for corrupt data\n",
      "Check for data outside expected range\n",
      "Check for data outside expected range\n",
      "Check for corrupt data\n",
      "Check for corrupt data\n"
     ]
    },
    {
     "name": "stdout",
     "output_type": "stream",
     "text": [
      "Empty DataFrame\n",
      "Columns: [Variable Name, Start Time, End Time, Timesteps, Error Flag]\n",
      "Index: []\n",
      "pm10\n",
      "Empty DataFrame\n",
      "Columns: [Variable Name, Start Time, End Time, Timesteps, Error Flag]\n",
      "Index: []\n",
      "Nijmegen-Ruyterstraat\n",
      "co\n"
     ]
    },
    {
     "name": "stderr",
     "output_type": "stream",
     "text": [
      "Check for missing data\n",
      "Check for corrupt data\n",
      "Check for data outside expected range\n",
      "Check for data outside expected range\n",
      "Check for corrupt data\n",
      "Check for corrupt data\n",
      "Check for missing data\n",
      "Check for corrupt data\n",
      "Check for data outside expected range\n",
      "Check for data outside expected range\n",
      "Check for corrupt data\n",
      "Check for corrupt data\n"
     ]
    },
    {
     "name": "stdout",
     "output_type": "stream",
     "text": [
      "Empty DataFrame\n",
      "Columns: [Variable Name, Start Time, End Time, Timesteps, Error Flag]\n",
      "Index: []\n",
      "no2\n",
      "Empty DataFrame\n",
      "Columns: [Variable Name, Start Time, End Time, Timesteps, Error Flag]\n",
      "Index: []\n",
      "o3\n"
     ]
    },
    {
     "name": "stderr",
     "output_type": "stream",
     "text": [
      "Check for missing data\n",
      "Check for corrupt data\n",
      "Check for data outside expected range\n",
      "Check for data outside expected range\n",
      "Check for corrupt data\n",
      "Check for corrupt data\n",
      "Check for missing data\n",
      "Check for corrupt data\n",
      "Check for data outside expected range\n",
      "Check for data outside expected range\n",
      "Check for corrupt data\n"
     ]
    },
    {
     "name": "stdout",
     "output_type": "stream",
     "text": [
      "Empty DataFrame\n",
      "Columns: [Variable Name, Start Time, End Time, Timesteps, Error Flag]\n",
      "Index: []\n",
      "pm25\n",
      "Empty DataFrame\n",
      "Columns: [Variable Name, Start Time, End Time, Timesteps, Error Flag]\n",
      "Index: []\n",
      "Hoogvliet-Leemkuil\n",
      "no2\n"
     ]
    },
    {
     "name": "stderr",
     "output_type": "stream",
     "text": [
      "Check for corrupt data\n",
      "Check for missing data\n",
      "Check for corrupt data\n",
      "Check for data outside expected range\n",
      "Check for data outside expected range\n",
      "Check for corrupt data\n"
     ]
    },
    {
     "name": "stdout",
     "output_type": "stream",
     "text": [
      "  Variable Name Start Time   End Time Timesteps    Error Flag\n",
      "0         value 2018-01-01 2018-01-01         2  Corrupt data\n",
      "o3\n"
     ]
    },
    {
     "name": "stderr",
     "output_type": "stream",
     "text": [
      "Check for corrupt data\n",
      "Check for missing data\n",
      "Check for corrupt data\n",
      "Check for data outside expected range\n",
      "Check for data outside expected range\n",
      "Check for corrupt data\n",
      "Check for corrupt data\n"
     ]
    },
    {
     "name": "stdout",
     "output_type": "stream",
     "text": [
      "  Variable Name Start Time   End Time Timesteps    Error Flag\n",
      "0         value 2018-01-01 2018-01-01         2  Corrupt data\n",
      "pm25\n"
     ]
    },
    {
     "name": "stderr",
     "output_type": "stream",
     "text": [
      "Check for missing data\n",
      "Check for corrupt data\n",
      "Check for data outside expected range\n",
      "Check for data outside expected range\n",
      "Check for corrupt data\n"
     ]
    },
    {
     "name": "stdout",
     "output_type": "stream",
     "text": [
      "  Variable Name Start Time   End Time Timesteps    Error Flag\n",
      "0         value 2018-01-01 2018-01-01         2  Corrupt data\n",
      "pm10\n"
     ]
    },
    {
     "name": "stderr",
     "output_type": "stream",
     "text": [
      "Check for corrupt data\n",
      "Check for missing data\n",
      "Check for corrupt data\n",
      "Check for data outside expected range\n",
      "Check for data outside expected range\n",
      "Check for corrupt data\n",
      "Check for corrupt data\n"
     ]
    },
    {
     "name": "stdout",
     "output_type": "stream",
     "text": [
      "Empty DataFrame\n",
      "Columns: [Variable Name, Start Time, End Time, Timesteps, Error Flag]\n",
      "Index: []\n",
      "Rotterdam Zuid-Zwartewaalstraat\n",
      "no2\n"
     ]
    },
    {
     "name": "stderr",
     "output_type": "stream",
     "text": [
      "Check for missing data\n",
      "Check for corrupt data\n",
      "Check for data outside expected range\n",
      "Check for data outside expected range\n",
      "Check for corrupt data\n",
      "Check for corrupt data\n"
     ]
    },
    {
     "name": "stdout",
     "output_type": "stream",
     "text": [
      "  Variable Name Start Time   End Time Timesteps    Error Flag\n",
      "0         value 2018-01-01 2018-01-01         2  Corrupt data\n",
      "pm25\n"
     ]
    },
    {
     "name": "stderr",
     "output_type": "stream",
     "text": [
      "Check for missing data\n",
      "Check for corrupt data\n",
      "Check for data outside expected range\n",
      "Check for data outside expected range\n",
      "Check for corrupt data\n",
      "Check for corrupt data\n",
      "Check for missing data\n",
      "Check for corrupt data\n",
      "Check for data outside expected range\n",
      "Check for data outside expected range\n",
      "Check for corrupt data\n",
      "Check for corrupt data\n"
     ]
    },
    {
     "name": "stdout",
     "output_type": "stream",
     "text": [
      "Empty DataFrame\n",
      "Columns: [Variable Name, Start Time, End Time, Timesteps, Error Flag]\n",
      "Index: []\n",
      "pm10\n",
      "Empty DataFrame\n",
      "Columns: [Variable Name, Start Time, End Time, Timesteps, Error Flag]\n",
      "Index: []\n",
      "Ridderkerk-Hogeweg\n",
      "no2\n"
     ]
    },
    {
     "name": "stderr",
     "output_type": "stream",
     "text": [
      "Check for missing data\n",
      "Check for corrupt data\n",
      "Check for data outside expected range\n",
      "Check for data outside expected range\n",
      "Check for corrupt data\n",
      "Check for corrupt data\n",
      "Check for missing data\n",
      "Check for corrupt data\n",
      "Check for data outside expected range\n",
      "Check for data outside expected range\n",
      "Check for corrupt data\n",
      "Check for corrupt data\n"
     ]
    },
    {
     "name": "stdout",
     "output_type": "stream",
     "text": [
      "  Variable Name Start Time   End Time Timesteps    Error Flag\n",
      "0         value 2018-01-01 2018-01-01         2  Corrupt data\n",
      "o3\n",
      "  Variable Name Start Time   End Time Timesteps    Error Flag\n",
      "0         value 2018-01-01 2018-01-01         2  Corrupt data\n",
      "pm25\n"
     ]
    },
    {
     "name": "stderr",
     "output_type": "stream",
     "text": [
      "Check for missing data\n",
      "Check for corrupt data\n",
      "Check for data outside expected range\n",
      "Check for data outside expected range\n",
      "Check for corrupt data\n",
      "Check for corrupt data\n",
      "Check for missing data\n",
      "Check for corrupt data\n",
      "Check for data outside expected range\n",
      "Check for data outside expected range\n",
      "Check for corrupt data\n",
      "Check for corrupt data\n"
     ]
    },
    {
     "name": "stdout",
     "output_type": "stream",
     "text": [
      "Empty DataFrame\n",
      "Columns: [Variable Name, Start Time, End Time, Timesteps, Error Flag]\n",
      "Index: []\n",
      "pm10\n",
      "Empty DataFrame\n",
      "Columns: [Variable Name, Start Time, End Time, Timesteps, Error Flag]\n",
      "Index: []\n",
      "Rotterdam-Oost Sidelinge A13\n",
      "no2\n"
     ]
    },
    {
     "name": "stderr",
     "output_type": "stream",
     "text": [
      "Check for missing data\n",
      "Check for corrupt data\n",
      "Check for data outside expected range\n",
      "Check for data outside expected range\n",
      "Check for corrupt data\n",
      "Check for corrupt data\n"
     ]
    },
    {
     "name": "stdout",
     "output_type": "stream",
     "text": [
      "  Variable Name Start Time   End Time Timesteps    Error Flag\n",
      "0         value 2018-01-01 2018-01-01         2  Corrupt data\n",
      "pm25\n"
     ]
    },
    {
     "name": "stderr",
     "output_type": "stream",
     "text": [
      "Check for missing data\n",
      "Check for corrupt data\n",
      "Check for data outside expected range\n",
      "Check for data outside expected range\n",
      "Check for corrupt data\n",
      "Check for corrupt data\n",
      "Check for missing data\n",
      "Check for corrupt data\n",
      "Check for data outside expected range\n",
      "Check for data outside expected range\n",
      "Check for corrupt data\n",
      "Check for corrupt data\n"
     ]
    },
    {
     "name": "stdout",
     "output_type": "stream",
     "text": [
      "Empty DataFrame\n",
      "Columns: [Variable Name, Start Time, End Time, Timesteps, Error Flag]\n",
      "Index: []\n",
      "pm10\n",
      "Empty DataFrame\n",
      "Columns: [Variable Name, Start Time, End Time, Timesteps, Error Flag]\n",
      "Index: []\n",
      "Rotterdam Noord -Statenweg\n",
      "no2\n"
     ]
    },
    {
     "name": "stderr",
     "output_type": "stream",
     "text": [
      "Check for missing data\n",
      "Check for corrupt data\n",
      "Check for data outside expected range\n",
      "Check for data outside expected range\n",
      "Check for corrupt data\n",
      "Check for corrupt data\n",
      "Check for missing data\n",
      "Check for corrupt data\n",
      "Check for data outside expected range\n",
      "Check for data outside expected range\n",
      "Check for corrupt data\n",
      "Check for corrupt data\n"
     ]
    },
    {
     "name": "stdout",
     "output_type": "stream",
     "text": [
      "  Variable Name Start Time   End Time Timesteps    Error Flag\n",
      "0         value 2018-01-01 2018-01-01         2  Corrupt data\n",
      "o3\n",
      "  Variable Name Start Time   End Time Timesteps    Error Flag\n",
      "0         value 2018-01-01 2018-01-01         2  Corrupt data\n",
      "pm10\n"
     ]
    },
    {
     "name": "stderr",
     "output_type": "stream",
     "text": [
      "Check for missing data\n",
      "Check for corrupt data\n",
      "Check for data outside expected range\n",
      "Check for data outside expected range\n",
      "Check for corrupt data\n",
      "Check for corrupt data\n"
     ]
    },
    {
     "name": "stdout",
     "output_type": "stream",
     "text": [
      "Empty DataFrame\n",
      "Columns: [Variable Name, Start Time, End Time, Timesteps, Error Flag]\n",
      "Index: []\n",
      "Schiedam-Alphons Arienstraat\n",
      "no2\n"
     ]
    },
    {
     "name": "stderr",
     "output_type": "stream",
     "text": [
      "Check for missing data\n",
      "Check for corrupt data\n",
      "Check for data outside expected range\n",
      "Check for data outside expected range\n",
      "Check for corrupt data\n",
      "Check for corrupt data\n",
      "Check for missing data\n",
      "Check for corrupt data\n",
      "Check for data outside expected range\n",
      "Check for data outside expected range\n",
      "Check for corrupt data\n",
      "Check for corrupt data\n"
     ]
    },
    {
     "name": "stdout",
     "output_type": "stream",
     "text": [
      "  Variable Name Start Time   End Time Timesteps    Error Flag\n",
      "0         value 2018-01-01 2018-01-01         2  Corrupt data\n",
      "o3\n",
      "  Variable Name Start Time   End Time Timesteps    Error Flag\n",
      "0         value 2018-01-01 2018-01-01         2  Corrupt data\n",
      "pm25\n"
     ]
    },
    {
     "name": "stderr",
     "output_type": "stream",
     "text": [
      "Check for missing data\n",
      "Check for corrupt data\n",
      "Check for data outside expected range\n",
      "Check for data outside expected range\n",
      "Check for corrupt data\n",
      "Check for corrupt data\n"
     ]
    },
    {
     "name": "stdout",
     "output_type": "stream",
     "text": [
      "Empty DataFrame\n",
      "Columns: [Variable Name, Start Time, End Time, Timesteps, Error Flag]\n",
      "Index: []\n",
      "pm10\n"
     ]
    },
    {
     "name": "stderr",
     "output_type": "stream",
     "text": [
      "Check for missing data\n",
      "Check for corrupt data\n",
      "Check for data outside expected range\n",
      "Check for data outside expected range\n",
      "Check for corrupt data\n",
      "Check for corrupt data\n"
     ]
    },
    {
     "name": "stdout",
     "output_type": "stream",
     "text": [
      "Empty DataFrame\n",
      "Columns: [Variable Name, Start Time, End Time, Timesteps, Error Flag]\n",
      "Index: []\n",
      "Maassluis-Kwartellaan\n",
      "no2\n"
     ]
    },
    {
     "name": "stderr",
     "output_type": "stream",
     "text": [
      "Check for missing data\n",
      "Check for corrupt data\n",
      "Check for data outside expected range\n",
      "Check for data outside expected range\n",
      "Check for corrupt data\n",
      "Check for corrupt data\n"
     ]
    },
    {
     "name": "stdout",
     "output_type": "stream",
     "text": [
      "  Variable Name Start Time   End Time Timesteps    Error Flag\n",
      "0         value 2018-01-01 2018-01-01         2  Corrupt data\n",
      "o3\n"
     ]
    },
    {
     "name": "stderr",
     "output_type": "stream",
     "text": [
      "Check for missing data\n",
      "Check for corrupt data\n",
      "Check for data outside expected range\n",
      "Check for data outside expected range\n",
      "Check for corrupt data\n",
      "Check for corrupt data\n",
      "Check for missing data\n",
      "Check for corrupt data\n",
      "Check for data outside expected range\n",
      "Check for data outside expected range\n",
      "Check for corrupt data\n",
      "Check for corrupt data\n"
     ]
    },
    {
     "name": "stdout",
     "output_type": "stream",
     "text": [
      "  Variable Name Start Time   End Time Timesteps    Error Flag\n",
      "0         value 2018-01-01 2018-01-01         2  Corrupt data\n",
      "pm25\n",
      "  Variable Name Start Time   End Time Timesteps             Error Flag\n",
      "0         value 2018-01-01 2018-01-01         2  Data < lower bound, 0\n",
      "pm10\n"
     ]
    },
    {
     "name": "stderr",
     "output_type": "stream",
     "text": [
      "Check for missing data\n",
      "Check for corrupt data\n",
      "Check for data outside expected range\n",
      "Check for data outside expected range\n",
      "Check for corrupt data\n",
      "Check for corrupt data\n",
      "Check for missing data\n",
      "Check for corrupt data\n",
      "Check for data outside expected range\n",
      "Check for data outside expected range\n",
      "Check for corrupt data\n",
      "Check for corrupt data\n"
     ]
    },
    {
     "name": "stdout",
     "output_type": "stream",
     "text": [
      "  Variable Name Start Time   End Time Timesteps             Error Flag\n",
      "0         value 2018-01-01 2018-01-01         2  Data < lower bound, 0\n",
      "Hoek v. Holland-Berghaven\n",
      "no2\n",
      "  Variable Name Start Time   End Time Timesteps    Error Flag\n",
      "0         value 2018-01-01 2018-01-01         2  Corrupt data\n",
      "o3\n"
     ]
    },
    {
     "name": "stderr",
     "output_type": "stream",
     "text": [
      "Check for missing data\n",
      "Check for corrupt data\n",
      "Check for data outside expected range\n",
      "Check for data outside expected range\n",
      "Check for corrupt data\n",
      "Check for corrupt data\n"
     ]
    },
    {
     "name": "stdout",
     "output_type": "stream",
     "text": [
      "  Variable Name Start Time   End Time Timesteps    Error Flag\n",
      "0         value 2018-01-01 2018-01-01         2  Corrupt data\n",
      "pm25\n"
     ]
    },
    {
     "name": "stderr",
     "output_type": "stream",
     "text": [
      "Check for missing data\n",
      "Check for corrupt data\n",
      "Check for data outside expected range\n",
      "Check for data outside expected range\n",
      "Check for corrupt data\n",
      "Check for corrupt data\n"
     ]
    },
    {
     "name": "stdout",
     "output_type": "stream",
     "text": [
      "Empty DataFrame\n",
      "Columns: [Variable Name, Start Time, End Time, Timesteps, Error Flag]\n",
      "Index: []\n",
      "pm10\n"
     ]
    },
    {
     "name": "stderr",
     "output_type": "stream",
     "text": [
      "Check for missing data\n",
      "Check for corrupt data\n",
      "Check for data outside expected range\n",
      "Check for data outside expected range\n",
      "Check for corrupt data\n",
      "Check for corrupt data\n"
     ]
    },
    {
     "name": "stdout",
     "output_type": "stream",
     "text": [
      "Empty DataFrame\n",
      "Columns: [Variable Name, Start Time, End Time, Timesteps, Error Flag]\n",
      "Index: []\n",
      "Amsterdam-Haarlemmerweg\n",
      "no2\n"
     ]
    },
    {
     "name": "stderr",
     "output_type": "stream",
     "text": [
      "Check for missing data\n",
      "Check for corrupt data\n",
      "Check for data outside expected range\n",
      "Check for data outside expected range\n",
      "Check for corrupt data\n",
      "Check for corrupt data\n"
     ]
    },
    {
     "name": "stdout",
     "output_type": "stream",
     "text": [
      "  Variable Name Start Time   End Time Timesteps    Error Flag\n",
      "0         value 2018-01-01 2018-01-01         2  Corrupt data\n",
      "Amsterdam-Nieuwendammerdijk\n",
      "no2\n"
     ]
    },
    {
     "name": "stderr",
     "output_type": "stream",
     "text": [
      "Check for missing data\n",
      "Check for corrupt data\n",
      "Check for data outside expected range\n",
      "Check for data outside expected range\n",
      "Check for corrupt data\n",
      "Check for corrupt data\n",
      "Check for missing data\n",
      "Check for corrupt data\n",
      "Check for data outside expected range\n",
      "Check for data outside expected range\n",
      "Check for corrupt data\n",
      "Check for corrupt data\n"
     ]
    },
    {
     "name": "stdout",
     "output_type": "stream",
     "text": [
      "  Variable Name Start Time   End Time Timesteps    Error Flag\n",
      "0         value 2018-01-01 2018-01-01         2  Corrupt data\n",
      "o3\n",
      "  Variable Name Start Time   End Time Timesteps    Error Flag\n",
      "0         value 2018-01-01 2018-01-01         2  Corrupt data\n",
      "Amsterdam-Stadhouderskade\n",
      "no2\n"
     ]
    },
    {
     "name": "stderr",
     "output_type": "stream",
     "text": [
      "Check for missing data\n",
      "Check for corrupt data\n",
      "Check for data outside expected range\n",
      "Check for data outside expected range\n",
      "Check for corrupt data\n",
      "Check for corrupt data\n",
      "Check for missing data\n",
      "Check for corrupt data\n",
      "Check for data outside expected range\n",
      "Check for data outside expected range\n",
      "Check for corrupt data\n"
     ]
    },
    {
     "name": "stdout",
     "output_type": "stream",
     "text": [
      "  Variable Name Start Time   End Time Timesteps    Error Flag\n",
      "0         value 2018-01-01 2018-01-01         2  Corrupt data\n",
      "pm25\n",
      "Empty DataFrame\n",
      "Columns: [Variable Name, Start Time, End Time, Timesteps, Error Flag]\n",
      "Index: []\n",
      "pm10\n"
     ]
    },
    {
     "name": "stderr",
     "output_type": "stream",
     "text": [
      "Check for corrupt data\n",
      "Check for missing data\n",
      "Check for corrupt data\n",
      "Check for data outside expected range\n",
      "Check for data outside expected range\n",
      "Check for corrupt data\n",
      "Check for corrupt data\n"
     ]
    },
    {
     "name": "stdout",
     "output_type": "stream",
     "text": [
      "Empty DataFrame\n",
      "Columns: [Variable Name, Start Time, End Time, Timesteps, Error Flag]\n",
      "Index: []\n",
      "Amsterdam-Oude Schans\n",
      "no2\n"
     ]
    },
    {
     "name": "stderr",
     "output_type": "stream",
     "text": [
      "Check for missing data\n",
      "Check for corrupt data\n",
      "Check for data outside expected range\n",
      "Check for data outside expected range\n",
      "Check for corrupt data\n",
      "Check for corrupt data\n"
     ]
    },
    {
     "name": "stdout",
     "output_type": "stream",
     "text": [
      "  Variable Name Start Time   End Time Timesteps    Error Flag\n",
      "0         value 2018-01-01 2018-01-01         2  Corrupt data\n",
      "Amsterdam-Jan van Galenstraat\n",
      "no2\n"
     ]
    },
    {
     "name": "stderr",
     "output_type": "stream",
     "text": [
      "Check for missing data\n",
      "Check for corrupt data\n",
      "Check for data outside expected range\n",
      "Check for data outside expected range\n",
      "Check for corrupt data\n",
      "Check for corrupt data\n",
      "Check for missing data\n",
      "Check for corrupt data\n",
      "Check for data outside expected range\n",
      "Check for data outside expected range\n",
      "Check for corrupt data\n",
      "Check for corrupt data\n"
     ]
    },
    {
     "name": "stdout",
     "output_type": "stream",
     "text": [
      "  Variable Name Start Time   End Time Timesteps    Error Flag\n",
      "0         value 2018-01-01 2018-01-01         2  Corrupt data\n",
      "pm10\n",
      "Empty DataFrame\n",
      "Columns: [Variable Name, Start Time, End Time, Timesteps, Error Flag]\n",
      "Index: []\n",
      "Amsterdam-Kantershof (Zuid Oost)\n",
      "no2\n"
     ]
    },
    {
     "name": "stderr",
     "output_type": "stream",
     "text": [
      "Check for missing data\n",
      "Check for corrupt data\n",
      "Check for data outside expected range\n",
      "Check for data outside expected range\n",
      "Check for corrupt data\n",
      "Check for corrupt data\n"
     ]
    },
    {
     "name": "stdout",
     "output_type": "stream",
     "text": [
      "  Variable Name Start Time   End Time Timesteps    Error Flag\n",
      "0         value 2018-01-01 2018-01-01         2  Corrupt data\n",
      "Amsterdam-Sportpark Ookmeer (Osdorp)\n",
      "no2\n"
     ]
    },
    {
     "name": "stderr",
     "output_type": "stream",
     "text": [
      "Check for missing data\n",
      "Check for corrupt data\n",
      "Check for data outside expected range\n",
      "Check for data outside expected range\n",
      "Check for corrupt data\n",
      "Check for corrupt data\n",
      "Check for missing data\n",
      "Check for corrupt data\n",
      "Check for data outside expected range\n",
      "Check for data outside expected range\n",
      "Check for corrupt data\n",
      "Check for corrupt data\n"
     ]
    },
    {
     "name": "stdout",
     "output_type": "stream",
     "text": [
      "  Variable Name Start Time   End Time Timesteps    Error Flag\n",
      "0         value 2018-01-01 2018-01-01         2  Corrupt data\n",
      "Zaandam-Wagenschotpad\n",
      "no2\n",
      "  Variable Name Start Time   End Time Timesteps    Error Flag\n",
      "0         value 2018-01-01 2018-01-01         2  Corrupt data\n",
      "o3\n"
     ]
    },
    {
     "name": "stderr",
     "output_type": "stream",
     "text": [
      "Check for missing data\n",
      "Check for corrupt data\n",
      "Check for data outside expected range\n",
      "Check for data outside expected range\n",
      "Check for corrupt data\n",
      "Check for corrupt data\n"
     ]
    },
    {
     "name": "stdout",
     "output_type": "stream",
     "text": [
      "  Variable Name Start Time   End Time Timesteps    Error Flag\n",
      "0         value 2018-01-01 2018-01-01         2  Corrupt data\n",
      "pm25\n"
     ]
    },
    {
     "name": "stderr",
     "output_type": "stream",
     "text": [
      "Check for missing data\n",
      "Check for corrupt data\n",
      "Check for data outside expected range\n",
      "Check for data outside expected range\n",
      "Check for corrupt data\n",
      "Check for corrupt data\n",
      "Check for missing data\n",
      "Check for corrupt data\n",
      "Check for data outside expected range\n",
      "Check for data outside expected range\n",
      "Check for corrupt data\n",
      "Check for corrupt data\n"
     ]
    },
    {
     "name": "stdout",
     "output_type": "stream",
     "text": [
      "Empty DataFrame\n",
      "Columns: [Variable Name, Start Time, End Time, Timesteps, Error Flag]\n",
      "Index: []\n",
      "pm10\n",
      "Empty DataFrame\n",
      "Columns: [Variable Name, Start Time, End Time, Timesteps, Error Flag]\n",
      "Index: []\n",
      "Amsterdam-Spaarnwoude\n",
      "no2\n"
     ]
    },
    {
     "name": "stderr",
     "output_type": "stream",
     "text": [
      "Check for missing data\n",
      "Check for corrupt data\n",
      "Check for data outside expected range\n",
      "Check for data outside expected range\n",
      "Check for corrupt data\n",
      "Check for corrupt data\n",
      "Check for missing data\n",
      "Check for corrupt data\n",
      "Check for data outside expected range\n",
      "Check for data outside expected range\n",
      "Check for corrupt data\n",
      "Check for corrupt data\n"
     ]
    },
    {
     "name": "stdout",
     "output_type": "stream",
     "text": [
      "  Variable Name Start Time   End Time Timesteps    Error Flag\n",
      "0         value 2018-01-01 2018-01-01         2  Corrupt data\n",
      "pm25\n",
      "Empty DataFrame\n",
      "Columns: [Variable Name, Start Time, End Time, Timesteps, Error Flag]\n",
      "Index: []\n",
      "pm10\n"
     ]
    },
    {
     "name": "stderr",
     "output_type": "stream",
     "text": [
      "Check for missing data\n",
      "Check for corrupt data\n",
      "Check for data outside expected range\n",
      "Check for data outside expected range\n",
      "Check for corrupt data\n",
      "Check for corrupt data\n",
      "Check for missing data\n",
      "Check for corrupt data\n",
      "Check for data outside expected range\n",
      "Check for data outside expected range\n",
      "Check for corrupt data\n",
      "Check for corrupt data\n"
     ]
    },
    {
     "name": "stdout",
     "output_type": "stream",
     "text": [
      "Empty DataFrame\n",
      "Columns: [Variable Name, Start Time, End Time, Timesteps, Error Flag]\n",
      "Index: []\n",
      "Amsterdam-Hoogtij\n",
      "no2\n",
      "  Variable Name Start Time   End Time Timesteps    Error Flag\n",
      "0         value 2018-01-01 2018-01-01         2  Corrupt data\n",
      "pm25\n"
     ]
    },
    {
     "name": "stderr",
     "output_type": "stream",
     "text": [
      "Check for missing data\n",
      "Check for corrupt data\n",
      "Check for data outside expected range\n",
      "Check for data outside expected range\n",
      "Check for corrupt data\n",
      "Check for corrupt data\n",
      "Check for missing data\n",
      "Check for corrupt data\n",
      "Check for data outside expected range\n",
      "Check for data outside expected range\n",
      "Check for corrupt data\n",
      "Check for corrupt data\n"
     ]
    },
    {
     "name": "stdout",
     "output_type": "stream",
     "text": [
      "Empty DataFrame\n",
      "Columns: [Variable Name, Start Time, End Time, Timesteps, Error Flag]\n",
      "Index: []\n",
      "pm10\n",
      "Empty DataFrame\n",
      "Columns: [Variable Name, Start Time, End Time, Timesteps, Error Flag]\n",
      "Index: []\n",
      "so2\n"
     ]
    },
    {
     "name": "stderr",
     "output_type": "stream",
     "text": [
      "Check for missing data\n",
      "Check for corrupt data\n",
      "Check for data outside expected range\n",
      "Check for data outside expected range\n",
      "Check for corrupt data\n",
      "Check for corrupt data\n",
      "Check for missing data\n",
      "Check for corrupt data\n",
      "Check for data outside expected range\n",
      "Check for data outside expected range\n",
      "Check for corrupt data\n",
      "Check for corrupt data\n"
     ]
    },
    {
     "name": "stdout",
     "output_type": "stream",
     "text": [
      "  Variable Name Start Time   End Time Timesteps    Error Flag\n",
      "0         value 2018-01-01 2018-01-01         2  Corrupt data\n",
      "Hilversum-J. Gerardtsweg\n",
      "no2\n",
      "Empty DataFrame\n",
      "Columns: [Variable Name, Start Time, End Time, Timesteps, Error Flag]\n",
      "Index: []\n",
      "pm25\n"
     ]
    },
    {
     "name": "stderr",
     "output_type": "stream",
     "text": [
      "Check for missing data\n",
      "Check for corrupt data\n",
      "Check for data outside expected range\n",
      "Check for data outside expected range\n",
      "Check for corrupt data\n",
      "Check for corrupt data\n",
      "Check for missing data\n",
      "Check for corrupt data\n",
      "Check for data outside expected range\n",
      "Check for data outside expected range\n",
      "Check for corrupt data\n"
     ]
    },
    {
     "name": "stdout",
     "output_type": "stream",
     "text": [
      "Empty DataFrame\n",
      "Columns: [Variable Name, Start Time, End Time, Timesteps, Error Flag]\n",
      "Index: []\n",
      "pm10\n",
      "Empty DataFrame\n",
      "Columns: [Variable Name, Start Time, End Time, Timesteps, Error Flag]\n",
      "Index: []\n",
      "Laren-Jagerspad\n",
      "no2\n"
     ]
    },
    {
     "name": "stderr",
     "output_type": "stream",
     "text": [
      "Check for corrupt data\n",
      "Check for missing data\n",
      "Check for corrupt data\n",
      "Check for data outside expected range\n",
      "Check for data outside expected range\n",
      "Check for corrupt data\n",
      "Check for corrupt data\n"
     ]
    },
    {
     "name": "stdout",
     "output_type": "stream",
     "text": [
      "Empty DataFrame\n",
      "Columns: [Variable Name, Start Time, End Time, Timesteps, Error Flag]\n",
      "Index: []\n",
      "pm10\n"
     ]
    },
    {
     "name": "stderr",
     "output_type": "stream",
     "text": [
      "Check for missing data\n",
      "Check for corrupt data\n",
      "Check for data outside expected range\n",
      "Check for data outside expected range\n",
      "Check for corrupt data\n",
      "Check for corrupt data\n",
      "Check for missing data\n",
      "Check for corrupt data\n",
      "Check for data outside expected range\n",
      "Check for data outside expected range\n",
      "Check for corrupt data\n",
      "Check for corrupt data\n"
     ]
    },
    {
     "name": "stdout",
     "output_type": "stream",
     "text": [
      "Empty DataFrame\n",
      "Columns: [Variable Name, Start Time, End Time, Timesteps, Error Flag]\n",
      "Index: []\n",
      "Veldhoven-Europalaan\n",
      "no2\n",
      "  Variable Name Start Time   End Time Timesteps             Error Flag\n",
      "0         value 2018-01-01 2018-01-01         2  Data < lower bound, 0\n",
      "o3\n"
     ]
    },
    {
     "name": "stderr",
     "output_type": "stream",
     "text": [
      "Check for missing data\n",
      "Check for corrupt data\n",
      "Check for data outside expected range\n",
      "Check for data outside expected range\n",
      "Check for corrupt data\n",
      "Check for corrupt data\n"
     ]
    },
    {
     "name": "stdout",
     "output_type": "stream",
     "text": [
      "Empty DataFrame\n",
      "Columns: [Variable Name, Start Time, End Time, Timesteps, Error Flag]\n",
      "Index: []\n",
      "pm25\n"
     ]
    },
    {
     "name": "stderr",
     "output_type": "stream",
     "text": [
      "Check for missing data\n",
      "Check for corrupt data\n",
      "Check for data outside expected range\n",
      "Check for data outside expected range\n",
      "Check for corrupt data\n",
      "Check for corrupt data\n"
     ]
    },
    {
     "name": "stdout",
     "output_type": "stream",
     "text": [
      "Empty DataFrame\n",
      "Columns: [Variable Name, Start Time, End Time, Timesteps, Error Flag]\n",
      "Index: []\n",
      "pm10\n"
     ]
    },
    {
     "name": "stderr",
     "output_type": "stream",
     "text": [
      "Check for missing data\n",
      "Check for corrupt data\n",
      "Check for data outside expected range\n",
      "Check for data outside expected range\n",
      "Check for corrupt data\n",
      "Check for corrupt data\n"
     ]
    },
    {
     "name": "stdout",
     "output_type": "stream",
     "text": [
      "Empty DataFrame\n",
      "Columns: [Variable Name, Start Time, End Time, Timesteps, Error Flag]\n",
      "Index: []\n",
      "Geleen-Vouershof\n",
      "no2\n"
     ]
    },
    {
     "name": "stderr",
     "output_type": "stream",
     "text": [
      "Check for missing data\n",
      "Check for corrupt data\n",
      "Check for data outside expected range\n",
      "Check for data outside expected range\n",
      "Check for corrupt data\n",
      "Check for corrupt data\n",
      "Check for missing data\n",
      "Check for corrupt data\n",
      "Check for data outside expected range\n",
      "Check for data outside expected range\n",
      "Check for corrupt data\n",
      "Check for corrupt data\n"
     ]
    },
    {
     "name": "stdout",
     "output_type": "stream",
     "text": [
      "  Variable Name Start Time   End Time Timesteps    Error Flag\n",
      "0         value 2018-01-01 2018-01-01         2  Corrupt data\n",
      "Geleen-Asterstraat\n",
      "no2\n",
      "  Variable Name Start Time   End Time Timesteps    Error Flag\n",
      "0         value 2018-01-01 2018-01-01         2  Corrupt data\n",
      "pm25\n"
     ]
    },
    {
     "name": "stderr",
     "output_type": "stream",
     "text": [
      "Check for missing data\n",
      "Check for corrupt data\n",
      "Check for data outside expected range\n",
      "Check for data outside expected range\n",
      "Check for corrupt data\n",
      "Check for corrupt data\n",
      "Check for missing data\n",
      "Check for corrupt data\n",
      "Check for data outside expected range\n",
      "Check for data outside expected range\n",
      "Check for corrupt data\n",
      "Check for corrupt data\n"
     ]
    },
    {
     "name": "stdout",
     "output_type": "stream",
     "text": [
      "Empty DataFrame\n",
      "Columns: [Variable Name, Start Time, End Time, Timesteps, Error Flag]\n",
      "Index: []\n",
      "pm10\n",
      "Empty DataFrame\n",
      "Columns: [Variable Name, Start Time, End Time, Timesteps, Error Flag]\n",
      "Index: []\n",
      "Maastricht-A2 Nassaulaan\n",
      "no2\n"
     ]
    },
    {
     "name": "stderr",
     "output_type": "stream",
     "text": [
      "Check for missing data\n",
      "Check for corrupt data\n",
      "Check for data outside expected range\n",
      "Check for data outside expected range\n",
      "Check for corrupt data\n",
      "Check for corrupt data\n",
      "Check for missing data\n",
      "Check for corrupt data\n",
      "Check for data outside expected range\n",
      "Check for data outside expected range\n",
      "Check for corrupt data\n",
      "Check for corrupt data\n"
     ]
    },
    {
     "name": "stdout",
     "output_type": "stream",
     "text": [
      "  Variable Name Start Time   End Time Timesteps    Error Flag\n",
      "0         value 2018-01-01 2018-01-01         2  Corrupt data\n",
      "o3\n",
      "  Variable Name Start Time   End Time Timesteps    Error Flag\n",
      "0         value 2018-01-01 2018-01-01         2  Corrupt data\n",
      "pm25\n"
     ]
    },
    {
     "name": "stderr",
     "output_type": "stream",
     "text": [
      "Check for missing data\n",
      "Check for corrupt data\n",
      "Check for data outside expected range\n",
      "Check for data outside expected range\n",
      "Check for corrupt data\n",
      "Check for corrupt data\n",
      "Check for missing data\n",
      "Check for corrupt data\n",
      "Check for data outside expected range\n",
      "Check for data outside expected range\n",
      "Check for corrupt data\n",
      "Check for corrupt data\n"
     ]
    },
    {
     "name": "stdout",
     "output_type": "stream",
     "text": [
      "Empty DataFrame\n",
      "Columns: [Variable Name, Start Time, End Time, Timesteps, Error Flag]\n",
      "Index: []\n",
      "pm10\n",
      "Empty DataFrame\n",
      "Columns: [Variable Name, Start Time, End Time, Timesteps, Error Flag]\n",
      "Index: []\n",
      "Fijnaart-Zwingelspaansedijk\n",
      "no2\n"
     ]
    },
    {
     "name": "stderr",
     "output_type": "stream",
     "text": [
      "Check for missing data\n",
      "Check for corrupt data\n",
      "Check for data outside expected range\n",
      "Check for data outside expected range\n",
      "Check for corrupt data\n",
      "Check for corrupt data\n",
      "Check for missing data\n",
      "Check for corrupt data\n",
      "Check for data outside expected range\n",
      "Check for data outside expected range\n",
      "Check for corrupt data\n",
      "Check for corrupt data\n"
     ]
    },
    {
     "name": "stdout",
     "output_type": "stream",
     "text": [
      "Empty DataFrame\n",
      "Columns: [Variable Name, Start Time, End Time, Timesteps, Error Flag]\n",
      "Index: []\n",
      "pm10\n",
      "Empty DataFrame\n",
      "Columns: [Variable Name, Start Time, End Time, Timesteps, Error Flag]\n",
      "Index: []\n",
      "Zaanstad-Hemkade\n",
      "no2\n"
     ]
    },
    {
     "name": "stderr",
     "output_type": "stream",
     "text": [
      "Check for missing data\n",
      "Check for corrupt data\n",
      "Check for data outside expected range\n",
      "Check for data outside expected range\n",
      "Check for corrupt data\n",
      "Check for corrupt data\n",
      "Check for missing data\n",
      "Check for corrupt data\n",
      "Check for data outside expected range\n",
      "Check for data outside expected range\n",
      "Check for corrupt data\n",
      "Check for corrupt data\n"
     ]
    },
    {
     "name": "stdout",
     "output_type": "stream",
     "text": [
      "  Variable Name Start Time   End Time Timesteps    Error Flag\n",
      "0         value 2018-01-01 2018-01-01         2  Corrupt data\n",
      "pm10\n",
      "Empty DataFrame\n",
      "Columns: [Variable Name, Start Time, End Time, Timesteps, Error Flag]\n",
      "Index: []\n",
      "Hoofddorp-Hoofdweg\n",
      "no2\n"
     ]
    },
    {
     "name": "stderr",
     "output_type": "stream",
     "text": [
      "Check for missing data\n",
      "Check for corrupt data\n",
      "Check for data outside expected range\n",
      "Check for data outside expected range\n",
      "Check for corrupt data\n",
      "Check for corrupt data\n"
     ]
    },
    {
     "name": "stdout",
     "output_type": "stream",
     "text": [
      "  Variable Name Start Time   End Time Timesteps    Error Flag\n",
      "0         value 2018-01-01 2018-01-01         2  Corrupt data\n",
      "o3\n"
     ]
    },
    {
     "name": "stderr",
     "output_type": "stream",
     "text": [
      "Check for missing data\n",
      "Check for corrupt data\n",
      "Check for data outside expected range\n",
      "Check for data outside expected range\n",
      "Check for corrupt data\n",
      "Check for corrupt data\n",
      "Check for missing data\n",
      "Check for corrupt data\n",
      "Check for data outside expected range\n",
      "Check for data outside expected range\n",
      "Check for corrupt data\n",
      "Check for corrupt data\n"
     ]
    },
    {
     "name": "stdout",
     "output_type": "stream",
     "text": [
      "  Variable Name Start Time   End Time Timesteps    Error Flag\n",
      "0         value 2018-01-01 2018-01-01         2  Corrupt data\n",
      "pm10\n",
      "Empty DataFrame\n",
      "Columns: [Variable Name, Start Time, End Time, Timesteps, Error Flag]\n",
      "Index: []\n",
      "Oude Meer-Aalsmeerderdijk\n",
      "no2\n"
     ]
    },
    {
     "name": "stderr",
     "output_type": "stream",
     "text": [
      "Check for missing data\n",
      "Check for corrupt data\n",
      "Check for data outside expected range\n",
      "Check for data outside expected range\n",
      "Check for corrupt data\n",
      "Check for corrupt data\n",
      "Check for missing data\n",
      "Check for corrupt data\n",
      "Check for data outside expected range\n",
      "Check for data outside expected range\n",
      "Check for corrupt data\n",
      "Check for corrupt data\n"
     ]
    },
    {
     "name": "stdout",
     "output_type": "stream",
     "text": [
      "  Variable Name Start Time   End Time Timesteps    Error Flag\n",
      "0         value 2018-01-01 2018-01-01         2  Corrupt data\n",
      "pm10\n",
      "Empty DataFrame\n",
      "Columns: [Variable Name, Start Time, End Time, Timesteps, Error Flag]\n",
      "Index: []\n",
      "Arnhem-Pleijroute Velperbroek\n",
      "no2\n"
     ]
    },
    {
     "name": "stderr",
     "output_type": "stream",
     "text": [
      "Check for missing data\n",
      "Check for corrupt data\n",
      "Check for data outside expected range\n",
      "Check for data outside expected range\n",
      "Check for corrupt data\n",
      "Check for corrupt data\n"
     ]
    },
    {
     "name": "stdout",
     "output_type": "stream",
     "text": [
      "  Variable Name Start Time   End Time Timesteps    Error Flag\n",
      "0         value 2018-01-01 2018-01-01         2  Corrupt data\n",
      "Posterholt-Vlodropperweg\n",
      "no2\n"
     ]
    },
    {
     "name": "stderr",
     "output_type": "stream",
     "text": [
      "Check for missing data\n",
      "Check for corrupt data\n",
      "Check for data outside expected range\n",
      "Check for data outside expected range\n",
      "Check for corrupt data\n",
      "Check for corrupt data\n",
      "Check for missing data\n",
      "Check for corrupt data\n",
      "Check for data outside expected range\n",
      "Check for data outside expected range\n",
      "Check for corrupt data\n",
      "Check for corrupt data\n"
     ]
    },
    {
     "name": "stdout",
     "output_type": "stream",
     "text": [
      "Empty DataFrame\n",
      "Columns: [Variable Name, Start Time, End Time, Timesteps, Error Flag]\n",
      "Index: []\n",
      "o3\n",
      "Empty DataFrame\n",
      "Columns: [Variable Name, Start Time, End Time, Timesteps, Error Flag]\n",
      "Index: []\n",
      "Vredepeel-Vredeweg\n",
      "no2\n"
     ]
    },
    {
     "name": "stderr",
     "output_type": "stream",
     "text": [
      "Check for missing data\n",
      "Check for corrupt data\n",
      "Check for data outside expected range\n",
      "Check for data outside expected range\n",
      "Check for corrupt data\n",
      "Check for corrupt data\n"
     ]
    },
    {
     "name": "stdout",
     "output_type": "stream",
     "text": [
      "Empty DataFrame\n",
      "Columns: [Variable Name, Start Time, End Time, Timesteps, Error Flag]\n",
      "Index: []\n",
      "o3\n"
     ]
    },
    {
     "name": "stderr",
     "output_type": "stream",
     "text": [
      "Check for missing data\n",
      "Check for corrupt data\n",
      "Check for data outside expected range\n",
      "Check for data outside expected range\n",
      "Check for corrupt data\n",
      "Check for corrupt data\n",
      "Check for missing data\n",
      "Check for corrupt data\n",
      "Check for data outside expected range\n",
      "Check for data outside expected range\n",
      "Check for corrupt data\n",
      "Check for corrupt data\n"
     ]
    },
    {
     "name": "stdout",
     "output_type": "stream",
     "text": [
      "Empty DataFrame\n",
      "Columns: [Variable Name, Start Time, End Time, Timesteps, Error Flag]\n",
      "Index: []\n",
      "pm25\n",
      "Empty DataFrame\n",
      "Columns: [Variable Name, Start Time, End Time, Timesteps, Error Flag]\n",
      "Index: []\n",
      "pm10\n"
     ]
    },
    {
     "name": "stderr",
     "output_type": "stream",
     "text": [
      "Check for missing data\n",
      "Check for corrupt data\n",
      "Check for data outside expected range\n",
      "Check for data outside expected range\n",
      "Check for corrupt data\n",
      "Check for corrupt data\n"
     ]
    },
    {
     "name": "stdout",
     "output_type": "stream",
     "text": [
      "Empty DataFrame\n",
      "Columns: [Variable Name, Start Time, End Time, Timesteps, Error Flag]\n",
      "Index: []\n",
      "Wijnandsrade-Opfergeltstraat\n",
      "no2\n"
     ]
    },
    {
     "name": "stderr",
     "output_type": "stream",
     "text": [
      "Check for missing data\n",
      "Check for corrupt data\n",
      "Check for data outside expected range\n",
      "Check for data outside expected range\n",
      "Check for corrupt data\n",
      "Check for corrupt data\n",
      "Check for missing data\n",
      "Check for corrupt data\n",
      "Check for data outside expected range\n",
      "Check for data outside expected range\n",
      "Check for corrupt data\n",
      "Check for corrupt data\n"
     ]
    },
    {
     "name": "stdout",
     "output_type": "stream",
     "text": [
      "Empty DataFrame\n",
      "Columns: [Variable Name, Start Time, End Time, Timesteps, Error Flag]\n",
      "Index: []\n",
      "o3\n",
      "Empty DataFrame\n",
      "Columns: [Variable Name, Start Time, End Time, Timesteps, Error Flag]\n",
      "Index: []\n",
      "pm10\n"
     ]
    },
    {
     "name": "stderr",
     "output_type": "stream",
     "text": [
      "Check for missing data\n",
      "Check for corrupt data\n",
      "Check for data outside expected range\n",
      "Check for data outside expected range\n",
      "Check for corrupt data\n",
      "Check for corrupt data\n"
     ]
    },
    {
     "name": "stdout",
     "output_type": "stream",
     "text": [
      "Empty DataFrame\n",
      "Columns: [Variable Name, Start Time, End Time, Timesteps, Error Flag]\n",
      "Index: []\n",
      "Heerlen-Looierstraat\n",
      "no2\n"
     ]
    },
    {
     "name": "stderr",
     "output_type": "stream",
     "text": [
      "Check for missing data\n",
      "Check for corrupt data\n",
      "Check for data outside expected range\n",
      "Check for data outside expected range\n",
      "Check for corrupt data\n",
      "Check for corrupt data\n",
      "Check for missing data\n",
      "Check for corrupt data\n",
      "Check for data outside expected range\n",
      "Check for data outside expected range\n",
      "Check for corrupt data\n",
      "Check for corrupt data\n"
     ]
    },
    {
     "name": "stdout",
     "output_type": "stream",
     "text": [
      "Empty DataFrame\n",
      "Columns: [Variable Name, Start Time, End Time, Timesteps, Error Flag]\n",
      "Index: []\n",
      "pm25\n",
      "Empty DataFrame\n",
      "Columns: [Variable Name, Start Time, End Time, Timesteps, Error Flag]\n",
      "Index: []\n",
      "pm10\n"
     ]
    },
    {
     "name": "stderr",
     "output_type": "stream",
     "text": [
      "Check for missing data\n",
      "Check for corrupt data\n",
      "Check for data outside expected range\n",
      "Check for data outside expected range\n",
      "Check for corrupt data\n",
      "Check for corrupt data\n",
      "Check for missing data\n",
      "Check for corrupt data\n",
      "Check for data outside expected range\n",
      "Check for data outside expected range\n",
      "Check for corrupt data\n",
      "Check for corrupt data\n"
     ]
    },
    {
     "name": "stdout",
     "output_type": "stream",
     "text": [
      "Empty DataFrame\n",
      "Columns: [Variable Name, Start Time, End Time, Timesteps, Error Flag]\n",
      "Index: []\n",
      "Heerlen-Jamboreepad\n",
      "no2\n",
      "Empty DataFrame\n",
      "Columns: [Variable Name, Start Time, End Time, Timesteps, Error Flag]\n",
      "Index: []\n",
      "o3\n"
     ]
    },
    {
     "name": "stderr",
     "output_type": "stream",
     "text": [
      "Check for missing data\n",
      "Check for corrupt data\n",
      "Check for data outside expected range\n",
      "Check for data outside expected range\n",
      "Check for corrupt data\n",
      "Check for corrupt data\n"
     ]
    },
    {
     "name": "stdout",
     "output_type": "stream",
     "text": [
      "Empty DataFrame\n",
      "Columns: [Variable Name, Start Time, End Time, Timesteps, Error Flag]\n",
      "Index: []\n",
      "pm25\n"
     ]
    },
    {
     "name": "stderr",
     "output_type": "stream",
     "text": [
      "Check for missing data\n",
      "Check for corrupt data\n",
      "Check for data outside expected range\n",
      "Check for data outside expected range\n",
      "Check for corrupt data\n",
      "Check for corrupt data\n"
     ]
    },
    {
     "name": "stdout",
     "output_type": "stream",
     "text": [
      "Empty DataFrame\n",
      "Columns: [Variable Name, Start Time, End Time, Timesteps, Error Flag]\n",
      "Index: []\n",
      "pm10\n"
     ]
    },
    {
     "name": "stderr",
     "output_type": "stream",
     "text": [
      "Check for missing data\n",
      "Check for corrupt data\n",
      "Check for data outside expected range\n",
      "Check for data outside expected range\n",
      "Check for corrupt data\n"
     ]
    },
    {
     "name": "stdout",
     "output_type": "stream",
     "text": [
      "  Variable Name Start Time   End Time Timesteps             Error Flag\n",
      "0         value 2018-01-01 2018-01-01         2  Data < lower bound, 0\n",
      "Biest Houtakker-Biestsestraat\n",
      "no2\n"
     ]
    },
    {
     "name": "stderr",
     "output_type": "stream",
     "text": [
      "Check for corrupt data\n",
      "Check for missing data\n",
      "Check for corrupt data\n",
      "Check for data outside expected range\n",
      "Check for data outside expected range\n",
      "Check for corrupt data\n",
      "Check for corrupt data\n"
     ]
    },
    {
     "name": "stdout",
     "output_type": "stream",
     "text": [
      "Empty DataFrame\n",
      "Columns: [Variable Name, Start Time, End Time, Timesteps, Error Flag]\n",
      "Index: []\n",
      "o3\n"
     ]
    },
    {
     "name": "stderr",
     "output_type": "stream",
     "text": [
      "Check for missing data\n",
      "Check for corrupt data\n",
      "Check for data outside expected range\n",
      "Check for data outside expected range\n",
      "Check for corrupt data\n",
      "Check for corrupt data\n"
     ]
    },
    {
     "name": "stdout",
     "output_type": "stream",
     "text": [
      "Empty DataFrame\n",
      "Columns: [Variable Name, Start Time, End Time, Timesteps, Error Flag]\n",
      "Index: []\n",
      "pm25\n"
     ]
    },
    {
     "name": "stderr",
     "output_type": "stream",
     "text": [
      "Check for missing data\n",
      "Check for corrupt data\n",
      "Check for data outside expected range\n",
      "Check for data outside expected range\n",
      "Check for corrupt data\n",
      "Check for corrupt data\n"
     ]
    },
    {
     "name": "stdout",
     "output_type": "stream",
     "text": [
      "Empty DataFrame\n",
      "Columns: [Variable Name, Start Time, End Time, Timesteps, Error Flag]\n",
      "Index: []\n",
      "pm10\n"
     ]
    },
    {
     "name": "stderr",
     "output_type": "stream",
     "text": [
      "Check for missing data\n",
      "Check for corrupt data\n",
      "Check for data outside expected range\n",
      "Check for data outside expected range\n",
      "Check for corrupt data\n",
      "Check for corrupt data\n"
     ]
    },
    {
     "name": "stdout",
     "output_type": "stream",
     "text": [
      "Empty DataFrame\n",
      "Columns: [Variable Name, Start Time, End Time, Timesteps, Error Flag]\n",
      "Index: []\n",
      "Huijbergen-Vennekenstraat\n",
      "no2\n"
     ]
    },
    {
     "name": "stderr",
     "output_type": "stream",
     "text": [
      "Check for missing data\n",
      "Check for corrupt data\n",
      "Check for data outside expected range\n",
      "Check for data outside expected range\n",
      "Check for corrupt data\n",
      "Check for corrupt data\n"
     ]
    },
    {
     "name": "stdout",
     "output_type": "stream",
     "text": [
      "Empty DataFrame\n",
      "Columns: [Variable Name, Start Time, End Time, Timesteps, Error Flag]\n",
      "Index: []\n",
      "o3\n"
     ]
    },
    {
     "name": "stderr",
     "output_type": "stream",
     "text": [
      "Check for missing data\n",
      "Check for corrupt data\n",
      "Check for data outside expected range\n",
      "Check for data outside expected range\n",
      "Check for corrupt data\n",
      "Check for corrupt data\n"
     ]
    },
    {
     "name": "stdout",
     "output_type": "stream",
     "text": [
      "Empty DataFrame\n",
      "Columns: [Variable Name, Start Time, End Time, Timesteps, Error Flag]\n",
      "Index: []\n",
      "pm10\n"
     ]
    },
    {
     "name": "stderr",
     "output_type": "stream",
     "text": [
      "Check for missing data\n",
      "Check for corrupt data\n",
      "Check for data outside expected range\n",
      "Check for data outside expected range\n",
      "Check for corrupt data\n"
     ]
    },
    {
     "name": "stdout",
     "output_type": "stream",
     "text": [
      "Empty DataFrame\n",
      "Columns: [Variable Name, Start Time, End Time, Timesteps, Error Flag]\n",
      "Index: []\n",
      "Eindhoven-Genovevalaan\n",
      "no2\n"
     ]
    },
    {
     "name": "stderr",
     "output_type": "stream",
     "text": [
      "Check for corrupt data\n",
      "Check for missing data\n",
      "Check for corrupt data\n",
      "Check for data outside expected range\n",
      "Check for data outside expected range\n",
      "Check for corrupt data\n",
      "Check for corrupt data\n"
     ]
    },
    {
     "name": "stdout",
     "output_type": "stream",
     "text": [
      "Empty DataFrame\n",
      "Columns: [Variable Name, Start Time, End Time, Timesteps, Error Flag]\n",
      "Index: []\n",
      "o3\n"
     ]
    },
    {
     "name": "stderr",
     "output_type": "stream",
     "text": [
      "Check for missing data\n",
      "Check for corrupt data\n",
      "Check for data outside expected range\n",
      "Check for data outside expected range\n",
      "Check for corrupt data\n",
      "Check for corrupt data\n",
      "Check for missing data\n",
      "Check for corrupt data\n",
      "Check for data outside expected range\n",
      "Check for data outside expected range\n",
      "Check for corrupt data\n",
      "Check for corrupt data\n"
     ]
    },
    {
     "name": "stdout",
     "output_type": "stream",
     "text": [
      "Empty DataFrame\n",
      "Columns: [Variable Name, Start Time, End Time, Timesteps, Error Flag]\n",
      "Index: []\n",
      "pm10\n",
      "Empty DataFrame\n",
      "Columns: [Variable Name, Start Time, End Time, Timesteps, Error Flag]\n",
      "Index: []\n",
      "Eindhoven-Noordbrabantlaan\n",
      "no2\n"
     ]
    },
    {
     "name": "stderr",
     "output_type": "stream",
     "text": [
      "Check for missing data\n",
      "Check for corrupt data\n",
      "Check for data outside expected range\n",
      "Check for data outside expected range\n",
      "Check for corrupt data\n",
      "Check for corrupt data\n",
      "Check for missing data\n",
      "Check for corrupt data\n",
      "Check for data outside expected range\n",
      "Check for data outside expected range\n",
      "Check for corrupt data\n",
      "Check for corrupt data\n"
     ]
    },
    {
     "name": "stdout",
     "output_type": "stream",
     "text": [
      "  Variable Name Start Time   End Time Timesteps             Error Flag\n",
      "0         value 2018-01-01 2018-01-01         2  Data < lower bound, 0\n",
      "pm10\n",
      "Empty DataFrame\n",
      "Columns: [Variable Name, Start Time, End Time, Timesteps, Error Flag]\n",
      "Index: []\n",
      "Breda-Tilburgseweg\n",
      "no2\n"
     ]
    },
    {
     "name": "stderr",
     "output_type": "stream",
     "text": [
      "Check for missing data\n",
      "Check for corrupt data\n",
      "Check for data outside expected range\n",
      "Check for data outside expected range\n",
      "Check for corrupt data\n",
      "Check for corrupt data\n",
      "Check for missing data\n",
      "Check for corrupt data\n",
      "Check for data outside expected range\n",
      "Check for data outside expected range\n",
      "Check for corrupt data\n",
      "Check for corrupt data\n"
     ]
    },
    {
     "name": "stdout",
     "output_type": "stream",
     "text": [
      "Empty DataFrame\n",
      "Columns: [Variable Name, Start Time, End Time, Timesteps, Error Flag]\n",
      "Index: []\n",
      "pm25\n",
      "Empty DataFrame\n",
      "Columns: [Variable Name, Start Time, End Time, Timesteps, Error Flag]\n",
      "Index: []\n",
      "pm10\n"
     ]
    },
    {
     "name": "stderr",
     "output_type": "stream",
     "text": [
      "Check for missing data\n",
      "Check for corrupt data\n",
      "Check for data outside expected range\n",
      "Check for data outside expected range\n",
      "Check for corrupt data\n",
      "Check for corrupt data\n"
     ]
    },
    {
     "name": "stdout",
     "output_type": "stream",
     "text": [
      "Empty DataFrame\n",
      "Columns: [Variable Name, Start Time, End Time, Timesteps, Error Flag]\n",
      "Index: []\n",
      "Breda-Bastenakenstraat\n",
      "no2\n"
     ]
    },
    {
     "name": "stderr",
     "output_type": "stream",
     "text": [
      "Check for missing data\n",
      "Check for corrupt data\n",
      "Check for data outside expected range\n",
      "Check for data outside expected range\n",
      "Check for corrupt data\n",
      "Check for corrupt data\n",
      "Check for missing data\n",
      "Check for corrupt data\n",
      "Check for data outside expected range\n",
      "Check for data outside expected range\n",
      "Check for corrupt data\n",
      "Check for corrupt data\n"
     ]
    },
    {
     "name": "stdout",
     "output_type": "stream",
     "text": [
      "Empty DataFrame\n",
      "Columns: [Variable Name, Start Time, End Time, Timesteps, Error Flag]\n",
      "Index: []\n",
      "o3\n",
      "Empty DataFrame\n",
      "Columns: [Variable Name, Start Time, End Time, Timesteps, Error Flag]\n",
      "Index: []\n",
      "pm25\n"
     ]
    },
    {
     "name": "stderr",
     "output_type": "stream",
     "text": [
      "Check for missing data\n",
      "Check for corrupt data\n",
      "Check for data outside expected range\n",
      "Check for data outside expected range\n",
      "Check for corrupt data\n",
      "Check for corrupt data\n"
     ]
    },
    {
     "name": "stdout",
     "output_type": "stream",
     "text": [
      "Empty DataFrame\n",
      "Columns: [Variable Name, Start Time, End Time, Timesteps, Error Flag]\n",
      "Index: []\n",
      "pm10\n"
     ]
    },
    {
     "name": "stderr",
     "output_type": "stream",
     "text": [
      "Check for missing data\n",
      "Check for corrupt data\n",
      "Check for data outside expected range\n",
      "Check for data outside expected range\n",
      "Check for corrupt data\n",
      "Check for corrupt data\n",
      "Check for missing data\n",
      "Check for corrupt data\n",
      "Check for data outside expected range\n",
      "Check for data outside expected range\n",
      "Check for corrupt data\n",
      "Check for corrupt data\n"
     ]
    },
    {
     "name": "stdout",
     "output_type": "stream",
     "text": [
      "Empty DataFrame\n",
      "Columns: [Variable Name, Start Time, End Time, Timesteps, Error Flag]\n",
      "Index: []\n",
      "Zierikzee-Lange Slikweg\n",
      "no2\n",
      "Empty DataFrame\n",
      "Columns: [Variable Name, Start Time, End Time, Timesteps, Error Flag]\n",
      "Index: []\n",
      "o3\n"
     ]
    },
    {
     "name": "stderr",
     "output_type": "stream",
     "text": [
      "Check for missing data\n",
      "Check for corrupt data\n",
      "Check for data outside expected range\n",
      "Check for data outside expected range\n",
      "Check for corrupt data\n"
     ]
    },
    {
     "name": "stdout",
     "output_type": "stream",
     "text": [
      "Empty DataFrame\n",
      "Columns: [Variable Name, Start Time, End Time, Timesteps, Error Flag]\n",
      "Index: []\n",
      "Philippine-Stelleweg\n",
      "no2\n"
     ]
    },
    {
     "name": "stderr",
     "output_type": "stream",
     "text": [
      "Check for corrupt data\n",
      "Check for missing data\n",
      "Check for corrupt data\n",
      "Check for data outside expected range\n",
      "Check for data outside expected range\n",
      "Check for corrupt data\n",
      "Check for corrupt data\n"
     ]
    },
    {
     "name": "stdout",
     "output_type": "stream",
     "text": [
      "Empty DataFrame\n",
      "Columns: [Variable Name, Start Time, End Time, Timesteps, Error Flag]\n",
      "Index: []\n",
      "o3\n"
     ]
    },
    {
     "name": "stderr",
     "output_type": "stream",
     "text": [
      "Check for missing data\n",
      "Check for corrupt data\n",
      "Check for data outside expected range\n",
      "Check for data outside expected range\n",
      "Check for corrupt data\n",
      "Check for corrupt data\n",
      "Check for missing data\n",
      "Check for corrupt data\n",
      "Check for data outside expected range\n",
      "Check for data outside expected range\n",
      "Check for corrupt data\n",
      "Check for corrupt data\n"
     ]
    },
    {
     "name": "stdout",
     "output_type": "stream",
     "text": [
      "Empty DataFrame\n",
      "Columns: [Variable Name, Start Time, End Time, Timesteps, Error Flag]\n",
      "Index: []\n",
      "pm10\n",
      "Empty DataFrame\n",
      "Columns: [Variable Name, Start Time, End Time, Timesteps, Error Flag]\n",
      "Index: []\n",
      "so2\n"
     ]
    },
    {
     "name": "stderr",
     "output_type": "stream",
     "text": [
      "Check for missing data\n",
      "Check for corrupt data\n",
      "Check for data outside expected range\n",
      "Check for data outside expected range\n",
      "Check for corrupt data\n",
      "Check for corrupt data\n"
     ]
    },
    {
     "name": "stdout",
     "output_type": "stream",
     "text": [
      "  Variable Name Start Time   End Time Timesteps             Error Flag\n",
      "0         value 2018-01-01 2018-01-01         2  Data < lower bound, 0\n",
      "Den Haag-Rebecquestraat\n",
      "no2\n"
     ]
    },
    {
     "name": "stderr",
     "output_type": "stream",
     "text": [
      "Check for missing data\n",
      "Check for corrupt data\n",
      "Check for data outside expected range\n",
      "Check for data outside expected range\n",
      "Check for corrupt data\n",
      "Check for corrupt data\n"
     ]
    },
    {
     "name": "stdout",
     "output_type": "stream",
     "text": [
      "Empty DataFrame\n",
      "Columns: [Variable Name, Start Time, End Time, Timesteps, Error Flag]\n",
      "Index: []\n",
      "o3\n"
     ]
    },
    {
     "name": "stderr",
     "output_type": "stream",
     "text": [
      "Check for missing data\n",
      "Check for corrupt data\n",
      "Check for data outside expected range\n",
      "Check for data outside expected range\n",
      "Check for corrupt data\n",
      "Check for corrupt data\n",
      "Check for missing data\n",
      "Check for corrupt data\n",
      "Check for data outside expected range\n",
      "Check for data outside expected range\n",
      "Check for corrupt data\n",
      "Check for corrupt data\n"
     ]
    },
    {
     "name": "stdout",
     "output_type": "stream",
     "text": [
      "Empty DataFrame\n",
      "Columns: [Variable Name, Start Time, End Time, Timesteps, Error Flag]\n",
      "Index: []\n",
      "pm25\n",
      "Empty DataFrame\n",
      "Columns: [Variable Name, Start Time, End Time, Timesteps, Error Flag]\n",
      "Index: []\n",
      "pm10\n"
     ]
    },
    {
     "name": "stderr",
     "output_type": "stream",
     "text": [
      "Check for missing data\n",
      "Check for corrupt data\n",
      "Check for data outside expected range\n",
      "Check for data outside expected range\n",
      "Check for corrupt data\n",
      "Check for corrupt data\n"
     ]
    },
    {
     "name": "stdout",
     "output_type": "stream",
     "text": [
      "Empty DataFrame\n",
      "Columns: [Variable Name, Start Time, End Time, Timesteps, Error Flag]\n",
      "Index: []\n",
      "Rotterdam-Schiedamsevest\n",
      "no2\n"
     ]
    },
    {
     "name": "stderr",
     "output_type": "stream",
     "text": [
      "Check for missing data\n",
      "Check for corrupt data\n",
      "Check for data outside expected range\n",
      "Check for data outside expected range\n",
      "Check for corrupt data\n",
      "Check for corrupt data\n",
      "Check for missing data\n",
      "Check for corrupt data\n",
      "Check for data outside expected range\n",
      "Check for data outside expected range\n",
      "Check for corrupt data\n",
      "Check for corrupt data\n"
     ]
    },
    {
     "name": "stdout",
     "output_type": "stream",
     "text": [
      "Empty DataFrame\n",
      "Columns: [Variable Name, Start Time, End Time, Timesteps, Error Flag]\n",
      "Index: []\n",
      "o3\n",
      "Empty DataFrame\n",
      "Columns: [Variable Name, Start Time, End Time, Timesteps, Error Flag]\n",
      "Index: []\n",
      "pm25\n"
     ]
    },
    {
     "name": "stderr",
     "output_type": "stream",
     "text": [
      "Check for missing data\n",
      "Check for corrupt data\n",
      "Check for data outside expected range\n",
      "Check for data outside expected range\n",
      "Check for corrupt data\n",
      "Check for corrupt data\n"
     ]
    },
    {
     "name": "stdout",
     "output_type": "stream",
     "text": [
      "Empty DataFrame\n",
      "Columns: [Variable Name, Start Time, End Time, Timesteps, Error Flag]\n",
      "Index: []\n",
      "pm10\n"
     ]
    },
    {
     "name": "stderr",
     "output_type": "stream",
     "text": [
      "Check for missing data\n",
      "Check for corrupt data\n",
      "Check for data outside expected range\n",
      "Check for data outside expected range\n",
      "Check for corrupt data\n",
      "Check for corrupt data\n"
     ]
    },
    {
     "name": "stdout",
     "output_type": "stream",
     "text": [
      "Empty DataFrame\n",
      "Columns: [Variable Name, Start Time, End Time, Timesteps, Error Flag]\n",
      "Index: []\n",
      "Vlaardingen-Floreslaan\n",
      "no2\n"
     ]
    },
    {
     "name": "stderr",
     "output_type": "stream",
     "text": [
      "Check for missing data\n",
      "Check for corrupt data\n",
      "Check for data outside expected range\n",
      "Check for data outside expected range\n",
      "Check for corrupt data\n",
      "Check for corrupt data\n"
     ]
    },
    {
     "name": "stdout",
     "output_type": "stream",
     "text": [
      "Empty DataFrame\n",
      "Columns: [Variable Name, Start Time, End Time, Timesteps, Error Flag]\n",
      "Index: []\n",
      "o3\n"
     ]
    },
    {
     "name": "stderr",
     "output_type": "stream",
     "text": [
      "Check for missing data\n",
      "Check for corrupt data\n",
      "Check for data outside expected range\n",
      "Check for data outside expected range\n",
      "Check for corrupt data\n",
      "Check for corrupt data\n",
      "Check for missing data\n",
      "Check for corrupt data\n",
      "Check for data outside expected range\n",
      "Check for data outside expected range\n",
      "Check for corrupt data\n",
      "Check for corrupt data\n"
     ]
    },
    {
     "name": "stdout",
     "output_type": "stream",
     "text": [
      "Empty DataFrame\n",
      "Columns: [Variable Name, Start Time, End Time, Timesteps, Error Flag]\n",
      "Index: []\n",
      "pm25\n",
      "Empty DataFrame\n",
      "Columns: [Variable Name, Start Time, End Time, Timesteps, Error Flag]\n",
      "Index: []\n",
      "pm10\n"
     ]
    },
    {
     "name": "stderr",
     "output_type": "stream",
     "text": [
      "Check for missing data\n",
      "Check for corrupt data\n",
      "Check for data outside expected range\n",
      "Check for data outside expected range\n",
      "Check for corrupt data\n",
      "Check for corrupt data\n"
     ]
    },
    {
     "name": "stdout",
     "output_type": "stream",
     "text": [
      "Empty DataFrame\n",
      "Columns: [Variable Name, Start Time, End Time, Timesteps, Error Flag]\n",
      "Index: []\n",
      "Westmaas-Groeneweg\n",
      "no2\n"
     ]
    },
    {
     "name": "stderr",
     "output_type": "stream",
     "text": [
      "Check for missing data\n",
      "Check for corrupt data\n",
      "Check for data outside expected range\n",
      "Check for data outside expected range\n",
      "Check for corrupt data\n",
      "Check for corrupt data\n"
     ]
    },
    {
     "name": "stdout",
     "output_type": "stream",
     "text": [
      "Empty DataFrame\n",
      "Columns: [Variable Name, Start Time, End Time, Timesteps, Error Flag]\n",
      "Index: []\n",
      "o3\n"
     ]
    },
    {
     "name": "stderr",
     "output_type": "stream",
     "text": [
      "Check for missing data\n",
      "Check for corrupt data\n",
      "Check for data outside expected range\n",
      "Check for data outside expected range\n",
      "Check for corrupt data\n",
      "Check for corrupt data\n"
     ]
    },
    {
     "name": "stdout",
     "output_type": "stream",
     "text": [
      "Empty DataFrame\n",
      "Columns: [Variable Name, Start Time, End Time, Timesteps, Error Flag]\n",
      "Index: []\n",
      "pm10\n"
     ]
    },
    {
     "name": "stderr",
     "output_type": "stream",
     "text": [
      "Check for missing data\n",
      "Check for corrupt data\n",
      "Check for data outside expected range\n",
      "Check for data outside expected range\n",
      "Check for corrupt data\n",
      "Check for corrupt data\n"
     ]
    },
    {
     "name": "stdout",
     "output_type": "stream",
     "text": [
      "Empty DataFrame\n",
      "Columns: [Variable Name, Start Time, End Time, Timesteps, Error Flag]\n",
      "Index: []\n",
      "Dordrecht-Bamendaweg\n",
      "no2\n"
     ]
    },
    {
     "name": "stderr",
     "output_type": "stream",
     "text": [
      "Check for missing data\n",
      "Check for corrupt data\n",
      "Check for data outside expected range\n",
      "Check for data outside expected range\n",
      "Check for corrupt data\n"
     ]
    },
    {
     "name": "stdout",
     "output_type": "stream",
     "text": [
      "Empty DataFrame\n",
      "Columns: [Variable Name, Start Time, End Time, Timesteps, Error Flag]\n",
      "Index: []\n",
      "o3\n"
     ]
    },
    {
     "name": "stderr",
     "output_type": "stream",
     "text": [
      "Check for corrupt data\n",
      "Check for missing data\n",
      "Check for corrupt data\n",
      "Check for data outside expected range\n",
      "Check for data outside expected range\n",
      "Check for corrupt data\n",
      "Check for corrupt data\n"
     ]
    },
    {
     "name": "stdout",
     "output_type": "stream",
     "text": [
      "Empty DataFrame\n",
      "Columns: [Variable Name, Start Time, End Time, Timesteps, Error Flag]\n",
      "Index: []\n",
      "pm10\n"
     ]
    },
    {
     "name": "stderr",
     "output_type": "stream",
     "text": [
      "Check for missing data\n",
      "Check for corrupt data\n",
      "Check for data outside expected range\n",
      "Check for data outside expected range\n",
      "Check for corrupt data\n",
      "Check for corrupt data\n",
      "Check for missing data\n",
      "Check for corrupt data\n",
      "Check for data outside expected range\n",
      "Check for data outside expected range\n",
      "Check for corrupt data\n",
      "Check for corrupt data\n"
     ]
    },
    {
     "name": "stdout",
     "output_type": "stream",
     "text": [
      "Empty DataFrame\n",
      "Columns: [Variable Name, Start Time, End Time, Timesteps, Error Flag]\n",
      "Index: []\n",
      "De Zilk-Vogelaarsdreef\n",
      "no2\n",
      "  Variable Name Start Time   End Time Timesteps             Error Flag\n",
      "0         value 2018-01-01 2018-01-01         2  Data < lower bound, 0\n",
      "o3\n"
     ]
    },
    {
     "name": "stderr",
     "output_type": "stream",
     "text": [
      "Check for missing data\n",
      "Check for corrupt data\n",
      "Check for data outside expected range\n",
      "Check for data outside expected range\n",
      "Check for corrupt data\n",
      "Check for corrupt data\n",
      "Check for missing data\n",
      "Check for corrupt data\n",
      "Check for data outside expected range\n",
      "Check for data outside expected range\n",
      "Check for corrupt data\n",
      "Check for corrupt data\n"
     ]
    },
    {
     "name": "stdout",
     "output_type": "stream",
     "text": [
      "Empty DataFrame\n",
      "Columns: [Variable Name, Start Time, End Time, Timesteps, Error Flag]\n",
      "Index: []\n",
      "pm25\n",
      "Empty DataFrame\n",
      "Columns: [Variable Name, Start Time, End Time, Timesteps, Error Flag]\n",
      "Index: []\n",
      "pm10\n"
     ]
    },
    {
     "name": "stderr",
     "output_type": "stream",
     "text": [
      "Check for missing data\n",
      "Check for corrupt data\n",
      "Check for data outside expected range\n",
      "Check for data outside expected range\n",
      "Check for corrupt data\n",
      "Check for corrupt data\n",
      "Check for missing data\n",
      "Check for corrupt data\n",
      "Check for data outside expected range\n",
      "Check for data outside expected range\n",
      "Check for corrupt data\n",
      "Check for corrupt data\n"
     ]
    },
    {
     "name": "stdout",
     "output_type": "stream",
     "text": [
      "Empty DataFrame\n",
      "Columns: [Variable Name, Start Time, End Time, Timesteps, Error Flag]\n",
      "Index: []\n",
      "so2\n",
      "Empty DataFrame\n",
      "Columns: [Variable Name, Start Time, End Time, Timesteps, Error Flag]\n",
      "Index: []\n",
      "Den Haag-Veerkade\n",
      "no2\n"
     ]
    },
    {
     "name": "stderr",
     "output_type": "stream",
     "text": [
      "Check for missing data\n",
      "Check for corrupt data\n",
      "Check for data outside expected range\n",
      "Check for data outside expected range\n",
      "Check for corrupt data\n",
      "Check for corrupt data\n"
     ]
    },
    {
     "name": "stdout",
     "output_type": "stream",
     "text": [
      "Empty DataFrame\n",
      "Columns: [Variable Name, Start Time, End Time, Timesteps, Error Flag]\n",
      "Index: []\n",
      "pm10\n"
     ]
    },
    {
     "name": "stderr",
     "output_type": "stream",
     "text": [
      "Check for missing data\n",
      "Check for corrupt data\n",
      "Check for data outside expected range\n",
      "Check for data outside expected range\n",
      "Check for corrupt data\n",
      "Check for corrupt data\n",
      "Check for missing data\n",
      "Check for corrupt data\n",
      "Check for data outside expected range\n",
      "Check for data outside expected range\n",
      "Check for corrupt data\n",
      "Check for corrupt data\n"
     ]
    },
    {
     "name": "stdout",
     "output_type": "stream",
     "text": [
      "Empty DataFrame\n",
      "Columns: [Variable Name, Start Time, End Time, Timesteps, Error Flag]\n",
      "Index: []\n",
      "Den Haag-Bleriotlaan\n",
      "no2\n",
      "Empty DataFrame\n",
      "Columns: [Variable Name, Start Time, End Time, Timesteps, Error Flag]\n",
      "Index: []\n",
      "o3\n"
     ]
    },
    {
     "name": "stderr",
     "output_type": "stream",
     "text": [
      "Check for missing data\n",
      "Check for corrupt data\n",
      "Check for data outside expected range\n",
      "Check for data outside expected range\n",
      "Check for corrupt data\n",
      "Check for corrupt data\n",
      "Check for missing data\n",
      "Check for corrupt data\n",
      "Check for data outside expected range\n",
      "Check for data outside expected range\n",
      "Check for corrupt data\n"
     ]
    },
    {
     "name": "stdout",
     "output_type": "stream",
     "text": [
      "Empty DataFrame\n",
      "Columns: [Variable Name, Start Time, End Time, Timesteps, Error Flag]\n",
      "Index: []\n",
      "pm10\n",
      "Empty DataFrame\n",
      "Columns: [Variable Name, Start Time, End Time, Timesteps, Error Flag]\n",
      "Index: []\n",
      "Wieringerwerf-Medemblikkerweg\n",
      "no2\n"
     ]
    },
    {
     "name": "stderr",
     "output_type": "stream",
     "text": [
      "Check for corrupt data\n",
      "Check for missing data\n",
      "Check for corrupt data\n",
      "Check for data outside expected range\n",
      "Check for data outside expected range\n",
      "Check for corrupt data\n",
      "Check for corrupt data\n"
     ]
    },
    {
     "name": "stdout",
     "output_type": "stream",
     "text": [
      "Empty DataFrame\n",
      "Columns: [Variable Name, Start Time, End Time, Timesteps, Error Flag]\n",
      "Index: []\n",
      "o3\n"
     ]
    },
    {
     "name": "stderr",
     "output_type": "stream",
     "text": [
      "Check for missing data\n",
      "Check for corrupt data\n",
      "Check for data outside expected range\n",
      "Check for data outside expected range\n",
      "Check for corrupt data\n",
      "Check for corrupt data\n"
     ]
    },
    {
     "name": "stdout",
     "output_type": "stream",
     "text": [
      "Empty DataFrame\n",
      "Columns: [Variable Name, Start Time, End Time, Timesteps, Error Flag]\n",
      "Index: []\n",
      "pm25\n"
     ]
    },
    {
     "name": "stderr",
     "output_type": "stream",
     "text": [
      "Check for missing data\n",
      "Check for corrupt data\n",
      "Check for data outside expected range\n",
      "Check for data outside expected range\n",
      "Check for corrupt data\n",
      "Check for corrupt data\n"
     ]
    },
    {
     "name": "stdout",
     "output_type": "stream",
     "text": [
      "Empty DataFrame\n",
      "Columns: [Variable Name, Start Time, End Time, Timesteps, Error Flag]\n",
      "Index: []\n",
      "pm10\n"
     ]
    },
    {
     "name": "stderr",
     "output_type": "stream",
     "text": [
      "Check for missing data\n",
      "Check for corrupt data\n",
      "Check for data outside expected range\n",
      "Check for data outside expected range\n",
      "Check for corrupt data\n",
      "Check for corrupt data\n",
      "Check for missing data\n",
      "Check for corrupt data\n",
      "Check for data outside expected range\n",
      "Check for data outside expected range\n",
      "Check for corrupt data\n",
      "Check for corrupt data\n"
     ]
    },
    {
     "name": "stdout",
     "output_type": "stream",
     "text": [
      "Empty DataFrame\n",
      "Columns: [Variable Name, Start Time, End Time, Timesteps, Error Flag]\n",
      "Index: []\n",
      "Haarlem-Schipholweg\n",
      "no2\n",
      "Empty DataFrame\n",
      "Columns: [Variable Name, Start Time, End Time, Timesteps, Error Flag]\n",
      "Index: []\n",
      "o3\n"
     ]
    },
    {
     "name": "stderr",
     "output_type": "stream",
     "text": [
      "Check for missing data\n",
      "Check for corrupt data\n",
      "Check for data outside expected range\n",
      "Check for data outside expected range\n",
      "Check for corrupt data\n",
      "Check for corrupt data\n",
      "Check for missing data\n",
      "Check for corrupt data\n",
      "Check for data outside expected range\n",
      "Check for data outside expected range\n",
      "Check for corrupt data\n",
      "Check for corrupt data\n"
     ]
    },
    {
     "name": "stdout",
     "output_type": "stream",
     "text": [
      "Empty DataFrame\n",
      "Columns: [Variable Name, Start Time, End Time, Timesteps, Error Flag]\n",
      "Index: []\n",
      "pm10\n",
      "Empty DataFrame\n",
      "Columns: [Variable Name, Start Time, End Time, Timesteps, Error Flag]\n",
      "Index: []\n",
      "Biddinghuizen-Kuilweg\n",
      "no2\n"
     ]
    },
    {
     "name": "stderr",
     "output_type": "stream",
     "text": [
      "Check for missing data\n",
      "Check for corrupt data\n",
      "Check for data outside expected range\n",
      "Check for data outside expected range\n",
      "Check for corrupt data\n",
      "Check for corrupt data\n"
     ]
    },
    {
     "name": "stdout",
     "output_type": "stream",
     "text": [
      "Empty DataFrame\n",
      "Columns: [Variable Name, Start Time, End Time, Timesteps, Error Flag]\n",
      "Index: []\n",
      "o3\n"
     ]
    },
    {
     "name": "stderr",
     "output_type": "stream",
     "text": [
      "Check for missing data\n",
      "Check for corrupt data\n",
      "Check for data outside expected range\n",
      "Check for data outside expected range\n",
      "Check for corrupt data\n",
      "Check for corrupt data\n"
     ]
    },
    {
     "name": "stdout",
     "output_type": "stream",
     "text": [
      "Empty DataFrame\n",
      "Columns: [Variable Name, Start Time, End Time, Timesteps, Error Flag]\n",
      "Index: []\n",
      "pm10\n"
     ]
    },
    {
     "name": "stderr",
     "output_type": "stream",
     "text": [
      "Check for missing data\n",
      "Check for corrupt data\n",
      "Check for data outside expected range\n",
      "Check for data outside expected range\n",
      "Check for corrupt data\n",
      "Check for corrupt data\n"
     ]
    },
    {
     "name": "stdout",
     "output_type": "stream",
     "text": [
      "Empty DataFrame\n",
      "Columns: [Variable Name, Start Time, End Time, Timesteps, Error Flag]\n",
      "Index: []\n",
      "Utrecht-de Jongweg\n",
      "no2\n"
     ]
    },
    {
     "name": "stderr",
     "output_type": "stream",
     "text": [
      "Check for missing data\n",
      "Check for corrupt data\n",
      "Check for data outside expected range\n",
      "Check for data outside expected range\n",
      "Check for corrupt data\n",
      "Check for corrupt data\n",
      "Check for missing data\n",
      "Check for corrupt data\n",
      "Check for data outside expected range\n",
      "Check for data outside expected range\n",
      "Check for corrupt data\n",
      "Check for corrupt data\n"
     ]
    },
    {
     "name": "stdout",
     "output_type": "stream",
     "text": [
      "Empty DataFrame\n",
      "Columns: [Variable Name, Start Time, End Time, Timesteps, Error Flag]\n",
      "Index: []\n",
      "pm25\n",
      "Empty DataFrame\n",
      "Columns: [Variable Name, Start Time, End Time, Timesteps, Error Flag]\n",
      "Index: []\n",
      "pm10\n"
     ]
    },
    {
     "name": "stderr",
     "output_type": "stream",
     "text": [
      "Check for missing data\n",
      "Check for corrupt data\n",
      "Check for data outside expected range\n",
      "Check for data outside expected range\n",
      "Check for corrupt data\n",
      "Check for corrupt data\n"
     ]
    },
    {
     "name": "stdout",
     "output_type": "stream",
     "text": [
      "Empty DataFrame\n",
      "Columns: [Variable Name, Start Time, End Time, Timesteps, Error Flag]\n",
      "Index: []\n",
      "Utrecht-Erzeijstraat\n",
      "no2\n"
     ]
    },
    {
     "name": "stderr",
     "output_type": "stream",
     "text": [
      "Check for missing data\n",
      "Check for corrupt data\n",
      "Check for data outside expected range\n",
      "Check for data outside expected range\n",
      "Check for corrupt data\n",
      "Check for corrupt data\n"
     ]
    },
    {
     "name": "stdout",
     "output_type": "stream",
     "text": [
      "  Variable Name Start Time   End Time Timesteps             Error Flag\n",
      "0         value 2018-01-01 2018-01-01         2  Data < lower bound, 0\n",
      "o3\n"
     ]
    },
    {
     "name": "stderr",
     "output_type": "stream",
     "text": [
      "Check for missing data\n",
      "Check for corrupt data\n",
      "Check for data outside expected range\n",
      "Check for data outside expected range\n",
      "Check for corrupt data\n",
      "Check for corrupt data\n",
      "Check for missing data\n",
      "Check for corrupt data\n",
      "Check for data outside expected range\n",
      "Check for data outside expected range\n",
      "Check for corrupt data\n",
      "Check for corrupt data\n"
     ]
    },
    {
     "name": "stdout",
     "output_type": "stream",
     "text": [
      "Empty DataFrame\n",
      "Columns: [Variable Name, Start Time, End Time, Timesteps, Error Flag]\n",
      "Index: []\n",
      "pm10\n",
      "Empty DataFrame\n",
      "Columns: [Variable Name, Start Time, End Time, Timesteps, Error Flag]\n",
      "Index: []\n",
      "Breukelen-Snelweg\n",
      "no2\n"
     ]
    },
    {
     "name": "stderr",
     "output_type": "stream",
     "text": [
      "Check for missing data\n",
      "Check for corrupt data\n",
      "Check for data outside expected range\n",
      "Check for data outside expected range\n",
      "Check for corrupt data\n",
      "Check for corrupt data\n",
      "Check for missing data\n",
      "Check for corrupt data\n",
      "Check for data outside expected range\n",
      "Check for data outside expected range\n",
      "Check for corrupt data\n",
      "Check for corrupt data\n"
     ]
    },
    {
     "name": "stdout",
     "output_type": "stream",
     "text": [
      "Empty DataFrame\n",
      "Columns: [Variable Name, Start Time, End Time, Timesteps, Error Flag]\n",
      "Index: []\n",
      "o3\n",
      "Empty DataFrame\n",
      "Columns: [Variable Name, Start Time, End Time, Timesteps, Error Flag]\n",
      "Index: []\n",
      "pm25\n"
     ]
    },
    {
     "name": "stderr",
     "output_type": "stream",
     "text": [
      "Check for missing data\n",
      "Check for corrupt data\n",
      "Check for data outside expected range\n",
      "Check for data outside expected range\n",
      "Check for corrupt data\n",
      "Check for corrupt data\n",
      "Check for missing data\n",
      "Check for corrupt data\n",
      "Check for data outside expected range\n",
      "Check for data outside expected range\n",
      "Check for corrupt data\n",
      "Check for corrupt data\n"
     ]
    },
    {
     "name": "stdout",
     "output_type": "stream",
     "text": [
      "Empty DataFrame\n",
      "Columns: [Variable Name, Start Time, End Time, Timesteps, Error Flag]\n",
      "Index: []\n",
      "pm10\n",
      "Empty DataFrame\n",
      "Columns: [Variable Name, Start Time, End Time, Timesteps, Error Flag]\n",
      "Index: []\n",
      "Utrecht-Griftpark\n",
      "no2\n"
     ]
    },
    {
     "name": "stderr",
     "output_type": "stream",
     "text": [
      "Check for missing data\n",
      "Check for corrupt data\n",
      "Check for data outside expected range\n",
      "Check for data outside expected range\n",
      "Check for corrupt data\n",
      "Check for corrupt data\n"
     ]
    },
    {
     "name": "stdout",
     "output_type": "stream",
     "text": [
      "  Variable Name Start Time   End Time Timesteps    Error Flag\n",
      "0         value 2018-01-01 2018-01-01         2  Corrupt data\n",
      "o3\n"
     ]
    },
    {
     "name": "stderr",
     "output_type": "stream",
     "text": [
      "Check for missing data\n",
      "Check for corrupt data\n",
      "Check for data outside expected range\n",
      "Check for data outside expected range\n",
      "Check for corrupt data\n",
      "Check for corrupt data\n"
     ]
    },
    {
     "name": "stdout",
     "output_type": "stream",
     "text": [
      "  Variable Name Start Time   End Time Timesteps    Error Flag\n",
      "0         value 2018-01-01 2018-01-01         2  Corrupt data\n",
      "pm25\n"
     ]
    },
    {
     "name": "stderr",
     "output_type": "stream",
     "text": [
      "Check for missing data\n",
      "Check for corrupt data\n",
      "Check for data outside expected range\n",
      "Check for data outside expected range\n",
      "Check for corrupt data\n",
      "Check for corrupt data\n",
      "Check for missing data\n",
      "Check for corrupt data\n",
      "Check for data outside expected range\n",
      "Check for data outside expected range\n",
      "Check for corrupt data\n",
      "Check for corrupt data\n"
     ]
    },
    {
     "name": "stdout",
     "output_type": "stream",
     "text": [
      "Empty DataFrame\n",
      "Columns: [Variable Name, Start Time, End Time, Timesteps, Error Flag]\n",
      "Index: []\n",
      "Eibergen-Lintveldseweg\n",
      "no2\n",
      "  Variable Name Start Time   End Time Timesteps             Error Flag\n",
      "0         value 2018-01-01 2018-01-01         2  Data < lower bound, 0\n",
      "o3\n"
     ]
    },
    {
     "name": "stderr",
     "output_type": "stream",
     "text": [
      "Check for missing data\n",
      "Check for corrupt data\n",
      "Check for data outside expected range\n",
      "Check for data outside expected range\n",
      "Check for corrupt data\n",
      "Check for corrupt data\n",
      "Check for missing data\n",
      "Check for corrupt data\n",
      "Check for data outside expected range\n",
      "Check for data outside expected range\n",
      "Check for corrupt data\n",
      "Check for corrupt data\n"
     ]
    },
    {
     "name": "stdout",
     "output_type": "stream",
     "text": [
      "Empty DataFrame\n",
      "Columns: [Variable Name, Start Time, End Time, Timesteps, Error Flag]\n",
      "Index: []\n",
      "pm10\n",
      "Empty DataFrame\n",
      "Columns: [Variable Name, Start Time, End Time, Timesteps, Error Flag]\n",
      "Index: []\n",
      "so2\n"
     ]
    },
    {
     "name": "stderr",
     "output_type": "stream",
     "text": [
      "Check for missing data\n",
      "Check for corrupt data\n",
      "Check for data outside expected range\n",
      "Check for data outside expected range\n",
      "Check for corrupt data\n",
      "Check for corrupt data\n",
      "Check for missing data\n",
      "Check for corrupt data\n",
      "Check for data outside expected range\n",
      "Check for data outside expected range\n",
      "Check for corrupt data\n",
      "Check for corrupt data\n"
     ]
    },
    {
     "name": "stdout",
     "output_type": "stream",
     "text": [
      "Empty DataFrame\n",
      "Columns: [Variable Name, Start Time, End Time, Timesteps, Error Flag]\n",
      "Index: []\n",
      "Wekerom-Riemterdijk\n",
      "no2\n",
      "Empty DataFrame\n",
      "Columns: [Variable Name, Start Time, End Time, Timesteps, Error Flag]\n",
      "Index: []\n",
      "o3\n"
     ]
    },
    {
     "name": "stderr",
     "output_type": "stream",
     "text": [
      "Check for missing data\n",
      "Check for corrupt data\n",
      "Check for data outside expected range\n",
      "Check for data outside expected range\n",
      "Check for corrupt data\n",
      "Check for corrupt data\n",
      "Check for missing data\n",
      "Check for corrupt data\n",
      "Check for data outside expected range\n",
      "Check for data outside expected range\n",
      "Check for corrupt data\n",
      "Check for corrupt data\n"
     ]
    },
    {
     "name": "stdout",
     "output_type": "stream",
     "text": [
      "Empty DataFrame\n",
      "Columns: [Variable Name, Start Time, End Time, Timesteps, Error Flag]\n",
      "Index: []\n",
      "pm25\n",
      "Empty DataFrame\n",
      "Columns: [Variable Name, Start Time, End Time, Timesteps, Error Flag]\n",
      "Index: []\n",
      "pm10\n"
     ]
    },
    {
     "name": "stderr",
     "output_type": "stream",
     "text": [
      "Check for missing data\n",
      "Check for corrupt data\n",
      "Check for data outside expected range\n",
      "Check for data outside expected range\n",
      "Check for corrupt data\n",
      "Check for corrupt data\n",
      "Check for missing data\n",
      "Check for corrupt data\n",
      "Check for data outside expected range\n",
      "Check for data outside expected range\n",
      "Check for corrupt data\n",
      "Check for corrupt data\n"
     ]
    },
    {
     "name": "stdout",
     "output_type": "stream",
     "text": [
      "Empty DataFrame\n",
      "Columns: [Variable Name, Start Time, End Time, Timesteps, Error Flag]\n",
      "Index: []\n",
      "Hellendoorn-Luttenbergerweg\n",
      "no2\n",
      "Empty DataFrame\n",
      "Columns: [Variable Name, Start Time, End Time, Timesteps, Error Flag]\n",
      "Index: []\n",
      "o3\n"
     ]
    },
    {
     "name": "stderr",
     "output_type": "stream",
     "text": [
      "Check for missing data\n",
      "Check for corrupt data\n",
      "Check for data outside expected range\n",
      "Check for data outside expected range\n",
      "Check for corrupt data\n",
      "Check for corrupt data\n",
      "Check for missing data\n",
      "Check for corrupt data\n",
      "Check for data outside expected range\n",
      "Check for data outside expected range\n",
      "Check for corrupt data\n",
      "Check for corrupt data\n"
     ]
    },
    {
     "name": "stdout",
     "output_type": "stream",
     "text": [
      "Empty DataFrame\n",
      "Columns: [Variable Name, Start Time, End Time, Timesteps, Error Flag]\n",
      "Index: []\n",
      "pm10\n",
      "Empty DataFrame\n",
      "Columns: [Variable Name, Start Time, End Time, Timesteps, Error Flag]\n",
      "Index: []\n",
      "Barsbeek-De Veenen\n",
      "no2\n"
     ]
    },
    {
     "name": "stderr",
     "output_type": "stream",
     "text": [
      "Check for missing data\n",
      "Check for corrupt data\n",
      "Check for data outside expected range\n",
      "Check for data outside expected range\n",
      "Check for corrupt data\n",
      "Check for corrupt data\n"
     ]
    },
    {
     "name": "stdout",
     "output_type": "stream",
     "text": [
      "Empty DataFrame\n",
      "Columns: [Variable Name, Start Time, End Time, Timesteps, Error Flag]\n",
      "Index: []\n",
      "o3\n"
     ]
    },
    {
     "name": "stderr",
     "output_type": "stream",
     "text": [
      "Check for missing data\n",
      "Check for corrupt data\n",
      "Check for data outside expected range\n",
      "Check for data outside expected range\n",
      "Check for corrupt data\n",
      "Check for corrupt data\n",
      "Check for missing data\n",
      "Check for corrupt data\n",
      "Check for data outside expected range\n",
      "Check for data outside expected range\n",
      "Check for corrupt data\n",
      "Check for corrupt data\n"
     ]
    },
    {
     "name": "stdout",
     "output_type": "stream",
     "text": [
      "Empty DataFrame\n",
      "Columns: [Variable Name, Start Time, End Time, Timesteps, Error Flag]\n",
      "Index: []\n",
      "pm10\n",
      "Empty DataFrame\n",
      "Columns: [Variable Name, Start Time, End Time, Timesteps, Error Flag]\n",
      "Index: []\n",
      "Balk-Trophornsterweg\n",
      "no2\n"
     ]
    },
    {
     "name": "stderr",
     "output_type": "stream",
     "text": [
      "Check for missing data\n",
      "Check for corrupt data\n",
      "Check for data outside expected range\n",
      "Check for data outside expected range\n",
      "Check for corrupt data\n",
      "Check for corrupt data\n"
     ]
    },
    {
     "name": "stdout",
     "output_type": "stream",
     "text": [
      "Empty DataFrame\n",
      "Columns: [Variable Name, Start Time, End Time, Timesteps, Error Flag]\n",
      "Index: []\n",
      "o3\n"
     ]
    },
    {
     "name": "stderr",
     "output_type": "stream",
     "text": [
      "Check for missing data\n",
      "Check for corrupt data\n",
      "Check for data outside expected range\n",
      "Check for data outside expected range\n",
      "Check for corrupt data\n",
      "Check for corrupt data\n"
     ]
    },
    {
     "name": "stdout",
     "output_type": "stream",
     "text": [
      "Empty DataFrame\n",
      "Columns: [Variable Name, Start Time, End Time, Timesteps, Error Flag]\n",
      "Index: []\n",
      "pm10\n"
     ]
    },
    {
     "name": "stderr",
     "output_type": "stream",
     "text": [
      "Check for missing data\n",
      "Check for corrupt data\n",
      "Check for data outside expected range\n",
      "Check for data outside expected range\n",
      "Check for corrupt data\n",
      "Check for corrupt data\n",
      "Check for missing data\n",
      "Check for corrupt data\n",
      "Check for data outside expected range\n",
      "Check for data outside expected range\n",
      "Check for corrupt data\n",
      "Check for corrupt data\n"
     ]
    },
    {
     "name": "stdout",
     "output_type": "stream",
     "text": [
      "Empty DataFrame\n",
      "Columns: [Variable Name, Start Time, End Time, Timesteps, Error Flag]\n",
      "Index: []\n",
      "Valthermond-Noorderdiep\n",
      "no2\n",
      "Empty DataFrame\n",
      "Columns: [Variable Name, Start Time, End Time, Timesteps, Error Flag]\n",
      "Index: []\n",
      "o3\n"
     ]
    },
    {
     "name": "stderr",
     "output_type": "stream",
     "text": [
      "Check for missing data\n",
      "Check for corrupt data\n",
      "Check for data outside expected range\n",
      "Check for data outside expected range\n",
      "Check for corrupt data\n",
      "Check for corrupt data\n",
      "Check for missing data\n",
      "Check for corrupt data\n",
      "Check for data outside expected range\n",
      "Check for data outside expected range\n",
      "Check for corrupt data\n",
      "Check for corrupt data\n"
     ]
    },
    {
     "name": "stdout",
     "output_type": "stream",
     "text": [
      "Empty DataFrame\n",
      "Columns: [Variable Name, Start Time, End Time, Timesteps, Error Flag]\n",
      "Index: []\n",
      "pm10\n",
      "Empty DataFrame\n",
      "Columns: [Variable Name, Start Time, End Time, Timesteps, Error Flag]\n",
      "Index: []\n",
      "Kollumerwaard-Hooge Zuidwal\n",
      "no2\n"
     ]
    },
    {
     "name": "stderr",
     "output_type": "stream",
     "text": [
      "Check for missing data\n",
      "Check for corrupt data\n",
      "Check for data outside expected range\n",
      "Check for data outside expected range\n",
      "Check for corrupt data\n",
      "Check for corrupt data\n"
     ]
    },
    {
     "name": "stdout",
     "output_type": "stream",
     "text": [
      "  Variable Name Start Time   End Time Timesteps             Error Flag\n",
      "0         value 2018-01-01 2018-01-01         2  Data < lower bound, 0\n",
      "o3\n"
     ]
    },
    {
     "name": "stderr",
     "output_type": "stream",
     "text": [
      "Check for missing data\n",
      "Check for corrupt data\n",
      "Check for data outside expected range\n",
      "Check for data outside expected range\n",
      "Check for corrupt data\n",
      "Check for corrupt data\n",
      "Check for missing data\n",
      "Check for corrupt data\n",
      "Check for data outside expected range\n",
      "Check for data outside expected range\n",
      "Check for corrupt data\n",
      "Check for corrupt data\n"
     ]
    },
    {
     "name": "stdout",
     "output_type": "stream",
     "text": [
      "Empty DataFrame\n",
      "Columns: [Variable Name, Start Time, End Time, Timesteps, Error Flag]\n",
      "Index: []\n",
      "pm25\n",
      "Empty DataFrame\n",
      "Columns: [Variable Name, Start Time, End Time, Timesteps, Error Flag]\n",
      "Index: []\n",
      "pm10\n"
     ]
    },
    {
     "name": "stderr",
     "output_type": "stream",
     "text": [
      "Check for missing data\n",
      "Check for corrupt data\n",
      "Check for data outside expected range\n",
      "Check for data outside expected range\n",
      "Check for corrupt data\n",
      "Check for corrupt data\n",
      "Check for missing data\n",
      "Check for corrupt data\n",
      "Check for data outside expected range\n",
      "Check for data outside expected range\n",
      "Check for corrupt data\n",
      "Check for corrupt data\n"
     ]
    },
    {
     "name": "stdout",
     "output_type": "stream",
     "text": [
      "Empty DataFrame\n",
      "Columns: [Variable Name, Start Time, End Time, Timesteps, Error Flag]\n",
      "Index: []\n",
      "Groningen-Europaweg\n",
      "no2\n",
      "Empty DataFrame\n",
      "Columns: [Variable Name, Start Time, End Time, Timesteps, Error Flag]\n",
      "Index: []\n",
      "pm25\n"
     ]
    },
    {
     "name": "stderr",
     "output_type": "stream",
     "text": [
      "Check for missing data\n",
      "Check for corrupt data\n",
      "Check for data outside expected range\n",
      "Check for data outside expected range\n",
      "Check for corrupt data\n",
      "Check for corrupt data\n"
     ]
    },
    {
     "name": "stdout",
     "output_type": "stream",
     "text": [
      "Empty DataFrame\n",
      "Columns: [Variable Name, Start Time, End Time, Timesteps, Error Flag]\n",
      "Index: []\n",
      "pm10\n"
     ]
    },
    {
     "name": "stderr",
     "output_type": "stream",
     "text": [
      "Check for missing data\n",
      "Check for corrupt data\n",
      "Check for data outside expected range\n",
      "Check for data outside expected range\n",
      "Check for corrupt data\n",
      "Check for corrupt data\n",
      "Check for missing data\n",
      "Check for corrupt data\n",
      "Check for data outside expected range\n",
      "Check for data outside expected range\n",
      "Check for corrupt data\n",
      "Check for corrupt data\n"
     ]
    },
    {
     "name": "stdout",
     "output_type": "stream",
     "text": [
      "Empty DataFrame\n",
      "Columns: [Variable Name, Start Time, End Time, Timesteps, Error Flag]\n",
      "Index: []\n",
      "Groningen-Nijensteinheerd\n",
      "no2\n",
      "Empty DataFrame\n",
      "Columns: [Variable Name, Start Time, End Time, Timesteps, Error Flag]\n",
      "Index: []\n",
      "o3\n"
     ]
    },
    {
     "name": "stderr",
     "output_type": "stream",
     "text": [
      "Check for missing data\n",
      "Check for corrupt data\n",
      "Check for data outside expected range\n",
      "Check for data outside expected range\n",
      "Check for corrupt data\n",
      "Check for corrupt data\n"
     ]
    },
    {
     "name": "stdout",
     "output_type": "stream",
     "text": [
      "Empty DataFrame\n",
      "Columns: [Variable Name, Start Time, End Time, Timesteps, Error Flag]\n",
      "Index: []\n",
      "pm25\n"
     ]
    },
    {
     "name": "stderr",
     "output_type": "stream",
     "text": [
      "Check for missing data\n",
      "Check for corrupt data\n",
      "Check for data outside expected range\n",
      "Check for data outside expected range\n",
      "Check for corrupt data\n",
      "Check for corrupt data\n"
     ]
    },
    {
     "name": "stdout",
     "output_type": "stream",
     "text": [
      "Empty DataFrame\n",
      "Columns: [Variable Name, Start Time, End Time, Timesteps, Error Flag]\n",
      "Index: []\n",
      "Maastricht-Hoge Fronten\n",
      "o3\n"
     ]
    },
    {
     "name": "stderr",
     "output_type": "stream",
     "text": [
      "Check for missing data\n",
      "Check for corrupt data\n",
      "Check for data outside expected range\n",
      "Check for data outside expected range\n",
      "Check for corrupt data\n",
      "Check for corrupt data\n"
     ]
    },
    {
     "name": "stdout",
     "output_type": "stream",
     "text": [
      "  Variable Name Start Time   End Time Timesteps    Error Flag\n",
      "0         value 2018-01-01 2018-01-01         2  Corrupt data\n",
      "pm25\n"
     ]
    },
    {
     "name": "stderr",
     "output_type": "stream",
     "text": [
      "Check for missing data\n",
      "Check for corrupt data\n",
      "Check for data outside expected range\n",
      "Check for data outside expected range\n",
      "Check for corrupt data\n",
      "Check for corrupt data\n"
     ]
    },
    {
     "name": "stdout",
     "output_type": "stream",
     "text": [
      "Empty DataFrame\n",
      "Columns: [Variable Name, Start Time, End Time, Timesteps, Error Flag]\n",
      "Index: []\n",
      "Rotterdam Zuid-Pleinweg\n",
      "pm25\n"
     ]
    },
    {
     "name": "stderr",
     "output_type": "stream",
     "text": [
      "Check for missing data\n",
      "Check for corrupt data\n",
      "Check for data outside expected range\n",
      "Check for data outside expected range\n",
      "Check for corrupt data\n",
      "Check for corrupt data\n",
      "Check for missing data\n",
      "Check for corrupt data\n",
      "Check for data outside expected range\n",
      "Check for data outside expected range\n",
      "Check for corrupt data\n",
      "Check for corrupt data\n"
     ]
    },
    {
     "name": "stdout",
     "output_type": "stream",
     "text": [
      "Empty DataFrame\n",
      "Columns: [Variable Name, Start Time, End Time, Timesteps, Error Flag]\n",
      "Index: []\n",
      "pm10\n",
      "Empty DataFrame\n",
      "Columns: [Variable Name, Start Time, End Time, Timesteps, Error Flag]\n",
      "Index: []\n",
      "Amsterdam-Westerpark\n",
      "pm25\n"
     ]
    },
    {
     "name": "stderr",
     "output_type": "stream",
     "text": [
      "Check for missing data\n",
      "Check for corrupt data\n",
      "Check for data outside expected range\n",
      "Check for data outside expected range\n",
      "Check for corrupt data\n",
      "Check for corrupt data\n"
     ]
    },
    {
     "name": "stdout",
     "output_type": "stream",
     "text": [
      "Empty DataFrame\n",
      "Columns: [Variable Name, Start Time, End Time, Timesteps, Error Flag]\n",
      "Index: []\n",
      "pm10\n"
     ]
    },
    {
     "name": "stderr",
     "output_type": "stream",
     "text": [
      "Check for missing data\n",
      "Check for corrupt data\n",
      "Check for data outside expected range\n",
      "Check for data outside expected range\n",
      "Check for corrupt data\n",
      "Check for corrupt data\n",
      "Check for missing data\n",
      "Check for corrupt data\n",
      "Check for data outside expected range\n",
      "Check for data outside expected range\n",
      "Check for corrupt data\n",
      "Check for corrupt data\n"
     ]
    },
    {
     "name": "stdout",
     "output_type": "stream",
     "text": [
      "Empty DataFrame\n",
      "Columns: [Variable Name, Start Time, End Time, Timesteps, Error Flag]\n",
      "Index: []\n",
      "so2\n",
      "  Variable Name Start Time   End Time Timesteps    Error Flag\n",
      "0         value 2018-01-01 2018-01-01         2  Corrupt data\n",
      "Beverwijk West-Creutzberglaan\n",
      "pm25\n"
     ]
    },
    {
     "name": "stderr",
     "output_type": "stream",
     "text": [
      "Check for missing data\n",
      "Check for corrupt data\n",
      "Check for data outside expected range\n",
      "Check for data outside expected range\n",
      "Check for corrupt data\n",
      "Check for corrupt data\n"
     ]
    },
    {
     "name": "stdout",
     "output_type": "stream",
     "text": [
      "Empty DataFrame\n",
      "Columns: [Variable Name, Start Time, End Time, Timesteps, Error Flag]\n",
      "Index: []\n",
      "pm10\n"
     ]
    },
    {
     "name": "stderr",
     "output_type": "stream",
     "text": [
      "Check for missing data\n",
      "Check for corrupt data\n",
      "Check for data outside expected range\n",
      "Check for data outside expected range\n",
      "Check for corrupt data\n",
      "Check for corrupt data\n"
     ]
    },
    {
     "name": "stdout",
     "output_type": "stream",
     "text": [
      "Empty DataFrame\n",
      "Columns: [Variable Name, Start Time, End Time, Timesteps, Error Flag]\n",
      "Index: []\n",
      "Velsen-Staalstraat\n",
      "pm25\n"
     ]
    },
    {
     "name": "stderr",
     "output_type": "stream",
     "text": [
      "Check for missing data\n",
      "Check for corrupt data\n",
      "Check for data outside expected range\n",
      "Check for data outside expected range\n",
      "Check for corrupt data\n",
      "Check for corrupt data\n"
     ]
    },
    {
     "name": "stdout",
     "output_type": "stream",
     "text": [
      "Empty DataFrame\n",
      "Columns: [Variable Name, Start Time, End Time, Timesteps, Error Flag]\n",
      "Index: []\n",
      "pm10\n"
     ]
    },
    {
     "name": "stderr",
     "output_type": "stream",
     "text": [
      "Check for missing data\n",
      "Check for corrupt data\n",
      "Check for data outside expected range\n",
      "Check for data outside expected range\n",
      "Check for corrupt data\n",
      "Check for corrupt data\n"
     ]
    },
    {
     "name": "stdout",
     "output_type": "stream",
     "text": [
      "Empty DataFrame\n",
      "Columns: [Variable Name, Start Time, End Time, Timesteps, Error Flag]\n",
      "Index: []\n",
      "Velsen-Reijndersweg\n",
      "pm25\n"
     ]
    },
    {
     "name": "stderr",
     "output_type": "stream",
     "text": [
      "Check for missing data\n",
      "Check for corrupt data\n",
      "Check for data outside expected range\n",
      "Check for data outside expected range\n",
      "Check for corrupt data\n",
      "Check for corrupt data\n"
     ]
    },
    {
     "name": "stdout",
     "output_type": "stream",
     "text": [
      "Empty DataFrame\n",
      "Columns: [Variable Name, Start Time, End Time, Timesteps, Error Flag]\n",
      "Index: []\n",
      "pm10\n"
     ]
    },
    {
     "name": "stderr",
     "output_type": "stream",
     "text": [
      "Check for missing data\n",
      "Check for corrupt data\n",
      "Check for data outside expected range\n",
      "Check for data outside expected range\n",
      "Check for corrupt data\n",
      "Check for corrupt data\n"
     ]
    },
    {
     "name": "stdout",
     "output_type": "stream",
     "text": [
      "Empty DataFrame\n",
      "Columns: [Variable Name, Start Time, End Time, Timesteps, Error Flag]\n",
      "Index: []\n",
      "Horst a/d Maas-Hoogheide\n",
      "pm25\n"
     ]
    },
    {
     "name": "stderr",
     "output_type": "stream",
     "text": [
      "Check for missing data\n",
      "Check for corrupt data\n",
      "Check for data outside expected range\n",
      "Check for data outside expected range\n",
      "Check for corrupt data\n"
     ]
    },
    {
     "name": "stdout",
     "output_type": "stream",
     "text": [
      "Empty DataFrame\n",
      "Columns: [Variable Name, Start Time, End Time, Timesteps, Error Flag]\n",
      "Index: []\n",
      "pm10\n"
     ]
    },
    {
     "name": "stderr",
     "output_type": "stream",
     "text": [
      "Check for corrupt data\n",
      "Check for missing data\n",
      "Check for corrupt data\n",
      "Check for data outside expected range\n",
      "Check for data outside expected range\n",
      "Check for corrupt data\n"
     ]
    },
    {
     "name": "stdout",
     "output_type": "stream",
     "text": [
      "Empty DataFrame\n",
      "Columns: [Variable Name, Start Time, End Time, Timesteps, Error Flag]\n",
      "Index: []\n",
      "Maastricht-A2 Kasteel Hillenraadweg\n",
      "pm25\n"
     ]
    },
    {
     "name": "stderr",
     "output_type": "stream",
     "text": [
      "Check for corrupt data\n",
      "Check for missing data\n",
      "Check for corrupt data\n",
      "Check for data outside expected range\n",
      "Check for data outside expected range\n",
      "Check for corrupt data\n",
      "Check for corrupt data\n"
     ]
    },
    {
     "name": "stdout",
     "output_type": "stream",
     "text": [
      "Empty DataFrame\n",
      "Columns: [Variable Name, Start Time, End Time, Timesteps, Error Flag]\n",
      "Index: []\n",
      "Rotterdam-Bentinckplein\n",
      "pm25\n"
     ]
    },
    {
     "name": "stderr",
     "output_type": "stream",
     "text": [
      "Check for missing data\n",
      "Check for corrupt data\n",
      "Check for data outside expected range\n",
      "Check for data outside expected range\n",
      "Check for corrupt data\n",
      "Check for corrupt data\n"
     ]
    },
    {
     "name": "stdout",
     "output_type": "stream",
     "text": [
      "Empty DataFrame\n",
      "Columns: [Variable Name, Start Time, End Time, Timesteps, Error Flag]\n",
      "Index: []\n",
      "Enschede-Winkelhorst\n",
      "pm25\n"
     ]
    },
    {
     "name": "stderr",
     "output_type": "stream",
     "text": [
      "Check for missing data\n",
      "Check for corrupt data\n",
      "Check for data outside expected range\n",
      "Check for data outside expected range\n",
      "Check for corrupt data\n"
     ]
    },
    {
     "name": "stdout",
     "output_type": "stream",
     "text": [
      "Empty DataFrame\n",
      "Columns: [Variable Name, Start Time, End Time, Timesteps, Error Flag]\n",
      "Index: []\n",
      "De Rijp-Oostdijkje\n",
      "pm10\n"
     ]
    },
    {
     "name": "stderr",
     "output_type": "stream",
     "text": [
      "Check for corrupt data\n",
      "Check for missing data\n",
      "Check for corrupt data\n",
      "Check for data outside expected range\n",
      "Check for data outside expected range\n",
      "Check for corrupt data\n"
     ]
    },
    {
     "name": "stdout",
     "output_type": "stream",
     "text": [
      "Empty DataFrame\n",
      "Columns: [Variable Name, Start Time, End Time, Timesteps, Error Flag]\n",
      "Index: []\n",
      "Arnhem-Pleijroute GelreDome\n",
      "pm10\n"
     ]
    },
    {
     "name": "stderr",
     "output_type": "stream",
     "text": [
      "Check for corrupt data\n",
      "Check for missing data\n",
      "Check for corrupt data\n",
      "Check for data outside expected range\n",
      "Check for data outside expected range\n",
      "Check for corrupt data\n",
      "Check for corrupt data\n"
     ]
    },
    {
     "name": "stdout",
     "output_type": "stream",
     "text": [
      "Empty DataFrame\n",
      "Columns: [Variable Name, Start Time, End Time, Timesteps, Error Flag]\n",
      "Index: []\n",
      "Rambergan\n",
      "pm10\n"
     ]
    },
    {
     "name": "stderr",
     "output_type": "stream",
     "text": [
      "Check for missing data\n",
      "Check for corrupt data\n",
      "Check for data outside expected range\n",
      "Check for data outside expected range\n",
      "Check for corrupt data\n",
      "Check for corrupt data\n"
     ]
    },
    {
     "name": "stdout",
     "output_type": "stream",
     "text": [
      "Empty DataFrame\n",
      "Columns: [Variable Name, Start Time, End Time, Timesteps, Error Flag]\n",
      "Index: []\n",
      "Solheim\n",
      "no2\n"
     ]
    },
    {
     "name": "stderr",
     "output_type": "stream",
     "text": [
      "Check for missing data\n",
      "Check for corrupt data\n",
      "Check for data outside expected range\n",
      "Check for data outside expected range\n",
      "Check for corrupt data\n"
     ]
    },
    {
     "name": "stdout",
     "output_type": "stream",
     "text": [
      "Empty DataFrame\n",
      "Columns: [Variable Name, Start Time, End Time, Timesteps, Error Flag]\n",
      "Index: []\n",
      "Rolland, Åsane\n",
      "no2\n"
     ]
    },
    {
     "name": "stderr",
     "output_type": "stream",
     "text": [
      "Check for corrupt data\n",
      "Check for missing data\n",
      "Check for corrupt data\n",
      "Check for data outside expected range\n",
      "Check for data outside expected range\n",
      "Check for corrupt data\n"
     ]
    },
    {
     "name": "stdout",
     "output_type": "stream",
     "text": [
      "Empty DataFrame\n",
      "Columns: [Variable Name, Start Time, End Time, Timesteps, Error Flag]\n",
      "Index: []\n",
      "pm10\n"
     ]
    },
    {
     "name": "stderr",
     "output_type": "stream",
     "text": [
      "Check for corrupt data\n",
      "Check for missing data\n",
      "Check for corrupt data\n",
      "Check for data outside expected range\n",
      "Check for data outside expected range\n",
      "Check for corrupt data\n",
      "Check for corrupt data\n"
     ]
    },
    {
     "name": "stdout",
     "output_type": "stream",
     "text": [
      "Empty DataFrame\n",
      "Columns: [Variable Name, Start Time, End Time, Timesteps, Error Flag]\n",
      "Index: []\n",
      "pm25\n"
     ]
    },
    {
     "name": "stderr",
     "output_type": "stream",
     "text": [
      "Check for missing data\n",
      "Check for corrupt data\n",
      "Check for data outside expected range\n",
      "Check for data outside expected range\n",
      "Check for corrupt data\n",
      "Check for corrupt data\n"
     ]
    },
    {
     "name": "stdout",
     "output_type": "stream",
     "text": [
      "Empty DataFrame\n",
      "Columns: [Variable Name, Start Time, End Time, Timesteps, Error Flag]\n",
      "Index: []\n",
      "Eilif Dues vei\n",
      "no2\n"
     ]
    },
    {
     "name": "stderr",
     "output_type": "stream",
     "text": [
      "Check for missing data\n",
      "Check for corrupt data\n",
      "Check for data outside expected range\n",
      "Check for data outside expected range\n",
      "Check for corrupt data\n",
      "Check for corrupt data\n"
     ]
    },
    {
     "name": "stdout",
     "output_type": "stream",
     "text": [
      "Empty DataFrame\n",
      "Columns: [Variable Name, Start Time, End Time, Timesteps, Error Flag]\n",
      "Index: []\n",
      "pm25\n"
     ]
    },
    {
     "name": "stderr",
     "output_type": "stream",
     "text": [
      "Check for missing data\n",
      "Check for corrupt data\n",
      "Check for data outside expected range\n",
      "Check for data outside expected range\n",
      "Check for corrupt data\n",
      "Check for corrupt data\n"
     ]
    },
    {
     "name": "stdout",
     "output_type": "stream",
     "text": [
      "Empty DataFrame\n",
      "Columns: [Variable Name, Start Time, End Time, Timesteps, Error Flag]\n",
      "Index: []\n",
      "pm10\n"
     ]
    },
    {
     "name": "stderr",
     "output_type": "stream",
     "text": [
      "Check for missing data\n",
      "Check for corrupt data\n",
      "Check for data outside expected range\n",
      "Check for data outside expected range\n",
      "Check for corrupt data\n",
      "Check for corrupt data\n"
     ]
    },
    {
     "name": "stdout",
     "output_type": "stream",
     "text": [
      "Empty DataFrame\n",
      "Columns: [Variable Name, Start Time, End Time, Timesteps, Error Flag]\n",
      "Index: []\n",
      "Minnesundvegen, Gjøvik\n",
      "pm10\n"
     ]
    },
    {
     "name": "stderr",
     "output_type": "stream",
     "text": [
      "Check for missing data\n",
      "Check for corrupt data\n",
      "Check for data outside expected range\n",
      "Check for data outside expected range\n",
      "Check for corrupt data\n",
      "Check for corrupt data\n"
     ]
    },
    {
     "name": "stdout",
     "output_type": "stream",
     "text": [
      "Empty DataFrame\n",
      "Columns: [Variable Name, Start Time, End Time, Timesteps, Error Flag]\n",
      "Index: []\n",
      "no2\n"
     ]
    },
    {
     "name": "stderr",
     "output_type": "stream",
     "text": [
      "Check for missing data\n",
      "Check for corrupt data\n",
      "Check for data outside expected range\n",
      "Check for data outside expected range\n",
      "Check for corrupt data\n",
      "Check for corrupt data\n"
     ]
    },
    {
     "name": "stdout",
     "output_type": "stream",
     "text": [
      "Empty DataFrame\n",
      "Columns: [Variable Name, Start Time, End Time, Timesteps, Error Flag]\n",
      "Index: []\n",
      "pm25\n"
     ]
    },
    {
     "name": "stderr",
     "output_type": "stream",
     "text": [
      "Check for missing data\n",
      "Check for corrupt data\n",
      "Check for data outside expected range\n",
      "Check for data outside expected range\n",
      "Check for corrupt data\n",
      "Check for corrupt data\n"
     ]
    },
    {
     "name": "stdout",
     "output_type": "stream",
     "text": [
      "Empty DataFrame\n",
      "Columns: [Variable Name, Start Time, End Time, Timesteps, Error Flag]\n",
      "Index: []\n",
      "Klosterhaugen\n",
      "no2\n"
     ]
    },
    {
     "name": "stderr",
     "output_type": "stream",
     "text": [
      "Check for missing data\n",
      "Check for corrupt data\n",
      "Check for data outside expected range\n",
      "Check for data outside expected range\n",
      "Check for corrupt data\n",
      "Check for corrupt data\n"
     ]
    },
    {
     "name": "stdout",
     "output_type": "stream",
     "text": [
      "Empty DataFrame\n",
      "Columns: [Variable Name, Start Time, End Time, Timesteps, Error Flag]\n",
      "Index: []\n",
      "Rådal\n",
      "no2\n"
     ]
    },
    {
     "name": "stderr",
     "output_type": "stream",
     "text": [
      "Check for missing data\n",
      "Check for corrupt data\n",
      "Check for data outside expected range\n",
      "Check for data outside expected range\n",
      "Check for corrupt data\n",
      "Check for corrupt data\n"
     ]
    },
    {
     "name": "stdout",
     "output_type": "stream",
     "text": [
      "Empty DataFrame\n",
      "Columns: [Variable Name, Start Time, End Time, Timesteps, Error Flag]\n",
      "Index: []\n",
      "Leiret\n",
      "pm10\n"
     ]
    },
    {
     "name": "stderr",
     "output_type": "stream",
     "text": [
      "Check for missing data\n",
      "Check for corrupt data\n",
      "Check for data outside expected range\n",
      "Check for data outside expected range\n",
      "Check for corrupt data\n"
     ]
    },
    {
     "name": "stdout",
     "output_type": "stream",
     "text": [
      "Empty DataFrame\n",
      "Columns: [Variable Name, Start Time, End Time, Timesteps, Error Flag]\n",
      "Index: []\n",
      "pm25\n"
     ]
    },
    {
     "name": "stderr",
     "output_type": "stream",
     "text": [
      "Check for corrupt data\n",
      "Check for missing data\n",
      "Check for corrupt data\n",
      "Check for data outside expected range\n",
      "Check for data outside expected range\n",
      "Check for corrupt data\n",
      "Check for corrupt data\n"
     ]
    },
    {
     "name": "stdout",
     "output_type": "stream",
     "text": [
      "Empty DataFrame\n",
      "Columns: [Variable Name, Start Time, End Time, Timesteps, Error Flag]\n",
      "Index: []\n",
      "no2\n"
     ]
    },
    {
     "name": "stderr",
     "output_type": "stream",
     "text": [
      "Check for missing data\n",
      "Check for corrupt data\n",
      "Check for data outside expected range\n",
      "Check for data outside expected range\n",
      "Check for corrupt data\n",
      "Check for corrupt data\n",
      "Check for missing data\n",
      "Check for corrupt data\n",
      "Check for data outside expected range\n",
      "Check for data outside expected range\n",
      "Check for corrupt data\n",
      "Check for corrupt data\n"
     ]
    },
    {
     "name": "stdout",
     "output_type": "stream",
     "text": [
      "Empty DataFrame\n",
      "Columns: [Variable Name, Start Time, End Time, Timesteps, Error Flag]\n",
      "Index: []\n",
      "Breivoll\n",
      "no2\n",
      "Empty DataFrame\n",
      "Columns: [Variable Name, Start Time, End Time, Timesteps, Error Flag]\n",
      "Index: []\n",
      "pm10\n"
     ]
    },
    {
     "name": "stderr",
     "output_type": "stream",
     "text": [
      "Check for missing data\n",
      "Check for corrupt data\n",
      "Check for data outside expected range\n",
      "Check for data outside expected range\n",
      "Check for corrupt data\n",
      "Check for corrupt data\n"
     ]
    },
    {
     "name": "stdout",
     "output_type": "stream",
     "text": [
      "Empty DataFrame\n",
      "Columns: [Variable Name, Start Time, End Time, Timesteps, Error Flag]\n",
      "Index: []\n",
      "pm25\n"
     ]
    },
    {
     "name": "stderr",
     "output_type": "stream",
     "text": [
      "Check for missing data\n",
      "Check for corrupt data\n",
      "Check for data outside expected range\n",
      "Check for data outside expected range\n",
      "Check for corrupt data\n",
      "Check for corrupt data\n"
     ]
    },
    {
     "name": "stdout",
     "output_type": "stream",
     "text": [
      "Empty DataFrame\n",
      "Columns: [Variable Name, Start Time, End Time, Timesteps, Error Flag]\n",
      "Index: []\n",
      "Loddefjord\n",
      "no2\n"
     ]
    },
    {
     "name": "stderr",
     "output_type": "stream",
     "text": [
      "Check for missing data\n",
      "Check for corrupt data\n",
      "Check for data outside expected range\n",
      "Check for data outside expected range\n",
      "Check for corrupt data\n",
      "Check for corrupt data\n",
      "Check for missing data\n",
      "Check for corrupt data\n",
      "Check for data outside expected range\n",
      "Check for data outside expected range\n",
      "Check for corrupt data\n",
      "Check for corrupt data\n"
     ]
    },
    {
     "name": "stdout",
     "output_type": "stream",
     "text": [
      "Empty DataFrame\n",
      "Columns: [Variable Name, Start Time, End Time, Timesteps, Error Flag]\n",
      "Index: []\n",
      "pm25\n",
      "Empty DataFrame\n",
      "Columns: [Variable Name, Start Time, End Time, Timesteps, Error Flag]\n",
      "Index: []\n",
      "pm10\n"
     ]
    },
    {
     "name": "stderr",
     "output_type": "stream",
     "text": [
      "Check for missing data\n",
      "Check for corrupt data\n",
      "Check for data outside expected range\n"
     ]
    },
    {
     "name": "stdout",
     "output_type": "stream",
     "text": [
      "Empty DataFrame\n",
      "Columns: [Variable Name, Start Time, End Time, Timesteps, Error Flag]\n",
      "Index: []\n",
      "Nygaardsgata\n",
      "no2\n"
     ]
    },
    {
     "name": "stderr",
     "output_type": "stream",
     "text": [
      "Check for data outside expected range\n",
      "Check for corrupt data\n",
      "Check for corrupt data\n",
      "Check for missing data\n",
      "Check for corrupt data\n",
      "Check for data outside expected range\n",
      "Check for data outside expected range\n",
      "Check for corrupt data\n"
     ]
    },
    {
     "name": "stdout",
     "output_type": "stream",
     "text": [
      "Empty DataFrame\n",
      "Columns: [Variable Name, Start Time, End Time, Timesteps, Error Flag]\n",
      "Index: []\n",
      "pm10\n"
     ]
    },
    {
     "name": "stderr",
     "output_type": "stream",
     "text": [
      "Check for corrupt data\n",
      "Check for missing data\n",
      "Check for corrupt data\n",
      "Check for data outside expected range\n",
      "Check for data outside expected range\n",
      "Check for corrupt data\n"
     ]
    },
    {
     "name": "stdout",
     "output_type": "stream",
     "text": [
      "Empty DataFrame\n",
      "Columns: [Variable Name, Start Time, End Time, Timesteps, Error Flag]\n",
      "Index: []\n",
      "Vangsveien, Hamar\n",
      "pm25\n"
     ]
    },
    {
     "name": "stderr",
     "output_type": "stream",
     "text": [
      "Check for corrupt data\n",
      "Check for missing data\n",
      "Check for corrupt data\n",
      "Check for data outside expected range\n",
      "Check for data outside expected range\n",
      "Check for corrupt data\n",
      "Check for corrupt data\n"
     ]
    },
    {
     "name": "stdout",
     "output_type": "stream",
     "text": [
      "Empty DataFrame\n",
      "Columns: [Variable Name, Start Time, End Time, Timesteps, Error Flag]\n",
      "Index: []\n",
      "pm10\n"
     ]
    },
    {
     "name": "stderr",
     "output_type": "stream",
     "text": [
      "Check for missing data\n",
      "Check for corrupt data\n",
      "Check for data outside expected range\n",
      "Check for data outside expected range\n",
      "Check for corrupt data\n",
      "Check for corrupt data\n",
      "Check for missing data\n",
      "Check for corrupt data\n",
      "Check for data outside expected range\n",
      "Check for data outside expected range\n",
      "Check for corrupt data\n",
      "Check for corrupt data\n"
     ]
    },
    {
     "name": "stdout",
     "output_type": "stream",
     "text": [
      "Empty DataFrame\n",
      "Columns: [Variable Name, Start Time, End Time, Timesteps, Error Flag]\n",
      "Index: []\n",
      "no2\n",
      "Empty DataFrame\n",
      "Columns: [Variable Name, Start Time, End Time, Timesteps, Error Flag]\n",
      "Index: []\n",
      "Bakke kirke\n",
      "pm10\n"
     ]
    },
    {
     "name": "stderr",
     "output_type": "stream",
     "text": [
      "Check for missing data\n",
      "Check for corrupt data\n",
      "Check for data outside expected range\n",
      "Check for data outside expected range\n",
      "Check for corrupt data\n",
      "Check for corrupt data\n"
     ]
    },
    {
     "name": "stdout",
     "output_type": "stream",
     "text": [
      "Empty DataFrame\n",
      "Columns: [Variable Name, Start Time, End Time, Timesteps, Error Flag]\n",
      "Index: []\n",
      "pm25\n"
     ]
    },
    {
     "name": "stderr",
     "output_type": "stream",
     "text": [
      "Check for missing data\n",
      "Check for corrupt data\n",
      "Check for data outside expected range\n",
      "Check for data outside expected range\n",
      "Check for corrupt data\n",
      "Check for corrupt data\n",
      "Check for missing data\n",
      "Check for corrupt data\n",
      "Check for data outside expected range\n",
      "Check for data outside expected range\n",
      "Check for corrupt data\n",
      "Check for corrupt data\n"
     ]
    },
    {
     "name": "stdout",
     "output_type": "stream",
     "text": [
      "Empty DataFrame\n",
      "Columns: [Variable Name, Start Time, End Time, Timesteps, Error Flag]\n",
      "Index: []\n",
      "no2\n",
      "Empty DataFrame\n",
      "Columns: [Variable Name, Start Time, End Time, Timesteps, Error Flag]\n",
      "Index: []\n",
      "Zeppelinfjellet\n",
      "o3\n"
     ]
    },
    {
     "name": "stderr",
     "output_type": "stream",
     "text": [
      "Check for missing data\n",
      "Check for corrupt data\n",
      "Check for data outside expected range\n",
      "Check for data outside expected range\n",
      "Check for corrupt data\n",
      "Check for corrupt data\n"
     ]
    },
    {
     "name": "stdout",
     "output_type": "stream",
     "text": [
      "Empty DataFrame\n",
      "Columns: [Variable Name, Start Time, End Time, Timesteps, Error Flag]\n",
      "Index: []\n",
      "Lillehammer barnehage\n",
      "no2\n"
     ]
    },
    {
     "name": "stderr",
     "output_type": "stream",
     "text": [
      "Check for missing data\n",
      "Check for corrupt data\n",
      "Check for data outside expected range\n",
      "Check for data outside expected range\n",
      "Check for corrupt data\n",
      "Check for corrupt data\n",
      "Check for missing data\n",
      "Check for corrupt data\n",
      "Check for data outside expected range\n",
      "Check for data outside expected range\n",
      "Check for corrupt data\n",
      "Check for corrupt data\n"
     ]
    },
    {
     "name": "stdout",
     "output_type": "stream",
     "text": [
      "Empty DataFrame\n",
      "Columns: [Variable Name, Start Time, End Time, Timesteps, Error Flag]\n",
      "Index: []\n",
      "pm10\n",
      "Empty DataFrame\n",
      "Columns: [Variable Name, Start Time, End Time, Timesteps, Error Flag]\n",
      "Index: []\n",
      "pm25\n"
     ]
    },
    {
     "name": "stderr",
     "output_type": "stream",
     "text": [
      "Check for missing data\n",
      "Check for corrupt data\n",
      "Check for data outside expected range\n",
      "Check for data outside expected range\n",
      "Check for corrupt data\n",
      "Check for corrupt data\n"
     ]
    },
    {
     "name": "stdout",
     "output_type": "stream",
     "text": [
      "Empty DataFrame\n",
      "Columns: [Variable Name, Start Time, End Time, Timesteps, Error Flag]\n",
      "Index: []\n",
      "Sverresgate \n",
      "no2\n"
     ]
    },
    {
     "name": "stderr",
     "output_type": "stream",
     "text": [
      "Check for missing data\n",
      "Check for corrupt data\n",
      "Check for data outside expected range\n",
      "Check for data outside expected range\n",
      "Check for corrupt data\n",
      "Check for corrupt data\n"
     ]
    },
    {
     "name": "stdout",
     "output_type": "stream",
     "text": [
      "Empty DataFrame\n",
      "Columns: [Variable Name, Start Time, End Time, Timesteps, Error Flag]\n",
      "Index: []\n",
      "pm10\n"
     ]
    },
    {
     "name": "stderr",
     "output_type": "stream",
     "text": [
      "Check for missing data\n",
      "Check for corrupt data\n",
      "Check for data outside expected range\n",
      "Check for data outside expected range\n",
      "Check for corrupt data\n",
      "Check for corrupt data\n"
     ]
    },
    {
     "name": "stdout",
     "output_type": "stream",
     "text": [
      "Empty DataFrame\n",
      "Columns: [Variable Name, Start Time, End Time, Timesteps, Error Flag]\n",
      "Index: []\n",
      "Våland\n",
      "pm25\n"
     ]
    },
    {
     "name": "stderr",
     "output_type": "stream",
     "text": [
      "Check for missing data\n",
      "Check for corrupt data\n",
      "Check for data outside expected range\n",
      "Check for data outside expected range\n",
      "Check for corrupt data\n",
      "Check for corrupt data\n",
      "Check for missing data\n",
      "Check for corrupt data\n",
      "Check for data outside expected range\n",
      "Check for data outside expected range\n",
      "Check for corrupt data\n",
      "Check for corrupt data\n"
     ]
    },
    {
     "name": "stdout",
     "output_type": "stream",
     "text": [
      "Empty DataFrame\n",
      "Columns: [Variable Name, Start Time, End Time, Timesteps, Error Flag]\n",
      "Index: []\n",
      "no2\n",
      "Empty DataFrame\n",
      "Columns: [Variable Name, Start Time, End Time, Timesteps, Error Flag]\n",
      "Index: []\n",
      "pm10\n"
     ]
    },
    {
     "name": "stderr",
     "output_type": "stream",
     "text": [
      "Check for missing data\n",
      "Check for corrupt data\n",
      "Check for data outside expected range\n",
      "Check for data outside expected range\n",
      "Check for corrupt data\n",
      "Check for corrupt data\n",
      "Check for missing data\n",
      "Check for corrupt data\n",
      "Check for data outside expected range\n",
      "Check for data outside expected range\n",
      "Check for corrupt data\n"
     ]
    },
    {
     "name": "stdout",
     "output_type": "stream",
     "text": [
      "Empty DataFrame\n",
      "Columns: [Variable Name, Start Time, End Time, Timesteps, Error Flag]\n",
      "Index: []\n",
      "Bygdøy Alle\n",
      "no2\n",
      "Empty DataFrame\n",
      "Columns: [Variable Name, Start Time, End Time, Timesteps, Error Flag]\n",
      "Index: []\n",
      "pm10\n"
     ]
    },
    {
     "name": "stderr",
     "output_type": "stream",
     "text": [
      "Check for corrupt data\n",
      "Check for missing data\n",
      "Check for corrupt data\n",
      "Check for data outside expected range\n",
      "Check for data outside expected range\n",
      "Check for corrupt data\n",
      "Check for corrupt data\n"
     ]
    },
    {
     "name": "stdout",
     "output_type": "stream",
     "text": [
      "Empty DataFrame\n",
      "Columns: [Variable Name, Start Time, End Time, Timesteps, Error Flag]\n",
      "Index: []\n",
      "Karl Eriksens plass\n",
      "no2\n"
     ]
    },
    {
     "name": "stderr",
     "output_type": "stream",
     "text": [
      "Check for missing data\n",
      "Check for corrupt data\n",
      "Check for data outside expected range\n",
      "Check for data outside expected range\n",
      "Check for corrupt data\n",
      "Check for corrupt data\n",
      "Check for missing data\n",
      "Check for corrupt data\n",
      "Check for data outside expected range\n",
      "Check for data outside expected range\n",
      "Check for corrupt data\n",
      "Check for corrupt data\n"
     ]
    },
    {
     "name": "stdout",
     "output_type": "stream",
     "text": [
      "Empty DataFrame\n",
      "Columns: [Variable Name, Start Time, End Time, Timesteps, Error Flag]\n",
      "Index: []\n",
      "pm10\n",
      "Empty DataFrame\n",
      "Columns: [Variable Name, Start Time, End Time, Timesteps, Error Flag]\n",
      "Index: []\n",
      "Furulund\n",
      "so2\n"
     ]
    },
    {
     "name": "stderr",
     "output_type": "stream",
     "text": [
      "Check for missing data\n",
      "Check for corrupt data\n",
      "Check for data outside expected range\n",
      "Check for data outside expected range\n",
      "Check for corrupt data\n",
      "Check for corrupt data\n",
      "Check for missing data\n",
      "Check for corrupt data\n",
      "Check for data outside expected range\n",
      "Check for data outside expected range\n",
      "Check for corrupt data\n",
      "Check for corrupt data\n"
     ]
    },
    {
     "name": "stdout",
     "output_type": "stream",
     "text": [
      "Empty DataFrame\n",
      "Columns: [Variable Name, Start Time, End Time, Timesteps, Error Flag]\n",
      "Index: []\n",
      "no2\n",
      "Empty DataFrame\n",
      "Columns: [Variable Name, Start Time, End Time, Timesteps, Error Flag]\n",
      "Index: []\n",
      "pm10\n"
     ]
    },
    {
     "name": "stderr",
     "output_type": "stream",
     "text": [
      "Check for missing data\n",
      "Check for corrupt data\n",
      "Check for data outside expected range\n",
      "Check for data outside expected range\n",
      "Check for corrupt data\n",
      "Check for corrupt data\n"
     ]
    },
    {
     "name": "stdout",
     "output_type": "stream",
     "text": [
      "Empty DataFrame\n",
      "Columns: [Variable Name, Start Time, End Time, Timesteps, Error Flag]\n",
      "Index: []\n",
      "pm25\n"
     ]
    },
    {
     "name": "stderr",
     "output_type": "stream",
     "text": [
      "Check for missing data\n",
      "Check for corrupt data\n",
      "Check for data outside expected range\n",
      "Check for data outside expected range\n",
      "Check for corrupt data\n",
      "Check for corrupt data\n"
     ]
    },
    {
     "name": "stdout",
     "output_type": "stream",
     "text": [
      "Empty DataFrame\n",
      "Columns: [Variable Name, Start Time, End Time, Timesteps, Error Flag]\n",
      "Index: []\n",
      "Alvim\n",
      "pm10\n"
     ]
    },
    {
     "name": "stderr",
     "output_type": "stream",
     "text": [
      "Check for missing data\n",
      "Check for corrupt data\n",
      "Check for data outside expected range\n",
      "Check for data outside expected range\n",
      "Check for corrupt data\n",
      "Check for corrupt data\n",
      "Check for missing data\n",
      "Check for corrupt data\n",
      "Check for data outside expected range\n",
      "Check for data outside expected range\n",
      "Check for corrupt data\n",
      "Check for corrupt data\n"
     ]
    },
    {
     "name": "stdout",
     "output_type": "stream",
     "text": [
      "Empty DataFrame\n",
      "Columns: [Variable Name, Start Time, End Time, Timesteps, Error Flag]\n",
      "Index: []\n",
      "no2\n",
      "Empty DataFrame\n",
      "Columns: [Variable Name, Start Time, End Time, Timesteps, Error Flag]\n",
      "Index: []\n",
      "pm25\n"
     ]
    },
    {
     "name": "stderr",
     "output_type": "stream",
     "text": [
      "Check for missing data\n",
      "Check for corrupt data\n",
      "Check for data outside expected range\n",
      "Check for data outside expected range\n",
      "Check for corrupt data\n",
      "Check for corrupt data\n"
     ]
    },
    {
     "name": "stdout",
     "output_type": "stream",
     "text": [
      "Empty DataFrame\n",
      "Columns: [Variable Name, Start Time, End Time, Timesteps, Error Flag]\n",
      "Index: []\n",
      "Bekkestua\n",
      "no2\n"
     ]
    },
    {
     "name": "stderr",
     "output_type": "stream",
     "text": [
      "Check for missing data\n",
      "Check for corrupt data\n",
      "Check for data outside expected range\n",
      "Check for data outside expected range\n",
      "Check for corrupt data\n",
      "Check for corrupt data\n"
     ]
    },
    {
     "name": "stdout",
     "output_type": "stream",
     "text": [
      "Empty DataFrame\n",
      "Columns: [Variable Name, Start Time, End Time, Timesteps, Error Flag]\n",
      "Index: []\n",
      "pm25\n"
     ]
    },
    {
     "name": "stderr",
     "output_type": "stream",
     "text": [
      "Check for missing data\n",
      "Check for corrupt data\n",
      "Check for data outside expected range\n",
      "Check for data outside expected range\n",
      "Check for corrupt data\n",
      "Check for corrupt data\n"
     ]
    },
    {
     "name": "stdout",
     "output_type": "stream",
     "text": [
      "Empty DataFrame\n",
      "Columns: [Variable Name, Start Time, End Time, Timesteps, Error Flag]\n",
      "Index: []\n",
      "pm10\n"
     ]
    },
    {
     "name": "stderr",
     "output_type": "stream",
     "text": [
      "Check for missing data\n",
      "Check for corrupt data\n",
      "Check for data outside expected range\n",
      "Check for data outside expected range\n",
      "Check for corrupt data\n"
     ]
    },
    {
     "name": "stdout",
     "output_type": "stream",
     "text": [
      "Empty DataFrame\n",
      "Columns: [Variable Name, Start Time, End Time, Timesteps, Error Flag]\n",
      "Index: []\n",
      "Holta\n",
      "so2\n"
     ]
    },
    {
     "name": "stderr",
     "output_type": "stream",
     "text": [
      "Check for corrupt data\n",
      "Check for missing data\n",
      "Check for corrupt data\n",
      "Check for data outside expected range\n",
      "Check for data outside expected range\n",
      "Check for corrupt data\n",
      "Check for corrupt data\n"
     ]
    },
    {
     "name": "stdout",
     "output_type": "stream",
     "text": [
      "Empty DataFrame\n",
      "Columns: [Variable Name, Start Time, End Time, Timesteps, Error Flag]\n",
      "Index: []\n",
      "Vigernes\n",
      "pm25\n"
     ]
    },
    {
     "name": "stderr",
     "output_type": "stream",
     "text": [
      "Check for missing data\n",
      "Check for corrupt data\n",
      "Check for data outside expected range\n",
      "Check for data outside expected range\n",
      "Check for corrupt data\n",
      "Check for corrupt data\n"
     ]
    },
    {
     "name": "stdout",
     "output_type": "stream",
     "text": [
      "Empty DataFrame\n",
      "Columns: [Variable Name, Start Time, End Time, Timesteps, Error Flag]\n",
      "Index: []\n",
      "pm10\n"
     ]
    },
    {
     "name": "stderr",
     "output_type": "stream",
     "text": [
      "Check for missing data\n",
      "Check for corrupt data\n",
      "Check for data outside expected range\n",
      "Check for data outside expected range\n",
      "Check for corrupt data\n",
      "Check for corrupt data\n"
     ]
    },
    {
     "name": "stdout",
     "output_type": "stream",
     "text": [
      "Empty DataFrame\n",
      "Columns: [Variable Name, Start Time, End Time, Timesteps, Error Flag]\n",
      "Index: []\n",
      "no2\n"
     ]
    },
    {
     "name": "stderr",
     "output_type": "stream",
     "text": [
      "Check for missing data\n",
      "Check for corrupt data\n"
     ]
    },
    {
     "name": "stdout",
     "output_type": "stream",
     "text": [
      "Empty DataFrame\n",
      "Columns: [Variable Name, Start Time, End Time, Timesteps, Error Flag]\n",
      "Index: []\n",
      "E6-Tiller\n",
      "pm10\n"
     ]
    },
    {
     "name": "stderr",
     "output_type": "stream",
     "text": [
      "Check for data outside expected range\n",
      "Check for data outside expected range\n",
      "Check for corrupt data\n",
      "Check for corrupt data\n",
      "Check for missing data\n",
      "Check for corrupt data\n",
      "Check for data outside expected range\n",
      "Check for data outside expected range\n",
      "Check for corrupt data\n",
      "Check for corrupt data\n"
     ]
    },
    {
     "name": "stdout",
     "output_type": "stream",
     "text": [
      "Empty DataFrame\n",
      "Columns: [Variable Name, Start Time, End Time, Timesteps, Error Flag]\n",
      "Index: []\n",
      "pm25\n"
     ]
    },
    {
     "name": "stderr",
     "output_type": "stream",
     "text": [
      "Check for missing data\n",
      "Check for corrupt data\n",
      "Check for data outside expected range\n",
      "Check for data outside expected range\n",
      "Check for corrupt data\n",
      "Check for corrupt data\n"
     ]
    },
    {
     "name": "stdout",
     "output_type": "stream",
     "text": [
      "Empty DataFrame\n",
      "Columns: [Variable Name, Start Time, End Time, Timesteps, Error Flag]\n",
      "Index: []\n",
      "Hjortnes\n",
      "no2\n"
     ]
    },
    {
     "name": "stderr",
     "output_type": "stream",
     "text": [
      "Check for missing data\n",
      "Check for corrupt data\n",
      "Check for data outside expected range\n",
      "Check for data outside expected range\n",
      "Check for corrupt data\n"
     ]
    },
    {
     "name": "stdout",
     "output_type": "stream",
     "text": [
      "Empty DataFrame\n",
      "Columns: [Variable Name, Start Time, End Time, Timesteps, Error Flag]\n",
      "Index: []\n",
      "pm25\n"
     ]
    },
    {
     "name": "stderr",
     "output_type": "stream",
     "text": [
      "Check for corrupt data\n",
      "Check for missing data\n",
      "Check for corrupt data\n",
      "Check for data outside expected range\n",
      "Check for data outside expected range\n",
      "Check for corrupt data\n",
      "Check for corrupt data\n"
     ]
    },
    {
     "name": "stdout",
     "output_type": "stream",
     "text": [
      "Empty DataFrame\n",
      "Columns: [Variable Name, Start Time, End Time, Timesteps, Error Flag]\n",
      "Index: []\n",
      "pm10\n"
     ]
    },
    {
     "name": "stderr",
     "output_type": "stream",
     "text": [
      "Check for missing data\n",
      "Check for corrupt data\n",
      "Check for data outside expected range\n",
      "Check for data outside expected range\n",
      "Check for corrupt data\n"
     ]
    },
    {
     "name": "stdout",
     "output_type": "stream",
     "text": [
      "Empty DataFrame\n",
      "Columns: [Variable Name, Start Time, End Time, Timesteps, Error Flag]\n",
      "Index: []\n",
      "Rv 4, Aker sykehus\n",
      "pm10\n"
     ]
    },
    {
     "name": "stderr",
     "output_type": "stream",
     "text": [
      "Check for corrupt data\n",
      "Check for missing data\n",
      "Check for corrupt data\n",
      "Check for data outside expected range\n",
      "Check for data outside expected range\n",
      "Check for corrupt data\n",
      "Check for corrupt data\n"
     ]
    },
    {
     "name": "stdout",
     "output_type": "stream",
     "text": [
      "Empty DataFrame\n",
      "Columns: [Variable Name, Start Time, End Time, Timesteps, Error Flag]\n",
      "Index: []\n",
      "no2\n"
     ]
    },
    {
     "name": "stderr",
     "output_type": "stream",
     "text": [
      "Check for missing data\n",
      "Check for corrupt data\n",
      "Check for data outside expected range\n",
      "Check for data outside expected range\n",
      "Check for corrupt data\n",
      "Check for corrupt data\n"
     ]
    },
    {
     "name": "stdout",
     "output_type": "stream",
     "text": [
      "Empty DataFrame\n",
      "Columns: [Variable Name, Start Time, End Time, Timesteps, Error Flag]\n",
      "Index: []\n",
      "pm25\n"
     ]
    },
    {
     "name": "stderr",
     "output_type": "stream",
     "text": [
      "Check for missing data\n",
      "Check for corrupt data\n",
      "Check for data outside expected range\n",
      "Check for data outside expected range\n",
      "Check for corrupt data\n",
      "Check for corrupt data\n"
     ]
    },
    {
     "name": "stdout",
     "output_type": "stream",
     "text": [
      "Empty DataFrame\n",
      "Columns: [Variable Name, Start Time, End Time, Timesteps, Error Flag]\n",
      "Index: []\n",
      "Gartnerløkka\n",
      "no2\n"
     ]
    },
    {
     "name": "stderr",
     "output_type": "stream",
     "text": [
      "Check for missing data\n",
      "Check for corrupt data\n",
      "Check for data outside expected range\n",
      "Check for data outside expected range\n",
      "Check for corrupt data\n",
      "Check for corrupt data\n"
     ]
    },
    {
     "name": "stdout",
     "output_type": "stream",
     "text": [
      "Empty DataFrame\n",
      "Columns: [Variable Name, Start Time, End Time, Timesteps, Error Flag]\n",
      "Index: []\n",
      "pm10\n"
     ]
    },
    {
     "name": "stderr",
     "output_type": "stream",
     "text": [
      "Check for missing data\n",
      "Check for corrupt data\n",
      "Check for data outside expected range\n",
      "Check for data outside expected range\n",
      "Check for corrupt data\n",
      "Check for corrupt data\n"
     ]
    },
    {
     "name": "stdout",
     "output_type": "stream",
     "text": [
      "Empty DataFrame\n",
      "Columns: [Variable Name, Start Time, End Time, Timesteps, Error Flag]\n",
      "Index: []\n",
      "Alnabru\n",
      "no2\n"
     ]
    },
    {
     "name": "stderr",
     "output_type": "stream",
     "text": [
      "Check for missing data\n",
      "Check for corrupt data\n",
      "Check for data outside expected range\n",
      "Check for data outside expected range\n",
      "Check for corrupt data\n",
      "Check for corrupt data\n"
     ]
    },
    {
     "name": "stdout",
     "output_type": "stream",
     "text": [
      "Empty DataFrame\n",
      "Columns: [Variable Name, Start Time, End Time, Timesteps, Error Flag]\n",
      "Index: []\n",
      "pm10\n"
     ]
    },
    {
     "name": "stderr",
     "output_type": "stream",
     "text": [
      "Check for missing data\n",
      "Check for corrupt data\n",
      "Check for data outside expected range\n",
      "Check for data outside expected range\n",
      "Check for corrupt data\n",
      "Check for corrupt data\n",
      "Check for missing data\n",
      "Check for corrupt data\n",
      "Check for data outside expected range\n",
      "Check for data outside expected range\n",
      "Check for corrupt data\n",
      "Check for corrupt data\n"
     ]
    },
    {
     "name": "stdout",
     "output_type": "stream",
     "text": [
      "Empty DataFrame\n",
      "Columns: [Variable Name, Start Time, End Time, Timesteps, Error Flag]\n",
      "Index: []\n",
      "pm25\n",
      "Empty DataFrame\n",
      "Columns: [Variable Name, Start Time, End Time, Timesteps, Error Flag]\n",
      "Index: []\n",
      "Hansjordnesbukta\n",
      "no2\n"
     ]
    },
    {
     "name": "stderr",
     "output_type": "stream",
     "text": [
      "Check for missing data\n",
      "Check for corrupt data\n",
      "Check for data outside expected range\n",
      "Check for data outside expected range\n",
      "Check for corrupt data\n",
      "Check for corrupt data\n"
     ]
    },
    {
     "name": "stdout",
     "output_type": "stream",
     "text": [
      "Empty DataFrame\n",
      "Columns: [Variable Name, Start Time, End Time, Timesteps, Error Flag]\n",
      "Index: []\n",
      "pm10\n"
     ]
    },
    {
     "name": "stderr",
     "output_type": "stream",
     "text": [
      "Check for missing data\n",
      "Check for corrupt data\n",
      "Check for data outside expected range\n",
      "Check for data outside expected range\n",
      "Check for corrupt data\n",
      "Check for corrupt data\n"
     ]
    },
    {
     "name": "stdout",
     "output_type": "stream",
     "text": [
      "Empty DataFrame\n",
      "Columns: [Variable Name, Start Time, End Time, Timesteps, Error Flag]\n",
      "Index: []\n",
      "pm25\n"
     ]
    },
    {
     "name": "stderr",
     "output_type": "stream",
     "text": [
      "Check for missing data\n",
      "Check for corrupt data\n",
      "Check for data outside expected range\n",
      "Check for data outside expected range\n",
      "Check for corrupt data\n",
      "Check for corrupt data\n"
     ]
    },
    {
     "name": "stdout",
     "output_type": "stream",
     "text": [
      "Empty DataFrame\n",
      "Columns: [Variable Name, Start Time, End Time, Timesteps, Error Flag]\n",
      "Index: []\n",
      "Smestad\n",
      "no2\n"
     ]
    },
    {
     "name": "stderr",
     "output_type": "stream",
     "text": [
      "Check for missing data\n",
      "Check for corrupt data\n",
      "Check for data outside expected range\n",
      "Check for data outside expected range\n",
      "Check for corrupt data\n",
      "Check for corrupt data\n"
     ]
    },
    {
     "name": "stdout",
     "output_type": "stream",
     "text": [
      "Empty DataFrame\n",
      "Columns: [Variable Name, Start Time, End Time, Timesteps, Error Flag]\n",
      "Index: []\n",
      "pm10\n"
     ]
    },
    {
     "name": "stderr",
     "output_type": "stream",
     "text": [
      "Check for missing data\n",
      "Check for corrupt data\n",
      "Check for data outside expected range\n",
      "Check for data outside expected range\n",
      "Check for corrupt data\n",
      "Check for corrupt data\n",
      "Check for missing data\n",
      "Check for corrupt data\n",
      "Check for data outside expected range\n",
      "Check for data outside expected range\n",
      "Check for corrupt data\n",
      "Check for corrupt data\n"
     ]
    },
    {
     "name": "stdout",
     "output_type": "stream",
     "text": [
      "Empty DataFrame\n",
      "Columns: [Variable Name, Start Time, End Time, Timesteps, Error Flag]\n",
      "Index: []\n",
      "pm25\n",
      "Empty DataFrame\n",
      "Columns: [Variable Name, Start Time, End Time, Timesteps, Error Flag]\n",
      "Index: []\n",
      "Svanvik\n",
      "so2\n"
     ]
    },
    {
     "name": "stderr",
     "output_type": "stream",
     "text": [
      "Check for missing data\n",
      "Check for corrupt data\n",
      "Check for data outside expected range\n",
      "Check for data outside expected range\n",
      "Check for corrupt data\n",
      "Check for corrupt data\n"
     ]
    },
    {
     "name": "stdout",
     "output_type": "stream",
     "text": [
      "  Variable Name Start Time   End Time Timesteps             Error Flag\n",
      "0         value 2018-01-01 2018-01-01         2  Data < lower bound, 0\n",
      "St.Croix\n",
      "no2\n"
     ]
    },
    {
     "name": "stderr",
     "output_type": "stream",
     "text": [
      "Check for missing data\n",
      "Check for corrupt data\n",
      "Check for data outside expected range\n",
      "Check for data outside expected range\n",
      "Check for corrupt data\n",
      "Check for corrupt data\n"
     ]
    },
    {
     "name": "stdout",
     "output_type": "stream",
     "text": [
      "Empty DataFrame\n",
      "Columns: [Variable Name, Start Time, End Time, Timesteps, Error Flag]\n",
      "Index: []\n",
      "pm25\n"
     ]
    },
    {
     "name": "stderr",
     "output_type": "stream",
     "text": [
      "Check for missing data\n",
      "Check for corrupt data\n",
      "Check for data outside expected range\n",
      "Check for data outside expected range\n",
      "Check for corrupt data\n",
      "Check for corrupt data\n",
      "Check for missing data\n",
      "Check for corrupt data\n",
      "Check for data outside expected range\n",
      "Check for data outside expected range\n",
      "Check for corrupt data\n"
     ]
    },
    {
     "name": "stdout",
     "output_type": "stream",
     "text": [
      "Empty DataFrame\n",
      "Columns: [Variable Name, Start Time, End Time, Timesteps, Error Flag]\n",
      "Index: []\n",
      "pm10\n",
      "Empty DataFrame\n",
      "Columns: [Variable Name, Start Time, End Time, Timesteps, Error Flag]\n",
      "Index: []\n",
      "Lensmannsdalen\n",
      "no2\n"
     ]
    },
    {
     "name": "stderr",
     "output_type": "stream",
     "text": [
      "Check for corrupt data\n",
      "Check for missing data\n",
      "Check for corrupt data\n",
      "Check for data outside expected range\n",
      "Check for data outside expected range\n",
      "Check for corrupt data\n",
      "Check for corrupt data\n"
     ]
    },
    {
     "name": "stdout",
     "output_type": "stream",
     "text": [
      "Empty DataFrame\n",
      "Columns: [Variable Name, Start Time, End Time, Timesteps, Error Flag]\n",
      "Index: []\n",
      "pm25\n"
     ]
    },
    {
     "name": "stderr",
     "output_type": "stream",
     "text": [
      "Check for missing data\n",
      "Check for corrupt data\n",
      "Check for data outside expected range\n",
      "Check for data outside expected range\n",
      "Check for corrupt data\n",
      "Check for corrupt data\n"
     ]
    },
    {
     "name": "stdout",
     "output_type": "stream",
     "text": [
      "Empty DataFrame\n",
      "Columns: [Variable Name, Start Time, End Time, Timesteps, Error Flag]\n",
      "Index: []\n",
      "pm10\n"
     ]
    },
    {
     "name": "stderr",
     "output_type": "stream",
     "text": [
      "Check for missing data\n",
      "Check for corrupt data\n",
      "Check for data outside expected range\n",
      "Check for data outside expected range\n",
      "Check for corrupt data\n",
      "Check for corrupt data\n"
     ]
    },
    {
     "name": "stdout",
     "output_type": "stream",
     "text": [
      "Empty DataFrame\n",
      "Columns: [Variable Name, Start Time, End Time, Timesteps, Error Flag]\n",
      "Index: []\n",
      "Hurdal25\n",
      "o3\n"
     ]
    },
    {
     "name": "stderr",
     "output_type": "stream",
     "text": [
      "Check for missing data\n",
      "Check for corrupt data\n",
      "Check for data outside expected range\n",
      "Check for data outside expected range\n",
      "Check for corrupt data\n",
      "Check for corrupt data\n"
     ]
    },
    {
     "name": "stdout",
     "output_type": "stream",
     "text": [
      "Empty DataFrame\n",
      "Columns: [Variable Name, Start Time, End Time, Timesteps, Error Flag]\n",
      "Index: []\n",
      "Rådhuset\n",
      "pm25\n"
     ]
    },
    {
     "name": "stderr",
     "output_type": "stream",
     "text": [
      "Check for missing data\n",
      "Check for corrupt data\n",
      "Check for data outside expected range\n",
      "Check for data outside expected range\n",
      "Check for corrupt data\n",
      "Check for corrupt data\n",
      "Check for missing data\n",
      "Check for corrupt data\n",
      "Check for data outside expected range\n",
      "Check for data outside expected range\n",
      "Check for corrupt data\n",
      "Check for corrupt data\n"
     ]
    },
    {
     "name": "stdout",
     "output_type": "stream",
     "text": [
      "Empty DataFrame\n",
      "Columns: [Variable Name, Start Time, End Time, Timesteps, Error Flag]\n",
      "Index: []\n",
      "pm10\n",
      "Empty DataFrame\n",
      "Columns: [Variable Name, Start Time, End Time, Timesteps, Error Flag]\n",
      "Index: []\n",
      "o3\n"
     ]
    },
    {
     "name": "stderr",
     "output_type": "stream",
     "text": [
      "Check for missing data\n",
      "Check for corrupt data\n",
      "Check for data outside expected range\n",
      "Check for data outside expected range\n",
      "Check for corrupt data\n",
      "Check for corrupt data\n"
     ]
    },
    {
     "name": "stdout",
     "output_type": "stream",
     "text": [
      "Empty DataFrame\n",
      "Columns: [Variable Name, Start Time, End Time, Timesteps, Error Flag]\n",
      "Index: []\n",
      "no2\n"
     ]
    },
    {
     "name": "stderr",
     "output_type": "stream",
     "text": [
      "Check for missing data\n",
      "Check for corrupt data\n",
      "Check for data outside expected range\n",
      "Check for data outside expected range\n",
      "Check for corrupt data\n",
      "Check for corrupt data\n"
     ]
    },
    {
     "name": "stdout",
     "output_type": "stream",
     "text": [
      "Empty DataFrame\n",
      "Columns: [Variable Name, Start Time, End Time, Timesteps, Error Flag]\n",
      "Index: []\n",
      "Kårvatn\n",
      "o3\n"
     ]
    },
    {
     "name": "stderr",
     "output_type": "stream",
     "text": [
      "Check for missing data\n",
      "Check for corrupt data\n",
      "Check for data outside expected range\n",
      "Check for data outside expected range\n",
      "Check for corrupt data\n",
      "Check for corrupt data\n"
     ]
    },
    {
     "name": "stdout",
     "output_type": "stream",
     "text": [
      "Empty DataFrame\n",
      "Columns: [Variable Name, Start Time, End Time, Timesteps, Error Flag]\n",
      "Index: []\n",
      "Manglerud\n",
      "no2\n"
     ]
    },
    {
     "name": "stderr",
     "output_type": "stream",
     "text": [
      "Check for missing data\n",
      "Check for corrupt data\n",
      "Check for data outside expected range\n",
      "Check for data outside expected range\n",
      "Check for corrupt data\n",
      "Check for corrupt data\n",
      "Check for missing data\n",
      "Check for corrupt data\n",
      "Check for data outside expected range\n",
      "Check for data outside expected range\n",
      "Check for corrupt data\n",
      "Check for corrupt data\n"
     ]
    },
    {
     "name": "stdout",
     "output_type": "stream",
     "text": [
      "Empty DataFrame\n",
      "Columns: [Variable Name, Start Time, End Time, Timesteps, Error Flag]\n",
      "Index: []\n",
      "pm10\n",
      "Empty DataFrame\n",
      "Columns: [Variable Name, Start Time, End Time, Timesteps, Error Flag]\n",
      "Index: []\n",
      "pm25\n"
     ]
    },
    {
     "name": "stderr",
     "output_type": "stream",
     "text": [
      "Check for missing data\n",
      "Check for corrupt data\n",
      "Check for data outside expected range\n",
      "Check for data outside expected range\n",
      "Check for corrupt data\n",
      "Check for corrupt data\n",
      "Check for missing data\n",
      "Check for corrupt data\n",
      "Check for data outside expected range\n",
      "Check for data outside expected range\n",
      "Check for corrupt data\n",
      "Check for corrupt data\n"
     ]
    },
    {
     "name": "stdout",
     "output_type": "stream",
     "text": [
      "Empty DataFrame\n",
      "Columns: [Variable Name, Start Time, End Time, Timesteps, Error Flag]\n",
      "Index: []\n",
      "Bankplassen\n",
      "no2\n",
      "Empty DataFrame\n",
      "Columns: [Variable Name, Start Time, End Time, Timesteps, Error Flag]\n",
      "Index: []\n",
      "pm25\n"
     ]
    },
    {
     "name": "stderr",
     "output_type": "stream",
     "text": [
      "Check for missing data\n",
      "Check for corrupt data\n",
      "Check for data outside expected range\n",
      "Check for data outside expected range\n",
      "Check for corrupt data\n",
      "Check for corrupt data\n"
     ]
    },
    {
     "name": "stdout",
     "output_type": "stream",
     "text": [
      "Empty DataFrame\n",
      "Columns: [Variable Name, Start Time, End Time, Timesteps, Error Flag]\n",
      "Index: []\n",
      "pm10\n"
     ]
    },
    {
     "name": "stderr",
     "output_type": "stream",
     "text": [
      "Check for missing data\n",
      "Check for corrupt data\n",
      "Check for data outside expected range\n",
      "Check for data outside expected range\n",
      "Check for corrupt data\n",
      "Check for corrupt data\n"
     ]
    },
    {
     "name": "stdout",
     "output_type": "stream",
     "text": [
      "Empty DataFrame\n",
      "Columns: [Variable Name, Start Time, End Time, Timesteps, Error Flag]\n",
      "Index: []\n",
      "Tustervatn\n",
      "o3\n"
     ]
    },
    {
     "name": "stderr",
     "output_type": "stream",
     "text": [
      "Check for missing data\n",
      "Check for corrupt data\n",
      "Check for data outside expected range\n",
      "Check for data outside expected range\n",
      "Check for corrupt data\n",
      "Check for corrupt data\n"
     ]
    },
    {
     "name": "stdout",
     "output_type": "stream",
     "text": [
      "Empty DataFrame\n",
      "Columns: [Variable Name, Start Time, End Time, Timesteps, Error Flag]\n",
      "Index: []\n",
      "Danmarks plass\n",
      "no2\n"
     ]
    },
    {
     "name": "stderr",
     "output_type": "stream",
     "text": [
      "Check for missing data\n",
      "Check for corrupt data\n",
      "Check for data outside expected range\n",
      "Check for data outside expected range\n",
      "Check for corrupt data\n",
      "Check for corrupt data\n"
     ]
    },
    {
     "name": "stdout",
     "output_type": "stream",
     "text": [
      "Empty DataFrame\n",
      "Columns: [Variable Name, Start Time, End Time, Timesteps, Error Flag]\n",
      "Index: []\n",
      "Haukenes\n",
      "o3\n"
     ]
    },
    {
     "name": "stderr",
     "output_type": "stream",
     "text": [
      "Check for missing data\n",
      "Check for corrupt data\n",
      "Check for data outside expected range\n",
      "Check for data outside expected range\n",
      "Check for corrupt data\n",
      "Check for corrupt data\n"
     ]
    },
    {
     "name": "stdout",
     "output_type": "stream",
     "text": [
      "Empty DataFrame\n",
      "Columns: [Variable Name, Start Time, End Time, Timesteps, Error Flag]\n",
      "Index: []\n",
      "no2\n"
     ]
    },
    {
     "name": "stderr",
     "output_type": "stream",
     "text": [
      "Check for missing data\n",
      "Check for corrupt data\n",
      "Check for data outside expected range\n",
      "Check for data outside expected range\n",
      "Check for corrupt data\n"
     ]
    },
    {
     "name": "stdout",
     "output_type": "stream",
     "text": [
      "Empty DataFrame\n",
      "Columns: [Variable Name, Start Time, End Time, Timesteps, Error Flag]\n",
      "Index: []\n",
      "Kannik\n",
      "no2\n"
     ]
    },
    {
     "name": "stderr",
     "output_type": "stream",
     "text": [
      "Check for corrupt data\n",
      "Check for missing data\n",
      "Check for corrupt data\n",
      "Check for data outside expected range\n",
      "Check for data outside expected range\n",
      "Check for corrupt data\n",
      "Check for corrupt data\n"
     ]
    },
    {
     "name": "stdout",
     "output_type": "stream",
     "text": [
      "Empty DataFrame\n",
      "Columns: [Variable Name, Start Time, End Time, Timesteps, Error Flag]\n",
      "Index: []\n",
      "pm25\n"
     ]
    },
    {
     "name": "stderr",
     "output_type": "stream",
     "text": [
      "Check for missing data\n",
      "Check for corrupt data\n",
      "Check for data outside expected range\n",
      "Check for data outside expected range\n",
      "Check for corrupt data\n"
     ]
    },
    {
     "name": "stdout",
     "output_type": "stream",
     "text": [
      "Empty DataFrame\n",
      "Columns: [Variable Name, Start Time, End Time, Timesteps, Error Flag]\n",
      "Index: []\n",
      "pm10\n"
     ]
    },
    {
     "name": "stderr",
     "output_type": "stream",
     "text": [
      "Check for corrupt data\n",
      "Check for missing data\n",
      "Check for corrupt data\n",
      "Check for data outside expected range\n",
      "Check for data outside expected range\n",
      "Check for corrupt data\n"
     ]
    },
    {
     "name": "stdout",
     "output_type": "stream",
     "text": [
      "Empty DataFrame\n",
      "Columns: [Variable Name, Start Time, End Time, Timesteps, Error Flag]\n",
      "Index: []\n",
      "Vollgata\n",
      "so2\n"
     ]
    },
    {
     "name": "stderr",
     "output_type": "stream",
     "text": [
      "Check for corrupt data\n",
      "Check for missing data\n",
      "Check for corrupt data\n",
      "Check for data outside expected range\n",
      "Check for data outside expected range\n",
      "Check for corrupt data\n"
     ]
    },
    {
     "name": "stdout",
     "output_type": "stream",
     "text": [
      "Empty DataFrame\n",
      "Columns: [Variable Name, Start Time, End Time, Timesteps, Error Flag]\n",
      "Index: []\n",
      "Birkenesobservatoriet\n",
      "o3\n"
     ]
    },
    {
     "name": "stderr",
     "output_type": "stream",
     "text": [
      "Check for corrupt data\n",
      "Check for missing data\n",
      "Check for corrupt data\n",
      "Check for data outside expected range\n",
      "Check for data outside expected range\n",
      "Check for corrupt data\n",
      "Check for corrupt data\n"
     ]
    },
    {
     "name": "stdout",
     "output_type": "stream",
     "text": [
      "Empty DataFrame\n",
      "Columns: [Variable Name, Start Time, End Time, Timesteps, Error Flag]\n",
      "Index: []\n",
      "Åkebergveien\n",
      "no2\n"
     ]
    },
    {
     "name": "stderr",
     "output_type": "stream",
     "text": [
      "Check for missing data\n",
      "Check for corrupt data\n",
      "Check for data outside expected range\n",
      "Check for data outside expected range\n",
      "Check for corrupt data\n",
      "Check for corrupt data\n"
     ]
    },
    {
     "name": "stdout",
     "output_type": "stream",
     "text": [
      "Empty DataFrame\n",
      "Columns: [Variable Name, Start Time, End Time, Timesteps, Error Flag]\n",
      "Index: []\n",
      "Sandve\n",
      "o3\n"
     ]
    },
    {
     "name": "stderr",
     "output_type": "stream",
     "text": [
      "Check for missing data\n",
      "Check for corrupt data\n",
      "Check for data outside expected range\n",
      "Check for data outside expected range\n",
      "Check for corrupt data\n",
      "Check for corrupt data\n"
     ]
    },
    {
     "name": "stdout",
     "output_type": "stream",
     "text": [
      "Empty DataFrame\n",
      "Columns: [Variable Name, Start Time, End Time, Timesteps, Error Flag]\n",
      "Index: []\n",
      "Prestebakke\n",
      "o3\n"
     ]
    },
    {
     "name": "stderr",
     "output_type": "stream",
     "text": [
      "Check for missing data\n",
      "Check for corrupt data\n",
      "Check for data outside expected range\n",
      "Check for data outside expected range\n",
      "Check for corrupt data\n"
     ]
    },
    {
     "name": "stdout",
     "output_type": "stream",
     "text": [
      "Empty DataFrame\n",
      "Columns: [Variable Name, Start Time, End Time, Timesteps, Error Flag]\n",
      "Index: []\n",
      "Karpdalen\n",
      "so2\n"
     ]
    },
    {
     "name": "stderr",
     "output_type": "stream",
     "text": [
      "Check for corrupt data\n",
      "Check for missing data\n",
      "Check for corrupt data\n",
      "Check for data outside expected range\n",
      "Check for data outside expected range\n",
      "Check for corrupt data\n"
     ]
    },
    {
     "name": "stdout",
     "output_type": "stream",
     "text": [
      "  Variable Name Start Time   End Time Timesteps             Error Flag\n",
      "0         value 2018-01-01 2018-01-01         2  Data < lower bound, 0\n",
      "Lommedalen\n",
      "o3\n"
     ]
    },
    {
     "name": "stderr",
     "output_type": "stream",
     "text": [
      "Check for corrupt data\n",
      "Check for missing data\n",
      "Check for corrupt data\n",
      "Check for data outside expected range\n",
      "Check for data outside expected range\n",
      "Check for corrupt data\n",
      "Check for corrupt data\n"
     ]
    },
    {
     "name": "stdout",
     "output_type": "stream",
     "text": [
      "Empty DataFrame\n",
      "Columns: [Variable Name, Start Time, End Time, Timesteps, Error Flag]\n",
      "Index: []\n",
      "Bangeløkka\n",
      "no2\n"
     ]
    },
    {
     "name": "stderr",
     "output_type": "stream",
     "text": [
      "Check for missing data\n",
      "Check for corrupt data\n",
      "Check for data outside expected range\n",
      "Check for data outside expected range\n",
      "Check for corrupt data\n",
      "Check for corrupt data\n"
     ]
    },
    {
     "name": "stdout",
     "output_type": "stream",
     "text": [
      "Empty DataFrame\n",
      "Columns: [Variable Name, Start Time, End Time, Timesteps, Error Flag]\n",
      "Index: []\n",
      "pm10\n"
     ]
    },
    {
     "name": "stderr",
     "output_type": "stream",
     "text": [
      "Check for missing data\n",
      "Check for corrupt data\n",
      "Check for data outside expected range\n",
      "Check for data outside expected range\n",
      "Check for corrupt data\n"
     ]
    },
    {
     "name": "stdout",
     "output_type": "stream",
     "text": [
      "Empty DataFrame\n",
      "Columns: [Variable Name, Start Time, End Time, Timesteps, Error Flag]\n",
      "Index: []\n",
      "Elgeseter\n",
      "pm10\n"
     ]
    },
    {
     "name": "stderr",
     "output_type": "stream",
     "text": [
      "Check for corrupt data\n",
      "Check for missing data\n",
      "Check for corrupt data\n",
      "Check for data outside expected range\n",
      "Check for data outside expected range\n",
      "Check for corrupt data\n",
      "Check for corrupt data\n"
     ]
    },
    {
     "name": "stdout",
     "output_type": "stream",
     "text": [
      "Empty DataFrame\n",
      "Columns: [Variable Name, Start Time, End Time, Timesteps, Error Flag]\n",
      "Index: []\n",
      "pm25\n"
     ]
    },
    {
     "name": "stderr",
     "output_type": "stream",
     "text": [
      "Check for missing data\n",
      "Check for corrupt data\n",
      "Check for data outside expected range\n",
      "Check for data outside expected range\n",
      "Check for corrupt data\n",
      "Check for corrupt data\n"
     ]
    },
    {
     "name": "stdout",
     "output_type": "stream",
     "text": [
      "Empty DataFrame\n",
      "Columns: [Variable Name, Start Time, End Time, Timesteps, Error Flag]\n",
      "Index: []\n",
      "Kransen\n",
      "pm10\n"
     ]
    },
    {
     "name": "stderr",
     "output_type": "stream",
     "text": [
      "Check for missing data\n",
      "Check for corrupt data\n",
      "Check for data outside expected range\n",
      "Check for data outside expected range\n",
      "Check for corrupt data\n"
     ]
    },
    {
     "name": "stdout",
     "output_type": "stream",
     "text": [
      "Empty DataFrame\n",
      "Columns: [Variable Name, Start Time, End Time, Timesteps, Error Flag]\n",
      "Index: []\n",
      "pm25\n"
     ]
    },
    {
     "name": "stderr",
     "output_type": "stream",
     "text": [
      "Check for corrupt data\n",
      "Check for missing data\n",
      "Check for corrupt data\n",
      "Check for data outside expected range\n",
      "Check for data outside expected range\n",
      "Check for corrupt data\n",
      "Check for corrupt data\n"
     ]
    },
    {
     "name": "stdout",
     "output_type": "stream",
     "text": [
      "Empty DataFrame\n",
      "Columns: [Variable Name, Start Time, End Time, Timesteps, Error Flag]\n",
      "Index: []\n",
      "Skøyen\n",
      "pm10\n"
     ]
    },
    {
     "name": "stderr",
     "output_type": "stream",
     "text": [
      "Check for missing data\n",
      "Check for corrupt data\n",
      "Check for data outside expected range\n",
      "Check for data outside expected range\n",
      "Check for corrupt data\n",
      "Check for corrupt data\n"
     ]
    },
    {
     "name": "stdout",
     "output_type": "stream",
     "text": [
      "Empty DataFrame\n",
      "Columns: [Variable Name, Start Time, End Time, Timesteps, Error Flag]\n",
      "Index: []\n",
      "Sofienbergparken\n",
      "pm10\n"
     ]
    },
    {
     "name": "stderr",
     "output_type": "stream",
     "text": [
      "Check for missing data\n",
      "Check for corrupt data\n",
      "Check for data outside expected range\n",
      "Check for data outside expected range\n",
      "Check for corrupt data\n",
      "Check for corrupt data\n",
      "Check for missing data\n",
      "Check for corrupt data\n",
      "Check for data outside expected range\n",
      "Check for data outside expected range\n",
      "Check for corrupt data\n",
      "Check for corrupt data\n"
     ]
    },
    {
     "name": "stdout",
     "output_type": "stream",
     "text": [
      "Empty DataFrame\n",
      "Columns: [Variable Name, Start Time, End Time, Timesteps, Error Flag]\n",
      "Index: []\n",
      "pm25\n",
      "Empty DataFrame\n",
      "Columns: [Variable Name, Start Time, End Time, Timesteps, Error Flag]\n",
      "Index: []\n",
      "Sentrum\n",
      "pm25\n"
     ]
    },
    {
     "name": "stderr",
     "output_type": "stream",
     "text": [
      "Check for missing data\n",
      "Check for corrupt data\n",
      "Check for data outside expected range\n",
      "Check for data outside expected range\n",
      "Check for corrupt data\n",
      "Check for corrupt data\n"
     ]
    },
    {
     "name": "stdout",
     "output_type": "stream",
     "text": [
      "Empty DataFrame\n",
      "Columns: [Variable Name, Start Time, End Time, Timesteps, Error Flag]\n",
      "Index: []\n",
      "pm10\n"
     ]
    },
    {
     "name": "stderr",
     "output_type": "stream",
     "text": [
      "Check for missing data\n",
      "Check for corrupt data\n",
      "Check for data outside expected range\n",
      "Check for data outside expected range\n",
      "Check for corrupt data\n",
      "Check for corrupt data\n"
     ]
    },
    {
     "name": "stdout",
     "output_type": "stream",
     "text": [
      "Empty DataFrame\n",
      "Columns: [Variable Name, Start Time, End Time, Timesteps, Error Flag]\n",
      "Index: []\n",
      "Stener Heyerdahl\n",
      "pm10\n"
     ]
    },
    {
     "name": "stderr",
     "output_type": "stream",
     "text": [
      "Check for missing data\n",
      "Check for corrupt data\n",
      "Check for data outside expected range\n",
      "Check for data outside expected range\n",
      "Check for corrupt data\n",
      "Check for corrupt data\n",
      "Check for missing data\n",
      "Check for corrupt data\n",
      "Check for data outside expected range\n",
      "Check for data outside expected range\n",
      "Check for corrupt data\n",
      "Check for corrupt data\n"
     ]
    },
    {
     "name": "stdout",
     "output_type": "stream",
     "text": [
      "Empty DataFrame\n",
      "Columns: [Variable Name, Start Time, End Time, Timesteps, Error Flag]\n",
      "Index: []\n",
      "Grimmerhaugen\n",
      "pm10\n",
      "Empty DataFrame\n",
      "Columns: [Variable Name, Start Time, End Time, Timesteps, Error Flag]\n",
      "Index: []\n",
      "US Diplomatic Post: Embassy Kathmandu\n",
      "o3\n"
     ]
    },
    {
     "name": "stderr",
     "output_type": "stream",
     "text": [
      "Check for missing data\n",
      "Check for corrupt data\n",
      "Check for data outside expected range\n",
      "Check for data outside expected range\n",
      "Check for corrupt data\n",
      "Check for corrupt data\n"
     ]
    },
    {
     "name": "stdout",
     "output_type": "stream",
     "text": [
      "Empty DataFrame\n",
      "Columns: [Variable Name, Start Time, End Time, Timesteps, Error Flag]\n",
      "Index: []\n",
      "Hornsgatan\n",
      "pm10\n"
     ]
    },
    {
     "name": "stderr",
     "output_type": "stream",
     "text": [
      "Check for missing data\n",
      "Check for corrupt data\n",
      "Check for data outside expected range\n",
      "Check for data outside expected range\n",
      "Check for corrupt data\n",
      "Check for corrupt data\n",
      "Check for missing data\n",
      "Check for corrupt data\n",
      "Check for data outside expected range\n",
      "Check for data outside expected range\n",
      "Check for corrupt data\n",
      "Check for corrupt data\n"
     ]
    },
    {
     "name": "stdout",
     "output_type": "stream",
     "text": [
      "Empty DataFrame\n",
      "Columns: [Variable Name, Start Time, End Time, Timesteps, Error Flag]\n",
      "Index: []\n",
      "no2\n",
      "Empty DataFrame\n",
      "Columns: [Variable Name, Start Time, End Time, Timesteps, Error Flag]\n",
      "Index: []\n",
      "pm25\n"
     ]
    },
    {
     "name": "stderr",
     "output_type": "stream",
     "text": [
      "Check for missing data\n",
      "Check for corrupt data\n",
      "Check for data outside expected range\n",
      "Check for data outside expected range\n",
      "Check for corrupt data\n",
      "Check for corrupt data\n"
     ]
    },
    {
     "name": "stdout",
     "output_type": "stream",
     "text": [
      "Empty DataFrame\n",
      "Columns: [Variable Name, Start Time, End Time, Timesteps, Error Flag]\n",
      "Index: []\n",
      "o3\n"
     ]
    },
    {
     "name": "stderr",
     "output_type": "stream",
     "text": [
      "Check for missing data\n",
      "Check for corrupt data\n",
      "Check for data outside expected range\n",
      "Check for data outside expected range\n",
      "Check for corrupt data\n",
      "Check for corrupt data\n"
     ]
    },
    {
     "name": "stdout",
     "output_type": "stream",
     "text": [
      "Empty DataFrame\n",
      "Columns: [Variable Name, Start Time, End Time, Timesteps, Error Flag]\n",
      "Index: []\n",
      "Folkungagatan\n",
      "pm10\n"
     ]
    },
    {
     "name": "stderr",
     "output_type": "stream",
     "text": [
      "Check for missing data\n",
      "Check for corrupt data\n",
      "Check for data outside expected range\n",
      "Check for data outside expected range\n",
      "Check for corrupt data\n",
      "Check for corrupt data\n"
     ]
    },
    {
     "name": "stdout",
     "output_type": "stream",
     "text": [
      "Empty DataFrame\n",
      "Columns: [Variable Name, Start Time, End Time, Timesteps, Error Flag]\n",
      "Index: []\n",
      "no2\n"
     ]
    },
    {
     "name": "stderr",
     "output_type": "stream",
     "text": [
      "Check for missing data\n",
      "Check for corrupt data\n",
      "Check for data outside expected range\n",
      "Check for data outside expected range\n",
      "Check for corrupt data\n",
      "Check for corrupt data\n"
     ]
    },
    {
     "name": "stdout",
     "output_type": "stream",
     "text": [
      "Empty DataFrame\n",
      "Columns: [Variable Name, Start Time, End Time, Timesteps, Error Flag]\n",
      "Index: []\n",
      "Norrlandsgatan\n",
      "pm10\n"
     ]
    },
    {
     "name": "stderr",
     "output_type": "stream",
     "text": [
      "Check for missing data\n",
      "Check for corrupt data\n",
      "Check for data outside expected range\n",
      "Check for data outside expected range\n",
      "Check for corrupt data\n",
      "Check for corrupt data\n"
     ]
    },
    {
     "name": "stdout",
     "output_type": "stream",
     "text": [
      "Empty DataFrame\n",
      "Columns: [Variable Name, Start Time, End Time, Timesteps, Error Flag]\n",
      "Index: []\n",
      "no2\n"
     ]
    },
    {
     "name": "stderr",
     "output_type": "stream",
     "text": [
      "Check for missing data\n",
      "Check for corrupt data\n",
      "Check for data outside expected range\n",
      "Check for data outside expected range\n",
      "Check for corrupt data\n",
      "Check for corrupt data\n",
      "Check for missing data\n",
      "Check for corrupt data\n",
      "Check for data outside expected range\n",
      "Check for data outside expected range\n",
      "Check for corrupt data\n",
      "Check for corrupt data\n"
     ]
    },
    {
     "name": "stdout",
     "output_type": "stream",
     "text": [
      "Empty DataFrame\n",
      "Columns: [Variable Name, Start Time, End Time, Timesteps, Error Flag]\n",
      "Index: []\n",
      "Sveavägen\n",
      "pm10\n",
      "Empty DataFrame\n",
      "Columns: [Variable Name, Start Time, End Time, Timesteps, Error Flag]\n",
      "Index: []\n",
      "no2\n"
     ]
    },
    {
     "name": "stderr",
     "output_type": "stream",
     "text": [
      "Check for missing data\n",
      "Check for corrupt data\n",
      "Check for data outside expected range\n",
      "Check for data outside expected range\n",
      "Check for corrupt data\n",
      "Check for corrupt data\n"
     ]
    },
    {
     "name": "stdout",
     "output_type": "stream",
     "text": [
      "Empty DataFrame\n",
      "Columns: [Variable Name, Start Time, End Time, Timesteps, Error Flag]\n",
      "Index: []\n",
      "pm25\n"
     ]
    },
    {
     "name": "stderr",
     "output_type": "stream",
     "text": [
      "Check for missing data\n",
      "Check for corrupt data\n",
      "Check for data outside expected range\n",
      "Check for data outside expected range\n",
      "Check for corrupt data\n",
      "Check for corrupt data\n"
     ]
    },
    {
     "name": "stdout",
     "output_type": "stream",
     "text": [
      "Empty DataFrame\n",
      "Columns: [Variable Name, Start Time, End Time, Timesteps, Error Flag]\n",
      "Index: []\n",
      "Södertälje Turingegatan\n",
      "pm10\n"
     ]
    },
    {
     "name": "stderr",
     "output_type": "stream",
     "text": [
      "Check for missing data\n",
      "Check for corrupt data\n",
      "Check for data outside expected range\n",
      "Check for data outside expected range\n",
      "Check for corrupt data\n",
      "Check for corrupt data\n",
      "Check for missing data\n",
      "Check for corrupt data\n",
      "Check for data outside expected range\n",
      "Check for data outside expected range\n",
      "Check for corrupt data\n",
      "Check for corrupt data\n"
     ]
    },
    {
     "name": "stdout",
     "output_type": "stream",
     "text": [
      "Empty DataFrame\n",
      "Columns: [Variable Name, Start Time, End Time, Timesteps, Error Flag]\n",
      "Index: []\n",
      "no2\n",
      "Empty DataFrame\n",
      "Columns: [Variable Name, Start Time, End Time, Timesteps, Error Flag]\n",
      "Index: []\n",
      "Uppsala Kungsgatan\n",
      "pm10\n"
     ]
    },
    {
     "name": "stderr",
     "output_type": "stream",
     "text": [
      "Check for missing data\n",
      "Check for corrupt data\n",
      "Check for data outside expected range\n",
      "Check for data outside expected range\n",
      "Check for corrupt data\n",
      "Check for corrupt data\n",
      "Check for missing data\n",
      "Check for corrupt data\n",
      "Check for data outside expected range\n",
      "Check for data outside expected range\n",
      "Check for corrupt data\n",
      "Check for corrupt data\n"
     ]
    },
    {
     "name": "stdout",
     "output_type": "stream",
     "text": [
      "Empty DataFrame\n",
      "Columns: [Variable Name, Start Time, End Time, Timesteps, Error Flag]\n",
      "Index: []\n",
      "no2\n",
      "Empty DataFrame\n",
      "Columns: [Variable Name, Start Time, End Time, Timesteps, Error Flag]\n",
      "Index: []\n",
      "pm25\n"
     ]
    },
    {
     "name": "stderr",
     "output_type": "stream",
     "text": [
      "Check for missing data\n",
      "Check for corrupt data\n",
      "Check for data outside expected range\n",
      "Check for data outside expected range\n",
      "Check for corrupt data\n",
      "Check for corrupt data\n",
      "Check for missing data\n",
      "Check for corrupt data\n",
      "Check for data outside expected range\n",
      "Check for data outside expected range\n",
      "Check for corrupt data\n",
      "Check for corrupt data\n"
     ]
    },
    {
     "name": "stdout",
     "output_type": "stream",
     "text": [
      "Empty DataFrame\n",
      "Columns: [Variable Name, Start Time, End Time, Timesteps, Error Flag]\n",
      "Index: []\n",
      "Gävle Södra Kungsgatan\n",
      "pm10\n",
      "Empty DataFrame\n",
      "Columns: [Variable Name, Start Time, End Time, Timesteps, Error Flag]\n",
      "Index: []\n",
      "no2\n"
     ]
    },
    {
     "name": "stderr",
     "output_type": "stream",
     "text": [
      "Check for missing data\n",
      "Check for corrupt data\n",
      "Check for data outside expected range\n",
      "Check for data outside expected range\n",
      "Check for corrupt data\n"
     ]
    },
    {
     "name": "stdout",
     "output_type": "stream",
     "text": [
      "Empty DataFrame\n",
      "Columns: [Variable Name, Start Time, End Time, Timesteps, Error Flag]\n",
      "Index: []\n",
      "E4/E20 Lilla Essingen\n",
      "pm10\n"
     ]
    },
    {
     "name": "stderr",
     "output_type": "stream",
     "text": [
      "Check for corrupt data\n",
      "Check for missing data\n",
      "Check for corrupt data\n",
      "Check for data outside expected range\n",
      "Check for data outside expected range\n",
      "Check for corrupt data\n",
      "Check for corrupt data\n"
     ]
    },
    {
     "name": "stdout",
     "output_type": "stream",
     "text": [
      "Empty DataFrame\n",
      "Columns: [Variable Name, Start Time, End Time, Timesteps, Error Flag]\n",
      "Index: []\n",
      "no2\n"
     ]
    },
    {
     "name": "stderr",
     "output_type": "stream",
     "text": [
      "Check for missing data\n",
      "Check for corrupt data\n",
      "Check for data outside expected range\n",
      "Check for data outside expected range\n",
      "Check for corrupt data\n",
      "Check for corrupt data\n"
     ]
    },
    {
     "name": "stdout",
     "output_type": "stream",
     "text": [
      "Empty DataFrame\n",
      "Columns: [Variable Name, Start Time, End Time, Timesteps, Error Flag]\n",
      "Index: []\n",
      "E4/E20 Gröndal\n",
      "pm10\n"
     ]
    },
    {
     "name": "stderr",
     "output_type": "stream",
     "text": [
      "Check for missing data\n",
      "Check for corrupt data\n",
      "Check for data outside expected range\n",
      "Check for data outside expected range\n",
      "Check for corrupt data\n",
      "Check for corrupt data\n",
      "Check for missing data\n",
      "Check for corrupt data\n",
      "Check for data outside expected range\n",
      "Check for data outside expected range\n",
      "Check for corrupt data\n",
      "Check for corrupt data\n"
     ]
    },
    {
     "name": "stdout",
     "output_type": "stream",
     "text": [
      "Empty DataFrame\n",
      "Columns: [Variable Name, Start Time, End Time, Timesteps, Error Flag]\n",
      "Index: []\n",
      "no2\n",
      "Empty DataFrame\n",
      "Columns: [Variable Name, Start Time, End Time, Timesteps, Error Flag]\n",
      "Index: []\n",
      "E4 Sollentuna Häggvik\n",
      "pm10\n"
     ]
    },
    {
     "name": "stderr",
     "output_type": "stream",
     "text": [
      "Check for missing data\n",
      "Check for corrupt data\n",
      "Check for data outside expected range\n",
      "Check for data outside expected range\n",
      "Check for corrupt data\n",
      "Check for corrupt data\n"
     ]
    },
    {
     "name": "stdout",
     "output_type": "stream",
     "text": [
      "Empty DataFrame\n",
      "Columns: [Variable Name, Start Time, End Time, Timesteps, Error Flag]\n",
      "Index: []\n",
      "no2\n"
     ]
    },
    {
     "name": "stderr",
     "output_type": "stream",
     "text": [
      "Check for missing data\n",
      "Check for corrupt data\n",
      "Check for data outside expected range\n",
      "Check for data outside expected range\n",
      "Check for corrupt data\n",
      "Check for corrupt data\n"
     ]
    },
    {
     "name": "stdout",
     "output_type": "stream",
     "text": [
      "Empty DataFrame\n",
      "Columns: [Variable Name, Start Time, End Time, Timesteps, Error Flag]\n",
      "Index: []\n",
      "Hågelbyleden Botkyrka\n",
      "no2\n"
     ]
    },
    {
     "name": "stderr",
     "output_type": "stream",
     "text": [
      "Check for missing data\n",
      "Check for corrupt data\n",
      "Check for data outside expected range\n",
      "Check for data outside expected range\n",
      "Check for corrupt data\n",
      "Check for corrupt data\n"
     ]
    },
    {
     "name": "stdout",
     "output_type": "stream",
     "text": [
      "Empty DataFrame\n",
      "Columns: [Variable Name, Start Time, End Time, Timesteps, Error Flag]\n",
      "Index: []\n",
      "Lilla Essingen (E4/E20)\n",
      "pm25\n"
     ]
    },
    {
     "name": "stderr",
     "output_type": "stream",
     "text": [
      "Check for missing data\n",
      "Check for corrupt data\n",
      "Check for data outside expected range\n",
      "Check for data outside expected range\n",
      "Check for corrupt data\n",
      "Check for corrupt data\n",
      "Check for missing data\n",
      "Check for corrupt data\n",
      "Check for data outside expected range\n",
      "Check for data outside expected range\n",
      "Check for corrupt data\n",
      "Check for corrupt data\n"
     ]
    },
    {
     "name": "stdout",
     "output_type": "stream",
     "text": [
      "Empty DataFrame\n",
      "Columns: [Variable Name, Start Time, End Time, Timesteps, Error Flag]\n",
      "Index: []\n",
      "Ljubljana Bežigrad\n",
      "pm10\n",
      "Empty DataFrame\n",
      "Columns: [Variable Name, Start Time, End Time, Timesteps, Error Flag]\n",
      "Index: []\n",
      "Maribor center\n",
      "pm10\n"
     ]
    },
    {
     "name": "stderr",
     "output_type": "stream",
     "text": [
      "Check for missing data\n",
      "Check for corrupt data\n",
      "Check for data outside expected range\n",
      "Check for data outside expected range\n",
      "Check for corrupt data\n",
      "Check for corrupt data\n"
     ]
    },
    {
     "name": "stdout",
     "output_type": "stream",
     "text": [
      "Empty DataFrame\n",
      "Columns: [Variable Name, Start Time, End Time, Timesteps, Error Flag]\n",
      "Index: []\n",
      "Celje\n",
      "pm10\n"
     ]
    },
    {
     "name": "stderr",
     "output_type": "stream",
     "text": [
      "Check for missing data\n",
      "Check for corrupt data\n",
      "Check for data outside expected range\n",
      "Check for data outside expected range\n",
      "Check for corrupt data\n",
      "Check for corrupt data\n"
     ]
    },
    {
     "name": "stdout",
     "output_type": "stream",
     "text": [
      "Empty DataFrame\n",
      "Columns: [Variable Name, Start Time, End Time, Timesteps, Error Flag]\n",
      "Index: []\n",
      "Murska Sobota\n",
      "pm10\n"
     ]
    },
    {
     "name": "stderr",
     "output_type": "stream",
     "text": [
      "Check for missing data\n",
      "Check for corrupt data\n",
      "Check for data outside expected range\n",
      "Check for data outside expected range\n",
      "Check for corrupt data\n",
      "Check for corrupt data\n"
     ]
    },
    {
     "name": "stdout",
     "output_type": "stream",
     "text": [
      "Empty DataFrame\n",
      "Columns: [Variable Name, Start Time, End Time, Timesteps, Error Flag]\n",
      "Index: []\n",
      "Nova Gorica\n",
      "pm10\n"
     ]
    },
    {
     "name": "stderr",
     "output_type": "stream",
     "text": [
      "Check for missing data\n",
      "Check for corrupt data\n",
      "Check for data outside expected range\n",
      "Check for data outside expected range\n",
      "Check for corrupt data\n",
      "Check for corrupt data\n"
     ]
    },
    {
     "name": "stdout",
     "output_type": "stream",
     "text": [
      "Empty DataFrame\n",
      "Columns: [Variable Name, Start Time, End Time, Timesteps, Error Flag]\n",
      "Index: []\n",
      "Koper\n",
      "pm10\n"
     ]
    },
    {
     "name": "stderr",
     "output_type": "stream",
     "text": [
      "Check for missing data\n",
      "Check for corrupt data\n",
      "Check for data outside expected range\n",
      "Check for data outside expected range\n",
      "Check for corrupt data\n",
      "Check for corrupt data\n"
     ]
    },
    {
     "name": "stdout",
     "output_type": "stream",
     "text": [
      "Empty DataFrame\n",
      "Columns: [Variable Name, Start Time, End Time, Timesteps, Error Flag]\n",
      "Index: []\n",
      "Trbovlje\n",
      "pm10\n"
     ]
    },
    {
     "name": "stderr",
     "output_type": "stream",
     "text": [
      "Check for missing data\n",
      "Check for corrupt data\n",
      "Check for data outside expected range\n",
      "Check for data outside expected range\n",
      "Check for corrupt data\n",
      "Check for corrupt data\n"
     ]
    },
    {
     "name": "stdout",
     "output_type": "stream",
     "text": [
      "Empty DataFrame\n",
      "Columns: [Variable Name, Start Time, End Time, Timesteps, Error Flag]\n",
      "Index: []\n",
      "Zagorje\n",
      "pm10\n"
     ]
    },
    {
     "name": "stderr",
     "output_type": "stream",
     "text": [
      "Check for missing data\n",
      "Check for corrupt data\n",
      "Check for data outside expected range\n",
      "Check for data outside expected range\n",
      "Check for corrupt data\n",
      "Check for corrupt data\n"
     ]
    },
    {
     "name": "stdout",
     "output_type": "stream",
     "text": [
      "Empty DataFrame\n",
      "Columns: [Variable Name, Start Time, End Time, Timesteps, Error Flag]\n",
      "Index: []\n",
      "Bangna, Bangna\n",
      "co\n"
     ]
    },
    {
     "name": "stderr",
     "output_type": "stream",
     "text": [
      "Check for missing data\n",
      "Check for corrupt data\n",
      "Check for data outside expected range\n",
      "Check for data outside expected range\n",
      "Check for corrupt data\n",
      "Check for corrupt data\n"
     ]
    },
    {
     "name": "stdout",
     "output_type": "stream",
     "text": [
      "Empty DataFrame\n",
      "Columns: [Variable Name, Start Time, End Time, Timesteps, Error Flag]\n",
      "Index: []\n",
      "no2\n"
     ]
    },
    {
     "name": "stderr",
     "output_type": "stream",
     "text": [
      "Check for missing data\n",
      "Check for corrupt data\n",
      "Check for data outside expected range\n",
      "Check for data outside expected range\n",
      "Check for corrupt data\n",
      "Check for corrupt data\n",
      "Check for missing data\n",
      "Check for corrupt data\n",
      "Check for data outside expected range\n",
      "Check for data outside expected range\n",
      "Check for corrupt data\n"
     ]
    },
    {
     "name": "stdout",
     "output_type": "stream",
     "text": [
      "Empty DataFrame\n",
      "Columns: [Variable Name, Start Time, End Time, Timesteps, Error Flag]\n",
      "Index: []\n",
      "o3\n",
      "Empty DataFrame\n",
      "Columns: [Variable Name, Start Time, End Time, Timesteps, Error Flag]\n",
      "Index: []\n",
      "so2\n"
     ]
    },
    {
     "name": "stderr",
     "output_type": "stream",
     "text": [
      "Check for corrupt data\n",
      "Check for missing data\n",
      "Check for corrupt data\n",
      "Check for data outside expected range\n",
      "Check for data outside expected range\n",
      "Check for corrupt data\n",
      "Check for corrupt data\n"
     ]
    },
    {
     "name": "stdout",
     "output_type": "stream",
     "text": [
      "Empty DataFrame\n",
      "Columns: [Variable Name, Start Time, End Time, Timesteps, Error Flag]\n",
      "Index: []\n",
      "pm10\n"
     ]
    },
    {
     "name": "stderr",
     "output_type": "stream",
     "text": [
      "Check for missing data\n",
      "Check for corrupt data\n",
      "Check for data outside expected range\n",
      "Check for data outside expected range\n",
      "Check for corrupt data\n"
     ]
    },
    {
     "name": "stdout",
     "output_type": "stream",
     "text": [
      "Empty DataFrame\n",
      "Columns: [Variable Name, Start Time, End Time, Timesteps, Error Flag]\n",
      "Index: []\n",
      "Song Khanong, Phra Pradaeng\n",
      "co\n"
     ]
    },
    {
     "name": "stderr",
     "output_type": "stream",
     "text": [
      "Check for corrupt data\n",
      "Check for missing data\n",
      "Check for corrupt data\n",
      "Check for data outside expected range\n",
      "Check for data outside expected range\n",
      "Check for corrupt data\n",
      "Check for corrupt data\n"
     ]
    },
    {
     "name": "stdout",
     "output_type": "stream",
     "text": [
      "Empty DataFrame\n",
      "Columns: [Variable Name, Start Time, End Time, Timesteps, Error Flag]\n",
      "Index: []\n",
      "no2\n"
     ]
    },
    {
     "name": "stderr",
     "output_type": "stream",
     "text": [
      "Check for missing data\n",
      "Check for corrupt data\n",
      "Check for data outside expected range\n",
      "Check for data outside expected range\n",
      "Check for corrupt data\n"
     ]
    },
    {
     "name": "stdout",
     "output_type": "stream",
     "text": [
      "Empty DataFrame\n",
      "Columns: [Variable Name, Start Time, End Time, Timesteps, Error Flag]\n",
      "Index: []\n",
      "o3\n"
     ]
    },
    {
     "name": "stderr",
     "output_type": "stream",
     "text": [
      "Check for corrupt data\n",
      "Check for missing data\n",
      "Check for corrupt data\n",
      "Check for data outside expected range\n",
      "Check for data outside expected range\n",
      "Check for corrupt data\n",
      "Check for corrupt data\n"
     ]
    },
    {
     "name": "stdout",
     "output_type": "stream",
     "text": [
      "Empty DataFrame\n",
      "Columns: [Variable Name, Start Time, End Time, Timesteps, Error Flag]\n",
      "Index: []\n",
      "so2\n"
     ]
    },
    {
     "name": "stderr",
     "output_type": "stream",
     "text": [
      "Check for missing data\n",
      "Check for corrupt data\n",
      "Check for data outside expected range\n",
      "Check for data outside expected range\n",
      "Check for corrupt data\n",
      "Check for corrupt data\n",
      "Check for missing data\n",
      "Check for corrupt data\n",
      "Check for data outside expected range\n",
      "Check for data outside expected range\n",
      "Check for corrupt data\n",
      "Check for corrupt data\n"
     ]
    },
    {
     "name": "stdout",
     "output_type": "stream",
     "text": [
      "Empty DataFrame\n",
      "Columns: [Variable Name, Start Time, End Time, Timesteps, Error Flag]\n",
      "Index: []\n",
      "pm10\n",
      "Empty DataFrame\n",
      "Columns: [Variable Name, Start Time, End Time, Timesteps, Error Flag]\n",
      "Index: []\n",
      "Chong Nonsi, Yannawa\n",
      "no2\n"
     ]
    },
    {
     "name": "stderr",
     "output_type": "stream",
     "text": [
      "Check for missing data\n",
      "Check for corrupt data\n",
      "Check for data outside expected range\n",
      "Check for data outside expected range\n",
      "Check for corrupt data\n",
      "Check for corrupt data\n",
      "Check for missing data\n",
      "Check for corrupt data\n",
      "Check for data outside expected range\n",
      "Check for data outside expected range\n",
      "Check for corrupt data\n",
      "Check for corrupt data\n"
     ]
    },
    {
     "name": "stdout",
     "output_type": "stream",
     "text": [
      "Empty DataFrame\n",
      "Columns: [Variable Name, Start Time, End Time, Timesteps, Error Flag]\n",
      "Index: []\n",
      "pm10\n",
      "Empty DataFrame\n",
      "Columns: [Variable Name, Start Time, End Time, Timesteps, Error Flag]\n",
      "Index: []\n",
      "Bang Prong, Mueang\n",
      "co\n"
     ]
    },
    {
     "name": "stderr",
     "output_type": "stream",
     "text": [
      "Check for missing data\n",
      "Check for corrupt data\n",
      "Check for data outside expected range\n",
      "Check for data outside expected range\n",
      "Check for corrupt data\n",
      "Check for corrupt data\n"
     ]
    },
    {
     "name": "stdout",
     "output_type": "stream",
     "text": [
      "  Variable Name          Start Time            End Time Timesteps  \\\n",
      "0         month 2017-08-25 11:00:00 2017-08-25 11:00:00         2   \n",
      "1           day 2017-08-25 11:00:00 2017-08-25 11:00:00         2   \n",
      "\n",
      "     Error Flag  \n",
      "0  Corrupt data  \n",
      "1  Corrupt data  \n",
      "o3\n"
     ]
    },
    {
     "name": "stderr",
     "output_type": "stream",
     "text": [
      "Check for missing data\n",
      "Check for corrupt data\n",
      "Check for data outside expected range\n",
      "Check for data outside expected range\n",
      "Check for corrupt data\n",
      "Check for corrupt data\n",
      "Check for missing data\n",
      "Check for corrupt data\n",
      "Check for data outside expected range\n",
      "Check for data outside expected range\n",
      "Check for corrupt data\n",
      "Check for corrupt data\n"
     ]
    },
    {
     "name": "stdout",
     "output_type": "stream",
     "text": [
      "  Variable Name          Start Time            End Time Timesteps  \\\n",
      "0         month 2017-08-25 11:00:00 2017-08-25 11:00:00         2   \n",
      "1           day 2017-08-25 11:00:00 2017-08-25 11:00:00         2   \n",
      "\n",
      "     Error Flag  \n",
      "0  Corrupt data  \n",
      "1  Corrupt data  \n",
      "so2\n",
      "  Variable Name          Start Time            End Time Timesteps  \\\n",
      "0         month 2017-08-25 11:00:00 2017-08-25 11:00:00         2   \n",
      "1           day 2017-08-25 11:00:00 2017-08-25 11:00:00         2   \n",
      "\n",
      "     Error Flag  \n",
      "0  Corrupt data  \n",
      "1  Corrupt data  \n",
      "pm10\n"
     ]
    },
    {
     "name": "stderr",
     "output_type": "stream",
     "text": [
      "Check for missing data\n",
      "Check for corrupt data\n",
      "Check for data outside expected range\n",
      "Check for data outside expected range\n"
     ]
    },
    {
     "name": "stdout",
     "output_type": "stream",
     "text": [
      "  Variable Name          Start Time            End Time Timesteps  \\\n",
      "0         month 2017-08-25 11:00:00 2017-08-25 11:00:00         2   \n",
      "1           day 2017-08-25 11:00:00 2017-08-25 11:00:00         2   \n",
      "\n",
      "     Error Flag  \n",
      "0  Corrupt data  \n",
      "1  Corrupt data  \n",
      "Pak Nam, Mueang\n",
      "co\n"
     ]
    },
    {
     "name": "stderr",
     "output_type": "stream",
     "text": [
      "Check for corrupt data\n",
      "Check for corrupt data\n",
      "Check for missing data\n",
      "Check for corrupt data\n",
      "Check for data outside expected range\n",
      "Check for data outside expected range\n",
      "Check for corrupt data\n",
      "Check for corrupt data\n"
     ]
    },
    {
     "name": "stdout",
     "output_type": "stream",
     "text": [
      "  Variable Name          Start Time            End Time Timesteps  \\\n",
      "0          year 2016-09-01 07:00:00 2016-09-01 07:00:00         2   \n",
      "1         month 2016-09-01 07:00:00 2016-09-01 07:00:00         2   \n",
      "\n",
      "                 Error Flag  \n",
      "0  Data < lower bound, 2017  \n",
      "1              Corrupt data  \n",
      "no2\n"
     ]
    },
    {
     "name": "stderr",
     "output_type": "stream",
     "text": [
      "Check for missing data\n",
      "Check for corrupt data\n",
      "Check for data outside expected range\n",
      "Check for data outside expected range\n",
      "Check for corrupt data\n"
     ]
    },
    {
     "name": "stdout",
     "output_type": "stream",
     "text": [
      "  Variable Name          Start Time            End Time Timesteps  \\\n",
      "0          year 2016-09-01 07:00:00 2016-09-01 07:00:00         2   \n",
      "1         month 2016-09-01 07:00:00 2016-09-01 07:00:00         2   \n",
      "\n",
      "                 Error Flag  \n",
      "0  Data < lower bound, 2017  \n",
      "1              Corrupt data  \n",
      "so2\n"
     ]
    },
    {
     "name": "stderr",
     "output_type": "stream",
     "text": [
      "Check for corrupt data\n",
      "Check for missing data\n",
      "Check for corrupt data\n",
      "Check for data outside expected range\n",
      "Check for data outside expected range\n",
      "Check for corrupt data\n",
      "Check for corrupt data\n"
     ]
    },
    {
     "name": "stdout",
     "output_type": "stream",
     "text": [
      "  Variable Name          Start Time            End Time Timesteps  \\\n",
      "0          year 2016-09-01 07:00:00 2016-09-01 07:00:00         2   \n",
      "1         month 2016-09-01 07:00:00 2016-09-01 07:00:00         2   \n",
      "\n",
      "                 Error Flag  \n",
      "0  Data < lower bound, 2017  \n",
      "1              Corrupt data  \n",
      "pm10\n"
     ]
    },
    {
     "name": "stderr",
     "output_type": "stream",
     "text": [
      "Check for missing data\n",
      "Check for corrupt data\n",
      "Check for data outside expected range\n",
      "Check for data outside expected range\n",
      "Check for corrupt data\n",
      "Check for corrupt data\n"
     ]
    },
    {
     "name": "stdout",
     "output_type": "stream",
     "text": [
      "  Variable Name          Start Time            End Time Timesteps  \\\n",
      "0          year 2016-09-01 07:00:00 2016-09-01 07:00:00         2   \n",
      "1         month 2016-09-01 07:00:00 2016-09-01 07:00:00         2   \n",
      "\n",
      "                 Error Flag  \n",
      "0  Data < lower bound, 2017  \n",
      "1              Corrupt data  \n",
      "Na Phra Lan, Chaloem Phra Kiat\n",
      "co\n"
     ]
    },
    {
     "name": "stderr",
     "output_type": "stream",
     "text": [
      "Check for missing data\n",
      "Check for corrupt data\n",
      "Check for data outside expected range\n",
      "Check for data outside expected range\n",
      "Check for corrupt data\n",
      "Check for corrupt data\n"
     ]
    },
    {
     "name": "stdout",
     "output_type": "stream",
     "text": [
      "Empty DataFrame\n",
      "Columns: [Variable Name, Start Time, End Time, Timesteps, Error Flag]\n",
      "Index: []\n",
      "no2\n"
     ]
    },
    {
     "name": "stderr",
     "output_type": "stream",
     "text": [
      "Check for missing data\n",
      "Check for corrupt data\n",
      "Check for data outside expected range\n",
      "Check for data outside expected range\n",
      "Check for corrupt data\n",
      "Check for corrupt data\n"
     ]
    },
    {
     "name": "stdout",
     "output_type": "stream",
     "text": [
      "Empty DataFrame\n",
      "Columns: [Variable Name, Start Time, End Time, Timesteps, Error Flag]\n",
      "Index: []\n",
      "o3\n"
     ]
    },
    {
     "name": "stderr",
     "output_type": "stream",
     "text": [
      "Check for missing data\n",
      "Check for corrupt data\n",
      "Check for data outside expected range\n",
      "Check for data outside expected range\n",
      "Check for corrupt data\n",
      "Check for corrupt data\n"
     ]
    },
    {
     "name": "stdout",
     "output_type": "stream",
     "text": [
      "Empty DataFrame\n",
      "Columns: [Variable Name, Start Time, End Time, Timesteps, Error Flag]\n",
      "Index: []\n",
      "so2\n"
     ]
    },
    {
     "name": "stderr",
     "output_type": "stream",
     "text": [
      "Check for missing data\n",
      "Check for corrupt data\n",
      "Check for data outside expected range\n",
      "Check for data outside expected range\n",
      "Check for corrupt data\n"
     ]
    },
    {
     "name": "stdout",
     "output_type": "stream",
     "text": [
      "Empty DataFrame\n",
      "Columns: [Variable Name, Start Time, End Time, Timesteps, Error Flag]\n",
      "Index: []\n",
      "pm10\n"
     ]
    },
    {
     "name": "stderr",
     "output_type": "stream",
     "text": [
      "Check for corrupt data\n",
      "Check for missing data\n",
      "Check for corrupt data\n",
      "Check for data outside expected range\n",
      "Check for data outside expected range\n",
      "Check for corrupt data\n"
     ]
    },
    {
     "name": "stdout",
     "output_type": "stream",
     "text": [
      "Empty DataFrame\n",
      "Columns: [Variable Name, Start Time, End Time, Timesteps, Error Flag]\n",
      "Index: []\n",
      "Na Mueang, Mueang\n",
      "co\n"
     ]
    },
    {
     "name": "stderr",
     "output_type": "stream",
     "text": [
      "Check for corrupt data\n",
      "Check for missing data\n",
      "Check for corrupt data\n",
      "Check for data outside expected range\n",
      "Check for data outside expected range\n",
      "Check for corrupt data\n"
     ]
    },
    {
     "name": "stdout",
     "output_type": "stream",
     "text": [
      "Empty DataFrame\n",
      "Columns: [Variable Name, Start Time, End Time, Timesteps, Error Flag]\n",
      "Index: []\n",
      "no2\n"
     ]
    },
    {
     "name": "stderr",
     "output_type": "stream",
     "text": [
      "Check for corrupt data\n",
      "Check for missing data\n",
      "Check for corrupt data\n",
      "Check for data outside expected range\n",
      "Check for data outside expected range\n",
      "Check for corrupt data\n",
      "Check for corrupt data\n"
     ]
    },
    {
     "name": "stdout",
     "output_type": "stream",
     "text": [
      "Empty DataFrame\n",
      "Columns: [Variable Name, Start Time, End Time, Timesteps, Error Flag]\n",
      "Index: []\n",
      "o3\n"
     ]
    },
    {
     "name": "stderr",
     "output_type": "stream",
     "text": [
      "Check for missing data\n",
      "Check for corrupt data\n",
      "Check for data outside expected range\n",
      "Check for data outside expected range\n",
      "Check for corrupt data\n",
      "Check for corrupt data\n",
      "Check for missing data\n",
      "Check for corrupt data\n",
      "Check for data outside expected range\n",
      "Check for data outside expected range\n",
      "Check for corrupt data\n",
      "Check for corrupt data\n"
     ]
    },
    {
     "name": "stdout",
     "output_type": "stream",
     "text": [
      "Empty DataFrame\n",
      "Columns: [Variable Name, Start Time, End Time, Timesteps, Error Flag]\n",
      "Index: []\n",
      "so2\n",
      "Empty DataFrame\n",
      "Columns: [Variable Name, Start Time, End Time, Timesteps, Error Flag]\n",
      "Index: []\n",
      "pm10\n"
     ]
    },
    {
     "name": "stderr",
     "output_type": "stream",
     "text": [
      "Check for missing data\n",
      "Check for corrupt data\n",
      "Check for data outside expected range\n",
      "Check for data outside expected range\n",
      "Check for corrupt data\n",
      "Check for corrupt data\n"
     ]
    },
    {
     "name": "stdout",
     "output_type": "stream",
     "text": [
      "Empty DataFrame\n",
      "Columns: [Variable Name, Start Time, End Time, Timesteps, Error Flag]\n",
      "Index: []\n",
      "Tha Pradu, Mueng\n",
      "co\n"
     ]
    },
    {
     "name": "stderr",
     "output_type": "stream",
     "text": [
      "Check for missing data\n",
      "Check for corrupt data\n",
      "Check for data outside expected range\n",
      "Check for data outside expected range\n",
      "Check for corrupt data\n",
      "Check for corrupt data\n"
     ]
    },
    {
     "name": "stdout",
     "output_type": "stream",
     "text": [
      "Empty DataFrame\n",
      "Columns: [Variable Name, Start Time, End Time, Timesteps, Error Flag]\n",
      "Index: []\n",
      "no2\n"
     ]
    },
    {
     "name": "stderr",
     "output_type": "stream",
     "text": [
      "Check for missing data\n",
      "Check for corrupt data\n",
      "Check for data outside expected range\n",
      "Check for data outside expected range\n",
      "Check for corrupt data\n",
      "Check for corrupt data\n",
      "Check for missing data\n",
      "Check for corrupt data\n",
      "Check for data outside expected range\n",
      "Check for data outside expected range\n",
      "Check for corrupt data\n",
      "Check for corrupt data\n"
     ]
    },
    {
     "name": "stdout",
     "output_type": "stream",
     "text": [
      "Empty DataFrame\n",
      "Columns: [Variable Name, Start Time, End Time, Timesteps, Error Flag]\n",
      "Index: []\n",
      "o3\n",
      "Empty DataFrame\n",
      "Columns: [Variable Name, Start Time, End Time, Timesteps, Error Flag]\n",
      "Index: []\n",
      "so2\n"
     ]
    },
    {
     "name": "stderr",
     "output_type": "stream",
     "text": [
      "Check for missing data\n",
      "Check for corrupt data\n",
      "Check for data outside expected range\n",
      "Check for data outside expected range\n",
      "Check for corrupt data\n",
      "Check for corrupt data\n"
     ]
    },
    {
     "name": "stdout",
     "output_type": "stream",
     "text": [
      "Empty DataFrame\n",
      "Columns: [Variable Name, Start Time, End Time, Timesteps, Error Flag]\n",
      "Index: []\n",
      "pm10\n"
     ]
    },
    {
     "name": "stderr",
     "output_type": "stream",
     "text": [
      "Check for missing data\n",
      "Check for corrupt data\n",
      "Check for data outside expected range\n",
      "Check for data outside expected range\n",
      "Check for corrupt data\n",
      "Check for corrupt data\n"
     ]
    },
    {
     "name": "stdout",
     "output_type": "stream",
     "text": [
      "Empty DataFrame\n",
      "Columns: [Variable Name, Start Time, End Time, Timesteps, Error Flag]\n",
      "Index: []\n",
      "Chang Phueak, Mueang\n",
      "no2\n"
     ]
    },
    {
     "name": "stderr",
     "output_type": "stream",
     "text": [
      "Check for missing data\n",
      "Check for corrupt data\n",
      "Check for data outside expected range\n",
      "Check for data outside expected range\n",
      "Check for corrupt data\n",
      "Check for corrupt data\n"
     ]
    },
    {
     "name": "stdout",
     "output_type": "stream",
     "text": [
      "Empty DataFrame\n",
      "Columns: [Variable Name, Start Time, End Time, Timesteps, Error Flag]\n",
      "Index: []\n",
      "o3\n"
     ]
    },
    {
     "name": "stderr",
     "output_type": "stream",
     "text": [
      "Check for missing data\n",
      "Check for corrupt data\n",
      "Check for data outside expected range\n",
      "Check for data outside expected range\n",
      "Check for corrupt data\n",
      "Check for corrupt data\n"
     ]
    },
    {
     "name": "stdout",
     "output_type": "stream",
     "text": [
      "Empty DataFrame\n",
      "Columns: [Variable Name, Start Time, End Time, Timesteps, Error Flag]\n",
      "Index: []\n",
      "so2\n"
     ]
    },
    {
     "name": "stderr",
     "output_type": "stream",
     "text": [
      "Check for missing data\n",
      "Check for corrupt data\n",
      "Check for data outside expected range\n",
      "Check for data outside expected range\n",
      "Check for corrupt data\n",
      "Check for corrupt data\n"
     ]
    },
    {
     "name": "stdout",
     "output_type": "stream",
     "text": [
      "Empty DataFrame\n",
      "Columns: [Variable Name, Start Time, End Time, Timesteps, Error Flag]\n",
      "Index: []\n",
      "pm10\n"
     ]
    },
    {
     "name": "stderr",
     "output_type": "stream",
     "text": [
      "Check for missing data\n",
      "Check for corrupt data\n",
      "Check for data outside expected range\n",
      "Check for data outside expected range\n",
      "Check for corrupt data\n",
      "Check for corrupt data\n",
      "Check for missing data\n",
      "Check for corrupt data\n",
      "Check for data outside expected range\n",
      "Check for data outside expected range\n",
      "Check for corrupt data\n"
     ]
    },
    {
     "name": "stdout",
     "output_type": "stream",
     "text": [
      "Empty DataFrame\n",
      "Columns: [Variable Name, Start Time, End Time, Timesteps, Error Flag]\n",
      "Index: []\n",
      "Sop Pat, Mae Mo\n",
      "co\n",
      "Empty DataFrame\n",
      "Columns: [Variable Name, Start Time, End Time, Timesteps, Error Flag]\n",
      "Index: []\n",
      "no2\n"
     ]
    },
    {
     "name": "stderr",
     "output_type": "stream",
     "text": [
      "Check for corrupt data\n",
      "Check for missing data\n",
      "Check for corrupt data\n",
      "Check for data outside expected range\n",
      "Check for data outside expected range\n",
      "Check for corrupt data\n",
      "Check for corrupt data\n"
     ]
    },
    {
     "name": "stdout",
     "output_type": "stream",
     "text": [
      "Empty DataFrame\n",
      "Columns: [Variable Name, Start Time, End Time, Timesteps, Error Flag]\n",
      "Index: []\n",
      "o3\n"
     ]
    },
    {
     "name": "stderr",
     "output_type": "stream",
     "text": [
      "Check for missing data\n",
      "Check for corrupt data\n",
      "Check for data outside expected range\n",
      "Check for data outside expected range\n",
      "Check for corrupt data\n",
      "Check for corrupt data\n"
     ]
    },
    {
     "name": "stdout",
     "output_type": "stream",
     "text": [
      "Empty DataFrame\n",
      "Columns: [Variable Name, Start Time, End Time, Timesteps, Error Flag]\n",
      "Index: []\n",
      "so2\n"
     ]
    },
    {
     "name": "stderr",
     "output_type": "stream",
     "text": [
      "Check for missing data\n",
      "Check for corrupt data\n",
      "Check for data outside expected range\n",
      "Check for data outside expected range\n",
      "Check for corrupt data\n",
      "Check for corrupt data\n"
     ]
    },
    {
     "name": "stdout",
     "output_type": "stream",
     "text": [
      "Empty DataFrame\n",
      "Columns: [Variable Name, Start Time, End Time, Timesteps, Error Flag]\n",
      "Index: []\n",
      "pm10\n"
     ]
    },
    {
     "name": "stderr",
     "output_type": "stream",
     "text": [
      "Check for missing data\n",
      "Check for corrupt data\n",
      "Check for data outside expected range\n",
      "Check for data outside expected range\n",
      "Check for corrupt data\n",
      "Check for corrupt data\n"
     ]
    },
    {
     "name": "stdout",
     "output_type": "stream",
     "text": [
      "Empty DataFrame\n",
      "Columns: [Variable Name, Start Time, End Time, Timesteps, Error Flag]\n",
      "Index: []\n",
      "Pak Nam Pho, Mueang\n",
      "co\n"
     ]
    },
    {
     "name": "stderr",
     "output_type": "stream",
     "text": [
      "Check for missing data\n",
      "Check for corrupt data\n",
      "Check for data outside expected range\n",
      "Check for data outside expected range\n",
      "Check for corrupt data\n"
     ]
    },
    {
     "name": "stdout",
     "output_type": "stream",
     "text": [
      "Empty DataFrame\n",
      "Columns: [Variable Name, Start Time, End Time, Timesteps, Error Flag]\n",
      "Index: []\n",
      "no2\n"
     ]
    },
    {
     "name": "stderr",
     "output_type": "stream",
     "text": [
      "Check for corrupt data\n",
      "Check for missing data\n",
      "Check for corrupt data\n",
      "Check for data outside expected range\n",
      "Check for data outside expected range\n",
      "Check for corrupt data\n"
     ]
    },
    {
     "name": "stdout",
     "output_type": "stream",
     "text": [
      "Empty DataFrame\n",
      "Columns: [Variable Name, Start Time, End Time, Timesteps, Error Flag]\n",
      "Index: []\n",
      "o3\n"
     ]
    },
    {
     "name": "stderr",
     "output_type": "stream",
     "text": [
      "Check for corrupt data\n",
      "Check for missing data\n",
      "Check for corrupt data\n",
      "Check for data outside expected range\n",
      "Check for data outside expected range\n",
      "Check for corrupt data\n"
     ]
    },
    {
     "name": "stdout",
     "output_type": "stream",
     "text": [
      "Empty DataFrame\n",
      "Columns: [Variable Name, Start Time, End Time, Timesteps, Error Flag]\n",
      "Index: []\n",
      "so2\n"
     ]
    },
    {
     "name": "stderr",
     "output_type": "stream",
     "text": [
      "Check for corrupt data\n",
      "Check for missing data\n",
      "Check for corrupt data\n",
      "Check for data outside expected range\n",
      "Check for data outside expected range\n",
      "Check for corrupt data\n",
      "Check for corrupt data\n"
     ]
    },
    {
     "name": "stdout",
     "output_type": "stream",
     "text": [
      "Empty DataFrame\n",
      "Columns: [Variable Name, Start Time, End Time, Timesteps, Error Flag]\n",
      "Index: []\n",
      "pm10\n"
     ]
    },
    {
     "name": "stderr",
     "output_type": "stream",
     "text": [
      "Check for missing data\n",
      "Check for corrupt data\n",
      "Check for data outside expected range\n",
      "Check for data outside expected range\n",
      "Check for corrupt data\n"
     ]
    },
    {
     "name": "stdout",
     "output_type": "stream",
     "text": [
      "Empty DataFrame\n",
      "Columns: [Variable Name, Start Time, End Time, Timesteps, Error Flag]\n",
      "Index: []\n",
      "Makham Tia, Mueang\n",
      "co\n"
     ]
    },
    {
     "name": "stderr",
     "output_type": "stream",
     "text": [
      "Check for corrupt data\n",
      "Check for missing data\n",
      "Check for corrupt data\n",
      "Check for data outside expected range\n",
      "Check for data outside expected range\n",
      "Check for corrupt data\n",
      "Check for corrupt data\n"
     ]
    },
    {
     "name": "stdout",
     "output_type": "stream",
     "text": [
      "Empty DataFrame\n",
      "Columns: [Variable Name, Start Time, End Time, Timesteps, Error Flag]\n",
      "Index: []\n",
      "no2\n"
     ]
    },
    {
     "name": "stderr",
     "output_type": "stream",
     "text": [
      "Check for missing data\n",
      "Check for corrupt data\n",
      "Check for data outside expected range\n",
      "Check for data outside expected range\n",
      "Check for corrupt data\n",
      "Check for corrupt data\n"
     ]
    },
    {
     "name": "stdout",
     "output_type": "stream",
     "text": [
      "Empty DataFrame\n",
      "Columns: [Variable Name, Start Time, End Time, Timesteps, Error Flag]\n",
      "Index: []\n",
      "o3\n"
     ]
    },
    {
     "name": "stderr",
     "output_type": "stream",
     "text": [
      "Check for missing data\n",
      "Check for corrupt data\n",
      "Check for data outside expected range\n",
      "Check for data outside expected range\n",
      "Check for corrupt data\n",
      "Check for corrupt data\n",
      "Check for missing data\n",
      "Check for corrupt data\n",
      "Check for data outside expected range\n",
      "Check for data outside expected range\n",
      "Check for corrupt data\n"
     ]
    },
    {
     "name": "stdout",
     "output_type": "stream",
     "text": [
      "Empty DataFrame\n",
      "Columns: [Variable Name, Start Time, End Time, Timesteps, Error Flag]\n",
      "Index: []\n",
      "pm10\n",
      "Empty DataFrame\n",
      "Columns: [Variable Name, Start Time, End Time, Timesteps, Error Flag]\n",
      "Index: []\n",
      "Nai Mueang, Mueang\n",
      "co\n"
     ]
    },
    {
     "name": "stderr",
     "output_type": "stream",
     "text": [
      "Check for corrupt data\n",
      "Check for missing data\n",
      "Check for corrupt data\n",
      "Check for data outside expected range\n",
      "Check for data outside expected range\n",
      "Check for corrupt data\n",
      "Check for corrupt data\n"
     ]
    },
    {
     "name": "stdout",
     "output_type": "stream",
     "text": [
      "Empty DataFrame\n",
      "Columns: [Variable Name, Start Time, End Time, Timesteps, Error Flag]\n",
      "Index: []\n",
      "no2\n"
     ]
    },
    {
     "name": "stderr",
     "output_type": "stream",
     "text": [
      "Check for missing data\n",
      "Check for corrupt data\n",
      "Check for data outside expected range\n",
      "Check for data outside expected range\n",
      "Check for corrupt data\n",
      "Check for corrupt data\n"
     ]
    },
    {
     "name": "stdout",
     "output_type": "stream",
     "text": [
      "Empty DataFrame\n",
      "Columns: [Variable Name, Start Time, End Time, Timesteps, Error Flag]\n",
      "Index: []\n",
      "o3\n"
     ]
    },
    {
     "name": "stderr",
     "output_type": "stream",
     "text": [
      "Check for missing data\n",
      "Check for corrupt data\n",
      "Check for data outside expected range\n",
      "Check for data outside expected range\n",
      "Check for corrupt data\n",
      "Check for corrupt data\n"
     ]
    },
    {
     "name": "stdout",
     "output_type": "stream",
     "text": [
      "Empty DataFrame\n",
      "Columns: [Variable Name, Start Time, End Time, Timesteps, Error Flag]\n",
      "Index: []\n",
      "so2\n"
     ]
    },
    {
     "name": "stderr",
     "output_type": "stream",
     "text": [
      "Check for missing data\n",
      "Check for corrupt data\n",
      "Check for data outside expected range\n",
      "Check for data outside expected range\n",
      "Check for corrupt data\n",
      "Check for corrupt data\n",
      "Check for missing data\n",
      "Check for corrupt data\n",
      "Check for data outside expected range\n",
      "Check for data outside expected range\n",
      "Check for corrupt data\n"
     ]
    },
    {
     "name": "stdout",
     "output_type": "stream",
     "text": [
      "Empty DataFrame\n",
      "Columns: [Variable Name, Start Time, End Time, Timesteps, Error Flag]\n",
      "Index: []\n",
      "pm10\n",
      "Empty DataFrame\n",
      "Columns: [Variable Name, Start Time, End Time, Timesteps, Error Flag]\n",
      "Index: []\n",
      "Intarapitak Rd., Thon Buri\n",
      "co\n"
     ]
    },
    {
     "name": "stderr",
     "output_type": "stream",
     "text": [
      "Check for corrupt data\n",
      "Check for missing data\n",
      "Check for corrupt data\n",
      "Check for data outside expected range\n",
      "Check for data outside expected range\n",
      "Check for corrupt data\n",
      "Check for corrupt data\n"
     ]
    },
    {
     "name": "stdout",
     "output_type": "stream",
     "text": [
      "Empty DataFrame\n",
      "Columns: [Variable Name, Start Time, End Time, Timesteps, Error Flag]\n",
      "Index: []\n",
      "no2\n"
     ]
    },
    {
     "name": "stderr",
     "output_type": "stream",
     "text": [
      "Check for missing data\n",
      "Check for corrupt data\n",
      "Check for data outside expected range\n",
      "Check for data outside expected range\n",
      "Check for corrupt data\n"
     ]
    },
    {
     "name": "stdout",
     "output_type": "stream",
     "text": [
      "Empty DataFrame\n",
      "Columns: [Variable Name, Start Time, End Time, Timesteps, Error Flag]\n",
      "Index: []\n",
      "o3\n"
     ]
    },
    {
     "name": "stderr",
     "output_type": "stream",
     "text": [
      "Check for corrupt data\n",
      "Check for missing data\n",
      "Check for corrupt data\n",
      "Check for data outside expected range\n",
      "Check for data outside expected range\n",
      "Check for corrupt data\n",
      "Check for corrupt data\n"
     ]
    },
    {
     "name": "stdout",
     "output_type": "stream",
     "text": [
      "Empty DataFrame\n",
      "Columns: [Variable Name, Start Time, End Time, Timesteps, Error Flag]\n",
      "Index: []\n",
      "so2\n"
     ]
    },
    {
     "name": "stderr",
     "output_type": "stream",
     "text": [
      "Check for missing data\n",
      "Check for corrupt data\n",
      "Check for data outside expected range\n",
      "Check for data outside expected range\n",
      "Check for corrupt data\n"
     ]
    },
    {
     "name": "stdout",
     "output_type": "stream",
     "text": [
      "Empty DataFrame\n",
      "Columns: [Variable Name, Start Time, End Time, Timesteps, Error Flag]\n",
      "Index: []\n",
      "pm10\n"
     ]
    },
    {
     "name": "stderr",
     "output_type": "stream",
     "text": [
      "Check for corrupt data\n",
      "Check for missing data\n",
      "Check for corrupt data\n",
      "Check for data outside expected range\n",
      "Check for data outside expected range\n",
      "Check for corrupt data\n"
     ]
    },
    {
     "name": "stdout",
     "output_type": "stream",
     "text": [
      "Empty DataFrame\n",
      "Columns: [Variable Name, Start Time, End Time, Timesteps, Error Flag]\n",
      "Index: []\n",
      "Chong Kham, Mueang\n",
      "co\n"
     ]
    },
    {
     "name": "stderr",
     "output_type": "stream",
     "text": [
      "Check for corrupt data\n",
      "Check for missing data\n",
      "Check for corrupt data\n",
      "Check for data outside expected range\n",
      "Check for data outside expected range\n",
      "Check for corrupt data\n",
      "Check for corrupt data\n"
     ]
    },
    {
     "name": "stdout",
     "output_type": "stream",
     "text": [
      "Empty DataFrame\n",
      "Columns: [Variable Name, Start Time, End Time, Timesteps, Error Flag]\n",
      "Index: []\n",
      "o3\n"
     ]
    },
    {
     "name": "stderr",
     "output_type": "stream",
     "text": [
      "Check for missing data\n",
      "Check for corrupt data\n",
      "Check for data outside expected range\n",
      "Check for data outside expected range\n",
      "Check for corrupt data\n",
      "Check for corrupt data\n",
      "Check for missing data\n",
      "Check for corrupt data\n",
      "Check for data outside expected range\n",
      "Check for data outside expected range\n",
      "Check for corrupt data\n",
      "Check for corrupt data\n"
     ]
    },
    {
     "name": "stdout",
     "output_type": "stream",
     "text": [
      "Empty DataFrame\n",
      "Columns: [Variable Name, Start Time, End Time, Timesteps, Error Flag]\n",
      "Index: []\n",
      "pm10\n",
      "Empty DataFrame\n",
      "Columns: [Variable Name, Start Time, End Time, Timesteps, Error Flag]\n",
      "Index: []\n",
      "Samsen Nai, Khet Phaya Thai\n",
      "co\n"
     ]
    },
    {
     "name": "stderr",
     "output_type": "stream",
     "text": [
      "Check for missing data\n",
      "Check for corrupt data\n",
      "Check for data outside expected range\n",
      "Check for data outside expected range\n",
      "Check for corrupt data\n",
      "Check for corrupt data\n"
     ]
    },
    {
     "name": "stdout",
     "output_type": "stream",
     "text": [
      "Empty DataFrame\n",
      "Columns: [Variable Name, Start Time, End Time, Timesteps, Error Flag]\n",
      "Index: []\n",
      "no2\n"
     ]
    },
    {
     "name": "stderr",
     "output_type": "stream",
     "text": [
      "Check for missing data\n",
      "Check for corrupt data\n",
      "Check for data outside expected range\n",
      "Check for data outside expected range\n",
      "Check for corrupt data\n",
      "Check for corrupt data\n"
     ]
    },
    {
     "name": "stdout",
     "output_type": "stream",
     "text": [
      "Empty DataFrame\n",
      "Columns: [Variable Name, Start Time, End Time, Timesteps, Error Flag]\n",
      "Index: []\n",
      "o3\n"
     ]
    },
    {
     "name": "stderr",
     "output_type": "stream",
     "text": [
      "Check for missing data\n",
      "Check for corrupt data\n",
      "Check for data outside expected range\n",
      "Check for data outside expected range\n",
      "Check for corrupt data\n",
      "Check for corrupt data\n",
      "Check for missing data\n",
      "Check for corrupt data\n",
      "Check for data outside expected range\n",
      "Check for data outside expected range\n",
      "Check for corrupt data\n",
      "Check for corrupt data\n"
     ]
    },
    {
     "name": "stdout",
     "output_type": "stream",
     "text": [
      "Empty DataFrame\n",
      "Columns: [Variable Name, Start Time, End Time, Timesteps, Error Flag]\n",
      "Index: []\n",
      "pm10\n",
      "Empty DataFrame\n",
      "Columns: [Variable Name, Start Time, End Time, Timesteps, Error Flag]\n",
      "Index: []\n",
      "Pubpla, Wang Thonglang\n",
      "no2\n"
     ]
    },
    {
     "name": "stderr",
     "output_type": "stream",
     "text": [
      "Check for missing data\n",
      "Check for corrupt data\n",
      "Check for data outside expected range\n",
      "Check for data outside expected range\n",
      "Check for corrupt data\n",
      "Check for corrupt data\n"
     ]
    },
    {
     "name": "stdout",
     "output_type": "stream",
     "text": [
      "Empty DataFrame\n",
      "Columns: [Variable Name, Start Time, End Time, Timesteps, Error Flag]\n",
      "Index: []\n",
      "o3\n"
     ]
    },
    {
     "name": "stderr",
     "output_type": "stream",
     "text": [
      "Check for missing data\n",
      "Check for corrupt data\n",
      "Check for data outside expected range\n",
      "Check for data outside expected range\n",
      "Check for corrupt data\n",
      "Check for corrupt data\n"
     ]
    },
    {
     "name": "stdout",
     "output_type": "stream",
     "text": [
      "Empty DataFrame\n",
      "Columns: [Variable Name, Start Time, End Time, Timesteps, Error Flag]\n",
      "Index: []\n",
      "so2\n"
     ]
    },
    {
     "name": "stderr",
     "output_type": "stream",
     "text": [
      "Check for missing data\n",
      "Check for corrupt data\n",
      "Check for data outside expected range\n",
      "Check for data outside expected range\n",
      "Check for corrupt data\n"
     ]
    },
    {
     "name": "stdout",
     "output_type": "stream",
     "text": [
      "Empty DataFrame\n",
      "Columns: [Variable Name, Start Time, End Time, Timesteps, Error Flag]\n",
      "Index: []\n",
      "pm10\n"
     ]
    },
    {
     "name": "stderr",
     "output_type": "stream",
     "text": [
      "Check for corrupt data\n",
      "Check for missing data\n",
      "Check for corrupt data\n",
      "Check for data outside expected range\n",
      "Check for data outside expected range\n",
      "Check for corrupt data\n",
      "Check for corrupt data\n"
     ]
    },
    {
     "name": "stdout",
     "output_type": "stream",
     "text": [
      "Empty DataFrame\n",
      "Columns: [Variable Name, Start Time, End Time, Timesteps, Error Flag]\n",
      "Index: []\n",
      "Huai Kon, Chaloem Phra Kiat\n",
      "co\n"
     ]
    },
    {
     "name": "stderr",
     "output_type": "stream",
     "text": [
      "Check for missing data\n",
      "Check for corrupt data\n",
      "Check for data outside expected range\n",
      "Check for data outside expected range\n",
      "Check for corrupt data\n",
      "Check for corrupt data\n",
      "Check for missing data\n",
      "Check for corrupt data\n",
      "Check for data outside expected range\n",
      "Check for data outside expected range\n",
      "Check for corrupt data\n",
      "Check for corrupt data\n"
     ]
    },
    {
     "name": "stdout",
     "output_type": "stream",
     "text": [
      "Empty DataFrame\n",
      "Columns: [Variable Name, Start Time, End Time, Timesteps, Error Flag]\n",
      "Index: []\n",
      "no2\n",
      "Empty DataFrame\n",
      "Columns: [Variable Name, Start Time, End Time, Timesteps, Error Flag]\n",
      "Index: []\n",
      "o3\n"
     ]
    },
    {
     "name": "stderr",
     "output_type": "stream",
     "text": [
      "Check for missing data\n",
      "Check for corrupt data\n",
      "Check for data outside expected range\n",
      "Check for data outside expected range\n",
      "Check for corrupt data\n",
      "Check for corrupt data\n",
      "Check for missing data\n",
      "Check for corrupt data\n",
      "Check for data outside expected range\n",
      "Check for data outside expected range\n",
      "Check for corrupt data\n",
      "Check for corrupt data\n"
     ]
    },
    {
     "name": "stdout",
     "output_type": "stream",
     "text": [
      "Empty DataFrame\n",
      "Columns: [Variable Name, Start Time, End Time, Timesteps, Error Flag]\n",
      "Index: []\n",
      "so2\n",
      "Empty DataFrame\n",
      "Columns: [Variable Name, Start Time, End Time, Timesteps, Error Flag]\n",
      "Index: []\n",
      "pm10\n"
     ]
    },
    {
     "name": "stderr",
     "output_type": "stream",
     "text": [
      "Check for missing data\n",
      "Check for corrupt data\n",
      "Check for data outside expected range\n",
      "Check for data outside expected range\n",
      "Check for corrupt data\n"
     ]
    },
    {
     "name": "stdout",
     "output_type": "stream",
     "text": [
      "Empty DataFrame\n",
      "Columns: [Variable Name, Start Time, End Time, Timesteps, Error Flag]\n",
      "Index: []\n",
      "Tha Tum, Si Maha Phot\n",
      "no2\n"
     ]
    },
    {
     "name": "stderr",
     "output_type": "stream",
     "text": [
      "Check for corrupt data\n",
      "Check for missing data\n",
      "Check for corrupt data\n",
      "Check for data outside expected range\n",
      "Check for data outside expected range\n",
      "Check for corrupt data\n",
      "Check for corrupt data\n"
     ]
    },
    {
     "name": "stdout",
     "output_type": "stream",
     "text": [
      "Empty DataFrame\n",
      "Columns: [Variable Name, Start Time, End Time, Timesteps, Error Flag]\n",
      "Index: []\n",
      "o3\n"
     ]
    },
    {
     "name": "stderr",
     "output_type": "stream",
     "text": [
      "Check for missing data\n",
      "Check for corrupt data\n",
      "Check for data outside expected range\n",
      "Check for data outside expected range\n",
      "Check for corrupt data\n",
      "Check for corrupt data\n",
      "Check for missing data\n",
      "Check for corrupt data\n",
      "Check for data outside expected range\n",
      "Check for data outside expected range\n",
      "Check for corrupt data\n",
      "Check for corrupt data\n"
     ]
    },
    {
     "name": "stdout",
     "output_type": "stream",
     "text": [
      "Empty DataFrame\n",
      "Columns: [Variable Name, Start Time, End Time, Timesteps, Error Flag]\n",
      "Index: []\n",
      "so2\n",
      "Empty DataFrame\n",
      "Columns: [Variable Name, Start Time, End Time, Timesteps, Error Flag]\n",
      "Index: []\n",
      "pm10\n"
     ]
    },
    {
     "name": "stderr",
     "output_type": "stream",
     "text": [
      "Check for missing data\n",
      "Check for corrupt data\n",
      "Check for data outside expected range\n",
      "Check for data outside expected range\n",
      "Check for corrupt data\n"
     ]
    },
    {
     "name": "stdout",
     "output_type": "stream",
     "text": [
      "Empty DataFrame\n",
      "Columns: [Variable Name, Start Time, End Time, Timesteps, Error Flag]\n",
      "Index: []\n",
      "Pak Prak, Kanchanaburi\n",
      "co\n"
     ]
    },
    {
     "name": "stderr",
     "output_type": "stream",
     "text": [
      "Check for corrupt data\n",
      "Check for missing data\n",
      "Check for corrupt data\n",
      "Check for data outside expected range\n",
      "Check for data outside expected range\n",
      "Check for corrupt data\n"
     ]
    },
    {
     "name": "stdout",
     "output_type": "stream",
     "text": [
      "Empty DataFrame\n",
      "Columns: [Variable Name, Start Time, End Time, Timesteps, Error Flag]\n",
      "Index: []\n",
      "no2\n"
     ]
    },
    {
     "name": "stderr",
     "output_type": "stream",
     "text": [
      "Check for corrupt data\n",
      "Check for missing data\n",
      "Check for corrupt data\n",
      "Check for data outside expected range\n",
      "Check for data outside expected range\n",
      "Check for corrupt data\n",
      "Check for corrupt data\n"
     ]
    },
    {
     "name": "stdout",
     "output_type": "stream",
     "text": [
      "Empty DataFrame\n",
      "Columns: [Variable Name, Start Time, End Time, Timesteps, Error Flag]\n",
      "Index: []\n",
      "o3\n"
     ]
    },
    {
     "name": "stderr",
     "output_type": "stream",
     "text": [
      "Check for missing data\n",
      "Check for corrupt data\n",
      "Check for data outside expected range\n",
      "Check for data outside expected range\n",
      "Check for corrupt data\n",
      "Check for corrupt data\n"
     ]
    },
    {
     "name": "stdout",
     "output_type": "stream",
     "text": [
      "Empty DataFrame\n",
      "Columns: [Variable Name, Start Time, End Time, Timesteps, Error Flag]\n",
      "Index: []\n",
      "so2\n"
     ]
    },
    {
     "name": "stderr",
     "output_type": "stream",
     "text": [
      "Check for missing data\n",
      "Check for corrupt data\n",
      "Check for data outside expected range\n",
      "Check for data outside expected range\n",
      "Check for corrupt data\n",
      "Check for corrupt data\n"
     ]
    },
    {
     "name": "stdout",
     "output_type": "stream",
     "text": [
      "Empty DataFrame\n",
      "Columns: [Variable Name, Start Time, End Time, Timesteps, Error Flag]\n",
      "Index: []\n",
      "pm10\n"
     ]
    },
    {
     "name": "stderr",
     "output_type": "stream",
     "text": [
      "Check for missing data\n",
      "Check for corrupt data\n",
      "Check for data outside expected range\n",
      "Check for data outside expected range\n",
      "Check for corrupt data\n",
      "Check for corrupt data\n"
     ]
    },
    {
     "name": "stdout",
     "output_type": "stream",
     "text": [
      "Empty DataFrame\n",
      "Columns: [Variable Name, Start Time, End Time, Timesteps, Error Flag]\n",
      "Index: []\n",
      "Phiman, Satun\n",
      "co\n"
     ]
    },
    {
     "name": "stderr",
     "output_type": "stream",
     "text": [
      "Check for missing data\n",
      "Check for corrupt data\n",
      "Check for data outside expected range\n",
      "Check for data outside expected range\n",
      "Check for corrupt data\n"
     ]
    },
    {
     "name": "stdout",
     "output_type": "stream",
     "text": [
      "Empty DataFrame\n",
      "Columns: [Variable Name, Start Time, End Time, Timesteps, Error Flag]\n",
      "Index: []\n",
      "no2\n"
     ]
    },
    {
     "name": "stderr",
     "output_type": "stream",
     "text": [
      "Check for corrupt data\n",
      "Check for missing data\n",
      "Check for corrupt data\n",
      "Check for data outside expected range\n",
      "Check for data outside expected range\n",
      "Check for corrupt data\n",
      "Check for corrupt data\n"
     ]
    },
    {
     "name": "stdout",
     "output_type": "stream",
     "text": [
      "Empty DataFrame\n",
      "Columns: [Variable Name, Start Time, End Time, Timesteps, Error Flag]\n",
      "Index: []\n",
      "o3\n"
     ]
    },
    {
     "name": "stderr",
     "output_type": "stream",
     "text": [
      "Check for missing data\n",
      "Check for corrupt data\n",
      "Check for data outside expected range\n",
      "Check for data outside expected range\n",
      "Check for corrupt data\n",
      "Check for corrupt data\n"
     ]
    },
    {
     "name": "stdout",
     "output_type": "stream",
     "text": [
      "Empty DataFrame\n",
      "Columns: [Variable Name, Start Time, End Time, Timesteps, Error Flag]\n",
      "Index: []\n",
      "so2\n"
     ]
    },
    {
     "name": "stderr",
     "output_type": "stream",
     "text": [
      "Check for missing data\n",
      "Check for corrupt data\n",
      "Check for data outside expected range\n",
      "Check for data outside expected range\n",
      "Check for corrupt data\n",
      "Check for corrupt data\n",
      "Check for missing data\n",
      "Check for corrupt data\n",
      "Check for data outside expected range\n",
      "Check for data outside expected range\n",
      "Check for corrupt data\n",
      "Check for corrupt data\n"
     ]
    },
    {
     "name": "stdout",
     "output_type": "stream",
     "text": [
      "Empty DataFrame\n",
      "Columns: [Variable Name, Start Time, End Time, Timesteps, Error Flag]\n",
      "Index: []\n",
      "pm10\n",
      "Empty DataFrame\n",
      "Columns: [Variable Name, Start Time, End Time, Timesteps, Error Flag]\n",
      "Index: []\n",
      "Kardemir 1\n",
      "pm10\n"
     ]
    },
    {
     "name": "stderr",
     "output_type": "stream",
     "text": [
      "Check for missing data\n",
      "Check for corrupt data\n",
      "Check for data outside expected range\n",
      "Check for data outside expected range\n",
      "Check for corrupt data\n",
      "Check for corrupt data\n",
      "Check for missing data\n",
      "Check for corrupt data\n",
      "Check for data outside expected range\n",
      "Check for data outside expected range\n",
      "Check for corrupt data\n",
      "Check for corrupt data\n"
     ]
    },
    {
     "name": "stdout",
     "output_type": "stream",
     "text": [
      "Empty DataFrame\n",
      "Columns: [Variable Name, Start Time, End Time, Timesteps, Error Flag]\n",
      "Index: []\n",
      "so2\n",
      "Empty DataFrame\n",
      "Columns: [Variable Name, Start Time, End Time, Timesteps, Error Flag]\n",
      "Index: []\n",
      "no2\n"
     ]
    },
    {
     "name": "stderr",
     "output_type": "stream",
     "text": [
      "Check for missing data\n",
      "Check for corrupt data\n",
      "Check for data outside expected range\n",
      "Check for data outside expected range\n",
      "Check for corrupt data\n",
      "Check for corrupt data\n",
      "Check for missing data\n",
      "Check for corrupt data\n",
      "Check for data outside expected range\n",
      "Check for data outside expected range\n",
      "Check for corrupt data\n",
      "Check for corrupt data\n"
     ]
    },
    {
     "name": "stdout",
     "output_type": "stream",
     "text": [
      "Empty DataFrame\n",
      "Columns: [Variable Name, Start Time, End Time, Timesteps, Error Flag]\n",
      "Index: []\n",
      "o3\n",
      "Empty DataFrame\n",
      "Columns: [Variable Name, Start Time, End Time, Timesteps, Error Flag]\n",
      "Index: []\n",
      "co\n"
     ]
    },
    {
     "name": "stderr",
     "output_type": "stream",
     "text": [
      "Check for missing data\n",
      "Check for corrupt data\n",
      "Check for data outside expected range\n",
      "Check for data outside expected range\n",
      "Check for corrupt data\n",
      "Check for corrupt data\n"
     ]
    },
    {
     "name": "stdout",
     "output_type": "stream",
     "text": [
      "Empty DataFrame\n",
      "Columns: [Variable Name, Start Time, End Time, Timesteps, Error Flag]\n",
      "Index: []\n",
      "Kardemir 2\n",
      "pm10\n"
     ]
    },
    {
     "name": "stderr",
     "output_type": "stream",
     "text": [
      "Check for missing data\n",
      "Check for corrupt data\n",
      "Check for data outside expected range\n",
      "Check for data outside expected range\n",
      "Check for corrupt data\n",
      "Check for corrupt data\n",
      "Check for missing data\n",
      "Check for corrupt data\n",
      "Check for data outside expected range\n",
      "Check for data outside expected range\n",
      "Check for corrupt data\n"
     ]
    },
    {
     "name": "stdout",
     "output_type": "stream",
     "text": [
      "Empty DataFrame\n",
      "Columns: [Variable Name, Start Time, End Time, Timesteps, Error Flag]\n",
      "Index: []\n",
      "so2\n",
      "Empty DataFrame\n",
      "Columns: [Variable Name, Start Time, End Time, Timesteps, Error Flag]\n",
      "Index: []\n",
      "no2\n"
     ]
    },
    {
     "name": "stderr",
     "output_type": "stream",
     "text": [
      "Check for corrupt data\n",
      "Check for missing data\n",
      "Check for corrupt data\n",
      "Check for data outside expected range\n",
      "Check for data outside expected range\n",
      "Check for corrupt data\n",
      "Check for corrupt data\n"
     ]
    },
    {
     "name": "stdout",
     "output_type": "stream",
     "text": [
      "Empty DataFrame\n",
      "Columns: [Variable Name, Start Time, End Time, Timesteps, Error Flag]\n",
      "Index: []\n",
      "co\n"
     ]
    },
    {
     "name": "stderr",
     "output_type": "stream",
     "text": [
      "Check for missing data\n",
      "Check for corrupt data\n",
      "Check for data outside expected range\n",
      "Check for data outside expected range\n",
      "Check for corrupt data\n"
     ]
    },
    {
     "name": "stdout",
     "output_type": "stream",
     "text": [
      "Empty DataFrame\n",
      "Columns: [Variable Name, Start Time, End Time, Timesteps, Error Flag]\n",
      "Index: []\n",
      "Yatağan\n",
      "pm10\n"
     ]
    },
    {
     "name": "stderr",
     "output_type": "stream",
     "text": [
      "Check for corrupt data\n",
      "Check for missing data\n",
      "Check for corrupt data\n",
      "Check for data outside expected range\n",
      "Check for data outside expected range\n",
      "Check for corrupt data\n"
     ]
    },
    {
     "name": "stdout",
     "output_type": "stream",
     "text": [
      "  Variable Name          Start Time            End Time Timesteps  \\\n",
      "0         month 2017-05-29 20:00:00 2017-05-29 20:00:00         2   \n",
      "1           day 2017-05-29 20:00:00 2017-05-29 20:00:00         2   \n",
      "\n",
      "     Error Flag  \n",
      "0  Corrupt data  \n",
      "1  Corrupt data  \n",
      "so2\n"
     ]
    },
    {
     "name": "stderr",
     "output_type": "stream",
     "text": [
      "Check for corrupt data\n"
     ]
    },
    {
     "name": "stdout",
     "output_type": "stream",
     "text": [
      "  Variable Name          Start Time            End Time Timesteps  \\\n",
      "0         month 2017-05-29 20:00:00 2017-05-29 20:00:00         2   \n",
      "1           day 2017-05-29 20:00:00 2017-05-29 20:00:00         2   \n",
      "\n",
      "     Error Flag  \n",
      "0  Corrupt data  \n",
      "1  Corrupt data  \n"
     ]
    }
   ],
   "source": [
    "\n",
    "for LocationId in Location_Subset['location']:\n",
    " \n",
    "    print(LocationId)   \n",
    "  \n",
    "    Test_results_location_subset_parameter = []\n",
    "    \n",
    "    # 14 i Append the location being searched to array variable \n",
    "    \n",
    "    Test_results_location_subset_parameter.append(LocationId)\n",
    "    \n",
    "    # 14 ii Filter the OpenAQ Dataset for the location being searched for   \n",
    "    \n",
    "    Dataset3 = Dataset2[Dataset2['location']==LocationId]\n",
    "    \n",
    "    # 14 iii Format the utc variable to Date format of Pandas\n",
    "    \n",
    "    pd.to_datetime(Dataset3['utc'])\n",
    "    \n",
    "    #14 iv Copy all the AQ variables of searched for station\n",
    "    \n",
    "    Test_results_location_subset_parameter_subset = Dataset3[['parameter']].copy() \n",
    "         \n",
    "    #print(Test_results_location_subset_parameter_subset)\n",
    "    \n",
    "    #14 v Sort and remove duplicates getting unique AQ Variables\n",
    "    \n",
    "    Test_results_location_subset_parameter_subset.sort_values('parameter', ascending=False)\n",
    "    \n",
    "    Test_results_location_subset_parameter_subset = Test_results_location_subset_parameter_subset.drop_duplicates(subset='parameter', keep='first')\n",
    "\n",
    "    #15 Iterate over the AQ Variables \n",
    "    \n",
    "    for parameter in Test_results_location_subset_parameter_subset['parameter']:\n",
    "        \n",
    "        print(parameter)\n",
    "        \n",
    "        #15 i Append AQ variable to array\n",
    "        \n",
    "        Test_results_parameter = []\n",
    "        \n",
    "        Test_results_parameter.append(parameter)\n",
    "        \n",
    "        # 15 ii Filter the OpenAQ dataset for AQ Variable \n",
    "        \n",
    "        Dataset4 = Dataset3[Dataset3['parameter']==parameter]      \n",
    "\n",
    "        # 15 iv The get variable of Date from utc variable\n",
    "        \n",
    "        Dataset4['year'] = Dataset4['utc'].dt.year\n",
    "        \n",
    "        Dataset4['month'] = Dataset4['utc'].dt.month\n",
    "\n",
    "        Dataset4['day'] = Dataset4['utc'].dt.day\n",
    "        \n",
    "        pd.to_datetime(Dataset4['utc'])\n",
    "\n",
    "        Dataset5 = Dataset4;\n",
    "\n",
    "        #15 v The Pecos package to find errors in the OpenAQ dataset choosen on criteria\n",
    "        \n",
    "        # 15 v Initialize logger\n",
    "        pecos.logger.initialize()\n",
    "\n",
    "        # 15 v Create a Pecos PerformanceMonitoring data object\n",
    "        pm1 = pecos.monitoring.PerformanceMonitoring()\n",
    "        \n",
    "        pm1.add_dataframe(Dataset4)\n",
    "        \n",
    "        # 15 vi Check for missing values\n",
    "    \n",
    "        pm1.check_missing()\n",
    "        \n",
    "        # 15 vii Check for corrupt data values\n",
    "        \n",
    "        ###### Change value -999.00000 to other value that are not accepted \n",
    "        \n",
    "        pm1.check_corrupt([-999.000000],'value') \n",
    "\n",
    "# Add a composite signal which compares measurements to a model\n",
    "#wave_model = np.array(np.sin(10*clock_time/86400))\n",
    "#wave_measurments = pm.df[pm.trans['Wave']]\n",
    "#wave_error = np.abs(wave_measurments.subtract(wave_model,axis=0))\n",
    "#wave_error.columns=['Wave Error C', 'Wave Error D']\n",
    "#pm.add_dataframe(wave_error)\n",
    "#pm.add_translation_dictionary({'Wave Error': ['Wave Error C', 'Wave Error D']})\n",
    "\n",
    "        # 15 viii Check data for expected ranges\n",
    "        \n",
    "        #### CHOOSE criteria ### Change [0,10000000] to selected lower and high bound ###\n",
    "        \n",
    "        pm1.check_range([0, 10000000], 'value')\n",
    "\n",
    "        # 15 iix Check that the Date utc value is accurate i.e. expected measurements\n",
    "\n",
    "        pm1.check_range([2017, 2018], 'year')\n",
    "        pm1.check_corrupt([2,3,4,5,6,7,8,9,10,11],'month')\n",
    "        pm1.check_corrupt([2,3,4,5,6,7,8,9,10,11,12,13,14,15,16,17,18,19,20,21,22,23,24,25,26,27,28,29,30],'day')\n",
    "        \n",
    "        # 15 ix Append results to Array\n",
    "\n",
    "        print(pm1.test_results)\n",
    "        \n",
    "        Test_results_parameter.append(len(pm1.test_results))\n",
    "        \n",
    "        Test_results_parameter.append(pm1.test_results)\n",
    "        Test_results_parameter.append(Dataset5)\n",
    "        \n",
    "        Test_results_location_subset_parameter.append(Test_results_parameter)\n",
    "        \n",
    "        \n",
    "        \n",
    "        #i = i + 1\n",
    "       \n",
    "\n",
    "    Test_results_location_subset.append(Test_results_location_subset_parameter)\n",
    "    \n"
   ]
  },
  {
   "cell_type": "markdown",
   "metadata": {},
   "source": [
    "# 16 Print Results"
   ]
  },
  {
   "cell_type": "code",
   "execution_count": null,
   "metadata": {
    "collapsed": true
   },
   "outputs": [],
   "source": [
    "print(Test_results_location_subset)"
   ]
  },
  {
   "cell_type": "markdown",
   "metadata": {},
   "source": [
    "# 17 Output results to Excel"
   ]
  },
  {
   "cell_type": "code",
   "execution_count": null,
   "metadata": {
    "collapsed": true
   },
   "outputs": [],
   "source": [
    "for Test_results_location in Test_results_location_subset:\n",
    "    \n",
    "    for Test_Parameter in Test_results_location[1:]:\n",
    "        \n",
    "        pecos.io.write_test_results(Test_Parameter)"
   ]
  },
  {
   "cell_type": "code",
   "execution_count": null,
   "metadata": {
    "collapsed": true
   },
   "outputs": [],
   "source": []
  },
  {
   "cell_type": "code",
   "execution_count": null,
   "metadata": {
    "collapsed": true
   },
   "outputs": [],
   "source": []
  }
 ],
 "metadata": {
  "kernelspec": {
   "display_name": "Python 3",
   "language": "python",
   "name": "python3"
  },
  "language_info": {
   "codemirror_mode": {
    "name": "ipython",
    "version": 3
   },
   "file_extension": ".py",
   "mimetype": "text/x-python",
   "name": "python",
   "nbconvert_exporter": "python",
   "pygments_lexer": "ipython3",
   "version": "3.6.0"
  }
 },
 "nbformat": 4,
 "nbformat_minor": 2
}
